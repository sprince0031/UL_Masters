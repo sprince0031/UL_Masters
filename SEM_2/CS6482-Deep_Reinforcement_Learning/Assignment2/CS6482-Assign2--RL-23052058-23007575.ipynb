{
 "cells": [
  {
   "cell_type": "markdown",
   "metadata": {},
   "source": [
    "<div>\n",
    "<img src=\"https://www.ul.ie/themes/custom/ul/logo.jpg\" />\n",
    "</div>\n",
    "\n",
    "# **MSc in Artificial Intelligence and Machine Learning**\n",
    "## CS6482 - Deep Reinforcement Learning\n",
    "### Assignment 2: Sem2 AY 23/24 - DQN Classic Control\n",
    "\n",
    "Module Leader: J.J. Collins\n",
    "\n",
    "Students:  \n",
    "- Pratik Verma - 23007575\n",
    "- Siddharth Prince - 23052058"
   ]
  },
  {
   "cell_type": "markdown",
   "metadata": {},
   "source": [
    "---\n",
    "## Code checks\n",
    "| Sl. No. | Test case                             | Status |\n",
    "|---------|---------------------------------------|--------|\n",
    "| 1.      | [Imports and setup](#Imports-and-setup)  | <span style='color: orange'>In progress</span> |\n",
    "| 2.      | [Capture and sampling of the data](#Capture-and-sampling-of-data) | <span style='color: #3af'>Awaiting</span> |\n",
    "| 3.      | Network structure and hyperparameters | <span style='color: #3af'>Awaiting</span> |\n",
    "| 4.      | Q-learning updates | <span style='color: #3af'>Awaiting</span> |\n",
    "| 5.      | Metrics and evalutation | <span style='color: #3af'>Awaiting</span> |\n",
    "| 6.      | Finetuning | <span style='color: #3af'>Awaiting</span> |\n",
    "|   6.1      | Experimenting with Double DQN | <span style='color: #3af'>Awaiting</span> |\n",
    "|   6.2      | Experimenting with Dueling DQN | <span style='color: #3af'>Awaiting</span> |"
   ]
  },
  {
   "cell_type": "markdown",
   "metadata": {},
   "source": [
    "## References\n",
    "- [DQN Tutorial | Pytorch.org](https://pytorch.org/tutorials/intermediate/reinforcement_q_learning.html)"
   ]
  },
  {
   "cell_type": "markdown",
   "metadata": {
    "id": "jrN5S-tXyPsM"
   },
   "source": [
    "CS6482 Deep Reinforcement Learning\n",
    "Template for Assignment 2 DQN CartPole Classic Control\n",
    "\n",
    "This sample code is based on one of the recommended texts. A small number of errors were deliberately injected into the code.\n",
    "\n",
    "If using this code as a basis for Option 1:\n",
    "•\tCorrect the bugs.\n",
    "•\tComment the code extensively.\n",
    "•\tReplace CartPole with a different Classic Control problem form gym.\n",
    "•\tGenerate more informative plots i.e. plot running average.\n",
    "•\tConsider generating an animation.\n",
    "•\tPlay around with hyperparameters and parameters to achieve ‘satisfactory’ performance.\n",
    "\n",
    "A template will NOT be provided for Assignment 3. Use this template and modify the following (1) shape of obs and actions (2) network structure, (3) storing and processing of experience, etc."
   ]
  },
  {
   "cell_type": "markdown",
   "metadata": {},
   "source": [
    "## Imports and setup"
   ]
  },
  {
   "cell_type": "code",
   "execution_count": 1,
   "metadata": {
    "id": "YsWMKk5aVblG"
   },
   "outputs": [],
   "source": [
    "import sys\n",
    "assert sys.version_info >= (3,10)"
   ]
  },
  {
   "cell_type": "code",
   "execution_count": 1,
   "metadata": {
    "id": "-DmzFH9ka2BG"
   },
   "outputs": [
    {
     "name": "stdout",
     "output_type": "stream",
     "text": [
      "nvcc: NVIDIA (R) Cuda compiler driver\n",
      "Copyright (c) 2005-2021 NVIDIA Corporation\n",
      "Built on Thu_Nov_18_09:45:30_PST_2021\n",
      "Cuda compilation tools, release 11.5, V11.5.119\n",
      "Build cuda_11.5.r11.5/compiler.30672275_0\n"
     ]
    }
   ],
   "source": [
    "!nvcc --version"
   ]
  },
  {
   "cell_type": "code",
   "execution_count": 10,
   "metadata": {},
   "outputs": [
    {
     "name": "stdout",
     "output_type": "stream",
     "text": [
      "cuda device available\n"
     ]
    }
   ],
   "source": [
    "import torch\n",
    "\n",
    "# Get appropriate device for training\n",
    "device = ( \"cuda\"     # CUDA is a programming interface for certain Nvidia GPUs\n",
    "           if torch.cuda.is_available()\n",
    "           else \"mps\"  # Kind of like CUDA for a mac, I guess? I don't use macs\n",
    "           if torch.backends.mps.is_available()\n",
    "           else \"cpu\" )   # If you end up with CPU, go use Google Colab and get a GPU\n",
    "\n",
    "print(f\"{device} device available\")"
   ]
  },
  {
   "cell_type": "markdown",
   "metadata": {},
   "source": [
    "## Capture and sampling of data"
   ]
  },
  {
   "cell_type": "markdown",
   "metadata": {},
   "source": []
  }
 ],
 "metadata": {
  "accelerator": "GPU",
  "colab": {
   "gpuType": "T4",
   "provenance": []
  },
  "kernelspec": {
   "display_name": "Python 3 (ipykernel)",
   "language": "python",
   "name": "python3"
  },
  "language_info": {
   "codemirror_mode": {
    "name": "ipython",
    "version": 3
   },
   "file_extension": ".py",
   "mimetype": "text/x-python",
   "name": "python",
   "nbconvert_exporter": "python",
   "pygments_lexer": "ipython3",
   "version": "3.10.12"
  }
 },
 "nbformat": 4,
 "nbformat_minor": 4
}
