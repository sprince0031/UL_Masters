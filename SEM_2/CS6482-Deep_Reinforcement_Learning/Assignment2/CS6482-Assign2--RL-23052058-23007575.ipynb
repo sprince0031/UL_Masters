{
 "cells": [
  {
   "cell_type": "markdown",
   "metadata": {},
   "source": [
    "<div>\n",
    "<img src=\"https://www.ul.ie/themes/custom/ul/logo.jpg\" />\n",
    "</div>\n",
    "\n",
    "# **MSc in Artificial Intelligence and Machine Learning**\n",
    "## CS6482 - Deep Reinforcement Learning\n",
    "### Assignment 2: Sem2 AY 23/24 - DQN Classic Control\n",
    "\n",
    "Module Leader: J.J. Collins\n",
    "\n",
    "Students:  \n",
    "- Pratik Verma - 23007575\n",
    "- Siddharth Prince - 23052058"
   ]
  },
  {
   "cell_type": "markdown",
   "metadata": {},
   "source": [
    "---\n",
    "## Code checks\n",
    "### Test cases\n",
    " 1. Imports and setup - <span style='color: #0e0'>Passed</span>\n",
    " 2. Data preprocessing and EDA - <span style='color: #0e0'>Passed</span>\n",
    " 3. CNN architecture definition - <span style='color: #0e0'>Passed</span>\n",
    " 4. Training - <span style='color: #0e0'>Passed</span>\n",
    " 5. Metrics and evalutation - <span style='color: #0e0'>Passed</span>\n",
    " 6. Finetuning model - <span style='color: #0e0'>Passed</span>\n",
    " 7. Engineering overfitting/underfitting - <span style='color: #0e0'>Passed</span> (model is already overfitting)\n",
    "---"
   ]
  },
  {
   "cell_type": "markdown",
   "metadata": {},
   "source": [
    "## References\n",
    "- refs"
   ]
  },
  {
   "cell_type": "markdown",
   "metadata": {
    "id": "jrN5S-tXyPsM"
   },
   "source": [
    "CS6482 Deep Reinforcement Learning\n",
    "Template for Assignment 2 DQN CartPole Classic Control\n",
    "\n",
    "This sample code is based on one of the recommended texts. A small number of errors were deliberately injected into the code.\n",
    "\n",
    "If using this code as a basis for Option 1:\n",
    "•\tCorrect the bugs.\n",
    "•\tComment the code extensively.\n",
    "•\tReplace CartPole with a different Classic Control problem form gym.\n",
    "•\tGenerate more informative plots i.e. plot running average.\n",
    "•\tConsider generating an animation.\n",
    "•\tPlay around with hyperparameters and parameters to achieve ‘satisfactory’ performance.\n",
    "\n",
    "A template will NOT be provided for Assignment 3. Use this template and modify the following (1) shape of obs and actions (2) network structure, (3) storing and processing of experience, etc."
   ]
  },
  {
   "cell_type": "code",
   "execution_count": 1,
   "metadata": {
    "id": "YsWMKk5aVblG"
   },
   "outputs": [],
   "source": [
    "import sys\n",
    "assert sys.version_info >= (3,10)"
   ]
  },
  {
   "cell_type": "code",
   "execution_count": 1,
   "metadata": {
    "id": "-DmzFH9ka2BG"
   },
   "outputs": [],
   "source": [
    "#pip install --upgrade ipykernel"
   ]
  },
  {
   "cell_type": "code",
   "execution_count": 10,
   "metadata": {
    "colab": {
     "base_uri": "https://localhost:8080/"
    },
    "id": "WZHRxMcJz2Hi",
    "outputId": "a7104818-a832-40a0-b584-f6ae9a1ec793",
    "scrolled": true
   },
   "outputs": [
    {
     "name": "stdout",
     "output_type": "stream",
     "text": [
      "Defaulting to user installation because normal site-packages is not writeable\n",
      "Collecting gym[accept-rom-license,atari,classic_control]==0.25.2\n",
      "  Using cached gym-0.25.2-py3-none-any.whl\n",
      "Requirement already satisfied: gym-notices>=0.0.4 in /home/sprince0031/.local/lib/python3.10/site-packages (from gym[accept-rom-license,atari,classic_control]==0.25.2) (0.0.8)\n",
      "Requirement already satisfied: cloudpickle>=1.2.0 in /home/sprince0031/.local/lib/python3.10/site-packages (from gym[accept-rom-license,atari,classic_control]==0.25.2) (3.0.0)\n",
      "Requirement already satisfied: numpy>=1.18.0 in /home/sprince0031/.local/lib/python3.10/site-packages (from gym[accept-rom-license,atari,classic_control]==0.25.2) (1.25.2)\n",
      "Requirement already satisfied: autorom[accept-rom-license]~=0.4.2 in /home/sprince0031/.local/lib/python3.10/site-packages (from gym[accept-rom-license,atari,classic_control]==0.25.2) (0.4.2)\n",
      "Requirement already satisfied: pygame==2.1.0 in /home/sprince0031/.local/lib/python3.10/site-packages (from gym[accept-rom-license,atari,classic_control]==0.25.2) (2.1.0)\n",
      "Requirement already satisfied: ale-py~=0.7.5 in /home/sprince0031/.local/lib/python3.10/site-packages (from gym[accept-rom-license,atari,classic_control]==0.25.2) (0.7.5)\n",
      "Requirement already satisfied: importlib-resources in /home/sprince0031/.local/lib/python3.10/site-packages (from ale-py~=0.7.5->gym[accept-rom-license,atari,classic_control]==0.25.2) (6.1.1)\n",
      "Requirement already satisfied: click in /usr/lib/python3/dist-packages (from autorom[accept-rom-license]~=0.4.2->gym[accept-rom-license,atari,classic_control]==0.25.2) (8.0.3)\n",
      "Requirement already satisfied: requests in /home/sprince0031/.local/lib/python3.10/site-packages (from autorom[accept-rom-license]~=0.4.2->gym[accept-rom-license,atari,classic_control]==0.25.2) (2.31.0)\n",
      "Requirement already satisfied: tqdm in /home/sprince0031/.local/lib/python3.10/site-packages (from autorom[accept-rom-license]~=0.4.2->gym[accept-rom-license,atari,classic_control]==0.25.2) (4.66.1)\n",
      "Requirement already satisfied: AutoROM.accept-rom-license in /home/sprince0031/.local/lib/python3.10/site-packages (from autorom[accept-rom-license]~=0.4.2->gym[accept-rom-license,atari,classic_control]==0.25.2) (0.6.1)\n",
      "Requirement already satisfied: charset-normalizer<4,>=2 in /home/sprince0031/.local/lib/python3.10/site-packages (from requests->autorom[accept-rom-license]~=0.4.2->gym[accept-rom-license,atari,classic_control]==0.25.2) (3.2.0)\n",
      "Requirement already satisfied: certifi>=2017.4.17 in /usr/lib/python3/dist-packages (from requests->autorom[accept-rom-license]~=0.4.2->gym[accept-rom-license,atari,classic_control]==0.25.2) (2020.6.20)\n",
      "Requirement already satisfied: idna<4,>=2.5 in /usr/lib/python3/dist-packages (from requests->autorom[accept-rom-license]~=0.4.2->gym[accept-rom-license,atari,classic_control]==0.25.2) (3.3)\n",
      "Requirement already satisfied: urllib3<3,>=1.21.1 in /home/sprince0031/.local/lib/python3.10/site-packages (from requests->autorom[accept-rom-license]~=0.4.2->gym[accept-rom-license,atari,classic_control]==0.25.2) (2.2.0)\n",
      "Installing collected packages: gym\n",
      "Successfully installed gym-0.25.2\n"
     ]
    }
   ],
   "source": [
    "!pip install -U gym[classic_control,atari,accept-rom-license]==0.25.2"
   ]
  },
  {
   "cell_type": "code",
   "execution_count": 3,
   "metadata": {
    "id": "HZNHiDw8Vskj"
   },
   "outputs": [],
   "source": [
    "import os\n",
    "os.environ['SDL_VIDEODRIVER'] = 'dummy'\n",
    "import gym\n",
    "import matplotlib.animation\n",
    "import matplotlib.pyplot as plt\n",
    "import numpy as np\n",
    "import pygame"
   ]
  },
  {
   "cell_type": "code",
   "execution_count": 16,
   "metadata": {
    "colab": {
     "base_uri": "https://localhost:8080/"
    },
    "id": "1fLi1dN70ZSo",
    "outputId": "6c8912ce-6655-42a2-f942-4eb166d09738"
   },
   "outputs": [
    {
     "ename": "AssertionError",
     "evalue": "",
     "output_type": "error",
     "traceback": [
      "\u001b[0;31m---------------------------------------------------------------------------\u001b[0m",
      "\u001b[0;31mAssertionError\u001b[0m                            Traceback (most recent call last)",
      "Cell \u001b[0;32mIn[16], line 4\u001b[0m\n\u001b[1;32m      1\u001b[0m \u001b[38;5;28;01mfrom\u001b[39;00m \u001b[38;5;21;01mpackaging\u001b[39;00m \u001b[38;5;28;01mimport\u001b[39;00m version\n\u001b[1;32m      2\u001b[0m \u001b[38;5;28;01mimport\u001b[39;00m \u001b[38;5;21;01mtensorflow\u001b[39;00m \u001b[38;5;28;01mas\u001b[39;00m \u001b[38;5;21;01mtf\u001b[39;00m\n\u001b[0;32m----> 4\u001b[0m \u001b[38;5;28;01massert\u001b[39;00m version\u001b[38;5;241m.\u001b[39mparse(tf\u001b[38;5;241m.\u001b[39m__version__) \u001b[38;5;241m>\u001b[39m\u001b[38;5;241m=\u001b[39m version\u001b[38;5;241m.\u001b[39mparse(\u001b[38;5;124m\"\u001b[39m\u001b[38;5;124m2.15.0\u001b[39m\u001b[38;5;124m\"\u001b[39m)\n",
      "\u001b[0;31mAssertionError\u001b[0m: "
     ]
    }
   ],
   "source": [
    "from packaging import version\n",
    "import tensorflow as tf\n",
    "\n",
    "assert version.parse(tf.__version__) >= version.parse(\"2.15.0\")"
   ]
  },
  {
   "cell_type": "markdown",
   "metadata": {},
   "source": [
    "The installed tensorflow version (2.14.0) is below the required version for this notebook. Updating it below."
   ]
  },
  {
   "cell_type": "code",
   "execution_count": 17,
   "metadata": {},
   "outputs": [
    {
     "name": "stdout",
     "output_type": "stream",
     "text": [
      "Defaulting to user installation because normal site-packages is not writeable\n",
      "Requirement already satisfied: tensorflow in /home/sprince0031/.local/lib/python3.10/site-packages (2.14.0)\n",
      "Collecting tensorflow\n",
      "  Downloading tensorflow-2.16.1-cp310-cp310-manylinux_2_17_x86_64.manylinux2014_x86_64.whl (589.8 MB)\n",
      "\u001b[2K     \u001b[38;2;114;156;31m━━━━━━━━━━━━━━━━━━━━━━━━━━━━━━━━━━━━━━━\u001b[0m \u001b[32m589.8/589.8 MB\u001b[0m \u001b[31m4.2 MB/s\u001b[0m eta \u001b[36m0:00:00\u001b[0mm eta \u001b[36m0:00:01\u001b[0m[36m0:00:01\u001b[0m\n",
      "\u001b[?25hRequirement already satisfied: six>=1.12.0 in /usr/lib/python3/dist-packages (from tensorflow) (1.16.0)\n",
      "Requirement already satisfied: libclang>=13.0.0 in /home/sprince0031/.local/lib/python3.10/site-packages (from tensorflow) (16.0.6)\n",
      "Requirement already satisfied: termcolor>=1.1.0 in /home/sprince0031/.local/lib/python3.10/site-packages (from tensorflow) (2.3.0)\n",
      "Requirement already satisfied: gast!=0.5.0,!=0.5.1,!=0.5.2,>=0.2.1 in /home/sprince0031/.local/lib/python3.10/site-packages (from tensorflow) (0.5.4)\n",
      "Collecting h5py>=3.10.0\n",
      "  Downloading h5py-3.10.0-cp310-cp310-manylinux_2_17_x86_64.manylinux2014_x86_64.whl (4.8 MB)\n",
      "\u001b[2K     \u001b[38;2;114;156;31m━━━━━━━━━━━━━━━━━━━━━━━━━━━━━━━━━━━━━━━━\u001b[0m \u001b[32m4.8/4.8 MB\u001b[0m \u001b[31m15.5 MB/s\u001b[0m eta \u001b[36m0:00:00\u001b[0mm eta \u001b[36m0:00:01\u001b[0m[36m0:00:01\u001b[0m\n",
      "\u001b[?25hRequirement already satisfied: typing-extensions>=3.6.6 in /home/sprince0031/.local/lib/python3.10/site-packages (from tensorflow) (4.10.0)\n",
      "Requirement already satisfied: astunparse>=1.6.0 in /home/sprince0031/.local/lib/python3.10/site-packages (from tensorflow) (1.6.3)\n",
      "Collecting keras>=3.0.0\n",
      "  Downloading keras-3.1.1-py3-none-any.whl (1.1 MB)\n",
      "\u001b[2K     \u001b[38;2;114;156;31m━━━━━━━━━━━━━━━━━━━━━━━━━━━━━━━━━━━━━━━━\u001b[0m \u001b[32m1.1/1.1 MB\u001b[0m \u001b[31m15.7 MB/s\u001b[0m eta \u001b[36m0:00:00\u001b[0m31m16.5 MB/s\u001b[0m eta \u001b[36m0:00:01\u001b[0m\n",
      "\u001b[?25hRequirement already satisfied: grpcio<2.0,>=1.24.3 in /home/sprince0031/.local/lib/python3.10/site-packages (from tensorflow) (1.58.0)\n",
      "Requirement already satisfied: packaging in /home/sprince0031/.local/lib/python3.10/site-packages (from tensorflow) (24.0)\n",
      "Requirement already satisfied: numpy<2.0.0,>=1.23.5 in /home/sprince0031/.local/lib/python3.10/site-packages (from tensorflow) (1.25.2)\n",
      "Requirement already satisfied: tensorflow-io-gcs-filesystem>=0.23.1 in /home/sprince0031/.local/lib/python3.10/site-packages (from tensorflow) (0.34.0)\n",
      "Requirement already satisfied: wrapt>=1.11.0 in /home/sprince0031/.local/lib/python3.10/site-packages (from tensorflow) (1.14.1)\n",
      "Requirement already satisfied: flatbuffers>=23.5.26 in /home/sprince0031/.local/lib/python3.10/site-packages (from tensorflow) (23.5.26)\n",
      "Requirement already satisfied: setuptools in /usr/lib/python3/dist-packages (from tensorflow) (59.6.0)\n",
      "Requirement already satisfied: requests<3,>=2.21.0 in /home/sprince0031/.local/lib/python3.10/site-packages (from tensorflow) (2.31.0)\n",
      "Collecting tensorboard<2.17,>=2.16\n",
      "  Downloading tensorboard-2.16.2-py3-none-any.whl (5.5 MB)\n",
      "\u001b[2K     \u001b[38;2;114;156;31m━━━━━━━━━━━━━━━━━━━━━━━━━━━━━━━━━━━━━━━━\u001b[0m \u001b[32m5.5/5.5 MB\u001b[0m \u001b[31m11.2 MB/s\u001b[0m eta \u001b[36m0:00:00\u001b[0mm eta \u001b[36m0:00:01\u001b[0m[36m0:00:01\u001b[0m\n",
      "\u001b[?25hRequirement already satisfied: google-pasta>=0.1.1 in /home/sprince0031/.local/lib/python3.10/site-packages (from tensorflow) (0.2.0)\n",
      "Collecting ml-dtypes~=0.3.1\n",
      "  Downloading ml_dtypes-0.3.2-cp310-cp310-manylinux_2_17_x86_64.manylinux2014_x86_64.whl (2.2 MB)\n",
      "\u001b[2K     \u001b[38;2;114;156;31m━━━━━━━━━━━━━━━━━━━━━━━━━━━━━━━━━━━━━━━━\u001b[0m \u001b[32m2.2/2.2 MB\u001b[0m \u001b[31m13.2 MB/s\u001b[0m eta \u001b[36m0:00:00\u001b[0mm eta \u001b[36m0:00:01\u001b[0m[36m0:00:01\u001b[0m\n",
      "\u001b[?25hRequirement already satisfied: absl-py>=1.0.0 in /home/sprince0031/.local/lib/python3.10/site-packages (from tensorflow) (1.4.0)\n",
      "Requirement already satisfied: opt-einsum>=2.3.2 in /home/sprince0031/.local/lib/python3.10/site-packages (from tensorflow) (3.3.0)\n",
      "Requirement already satisfied: protobuf!=4.21.0,!=4.21.1,!=4.21.2,!=4.21.3,!=4.21.4,!=4.21.5,<5.0.0dev,>=3.20.3 in /home/sprince0031/.local/lib/python3.10/site-packages (from tensorflow) (3.20.3)\n",
      "Requirement already satisfied: wheel<1.0,>=0.23.0 in /usr/lib/python3/dist-packages (from astunparse>=1.6.0->tensorflow) (0.37.1)\n",
      "Collecting optree\n",
      "  Downloading optree-0.11.0-cp310-cp310-manylinux_2_17_x86_64.manylinux2014_x86_64.whl (311 kB)\n",
      "\u001b[2K     \u001b[38;2;114;156;31m━━━━━━━━━━━━━━━━━━━━━━━━━━━━━━━━━━━━━━\u001b[0m \u001b[32m311.2/311.2 KB\u001b[0m \u001b[31m15.5 MB/s\u001b[0m eta \u001b[36m0:00:00\u001b[0m\n",
      "\u001b[?25hCollecting rich\n",
      "  Downloading rich-13.7.1-py3-none-any.whl (240 kB)\n",
      "\u001b[2K     \u001b[38;2;114;156;31m━━━━━━━━━━━━━━━━━━━━━━━━━━━━━━━━━━━━━━\u001b[0m \u001b[32m240.7/240.7 KB\u001b[0m \u001b[31m20.8 MB/s\u001b[0m eta \u001b[36m0:00:00\u001b[0m\n",
      "\u001b[?25hCollecting namex\n",
      "  Downloading namex-0.0.7-py3-none-any.whl (5.8 kB)\n",
      "Requirement already satisfied: certifi>=2017.4.17 in /usr/lib/python3/dist-packages (from requests<3,>=2.21.0->tensorflow) (2020.6.20)\n",
      "Requirement already satisfied: idna<4,>=2.5 in /usr/lib/python3/dist-packages (from requests<3,>=2.21.0->tensorflow) (3.3)\n",
      "Requirement already satisfied: urllib3<3,>=1.21.1 in /home/sprince0031/.local/lib/python3.10/site-packages (from requests<3,>=2.21.0->tensorflow) (2.2.0)\n",
      "Requirement already satisfied: charset-normalizer<4,>=2 in /home/sprince0031/.local/lib/python3.10/site-packages (from requests<3,>=2.21.0->tensorflow) (3.2.0)\n",
      "Requirement already satisfied: markdown>=2.6.8 in /home/sprince0031/.local/lib/python3.10/site-packages (from tensorboard<2.17,>=2.16->tensorflow) (3.4.4)\n",
      "Requirement already satisfied: werkzeug>=1.0.1 in /home/sprince0031/.local/lib/python3.10/site-packages (from tensorboard<2.17,>=2.16->tensorflow) (2.3.7)\n",
      "Requirement already satisfied: tensorboard-data-server<0.8.0,>=0.7.0 in /home/sprince0031/.local/lib/python3.10/site-packages (from tensorboard<2.17,>=2.16->tensorflow) (0.7.1)\n",
      "Requirement already satisfied: MarkupSafe>=2.1.1 in /home/sprince0031/.local/lib/python3.10/site-packages (from werkzeug>=1.0.1->tensorboard<2.17,>=2.16->tensorflow) (2.1.3)\n",
      "Collecting markdown-it-py>=2.2.0\n",
      "  Downloading markdown_it_py-3.0.0-py3-none-any.whl (87 kB)\n",
      "\u001b[2K     \u001b[38;2;114;156;31m━━━━━━━━━━━━━━━━━━━━━━━━━━━━━━━━━━━━━━━━\u001b[0m \u001b[32m87.5/87.5 KB\u001b[0m \u001b[31m15.4 MB/s\u001b[0m eta \u001b[36m0:00:00\u001b[0m\n",
      "\u001b[?25hRequirement already satisfied: pygments<3.0.0,>=2.13.0 in /home/sprince0031/.local/lib/python3.10/site-packages (from rich->keras>=3.0.0->tensorflow) (2.16.1)\n",
      "Collecting mdurl~=0.1\n",
      "  Downloading mdurl-0.1.2-py3-none-any.whl (10.0 kB)\n",
      "Installing collected packages: namex, optree, ml-dtypes, mdurl, h5py, tensorboard, markdown-it-py, rich, keras, tensorflow\n",
      "  Attempting uninstall: ml-dtypes\n",
      "    Found existing installation: ml-dtypes 0.2.0\n",
      "    Uninstalling ml-dtypes-0.2.0:\n",
      "      Successfully uninstalled ml-dtypes-0.2.0\n",
      "  Attempting uninstall: h5py\n",
      "    Found existing installation: h5py 3.9.0\n",
      "    Uninstalling h5py-3.9.0:\n",
      "      Successfully uninstalled h5py-3.9.0\n",
      "  Attempting uninstall: tensorboard\n",
      "    Found existing installation: tensorboard 2.14.1\n",
      "    Uninstalling tensorboard-2.14.1:\n",
      "      Successfully uninstalled tensorboard-2.14.1\n",
      "  Attempting uninstall: keras\n",
      "    Found existing installation: keras 2.14.0\n",
      "    Uninstalling keras-2.14.0:\n",
      "      Successfully uninstalled keras-2.14.0\n",
      "  Attempting uninstall: tensorflow\n",
      "    Found existing installation: tensorflow 2.14.0\n",
      "    Uninstalling tensorflow-2.14.0:\n",
      "      Successfully uninstalled tensorflow-2.14.0\n",
      "Successfully installed h5py-3.10.0 keras-3.1.1 markdown-it-py-3.0.0 mdurl-0.1.2 ml-dtypes-0.3.2 namex-0.0.7 optree-0.11.0 rich-13.7.1 tensorboard-2.16.2 tensorflow-2.16.1\n"
     ]
    }
   ],
   "source": [
    "!pip install --upgrade tensorflow"
   ]
  },
  {
   "cell_type": "code",
   "execution_count": 5,
   "metadata": {},
   "outputs": [
    {
     "data": {
      "text/plain": [
       "<Version('2.16.1')>"
      ]
     },
     "execution_count": 5,
     "metadata": {},
     "output_type": "execute_result"
    }
   ],
   "source": [
    "version.parse(tf.__version__)"
   ]
  },
  {
   "cell_type": "code",
   "execution_count": 4,
   "metadata": {},
   "outputs": [
    {
     "name": "stderr",
     "output_type": "stream",
     "text": [
      "/home/sprince0031/.local/lib/python3.10/site-packages/tensorflow/__init__.py:30: DeprecationWarning: The distutils package is deprecated and slated for removal in Python 3.12. Use setuptools or check PEP 632 for potential alternatives\n",
      "  import distutils as _distutils\n",
      "2024-04-02 12:48:40.985970: I tensorflow/core/platform/cpu_feature_guard.cc:210] This TensorFlow binary is optimized to use available CPU instructions in performance-critical operations.\n",
      "To enable the following instructions: AVX2 FMA, in other operations, rebuild TensorFlow with the appropriate compiler flags.\n",
      "2024-04-02 12:48:41.675404: W tensorflow/compiler/tf2tensorrt/utils/py_utils.cc:38] TF-TRT Warning: Could not find TensorRT\n"
     ]
    }
   ],
   "source": [
    "from packaging import version\n",
    "import tensorflow as tf\n",
    "\n",
    "# Checking tf version again\n",
    "assert version.parse(tf.__version__) >= version.parse(\"2.15.0\")"
   ]
  },
  {
   "cell_type": "code",
   "execution_count": 5,
   "metadata": {
    "colab": {
     "base_uri": "https://localhost:8080/"
    },
    "id": "RGmjxgKS1TB4",
    "outputId": "a0d8b604-87d3-43ae-b4aa-818fd2dc0789"
   },
   "outputs": [
    {
     "name": "stdout",
     "output_type": "stream",
     "text": [
      "Get a GPU ......\n"
     ]
    },
    {
     "name": "stderr",
     "output_type": "stream",
     "text": [
      "2024-04-02 12:48:44.548474: I external/local_xla/xla/stream_executor/cuda/cuda_executor.cc:998] successful NUMA node read from SysFS had negative value (-1), but there must be at least one NUMA node, so returning NUMA node zero. See more at https://github.com/torvalds/linux/blob/v6.0/Documentation/ABI/testing/sysfs-bus-pci#L344-L355\n",
      "2024-04-02 12:48:44.559964: W tensorflow/core/common_runtime/gpu/gpu_device.cc:2251] Cannot dlopen some GPU libraries. Please make sure the missing libraries mentioned above are installed properly if you would like to use GPU. Follow the guide at https://www.tensorflow.org/install/gpu for how to download and setup the required libraries for your platform.\n",
      "Skipping registering GPU devices...\n"
     ]
    }
   ],
   "source": [
    "if not tf.config.list_physical_devices('GPU'):\n",
    "    print(\"Get a GPU ......\")"
   ]
  },
  {
   "cell_type": "code",
   "execution_count": 7,
   "metadata": {},
   "outputs": [
    {
     "name": "stdout",
     "output_type": "stream",
     "text": [
      "Defaulting to user installation because normal site-packages is not writeable\n",
      "Requirement already satisfied: tensorflow[and-cuda] in /home/sprince0031/.local/lib/python3.10/site-packages (2.16.1)\n",
      "Requirement already satisfied: absl-py>=1.0.0 in /home/sprince0031/.local/lib/python3.10/site-packages (from tensorflow[and-cuda]) (1.4.0)\n",
      "Requirement already satisfied: protobuf!=4.21.0,!=4.21.1,!=4.21.2,!=4.21.3,!=4.21.4,!=4.21.5,<5.0.0dev,>=3.20.3 in /home/sprince0031/.local/lib/python3.10/site-packages (from tensorflow[and-cuda]) (3.20.3)\n",
      "Requirement already satisfied: h5py>=3.10.0 in /home/sprince0031/.local/lib/python3.10/site-packages (from tensorflow[and-cuda]) (3.10.0)\n",
      "Requirement already satisfied: six>=1.12.0 in /usr/lib/python3/dist-packages (from tensorflow[and-cuda]) (1.16.0)\n",
      "Requirement already satisfied: setuptools in /usr/lib/python3/dist-packages (from tensorflow[and-cuda]) (59.6.0)\n",
      "Requirement already satisfied: keras>=3.0.0 in /home/sprince0031/.local/lib/python3.10/site-packages (from tensorflow[and-cuda]) (3.1.1)\n",
      "Requirement already satisfied: google-pasta>=0.1.1 in /home/sprince0031/.local/lib/python3.10/site-packages (from tensorflow[and-cuda]) (0.2.0)\n",
      "Requirement already satisfied: astunparse>=1.6.0 in /home/sprince0031/.local/lib/python3.10/site-packages (from tensorflow[and-cuda]) (1.6.3)\n",
      "Requirement already satisfied: packaging in /home/sprince0031/.local/lib/python3.10/site-packages (from tensorflow[and-cuda]) (24.0)\n",
      "Requirement already satisfied: numpy<2.0.0,>=1.23.5 in /home/sprince0031/.local/lib/python3.10/site-packages (from tensorflow[and-cuda]) (1.25.2)\n",
      "Requirement already satisfied: ml-dtypes~=0.3.1 in /home/sprince0031/.local/lib/python3.10/site-packages (from tensorflow[and-cuda]) (0.3.2)\n",
      "Requirement already satisfied: typing-extensions>=3.6.6 in /home/sprince0031/.local/lib/python3.10/site-packages (from tensorflow[and-cuda]) (4.10.0)\n",
      "Requirement already satisfied: tensorflow-io-gcs-filesystem>=0.23.1 in /home/sprince0031/.local/lib/python3.10/site-packages (from tensorflow[and-cuda]) (0.34.0)\n",
      "Requirement already satisfied: opt-einsum>=2.3.2 in /home/sprince0031/.local/lib/python3.10/site-packages (from tensorflow[and-cuda]) (3.3.0)\n",
      "Requirement already satisfied: requests<3,>=2.21.0 in /home/sprince0031/.local/lib/python3.10/site-packages (from tensorflow[and-cuda]) (2.31.0)\n",
      "Requirement already satisfied: libclang>=13.0.0 in /home/sprince0031/.local/lib/python3.10/site-packages (from tensorflow[and-cuda]) (16.0.6)\n",
      "Requirement already satisfied: termcolor>=1.1.0 in /home/sprince0031/.local/lib/python3.10/site-packages (from tensorflow[and-cuda]) (2.3.0)\n",
      "Requirement already satisfied: gast!=0.5.0,!=0.5.1,!=0.5.2,>=0.2.1 in /home/sprince0031/.local/lib/python3.10/site-packages (from tensorflow[and-cuda]) (0.5.4)\n",
      "Requirement already satisfied: grpcio<2.0,>=1.24.3 in /home/sprince0031/.local/lib/python3.10/site-packages (from tensorflow[and-cuda]) (1.58.0)\n",
      "Requirement already satisfied: flatbuffers>=23.5.26 in /home/sprince0031/.local/lib/python3.10/site-packages (from tensorflow[and-cuda]) (23.5.26)\n",
      "Requirement already satisfied: tensorboard<2.17,>=2.16 in /home/sprince0031/.local/lib/python3.10/site-packages (from tensorflow[and-cuda]) (2.16.2)\n",
      "Requirement already satisfied: wrapt>=1.11.0 in /home/sprince0031/.local/lib/python3.10/site-packages (from tensorflow[and-cuda]) (1.14.1)\n",
      "Requirement already satisfied: nvidia-curand-cu12==10.3.4.107 in /home/sprince0031/.local/lib/python3.10/site-packages (from tensorflow[and-cuda]) (10.3.4.107)\n",
      "Requirement already satisfied: nvidia-cusolver-cu12==11.5.4.101 in /home/sprince0031/.local/lib/python3.10/site-packages (from tensorflow[and-cuda]) (11.5.4.101)\n",
      "Requirement already satisfied: nvidia-nvjitlink-cu12==12.3.101 in /home/sprince0031/.local/lib/python3.10/site-packages (from tensorflow[and-cuda]) (12.3.101)\n",
      "Requirement already satisfied: nvidia-cuda-nvcc-cu12==12.3.107 in /home/sprince0031/.local/lib/python3.10/site-packages (from tensorflow[and-cuda]) (12.3.107)\n",
      "Requirement already satisfied: nvidia-cuda-nvrtc-cu12==12.3.107 in /home/sprince0031/.local/lib/python3.10/site-packages (from tensorflow[and-cuda]) (12.3.107)\n",
      "Requirement already satisfied: nvidia-cublas-cu12==12.3.4.1 in /home/sprince0031/.local/lib/python3.10/site-packages (from tensorflow[and-cuda]) (12.3.4.1)\n",
      "Requirement already satisfied: nvidia-cusparse-cu12==12.2.0.103 in /home/sprince0031/.local/lib/python3.10/site-packages (from tensorflow[and-cuda]) (12.2.0.103)\n",
      "Requirement already satisfied: nvidia-nccl-cu12==2.19.3 in /home/sprince0031/.local/lib/python3.10/site-packages (from tensorflow[and-cuda]) (2.19.3)\n",
      "Requirement already satisfied: nvidia-cuda-cupti-cu12==12.3.101 in /home/sprince0031/.local/lib/python3.10/site-packages (from tensorflow[and-cuda]) (12.3.101)\n",
      "Requirement already satisfied: nvidia-cufft-cu12==11.0.12.1 in /home/sprince0031/.local/lib/python3.10/site-packages (from tensorflow[and-cuda]) (11.0.12.1)\n",
      "Requirement already satisfied: nvidia-cuda-runtime-cu12==12.3.101 in /home/sprince0031/.local/lib/python3.10/site-packages (from tensorflow[and-cuda]) (12.3.101)\n",
      "Requirement already satisfied: nvidia-cudnn-cu12==8.9.7.29 in /home/sprince0031/.local/lib/python3.10/site-packages (from tensorflow[and-cuda]) (8.9.7.29)\n",
      "Requirement already satisfied: wheel<1.0,>=0.23.0 in /usr/lib/python3/dist-packages (from astunparse>=1.6.0->tensorflow[and-cuda]) (0.37.1)\n",
      "Requirement already satisfied: rich in /home/sprince0031/.local/lib/python3.10/site-packages (from keras>=3.0.0->tensorflow[and-cuda]) (13.7.1)\n",
      "Requirement already satisfied: optree in /home/sprince0031/.local/lib/python3.10/site-packages (from keras>=3.0.0->tensorflow[and-cuda]) (0.11.0)\n",
      "Requirement already satisfied: namex in /home/sprince0031/.local/lib/python3.10/site-packages (from keras>=3.0.0->tensorflow[and-cuda]) (0.0.7)\n",
      "Requirement already satisfied: urllib3<3,>=1.21.1 in /home/sprince0031/.local/lib/python3.10/site-packages (from requests<3,>=2.21.0->tensorflow[and-cuda]) (2.2.0)\n",
      "Requirement already satisfied: idna<4,>=2.5 in /usr/lib/python3/dist-packages (from requests<3,>=2.21.0->tensorflow[and-cuda]) (3.3)\n",
      "Requirement already satisfied: certifi>=2017.4.17 in /usr/lib/python3/dist-packages (from requests<3,>=2.21.0->tensorflow[and-cuda]) (2020.6.20)\n",
      "Requirement already satisfied: charset-normalizer<4,>=2 in /home/sprince0031/.local/lib/python3.10/site-packages (from requests<3,>=2.21.0->tensorflow[and-cuda]) (3.2.0)\n",
      "Requirement already satisfied: markdown>=2.6.8 in /home/sprince0031/.local/lib/python3.10/site-packages (from tensorboard<2.17,>=2.16->tensorflow[and-cuda]) (3.4.4)\n",
      "Requirement already satisfied: tensorboard-data-server<0.8.0,>=0.7.0 in /home/sprince0031/.local/lib/python3.10/site-packages (from tensorboard<2.17,>=2.16->tensorflow[and-cuda]) (0.7.1)\n",
      "Requirement already satisfied: werkzeug>=1.0.1 in /home/sprince0031/.local/lib/python3.10/site-packages (from tensorboard<2.17,>=2.16->tensorflow[and-cuda]) (2.3.7)\n",
      "Requirement already satisfied: MarkupSafe>=2.1.1 in /home/sprince0031/.local/lib/python3.10/site-packages (from werkzeug>=1.0.1->tensorboard<2.17,>=2.16->tensorflow[and-cuda]) (2.1.3)\n",
      "Requirement already satisfied: markdown-it-py>=2.2.0 in /home/sprince0031/.local/lib/python3.10/site-packages (from rich->keras>=3.0.0->tensorflow[and-cuda]) (3.0.0)\n",
      "Requirement already satisfied: pygments<3.0.0,>=2.13.0 in /home/sprince0031/.local/lib/python3.10/site-packages (from rich->keras>=3.0.0->tensorflow[and-cuda]) (2.16.1)\n",
      "Requirement already satisfied: mdurl~=0.1 in /home/sprince0031/.local/lib/python3.10/site-packages (from markdown-it-py>=2.2.0->rich->keras>=3.0.0->tensorflow[and-cuda]) (0.1.2)\n"
     ]
    }
   ],
   "source": [
    "!pip install tensorflow[and-cuda]"
   ]
  },
  {
   "cell_type": "code",
   "execution_count": 9,
   "metadata": {},
   "outputs": [
    {
     "name": "stdout",
     "output_type": "stream",
     "text": [
      "[name: \"/device:CPU:0\"\n",
      "device_type: \"CPU\"\n",
      "memory_limit: 268435456\n",
      "locality {\n",
      "}\n",
      "incarnation: 5181444428668052994\n",
      "xla_global_id: -1\n",
      "]\n"
     ]
    },
    {
     "name": "stderr",
     "output_type": "stream",
     "text": [
      "2024-04-02 12:49:39.309525: I external/local_xla/xla/stream_executor/cuda/cuda_executor.cc:998] successful NUMA node read from SysFS had negative value (-1), but there must be at least one NUMA node, so returning NUMA node zero. See more at https://github.com/torvalds/linux/blob/v6.0/Documentation/ABI/testing/sysfs-bus-pci#L344-L355\n",
      "2024-04-02 12:49:39.310112: W tensorflow/core/common_runtime/gpu/gpu_device.cc:2251] Cannot dlopen some GPU libraries. Please make sure the missing libraries mentioned above are installed properly if you would like to use GPU. Follow the guide at https://www.tensorflow.org/install/gpu for how to download and setup the required libraries for your platform.\n",
      "Skipping registering GPU devices...\n"
     ]
    }
   ],
   "source": [
    "from tensorflow.python.client import device_lib\n",
    "print(device_lib.list_local_devices())"
   ]
  },
  {
   "cell_type": "code",
   "execution_count": null,
   "metadata": {
    "colab": {
     "base_uri": "https://localhost:8080/"
    },
    "id": "xYckAkrSAbf9",
    "outputId": "56412565-0999-4275-ec24-38f1111f8528"
   },
   "outputs": [
    {
     "data": {
      "text/plain": [
       "['ALE/Adventure-ram-v5',\n",
       " 'ALE/Adventure-v5',\n",
       " 'ALE/AirRaid-ram-v5',\n",
       " 'ALE/AirRaid-v5',\n",
       " 'ALE/Alien-ram-v5',\n",
       " 'ALE/Alien-v5',\n",
       " 'ALE/Amidar-ram-v5',\n",
       " 'ALE/Amidar-v5',\n",
       " 'ALE/Assault-ram-v5',\n",
       " 'ALE/Assault-v5',\n",
       " '...']"
      ]
     },
     "execution_count": 7,
     "metadata": {},
     "output_type": "execute_result"
    }
   ],
   "source": [
    "envs = gym.envs.registry\n",
    "sorted(envs.keys())[:10] + [\"...\"]"
   ]
  },
  {
   "cell_type": "code",
   "execution_count": null,
   "metadata": {
    "colab": {
     "base_uri": "https://localhost:8080/"
    },
    "id": "RGWq_v5CLg0T",
    "outputId": "b1d5ebbf-773b-4b44-b101-6cf479d89ecb"
   },
   "outputs": [
    {
     "data": {
      "text/plain": [
       "EnvSpec(id='CartPole-v1', entry_point='gym.envs.classic_control.cartpole:CartPoleEnv', reward_threshold=475.0, nondeterministic=False, max_episode_steps=500, order_enforce=True, autoreset=False, disable_env_checker=False, new_step_api=False, kwargs={}, namespace=None, name='CartPole', version=1)"
      ]
     },
     "execution_count": 8,
     "metadata": {},
     "output_type": "execute_result"
    }
   ],
   "source": [
    "envs['CartPole-v1']"
   ]
  },
  {
   "cell_type": "code",
   "execution_count": null,
   "metadata": {
    "colab": {
     "base_uri": "https://localhost:8080/"
    },
    "id": "DxjW-r-MKoQe",
    "outputId": "c9207f68-37ce-4242-e94e-1c1f2ca09ba4"
   },
   "outputs": [
    {
     "name": "stderr",
     "output_type": "stream",
     "text": [
      "/usr/local/lib/python3.10/dist-packages/gym/core.py:317: DeprecationWarning: \u001b[33mWARN: Initializing wrapper in old step API which returns one bool instead of two. It is recommended to set `new_step_api=True` to use new step API. This will be the default behaviour in future.\u001b[0m\n",
      "  deprecation(\n",
      "/usr/local/lib/python3.10/dist-packages/gym/wrappers/step_api_compatibility.py:39: DeprecationWarning: \u001b[33mWARN: Initializing environment in old step API which returns one bool instead of two. It is recommended to set `new_step_api=True` to use new step API. This will be the default behaviour in future.\u001b[0m\n",
      "  deprecation(\n"
     ]
    }
   ],
   "source": [
    "new_step_API=True\n",
    "env = gym.make('CartPole-v1', render_mode='rgb_array')"
   ]
  },
  {
   "cell_type": "code",
   "execution_count": null,
   "metadata": {
    "colab": {
     "base_uri": "https://localhost:8080/"
    },
    "id": "CEfEzwvfLygj",
    "outputId": "03d4d7ca-e793-4d54-cc1f-d80ada8c44a5"
   },
   "outputs": [
    {
     "name": "stdout",
     "output_type": "stream",
     "text": [
      "[ 0.02727336  0.18847767  0.03625453 -0.26141977]\n",
      "1.0\n",
      "False\n",
      "{}\n"
     ]
    },
    {
     "name": "stderr",
     "output_type": "stream",
     "text": [
      "/usr/local/lib/python3.10/dist-packages/gym/utils/passive_env_checker.py:241: DeprecationWarning: `np.bool8` is a deprecated alias for `np.bool_`.  (Deprecated NumPy 1.24)\n",
      "  if not isinstance(terminated, (bool, np.bool8)):\n"
     ]
    }
   ],
   "source": [
    "obs = env.reset(seed=42)\n",
    "obs\n",
    "\n",
    "for e in env.step(1):\n",
    "    print(e)"
   ]
  },
  {
   "cell_type": "code",
   "execution_count": null,
   "metadata": {
    "id": "QINr5SpkOGQs"
   },
   "outputs": [],
   "source": [
    "pygame.init()\n",
    "pygame.display.list_modes()\n",
    "env.reset(seed=42)\n",
    "img = env.render()"
   ]
  },
  {
   "cell_type": "code",
   "execution_count": null,
   "metadata": {
    "id": "a0VeF1MgAbgI"
   },
   "outputs": [],
   "source": [
    "tf.random.set_seed(42)\n",
    "\n",
    "input_shape = [4]\n",
    "n_outputs = 2\n",
    "\n",
    "model = tf.keras.Sequential([\n",
    "    tf.keras.layers.Dense(24, activation=\"sigmoid\", input_shape=input_shape),\n",
    "    tf.keras.layers.Dense(24, activation=\"sigmoid\"),\n",
    "    tf.keras.layers.Dense(n_outputs)\n",
    "])"
   ]
  },
  {
   "cell_type": "code",
   "execution_count": null,
   "metadata": {
    "id": "ufL_3oeQerUQ"
   },
   "outputs": [],
   "source": [
    "def epsilon_greedy_policy(state, epsilon=0):\n",
    "    if np.random.rand() >= epsilon:\n",
    "        return np.random.randint(n_outputs)\n",
    "    else:\n",
    "        Q_values = model.predict(state[np.newaxis], verbose=0)[0]\n",
    "        return Q_values.argmax()"
   ]
  },
  {
   "cell_type": "code",
   "execution_count": null,
   "metadata": {
    "id": "vkSLrWtzAbgJ"
   },
   "outputs": [],
   "source": [
    "from collections import deque\n",
    "\n",
    "replay_buffer = deque(maxlen=100)"
   ]
  },
  {
   "cell_type": "code",
   "execution_count": null,
   "metadata": {
    "id": "Cq90Qzi-e1cr"
   },
   "outputs": [],
   "source": [
    "def sample_experiences(batch_size):\n",
    "    indices = np.random.randint(len(replay_buffer), size=batch_size)\n",
    "    batch = [replay_buffer[index] for index in indices]\n",
    "    return [\n",
    "        np.array([experience[field_index] for experience in batch])\n",
    "        for field_index in range(5)\n",
    "    ]  # [states, actions, rewards, next_states, dones, truncateds]"
   ]
  },
  {
   "cell_type": "code",
   "execution_count": null,
   "metadata": {
    "id": "I23qmwWTe57u"
   },
   "outputs": [],
   "source": [
    "def play_one_step(env, state, epsilon):\n",
    "    action = epsilon_greedy_policy(state, epsilon)\n",
    "    next_state, reward, done, info = env.step(action)\n",
    "    replay_buffer.append((state, action, reward, next_state, done))\n",
    "    return next_state, reward, done, info"
   ]
  },
  {
   "cell_type": "code",
   "execution_count": null,
   "metadata": {
    "id": "A-m0Wly6e_tu"
   },
   "outputs": [],
   "source": [
    "env.reset(seed=42)\n",
    "np.random.seed(42)\n",
    "tf.random.set_seed(42)\n",
    "rewards = []\n",
    "best_score = 0"
   ]
  },
  {
   "cell_type": "code",
   "execution_count": null,
   "metadata": {
    "id": "A_A5RNI-fEBO"
   },
   "outputs": [],
   "source": [
    "batch_size = 32\n",
    "discount_factor = 0.95\n",
    "optimizer = tf.keras.optimizers.Nadam(learning_rate=1e-1)\n",
    "loss_fn = tf.keras.losses.mean_squared_error\n",
    "\n",
    "def training_step(batch_size):\n",
    "    experiences = sample_experiences(batch_size)\n",
    "    states, actions, rewards, next_states, dones = experiences\n",
    "    next_Q_values = model.predict(next_states, verbose=0)\n",
    "    max_next_Q_values = next_Q_values.min(axis=1)\n",
    "    runs = 1.0 - (dones)\n",
    "    target_Q_values = rewards + runs * discount_factor * max_next_Q_values\n",
    "    target_Q_values = target_Q_values.reshape(-1, 1)\n",
    "    mask = tf.one_hot(actions, n_outputs)\n",
    "    with tf.GradientTape() as tape:\n",
    "        all_Q_values = model(states)\n",
    "        Q_values = tf.reduce_sum(all_Q_values * mask, axis=1, keepdims=True)\n",
    "        loss = tf.reduce_mean(loss_fn(target_Q_values, Q_values))\n",
    "\n",
    "    grads = tape.gradient(loss, model.trainable_variables)\n",
    "    optimizer.apply_gradients(zip(grads, model.trainable_variables))"
   ]
  },
  {
   "cell_type": "code",
   "execution_count": null,
   "metadata": {
    "colab": {
     "base_uri": "https://localhost:8080/"
    },
    "id": "GpFLe4PMfJHS",
    "outputId": "a486df14-f1cc-40fe-a38b-1e8dbf9aa000"
   },
   "outputs": [
    {
     "name": "stdout",
     "output_type": "stream",
     "text": [
      "Episode: 700, Steps: 27, eps: 0.500"
     ]
    }
   ],
   "source": [
    "for episode in range(700):\n",
    "    obs = env.reset()\n",
    "    for step in range(200):\n",
    "        epsilon = 0.5\n",
    "        obs, reward, done, info  = play_one_step(env,obs, epsilon)\n",
    "        if done:\n",
    "            break\n",
    "    print(f\"\\rEpisode: {episode + 1}, Steps: {step + 1}, eps: {epsilon:.3f}\",\n",
    "          end=\"\")\n",
    "    rewards.append(step)\n",
    "    if step >= best_score:\n",
    "        best_weights = model.get_weights()\n",
    "        best_score = step\n",
    "\n",
    "    if episode > 50:\n",
    "        training_step(batch_size)\n",
    "\n",
    "model.set_weights(best_weights)"
   ]
  },
  {
   "cell_type": "code",
   "execution_count": null,
   "metadata": {
    "colab": {
     "base_uri": "https://localhost:8080/",
     "height": 393
    },
    "id": "ACB-1hd3AbgL",
    "outputId": "8d8a66fb-c704-4585-9680-5b88277f18d1"
   },
   "outputs": [
    {
     "data": {
      "image/png": "[encoded data removed]",
      "text/plain": [
       "<Figure size 800x400 with 1 Axes>"
      ]
     },
     "metadata": {},
     "output_type": "display_data"
    }
   ],
   "source": [
    "plt.figure(figsize=(8, 4))\n",
    "plt.plot(rewards)\n",
    "plt.xlabel(\" \", fontsize=14)\n",
    "plt.ylabel(\" \", fontsize=14)\n",
    "plt.grid(True)\n",
    "plt.show()"
   ]
  }
 ],
 "metadata": {
  "accelerator": "GPU",
  "colab": {
   "gpuType": "T4",
   "provenance": []
  },
  "kernelspec": {
   "display_name": "Python 3 (ipykernel)",
   "language": "python",
   "name": "python3"
  },
  "language_info": {
   "codemirror_mode": {
    "name": "ipython",
    "version": 3
   },
   "file_extension": ".py",
   "mimetype": "text/x-python",
   "name": "python",
   "nbconvert_exporter": "python",
   "pygments_lexer": "ipython3",
   "version": "3.10.12"
  }
 },
 "nbformat": 4,
 "nbformat_minor": 4
}
