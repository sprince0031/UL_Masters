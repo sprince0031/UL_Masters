{
 "cells": [
  {
   "cell_type": "markdown",
   "id": "b8e5ed62",
   "metadata": {},
   "source": [
    "<div>\n",
    "<img src=\"https://www.ul.ie/themes/custom/ul/logo.jpg\" width=\"350\"/>\n",
    "</div> \n",
    "\n",
    "# **Artificial Intelligence - MSc**\n",
    "\n",
    "## CS6462 - PROBABILISTIC AND EXPLAINABLE AI \n",
    "## SEM2 2022/3\n",
    "\n",
    "### CS6462 Etivity 2 - Building a Bayesian Network on a Real-Life Scenario\n",
    "\n",
    "### Instructor: Emil Vassev\n",
    "March 7th, 2023\n",
    "<br><br>\n",
    "Copyright (C) 2023 - All rights reserved, do not copy or distribute without permission of the author.\n",
    "***"
   ]
  },
  {
   "cell_type": "markdown",
   "id": "6c2603d7",
   "metadata": {},
   "source": [
    "## Submission Info\n",
    "### Student Name: Siddharth\n",
    "### Student Surname: Prince\n",
    "### Student ID: 23052058\n",
    "### Date of Final Submission: <span style=\"color:red\">TODO: put the date when you submitted for grading</span>\n",
    "***"
   ]
  },
  {
   "cell_type": "markdown",
   "id": "a2b8d751",
   "metadata": {},
   "source": [
    "## Task\n",
    "In this e-tivity, you are asked to build a Bayesian Network by following the steps outlined in “Notebook Lesson: Building Bayesian Networks with Python”. This Bayesian Network needs to cover a real-life scenario, which is a modified version of the “Recommendation Letter” example provided by the lectures. \n",
    "## The real-life scenario\n",
    "Let’s suppose that a UL student is taking the CS6264 module “Probabilistic and Explainable AI”. The student’s grade for this module will depend on their intelligence (low or high), module difficulty (easy, hard), and their health status (sick or healthy). Our student asks their professor for a recommendation letter. To come up with the idea of the quality of that recommendation letter (weak or strong), the professor can only look at the student’s grade (A, B or C) and the student’s forum activity (not active, active). Hence, the actual quality of the letter depends stochastically on the grade and on the forum activity. \n",
    "\n",
    "### Here are the steps you need to follow:"
   ]
  },
  {
   "cell_type": "markdown",
   "id": "a2788722",
   "metadata": {},
   "source": [
    "## Step 1: Create the DAG of the Bayesian Network (20%)"
   ]
  },
  {
   "cell_type": "markdown",
   "id": "6b20db4c",
   "metadata": {},
   "source": [
    "### Step 1.1. Describe the problem (5%)\n",
    "Outline the problem in terms of:\n",
    "<ul>\n",
    "<li>random variables and their domain</li>\n",
    "<li>dependencies among these random variables</li>\n",
    "<ul>"
   ]
  },
  {
   "cell_type": "markdown",
   "id": "dc9249ff",
   "metadata": {},
   "source": [
    "#### Problem description:\n",
    "- Need to find the **quality of the letter of recommendation** which is the *observation* here.\n",
    "- There are 4 independent random variables:\n",
    "  1. intelligence, **I** (low, high)\n",
    "  2. module difficulty, **D** (easy, hard)\n",
    "  3. health status, **H** (sick, healthy)\n",
    "  4. forum activity, **F** (not active, active)\n",
    "- The two dependent variables are:\n",
    "  1. grade, **G** (A, B, C) dependent on\n",
    "     - intelligence\n",
    "     - module difficulty\n",
    "     - health\n",
    "  2. recommendation letter quality, **R** (weak, strong) dependent on\n",
    "     - grade\n",
    "     - forum activity"
   ]
  },
  {
   "cell_type": "markdown",
   "id": "ee5b9a4b",
   "metadata": {},
   "source": [
    "### Step 1.2. Draw and show the DAG (7%)"
   ]
  },
  {
   "cell_type": "code",
   "execution_count": 12,
   "id": "7ed86963",
   "metadata": {},
   "outputs": [],
   "source": [
    "from IPython.display import Image"
   ]
  },
  {
   "cell_type": "markdown",
   "id": "c0ecd215",
   "metadata": {},
   "source": [
    "### Step 1.3. Create the DAG of the Bayesian Network by using the pgmpy library (7%)"
   ]
  },
  {
   "cell_type": "code",
   "execution_count": 16,
   "id": "db48a940",
   "metadata": {},
   "outputs": [],
   "source": [
    "from pgmpy.models import BayesianNetwork\n",
    "from pgmpy.factors.discrete import TabularCPD\n",
    "import networkx as nx\n",
    "import pylab as plt\n",
    "\n",
    "model = BayesianNetwork([('intelligence', 'grade'), ('module_difficulty', 'grade'), ('health_status', 'grade'),\n",
    "                         ('grade', 'recommendation_letter'), ('forum_activity', 'recommendation_letter')]) "
   ]
  },
  {
   "cell_type": "markdown",
   "id": "c4a839dc",
   "metadata": {},
   "source": [
    "### Step 1.4. Show the DAG of the Bayesian Network (1%)"
   ]
  },
  {
   "cell_type": "code",
   "execution_count": 17,
   "id": "cd305a3b",
   "metadata": {},
   "outputs": [
    {
     "ename": "StopIteration",
     "evalue": "",
     "output_type": "error",
     "traceback": [
      "\u001b[0;31m---------------------------------------------------------------------------\u001b[0m",
      "\u001b[0;31mStopIteration\u001b[0m                             Traceback (most recent call last)",
      "Cell \u001b[0;32mIn[17], line 1\u001b[0m\n\u001b[0;32m----> 1\u001b[0m \u001b[43mnx\u001b[49m\u001b[38;5;241;43m.\u001b[39;49m\u001b[43mdraw\u001b[49m\u001b[43m(\u001b[49m\u001b[43mmodel\u001b[49m\u001b[43m,\u001b[49m\u001b[43m \u001b[49m\u001b[43mwith_labels\u001b[49m\u001b[38;5;241;43m=\u001b[39;49m\u001b[38;5;28;43;01mTrue\u001b[39;49;00m\u001b[43m)\u001b[49m\n\u001b[1;32m      2\u001b[0m plt\u001b[38;5;241m.\u001b[39mshow()\n\u001b[1;32m      3\u001b[0m plt\u001b[38;5;241m.\u001b[39mclose()\n",
      "File \u001b[0;32m~/.local/lib/python3.10/site-packages/networkx/drawing/nx_pylab.py:121\u001b[0m, in \u001b[0;36mdraw\u001b[0;34m(G, pos, ax, **kwds)\u001b[0m\n\u001b[1;32m    118\u001b[0m \u001b[38;5;28;01mif\u001b[39;00m \u001b[38;5;124m\"\u001b[39m\u001b[38;5;124mwith_labels\u001b[39m\u001b[38;5;124m\"\u001b[39m \u001b[38;5;129;01mnot\u001b[39;00m \u001b[38;5;129;01min\u001b[39;00m kwds:\n\u001b[1;32m    119\u001b[0m     kwds[\u001b[38;5;124m\"\u001b[39m\u001b[38;5;124mwith_labels\u001b[39m\u001b[38;5;124m\"\u001b[39m] \u001b[38;5;241m=\u001b[39m \u001b[38;5;124m\"\u001b[39m\u001b[38;5;124mlabels\u001b[39m\u001b[38;5;124m\"\u001b[39m \u001b[38;5;129;01min\u001b[39;00m kwds\n\u001b[0;32m--> 121\u001b[0m \u001b[43mdraw_networkx\u001b[49m\u001b[43m(\u001b[49m\u001b[43mG\u001b[49m\u001b[43m,\u001b[49m\u001b[43m \u001b[49m\u001b[43mpos\u001b[49m\u001b[38;5;241;43m=\u001b[39;49m\u001b[43mpos\u001b[49m\u001b[43m,\u001b[49m\u001b[43m \u001b[49m\u001b[43max\u001b[49m\u001b[38;5;241;43m=\u001b[39;49m\u001b[43max\u001b[49m\u001b[43m,\u001b[49m\u001b[43m \u001b[49m\u001b[38;5;241;43m*\u001b[39;49m\u001b[38;5;241;43m*\u001b[39;49m\u001b[43mkwds\u001b[49m\u001b[43m)\u001b[49m\n\u001b[1;32m    122\u001b[0m ax\u001b[38;5;241m.\u001b[39mset_axis_off()\n\u001b[1;32m    123\u001b[0m plt\u001b[38;5;241m.\u001b[39mdraw_if_interactive()\n",
      "File \u001b[0;32m~/.local/lib/python3.10/site-packages/networkx/drawing/nx_pylab.py:304\u001b[0m, in \u001b[0;36mdraw_networkx\u001b[0;34m(G, pos, arrows, with_labels, **kwds)\u001b[0m\n\u001b[1;32m    301\u001b[0m     pos \u001b[38;5;241m=\u001b[39m nx\u001b[38;5;241m.\u001b[39mdrawing\u001b[38;5;241m.\u001b[39mspring_layout(G)  \u001b[38;5;66;03m# default to spring layout\u001b[39;00m\n\u001b[1;32m    303\u001b[0m draw_networkx_nodes(G, pos, \u001b[38;5;241m*\u001b[39m\u001b[38;5;241m*\u001b[39mnode_kwds)\n\u001b[0;32m--> 304\u001b[0m \u001b[43mdraw_networkx_edges\u001b[49m\u001b[43m(\u001b[49m\u001b[43mG\u001b[49m\u001b[43m,\u001b[49m\u001b[43m \u001b[49m\u001b[43mpos\u001b[49m\u001b[43m,\u001b[49m\u001b[43m \u001b[49m\u001b[43marrows\u001b[49m\u001b[38;5;241;43m=\u001b[39;49m\u001b[43marrows\u001b[49m\u001b[43m,\u001b[49m\u001b[43m \u001b[49m\u001b[38;5;241;43m*\u001b[39;49m\u001b[38;5;241;43m*\u001b[39;49m\u001b[43medge_kwds\u001b[49m\u001b[43m)\u001b[49m\n\u001b[1;32m    305\u001b[0m \u001b[38;5;28;01mif\u001b[39;00m with_labels:\n\u001b[1;32m    306\u001b[0m     draw_networkx_labels(G, pos, \u001b[38;5;241m*\u001b[39m\u001b[38;5;241m*\u001b[39mlabel_kwds)\n",
      "File \u001b[0;32m~/.local/lib/python3.10/site-packages/networkx/drawing/nx_pylab.py:908\u001b[0m, in \u001b[0;36mdraw_networkx_edges\u001b[0;34m(G, pos, edgelist, width, edge_color, style, alpha, arrowstyle, arrowsize, edge_cmap, edge_vmin, edge_vmax, ax, arrows, label, node_size, nodelist, node_shape, connectionstyle, min_source_margin, min_target_margin)\u001b[0m\n\u001b[1;32m    906\u001b[0m \u001b[38;5;28;01melse\u001b[39;00m:\n\u001b[1;32m    907\u001b[0m     fancy_edges_indices \u001b[38;5;241m=\u001b[39m \u001b[38;5;28mrange\u001b[39m(\u001b[38;5;28mlen\u001b[39m(edgelist))\n\u001b[0;32m--> 908\u001b[0m     edge_viz_obj \u001b[38;5;241m=\u001b[39m \u001b[43m_draw_networkx_edges_fancy_arrow_patch\u001b[49m\u001b[43m(\u001b[49m\u001b[43m)\u001b[49m\n\u001b[1;32m    910\u001b[0m \u001b[38;5;66;03m# update view after drawing\u001b[39;00m\n\u001b[1;32m    911\u001b[0m padx, pady \u001b[38;5;241m=\u001b[39m \u001b[38;5;241m0.05\u001b[39m \u001b[38;5;241m*\u001b[39m w, \u001b[38;5;241m0.05\u001b[39m \u001b[38;5;241m*\u001b[39m h\n",
      "File \u001b[0;32m~/.local/lib/python3.10/site-packages/networkx/drawing/nx_pylab.py:882\u001b[0m, in \u001b[0;36mdraw_networkx_edges.<locals>._draw_networkx_edges_fancy_arrow_patch\u001b[0;34m()\u001b[0m\n\u001b[1;32m    867\u001b[0m     arrow \u001b[38;5;241m=\u001b[39m mpl\u001b[38;5;241m.\u001b[39mpatches\u001b[38;5;241m.\u001b[39mFancyArrowPatch(\n\u001b[1;32m    868\u001b[0m         (x1, y1),\n\u001b[1;32m    869\u001b[0m         (x2, y2),\n\u001b[0;32m   (...)\u001b[0m\n\u001b[1;32m    878\u001b[0m         zorder\u001b[38;5;241m=\u001b[39m\u001b[38;5;241m1\u001b[39m,\n\u001b[1;32m    879\u001b[0m     )  \u001b[38;5;66;03m# arrows go behind nodes\u001b[39;00m\n\u001b[1;32m    881\u001b[0m     arrow_collection\u001b[38;5;241m.\u001b[39mappend(arrow)\n\u001b[0;32m--> 882\u001b[0m     \u001b[43max\u001b[49m\u001b[38;5;241;43m.\u001b[39;49m\u001b[43madd_patch\u001b[49m\u001b[43m(\u001b[49m\u001b[43marrow\u001b[49m\u001b[43m)\u001b[49m\n\u001b[1;32m    884\u001b[0m \u001b[38;5;28;01mreturn\u001b[39;00m arrow_collection\n",
      "File \u001b[0;32m~/.local/lib/python3.10/site-packages/matplotlib/axes/_base.py:2379\u001b[0m, in \u001b[0;36m_AxesBase.add_patch\u001b[0;34m(self, p)\u001b[0m\n\u001b[1;32m   2377\u001b[0m \u001b[38;5;28;01mif\u001b[39;00m p\u001b[38;5;241m.\u001b[39mget_clip_path() \u001b[38;5;129;01mis\u001b[39;00m \u001b[38;5;28;01mNone\u001b[39;00m:\n\u001b[1;32m   2378\u001b[0m     p\u001b[38;5;241m.\u001b[39mset_clip_path(\u001b[38;5;28mself\u001b[39m\u001b[38;5;241m.\u001b[39mpatch)\n\u001b[0;32m-> 2379\u001b[0m \u001b[38;5;28;43mself\u001b[39;49m\u001b[38;5;241;43m.\u001b[39;49m\u001b[43m_update_patch_limits\u001b[49m\u001b[43m(\u001b[49m\u001b[43mp\u001b[49m\u001b[43m)\u001b[49m\n\u001b[1;32m   2380\u001b[0m \u001b[38;5;28mself\u001b[39m\u001b[38;5;241m.\u001b[39m_children\u001b[38;5;241m.\u001b[39mappend(p)\n\u001b[1;32m   2381\u001b[0m p\u001b[38;5;241m.\u001b[39m_remove_method \u001b[38;5;241m=\u001b[39m \u001b[38;5;28mself\u001b[39m\u001b[38;5;241m.\u001b[39m_children\u001b[38;5;241m.\u001b[39mremove\n",
      "File \u001b[0;32m~/.local/lib/python3.10/site-packages/matplotlib/axes/_base.py:2397\u001b[0m, in \u001b[0;36m_AxesBase._update_patch_limits\u001b[0;34m(self, patch)\u001b[0m\n\u001b[1;32m   2394\u001b[0m \u001b[38;5;28;01mif\u001b[39;00m (\u001b[38;5;28misinstance\u001b[39m(patch, mpatches\u001b[38;5;241m.\u001b[39mRectangle) \u001b[38;5;129;01mand\u001b[39;00m\n\u001b[1;32m   2395\u001b[0m         ((\u001b[38;5;129;01mnot\u001b[39;00m patch\u001b[38;5;241m.\u001b[39mget_width()) \u001b[38;5;129;01mand\u001b[39;00m (\u001b[38;5;129;01mnot\u001b[39;00m patch\u001b[38;5;241m.\u001b[39mget_height()))):\n\u001b[1;32m   2396\u001b[0m     \u001b[38;5;28;01mreturn\u001b[39;00m\n\u001b[0;32m-> 2397\u001b[0m p \u001b[38;5;241m=\u001b[39m \u001b[43mpatch\u001b[49m\u001b[38;5;241;43m.\u001b[39;49m\u001b[43mget_path\u001b[49m\u001b[43m(\u001b[49m\u001b[43m)\u001b[49m\n\u001b[1;32m   2398\u001b[0m \u001b[38;5;66;03m# Get all vertices on the path\u001b[39;00m\n\u001b[1;32m   2399\u001b[0m \u001b[38;5;66;03m# Loop through each segment to get extrema for Bezier curve sections\u001b[39;00m\n\u001b[1;32m   2400\u001b[0m vertices \u001b[38;5;241m=\u001b[39m []\n",
      "File \u001b[0;32m~/.local/lib/python3.10/site-packages/matplotlib/patches.py:4317\u001b[0m, in \u001b[0;36mFancyArrowPatch.get_path\u001b[0;34m(self)\u001b[0m\n\u001b[1;32m   4314\u001b[0m \u001b[38;5;250m\u001b[39m\u001b[38;5;124;03m\"\"\"Return the path of the arrow in the data coordinates.\"\"\"\u001b[39;00m\n\u001b[1;32m   4315\u001b[0m \u001b[38;5;66;03m# The path is generated in display coordinates, then converted back to\u001b[39;00m\n\u001b[1;32m   4316\u001b[0m \u001b[38;5;66;03m# data coordinates.\u001b[39;00m\n\u001b[0;32m-> 4317\u001b[0m _path, fillable \u001b[38;5;241m=\u001b[39m \u001b[38;5;28;43mself\u001b[39;49m\u001b[38;5;241;43m.\u001b[39;49m\u001b[43m_get_path_in_displaycoord\u001b[49m\u001b[43m(\u001b[49m\u001b[43m)\u001b[49m\n\u001b[1;32m   4318\u001b[0m \u001b[38;5;28;01mif\u001b[39;00m np\u001b[38;5;241m.\u001b[39miterable(fillable):\n\u001b[1;32m   4319\u001b[0m     _path \u001b[38;5;241m=\u001b[39m Path\u001b[38;5;241m.\u001b[39mmake_compound_path(\u001b[38;5;241m*\u001b[39m_path)\n",
      "File \u001b[0;32m~/.local/lib/python3.10/site-packages/matplotlib/patches.py:4330\u001b[0m, in \u001b[0;36mFancyArrowPatch._get_path_in_displaycoord\u001b[0;34m(self)\u001b[0m\n\u001b[1;32m   4328\u001b[0m     posB \u001b[38;5;241m=\u001b[39m \u001b[38;5;28mself\u001b[39m\u001b[38;5;241m.\u001b[39m_convert_xy_units(\u001b[38;5;28mself\u001b[39m\u001b[38;5;241m.\u001b[39m_posA_posB[\u001b[38;5;241m1\u001b[39m])\n\u001b[1;32m   4329\u001b[0m     (posA, posB) \u001b[38;5;241m=\u001b[39m \u001b[38;5;28mself\u001b[39m\u001b[38;5;241m.\u001b[39mget_transform()\u001b[38;5;241m.\u001b[39mtransform((posA, posB))\n\u001b[0;32m-> 4330\u001b[0m     _path \u001b[38;5;241m=\u001b[39m \u001b[38;5;28;43mself\u001b[39;49m\u001b[38;5;241;43m.\u001b[39;49m\u001b[43mget_connectionstyle\u001b[49m\u001b[43m(\u001b[49m\u001b[43m)\u001b[49m\u001b[43m(\u001b[49m\u001b[43mposA\u001b[49m\u001b[43m,\u001b[49m\u001b[43m \u001b[49m\u001b[43mposB\u001b[49m\u001b[43m,\u001b[49m\n\u001b[1;32m   4331\u001b[0m \u001b[43m                                       \u001b[49m\u001b[43mpatchA\u001b[49m\u001b[38;5;241;43m=\u001b[39;49m\u001b[38;5;28;43mself\u001b[39;49m\u001b[38;5;241;43m.\u001b[39;49m\u001b[43mpatchA\u001b[49m\u001b[43m,\u001b[49m\n\u001b[1;32m   4332\u001b[0m \u001b[43m                                       \u001b[49m\u001b[43mpatchB\u001b[49m\u001b[38;5;241;43m=\u001b[39;49m\u001b[38;5;28;43mself\u001b[39;49m\u001b[38;5;241;43m.\u001b[39;49m\u001b[43mpatchB\u001b[49m\u001b[43m,\u001b[49m\n\u001b[1;32m   4333\u001b[0m \u001b[43m                                       \u001b[49m\u001b[43mshrinkA\u001b[49m\u001b[38;5;241;43m=\u001b[39;49m\u001b[38;5;28;43mself\u001b[39;49m\u001b[38;5;241;43m.\u001b[39;49m\u001b[43mshrinkA\u001b[49m\u001b[43m \u001b[49m\u001b[38;5;241;43m*\u001b[39;49m\u001b[43m \u001b[49m\u001b[43mdpi_cor\u001b[49m\u001b[43m,\u001b[49m\n\u001b[1;32m   4334\u001b[0m \u001b[43m                                       \u001b[49m\u001b[43mshrinkB\u001b[49m\u001b[38;5;241;43m=\u001b[39;49m\u001b[38;5;28;43mself\u001b[39;49m\u001b[38;5;241;43m.\u001b[39;49m\u001b[43mshrinkB\u001b[49m\u001b[43m \u001b[49m\u001b[38;5;241;43m*\u001b[39;49m\u001b[43m \u001b[49m\u001b[43mdpi_cor\u001b[49m\n\u001b[1;32m   4335\u001b[0m \u001b[43m                                       \u001b[49m\u001b[43m)\u001b[49m\n\u001b[1;32m   4336\u001b[0m \u001b[38;5;28;01melse\u001b[39;00m:\n\u001b[1;32m   4337\u001b[0m     _path \u001b[38;5;241m=\u001b[39m \u001b[38;5;28mself\u001b[39m\u001b[38;5;241m.\u001b[39mget_transform()\u001b[38;5;241m.\u001b[39mtransform_path(\u001b[38;5;28mself\u001b[39m\u001b[38;5;241m.\u001b[39m_path_original)\n",
      "File \u001b[0;32m~/.local/lib/python3.10/site-packages/networkx/drawing/nx_pylab.py:809\u001b[0m, in \u001b[0;36mdraw_networkx_edges.<locals>._draw_networkx_edges_fancy_arrow_patch.<locals>._connectionstyle\u001b[0;34m(posA, posB, *args, **kwargs)\u001b[0m\n\u001b[1;32m    806\u001b[0m     ret \u001b[38;5;241m=\u001b[39m mpl\u001b[38;5;241m.\u001b[39mpath\u001b[38;5;241m.\u001b[39mPath(ax\u001b[38;5;241m.\u001b[39mtransData\u001b[38;5;241m.\u001b[39mtransform(path), [\u001b[38;5;241m1\u001b[39m, \u001b[38;5;241m4\u001b[39m, \u001b[38;5;241m4\u001b[39m, \u001b[38;5;241m4\u001b[39m, \u001b[38;5;241m4\u001b[39m, \u001b[38;5;241m4\u001b[39m, \u001b[38;5;241m4\u001b[39m])\n\u001b[1;32m    807\u001b[0m \u001b[38;5;66;03m# if not, fall back to the user specified behavior\u001b[39;00m\n\u001b[1;32m    808\u001b[0m \u001b[38;5;28;01melse\u001b[39;00m:\n\u001b[0;32m--> 809\u001b[0m     ret \u001b[38;5;241m=\u001b[39m \u001b[43mbase_connection_style\u001b[49m\u001b[43m(\u001b[49m\u001b[43mposA\u001b[49m\u001b[43m,\u001b[49m\u001b[43m \u001b[49m\u001b[43mposB\u001b[49m\u001b[43m,\u001b[49m\u001b[43m \u001b[49m\u001b[38;5;241;43m*\u001b[39;49m\u001b[43margs\u001b[49m\u001b[43m,\u001b[49m\u001b[43m \u001b[49m\u001b[38;5;241;43m*\u001b[39;49m\u001b[38;5;241;43m*\u001b[39;49m\u001b[43mkwargs\u001b[49m\u001b[43m)\u001b[49m\n\u001b[1;32m    811\u001b[0m \u001b[38;5;28;01mreturn\u001b[39;00m ret\n",
      "File \u001b[0;32m~/.local/lib/python3.10/site-packages/matplotlib/patches.py:2732\u001b[0m, in \u001b[0;36mConnectionStyle._Base.__call__\u001b[0;34m(self, posA, posB, shrinkA, shrinkB, patchA, patchB)\u001b[0m\n\u001b[1;32m   2726\u001b[0m path \u001b[38;5;241m=\u001b[39m \u001b[38;5;28mself\u001b[39m\u001b[38;5;241m.\u001b[39mconnect(posA, posB)\n\u001b[1;32m   2727\u001b[0m path \u001b[38;5;241m=\u001b[39m \u001b[38;5;28mself\u001b[39m\u001b[38;5;241m.\u001b[39m_clip(\n\u001b[1;32m   2728\u001b[0m     path,\n\u001b[1;32m   2729\u001b[0m     \u001b[38;5;28mself\u001b[39m\u001b[38;5;241m.\u001b[39m_in_patch(patchA) \u001b[38;5;28;01mif\u001b[39;00m patchA \u001b[38;5;28;01melse\u001b[39;00m \u001b[38;5;28;01mNone\u001b[39;00m,\n\u001b[1;32m   2730\u001b[0m     \u001b[38;5;28mself\u001b[39m\u001b[38;5;241m.\u001b[39m_in_patch(patchB) \u001b[38;5;28;01mif\u001b[39;00m patchB \u001b[38;5;28;01melse\u001b[39;00m \u001b[38;5;28;01mNone\u001b[39;00m,\n\u001b[1;32m   2731\u001b[0m )\n\u001b[0;32m-> 2732\u001b[0m path \u001b[38;5;241m=\u001b[39m \u001b[38;5;28;43mself\u001b[39;49m\u001b[38;5;241;43m.\u001b[39;49m\u001b[43m_clip\u001b[49m\u001b[43m(\u001b[49m\n\u001b[1;32m   2733\u001b[0m \u001b[43m    \u001b[49m\u001b[43mpath\u001b[49m\u001b[43m,\u001b[49m\n\u001b[1;32m   2734\u001b[0m \u001b[43m    \u001b[49m\u001b[43minside_circle\u001b[49m\u001b[43m(\u001b[49m\u001b[38;5;241;43m*\u001b[39;49m\u001b[43mpath\u001b[49m\u001b[38;5;241;43m.\u001b[39;49m\u001b[43mvertices\u001b[49m\u001b[43m[\u001b[49m\u001b[38;5;241;43m0\u001b[39;49m\u001b[43m]\u001b[49m\u001b[43m,\u001b[49m\u001b[43m \u001b[49m\u001b[43mshrinkA\u001b[49m\u001b[43m)\u001b[49m\u001b[43m \u001b[49m\u001b[38;5;28;43;01mif\u001b[39;49;00m\u001b[43m \u001b[49m\u001b[43mshrinkA\u001b[49m\u001b[43m \u001b[49m\u001b[38;5;28;43;01melse\u001b[39;49;00m\u001b[43m \u001b[49m\u001b[38;5;28;43;01mNone\u001b[39;49;00m\u001b[43m,\u001b[49m\n\u001b[1;32m   2735\u001b[0m \u001b[43m    \u001b[49m\u001b[43minside_circle\u001b[49m\u001b[43m(\u001b[49m\u001b[38;5;241;43m*\u001b[39;49m\u001b[43mpath\u001b[49m\u001b[38;5;241;43m.\u001b[39;49m\u001b[43mvertices\u001b[49m\u001b[43m[\u001b[49m\u001b[38;5;241;43m-\u001b[39;49m\u001b[38;5;241;43m1\u001b[39;49m\u001b[43m]\u001b[49m\u001b[43m,\u001b[49m\u001b[43m \u001b[49m\u001b[43mshrinkB\u001b[49m\u001b[43m)\u001b[49m\u001b[43m \u001b[49m\u001b[38;5;28;43;01mif\u001b[39;49;00m\u001b[43m \u001b[49m\u001b[43mshrinkB\u001b[49m\u001b[43m \u001b[49m\u001b[38;5;28;43;01melse\u001b[39;49;00m\u001b[43m \u001b[49m\u001b[38;5;28;43;01mNone\u001b[39;49;00m\n\u001b[1;32m   2736\u001b[0m \u001b[43m\u001b[49m\u001b[43m)\u001b[49m\n\u001b[1;32m   2737\u001b[0m \u001b[38;5;28;01mreturn\u001b[39;00m path\n",
      "File \u001b[0;32m~/.local/lib/python3.10/site-packages/matplotlib/patches.py:2710\u001b[0m, in \u001b[0;36mConnectionStyle._Base._clip\u001b[0;34m(self, path, in_start, in_stop)\u001b[0m\n\u001b[1;32m   2708\u001b[0m \u001b[38;5;28;01mif\u001b[39;00m in_start:\n\u001b[1;32m   2709\u001b[0m     \u001b[38;5;28;01mtry\u001b[39;00m:\n\u001b[0;32m-> 2710\u001b[0m         _, path \u001b[38;5;241m=\u001b[39m \u001b[43msplit_path_inout\u001b[49m\u001b[43m(\u001b[49m\u001b[43mpath\u001b[49m\u001b[43m,\u001b[49m\u001b[43m \u001b[49m\u001b[43min_start\u001b[49m\u001b[43m)\u001b[49m\n\u001b[1;32m   2711\u001b[0m     \u001b[38;5;28;01mexcept\u001b[39;00m \u001b[38;5;167;01mValueError\u001b[39;00m:\n\u001b[1;32m   2712\u001b[0m         \u001b[38;5;28;01mpass\u001b[39;00m\n",
      "File \u001b[0;32m~/.local/lib/python3.10/site-packages/matplotlib/bezier.py:351\u001b[0m, in \u001b[0;36msplit_path_inout\u001b[0;34m(path, inside, tolerance, reorder_inout)\u001b[0m\n\u001b[1;32m    348\u001b[0m \u001b[38;5;28;01mfrom\u001b[39;00m \u001b[38;5;21;01m.\u001b[39;00m\u001b[38;5;21;01mpath\u001b[39;00m \u001b[38;5;28;01mimport\u001b[39;00m Path\n\u001b[1;32m    349\u001b[0m path_iter \u001b[38;5;241m=\u001b[39m path\u001b[38;5;241m.\u001b[39miter_segments()\n\u001b[0;32m--> 351\u001b[0m ctl_points, command \u001b[38;5;241m=\u001b[39m \u001b[38;5;28;43mnext\u001b[39;49m\u001b[43m(\u001b[49m\u001b[43mpath_iter\u001b[49m\u001b[43m)\u001b[49m\n\u001b[1;32m    352\u001b[0m begin_inside \u001b[38;5;241m=\u001b[39m inside(ctl_points[\u001b[38;5;241m-\u001b[39m\u001b[38;5;241m2\u001b[39m:])  \u001b[38;5;66;03m# true if begin point is inside\u001b[39;00m\n\u001b[1;32m    354\u001b[0m ctl_points_old \u001b[38;5;241m=\u001b[39m ctl_points\n",
      "\u001b[0;31mStopIteration\u001b[0m: "
     ]
    },
    {
     "data": {
      "image/png": "[encoded data removed]",
      "text/plain": [
       "<Figure size 640x480 with 1 Axes>"
      ]
     },
     "metadata": {},
     "output_type": "display_data"
    }
   ],
   "source": [
    "nx.draw(model, with_labels=True)\n",
    "plt.show()\n",
    "plt.close()"
   ]
  },
  {
   "cell_type": "markdown",
   "id": "e9de73a9",
   "metadata": {},
   "source": [
    "## Step 2: Create the Conditional Probability Distributions of the Bayesian Network (50%)"
   ]
  },
  {
   "cell_type": "markdown",
   "id": "bd3ae2ef",
   "metadata": {},
   "source": [
    "### Step 2.1: Build the probability distribution tables with TabularCPD (46%)"
   ]
  },
  {
   "cell_type": "code",
   "execution_count": null,
   "id": "c350d2fb",
   "metadata": {},
   "outputs": [],
   "source": [
    "#**** define the Conditional Probability Distributions (CPDs)\n",
    "\n",
    "# define CPD for student's intelligence, I\n",
    "#\n",
    "cpd_intelligence = TabularCPD (\n",
    "    # associate the distribution table with a random variable - must be included in the Bayesian model\n",
    "    variable=\"intelligence\",\n",
    "\n",
    "    # define the cardinality of the variable domain, i.e., binary = 2 -> domain = {yes, no} \n",
    "    variable_card=2,\n",
    "    \n",
    "    # define the distribution table \n",
    "    # values are ordered following the domain {high, low}\n",
    "    # e.g., P (intelligence=high) = 0.3; P (intelligence=low) = 0.7 \n",
    "    values=[[0.3], [0.7]] \n",
    ")    \n",
    "\n",
    "# define CPD for module_difficulty, D\n",
    "cpd_module_difficulty = TabularCPD (\n",
    "    variable=\"module_difficulty\",\n",
    "    variable_card=2,\n",
    "    values=[[0.6], [0.4]] # P(module_difficulty=easy) = 0.6, P(module_difficulty=hard)=0.4\n",
    ")\n",
    "\n",
    "# define CPD for health_status, H\n",
    "cpd_health_status = TabularCPD (\n",
    "    variable=\"health_status\",\n",
    "    variable_card=2,\n",
    "    values=[[0.2], [0.8]] # P(health_status=healthy) = 0.8, P(health_status=sick)=0.2\n",
    ")\n",
    "\n",
    "# define CPD for grade, G\n",
    "cpd_grade = TabularCPD (\n",
    "    variable=\"grade\",\n",
    "    variable_card=3,\n",
    "\n",
    "    # define the distribution table \n",
    "    # \n",
    "    # this distrbution table includes values for all the combinations of the values \n",
    "    # held by the variables that condition this variable\n",
    "    #\n",
    "    # intelligence = I, module_difficulty = D, health_status = H, grade = G\n",
    "    # G=A => {[I=low,D=easy,H=healthy],[I=low,D=easy,H=sick],[I=low,D=hard,H=healthy],[I=low,D=hard,H=sick],\n",
    "    #         [I=high,D=easy,H=healthy],[I=high,D=easy,H=sick],[I=high,D=hard,H=healthy],[I=high,D=hard,H=sick]}\n",
    "    # G=B => {[I=low,D=easy,H=healthy],[I=low,D=easy,H=sick],[I=low,D=hard,H=healthy],[I=low,D=hard,H=sick],\n",
    "    #         [I=high,D=easy,H=healthy],[I=high,D=easy,H=sick],[I=high,D=hard,H=healthy],[I=high,D=hard,H=sick]}\n",
    "    # G=C => {[I=low,D=easy,H=healthy],[I=low,D=easy,H=sick],[I=low,D=hard,H=healthy],[I=low,D=hard,H=sick],\n",
    "    #         [I=high,D=easy,H=healthy],[I=high,D=easy,H=sick],[I=high,D=hard,H=healthy],[I=high,D=hard,H=sick]}\n",
    "    # G=A + G=B + G=C = 1 \n",
    "    #    \n",
    "    values=[[1, 1, 0.5, 0], \n",
    "            [0, 0, 0.5, 1]],\n",
    "\n",
    "    # define the evidences - one of the causes must be true \n",
    "    evidence=[\"electricity_failure\", \"computer_malfunction\"],\n",
    "    evidence_card=[2,2]\n",
    ") \n",
    "\n",
    "# define CPD for forum_activity, F\n",
    "cpd_forum_activity = TabularCPD (\n",
    "    variable=\"forum_activity\",\n",
    "    variable_card=2,\n",
    "    values=[[0.25], [0.75]] # P(forum_activity=not_active) = 0.25, P(forum_activity=active)=0.75\n",
    ")"
   ]
  },
  {
   "cell_type": "markdown",
   "id": "9fc20d41",
   "metadata": {},
   "source": [
    "### Step 2.2: Associate the distribution models with the network structure (2%)"
   ]
  },
  {
   "cell_type": "code",
   "execution_count": null,
   "id": "b4241adf",
   "metadata": {},
   "outputs": [],
   "source": [
    "# your code goes here"
   ]
  },
  {
   "cell_type": "markdown",
   "id": "b6b85948",
   "metadata": {},
   "source": [
    "### Step 2.3: Check the model (2%)"
   ]
  },
  {
   "cell_type": "code",
   "execution_count": null,
   "id": "9c60a865",
   "metadata": {},
   "outputs": [],
   "source": [
    "# your code goes here"
   ]
  },
  {
   "cell_type": "markdown",
   "id": "ce96e2a3",
   "metadata": {},
   "source": [
    "## Step 3: Inference with the Bayesian Network (30%)"
   ]
  },
  {
   "cell_type": "markdown",
   "id": "5a52a7fa",
   "metadata": {},
   "source": [
    "### Step 3.1: Infer Posterior Probability of having a grade A if the evidence is a strong recommendation letter (10%)"
   ]
  },
  {
   "cell_type": "code",
   "execution_count": null,
   "id": "06b6fdc3",
   "metadata": {},
   "outputs": [],
   "source": [
    "# your code goes here"
   ]
  },
  {
   "cell_type": "code",
   "execution_count": null,
   "id": "308a9df3",
   "metadata": {},
   "outputs": [],
   "source": [
    "# show the posterior probability results\n",
    "# your code goes here"
   ]
  },
  {
   "cell_type": "markdown",
   "id": "9b258b7f",
   "metadata": {},
   "source": [
    "### Step 3.2: Infer Prior Probability of having a strong recommendation letter with no evidence (10%)"
   ]
  },
  {
   "cell_type": "code",
   "execution_count": null,
   "id": "a1acf2f0",
   "metadata": {},
   "outputs": [],
   "source": [
    "# your code goes here"
   ]
  },
  {
   "cell_type": "code",
   "execution_count": null,
   "id": "98b85fc8",
   "metadata": {},
   "outputs": [],
   "source": [
    "# show the prior probability results\n",
    "# your code goes here"
   ]
  },
  {
   "cell_type": "markdown",
   "id": "f8e8fba0",
   "metadata": {},
   "source": [
    "### Step 3.3: Infer Prior Probability of having a strong recommendation letter with a weak forum activity as a prior evidence (10%)"
   ]
  },
  {
   "cell_type": "code",
   "execution_count": null,
   "id": "806bbe99",
   "metadata": {},
   "outputs": [],
   "source": [
    "# your code goes here"
   ]
  },
  {
   "cell_type": "code",
   "execution_count": null,
   "id": "c403a277",
   "metadata": {},
   "outputs": [],
   "source": [
    "# show the prior probability results\n",
    "# your code goes here"
   ]
  },
  {
   "cell_type": "code",
   "execution_count": null,
   "id": "f0eae6a8",
   "metadata": {},
   "outputs": [],
   "source": []
  }
 ],
 "metadata": {
  "kernelspec": {
   "display_name": "Python 3 (ipykernel)",
   "language": "python",
   "name": "python3"
  },
  "language_info": {
   "codemirror_mode": {
    "name": "ipython",
    "version": 3
   },
   "file_extension": ".py",
   "mimetype": "text/x-python",
   "name": "python",
   "nbconvert_exporter": "python",
   "pygments_lexer": "ipython3",
   "version": "3.10.12"
  }
 },
 "nbformat": 4,
 "nbformat_minor": 5
}
