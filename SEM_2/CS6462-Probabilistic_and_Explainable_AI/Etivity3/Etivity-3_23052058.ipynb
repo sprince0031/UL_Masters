{
 "cells": [
  {
   "cell_type": "markdown",
   "id": "b8e5ed62",
   "metadata": {},
   "source": [
    "<div>\n",
    "<img src=\"https://www.ul.ie/themes/custom/ul/logo.jpg\" width=\"350\"/>\n",
    "</div> \n",
    "\n",
    "# **Artificial Intelligence - MSc**\n",
    "\n",
    "## CS6462 - PROBABILISTIC AND EXPLAINABLE AI \n",
    "## SEM2 2022/3\n",
    "\n",
    "### CS6462 Etivity 3 - Causal Graphical Model vs Bayesian Graphical Model\n",
    "\n",
    "### Instructor: Emil Vassev\n",
    "April 10th, 2023\n",
    "<br><br>\n",
    "Copyright (C) 2023 - All rights reserved, do not copy or distribute without permission of the author.\n",
    "***"
   ]
  },
  {
   "cell_type": "markdown",
   "id": "6c2603d7",
   "metadata": {},
   "source": [
    "## Submission Info\n",
    "### Student Name: Siddharth\n",
    "### Student Surname: Prince\n",
    "### Student ID: 23052058\n",
    "### Date of Final Submission: <span style=\"color:red\">27/04/2024</span>\n",
    "***"
   ]
  },
  {
   "cell_type": "markdown",
   "id": "a2b8d751",
   "metadata": {},
   "source": [
    "## Task\n",
    "In this e-tivity, you are asked to build a Causal Graphical Model by using the <b>causalgraphicalmodels</b> library and do interventions on this model. Then you are asked to build the same model but as a Bayesian Network by using the <b>BayesianNetwork</b> construct of the <b>pgmpy.models</b> library. Both models need to cover a real-life scenario targeting getting late at work. \n",
    "\n",
    "## The real-life scenario\n",
    "\n",
    "Here, you can find a set of random variables X = {X1, X2, ... , X12}:\n",
    "<li>X1 = “late for work”</li> \n",
    "<li>X2 = “low speed due to long vehicle queues”</li> \n",
    "<li>X3 = “traffic jam”</li>\n",
    "<li>X4 = “traffic accident”</li> \n",
    "<li>X5 = “heavy rain”</li>\n",
    "<li>X6 = “snow”</li>\n",
    "<li>X7 = “slippery road”</li> \n",
    "<li>X8 = “getting up late”</li>\n",
    "<li>X9 = “road is blocked”</li>\n",
    "<li>X10 = “taking a longer alternative route”</li> \n",
    "<li>X11 = “car malfunction”</li> \n",
    "<li>X12 = “car towing”</li> \n",
    "\n",
    "Use your logic to build a <b>realistic</b> causal network, which then can be transformed to a Bayesian Network (Causal Bayesian Network). In this network, the parent-child relationships should be deduced based on your logic. You need to use all the random variables.\n",
    "    \n",
    "### Here are the steps you need to follow:"
   ]
  },
  {
   "cell_type": "markdown",
   "id": "a2788722",
   "metadata": {},
   "source": [
    "## Step 1: Create and Execute the Causal Network (50%)"
   ]
  },
  {
   "cell_type": "markdown",
   "id": "6b20db4c",
   "metadata": {},
   "source": [
    "### Step 1.1. Describe your logic of deducing the causal relationships. (10%)\n",
    "Outline the problem in terms of:\n",
    "<li>causal dependencies among the random variables</li>\n",
    "<li>short rationale on the parent-child relationships</li>    \n"
   ]
  },
  {
   "cell_type": "markdown",
   "id": "dc9249ff",
   "metadata": {},
   "source": [
    "Being late to work, X1 seems to be the scenario that all the other scenarios ultimately cause. So that should be the end node. The possible paths along that lead to this with the other random variables (scenarios) are as follows;\n",
    "- **Scenario #1:** traffic accident (X4) -> traffic jam (X3) -> low speed due to long vehicle queues (X2) -> late for work (X1)\n",
    "    - This scenario is when an accident causes an issue with the regular commute and slows one down.\n",
    "- **Scenario #2:** heavy rain (X5)/ snow (X6) -> slippery road (X7) -> low speed due to long vehicle queues (X2) -> late for work (X1)\n",
    "    - Inclement weather is a usual suspect in making one late to work. \n",
    "- **Scenario #3:** getting up late (X8) -> late for work (X1)\n",
    "    - This is self explanatory. If you're late to start your day, you are probably going to be late to work.\n",
    "- **Scenario #4:** traffic accident (X4) -> road is blocked (X9) -> taking a longer alternative route (X10) -> late for work (X1)\n",
    "    - This is a variation of the first scenario where instead of waiting for the congestion to clear up along the regular route, one takes a diversion which also ends up with making them late because it is a longer route.\n",
    "- **Scenario #5:** car malfunction (X11) -> car towing (X12) -> late for work (X1)\n",
    "    - If you are dependent on your car for your commute and it breaks down, you're most definitely going to end up late while you need to take care of the car and find alternate methods of transport."
   ]
  },
  {
   "cell_type": "markdown",
   "id": "ee5b9a4b",
   "metadata": {},
   "source": [
    "### Step 1.2: Create and show the Causal DAG (30%)"
   ]
  },
  {
   "cell_type": "code",
   "execution_count": 1,
   "id": "45bc50ed-f807-4d5d-a313-3a23e4f5d1ca",
   "metadata": {},
   "outputs": [],
   "source": [
    "# To workaround the import error as suggested from the forum thread\n",
    "import collections.abc\n",
    "collections.Iterable = collections.abc.Iterable\n",
    "from collections.abc import Iterable"
   ]
  },
  {
   "cell_type": "code",
   "execution_count": 12,
   "id": "7ed86963",
   "metadata": {},
   "outputs": [],
   "source": [
    "from causalgraphicalmodels import CausalGraphicalModel\n",
    "lateToWork = CausalGraphicalModel(\n",
    "    nodes=['late for work','low speed due to long vehicle queues','traffic jam','traffic accident','heavy rain','snow',\n",
    "           'slippery road','getting up late','road is blocked','taking a longer alternative route','car malfunction','car towing'],\n",
    "    edges=[\n",
    "        ('traffic accident', 'traffic jam'), ('traffic jam', 'low speed due to long vehicle queues'), ('low speed due to long vehicle queues', 'late for work'), # Scenario #1\n",
    "        ('heavy rain', 'slippery road'), ('snow', 'slippery road'), ('slippery road', 'low speed due to long vehicle queues'), ('low speed due to long vehicle queues', 'late for work'), # Scenario #2\n",
    "        ('getting up late', 'late for work'), # Scenario #3\n",
    "        ('traffic accident', 'road is blocked'), ('road is blocked', 'taking a longer alternative route'), ('taking a longer alternative route', 'late for work'), # Scenario #4\n",
    "        ('car malfunction', 'car towing'), ('car towing', 'late for work') # Scenario #5\n",
    "    ]\n",
    ")"
   ]
  },
  {
   "cell_type": "code",
   "execution_count": 13,
   "id": "4a291c51-ecb8-4849-8e67-d5d0ab24c07b",
   "metadata": {},
   "outputs": [
    {
     "data": {
      "image/svg+xml": [
       "<?xml version=\"1.0\" encoding=\"UTF-8\" standalone=\"no\"?>\n",
       "<!DOCTYPE svg PUBLIC \"-//W3C//DTD SVG 1.1//EN\"\n",
       " \"http://www.w3.org/Graphics/SVG/1.1/DTD/svg11.dtd\">\n",
       "<!-- Generated by graphviz version 2.43.0 (0)\n",
       " -->\n",
       "<!-- Title: %3 Pages: 1 -->\n",
       "<svg width=\"1056pt\" height=\"260pt\"\n",
       " viewBox=\"0.00 0.00 1055.68 260.00\" xmlns=\"http://www.w3.org/2000/svg\" xmlns:xlink=\"http://www.w3.org/1999/xlink\">\n",
       "<g id=\"graph0\" class=\"graph\" transform=\"scale(1 1) rotate(0) translate(4 256)\">\n",
       "<title>%3</title>\n",
       "<polygon fill=\"white\" stroke=\"transparent\" points=\"-4,4 -4,-256 1051.68,-256 1051.68,4 -4,4\"/>\n",
       "<!-- road is blocked -->\n",
       "<g id=\"node1\" class=\"node\">\n",
       "<title>road is blocked</title>\n",
       "<ellipse fill=\"none\" stroke=\"black\" cx=\"870.19\" cy=\"-162\" rx=\"81.49\" ry=\"18\"/>\n",
       "<text text-anchor=\"middle\" x=\"870.19\" y=\"-158.3\" font-family=\"Times,serif\" font-size=\"14.00\">road is blocked</text>\n",
       "</g>\n",
       "<!-- taking a longer alternative route -->\n",
       "<g id=\"node5\" class=\"node\">\n",
       "<title>taking a longer alternative route</title>\n",
       "<ellipse fill=\"none\" stroke=\"black\" cx=\"885.19\" cy=\"-90\" rx=\"162.47\" ry=\"18\"/>\n",
       "<text text-anchor=\"middle\" x=\"885.19\" y=\"-86.3\" font-family=\"Times,serif\" font-size=\"14.00\">taking a longer alternative route</text>\n",
       "</g>\n",
       "<!-- road is blocked&#45;&gt;taking a longer alternative route -->\n",
       "<g id=\"edge9\" class=\"edge\">\n",
       "<title>road is blocked&#45;&gt;taking a longer alternative route</title>\n",
       "<path fill=\"none\" stroke=\"black\" d=\"M873.9,-143.7C875.55,-135.98 877.54,-126.71 879.38,-118.11\"/>\n",
       "<polygon fill=\"black\" stroke=\"black\" points=\"882.85,-118.62 881.53,-108.1 876.01,-117.15 882.85,-118.62\"/>\n",
       "</g>\n",
       "<!-- late for work -->\n",
       "<g id=\"node2\" class=\"node\">\n",
       "<title>late for work</title>\n",
       "<ellipse fill=\"none\" stroke=\"black\" cx=\"380.19\" cy=\"-18\" rx=\"70.39\" ry=\"18\"/>\n",
       "<text text-anchor=\"middle\" x=\"380.19\" y=\"-14.3\" font-family=\"Times,serif\" font-size=\"14.00\">late for work</text>\n",
       "</g>\n",
       "<!-- snow -->\n",
       "<g id=\"node3\" class=\"node\">\n",
       "<title>snow</title>\n",
       "<ellipse fill=\"none\" stroke=\"black\" cx=\"465.19\" cy=\"-234\" rx=\"34.39\" ry=\"18\"/>\n",
       "<text text-anchor=\"middle\" x=\"465.19\" y=\"-230.3\" font-family=\"Times,serif\" font-size=\"14.00\">snow</text>\n",
       "</g>\n",
       "<!-- slippery road -->\n",
       "<g id=\"node6\" class=\"node\">\n",
       "<title>slippery road</title>\n",
       "<ellipse fill=\"none\" stroke=\"black\" cx=\"521.19\" cy=\"-162\" rx=\"72.29\" ry=\"18\"/>\n",
       "<text text-anchor=\"middle\" x=\"521.19\" y=\"-158.3\" font-family=\"Times,serif\" font-size=\"14.00\">slippery road</text>\n",
       "</g>\n",
       "<!-- snow&#45;&gt;slippery road -->\n",
       "<g id=\"edge6\" class=\"edge\">\n",
       "<title>snow&#45;&gt;slippery road</title>\n",
       "<path fill=\"none\" stroke=\"black\" d=\"M477.9,-217.12C484.86,-208.42 493.63,-197.45 501.46,-187.66\"/>\n",
       "<polygon fill=\"black\" stroke=\"black\" points=\"504.24,-189.79 507.75,-179.8 498.77,-185.42 504.24,-189.79\"/>\n",
       "</g>\n",
       "<!-- car towing -->\n",
       "<g id=\"node4\" class=\"node\">\n",
       "<title>car towing</title>\n",
       "<ellipse fill=\"none\" stroke=\"black\" cx=\"83.19\" cy=\"-90\" rx=\"59.59\" ry=\"18\"/>\n",
       "<text text-anchor=\"middle\" x=\"83.19\" y=\"-86.3\" font-family=\"Times,serif\" font-size=\"14.00\">car towing</text>\n",
       "</g>\n",
       "<!-- car towing&#45;&gt;late for work -->\n",
       "<g id=\"edge12\" class=\"edge\">\n",
       "<title>car towing&#45;&gt;late for work</title>\n",
       "<path fill=\"none\" stroke=\"black\" d=\"M127.71,-77.94C135.85,-75.94 144.27,-73.9 152.19,-72 208.9,-58.42 273.65,-43.42 319.63,-32.85\"/>\n",
       "<polygon fill=\"black\" stroke=\"black\" points=\"320.47,-36.25 329.44,-30.6 318.91,-29.42 320.47,-36.25\"/>\n",
       "</g>\n",
       "<!-- taking a longer alternative route&#45;&gt;late for work -->\n",
       "<g id=\"edge10\" class=\"edge\">\n",
       "<title>taking a longer alternative route&#45;&gt;late for work</title>\n",
       "<path fill=\"none\" stroke=\"black\" d=\"M788.12,-75.54C689.32,-61.85 538.56,-40.95 450.65,-28.77\"/>\n",
       "<polygon fill=\"black\" stroke=\"black\" points=\"450.89,-25.27 440.51,-27.36 449.93,-32.2 450.89,-25.27\"/>\n",
       "</g>\n",
       "<!-- low speed due to long vehicle queues -->\n",
       "<g id=\"node11\" class=\"node\">\n",
       "<title>low speed due to long vehicle queues</title>\n",
       "<ellipse fill=\"none\" stroke=\"black\" cx=\"521.19\" cy=\"-90\" rx=\"183.87\" ry=\"18\"/>\n",
       "<text text-anchor=\"middle\" x=\"521.19\" y=\"-86.3\" font-family=\"Times,serif\" font-size=\"14.00\">low speed due to long vehicle queues</text>\n",
       "</g>\n",
       "<!-- slippery road&#45;&gt;low speed due to long vehicle queues -->\n",
       "<g id=\"edge7\" class=\"edge\">\n",
       "<title>slippery road&#45;&gt;low speed due to long vehicle queues</title>\n",
       "<path fill=\"none\" stroke=\"black\" d=\"M521.19,-143.7C521.19,-135.98 521.19,-126.71 521.19,-118.11\"/>\n",
       "<polygon fill=\"black\" stroke=\"black\" points=\"524.69,-118.1 521.19,-108.1 517.69,-118.1 524.69,-118.1\"/>\n",
       "</g>\n",
       "<!-- traffic jam -->\n",
       "<g id=\"node7\" class=\"node\">\n",
       "<title>traffic jam</title>\n",
       "<ellipse fill=\"none\" stroke=\"black\" cx=\"684.19\" cy=\"-162\" rx=\"58.49\" ry=\"18\"/>\n",
       "<text text-anchor=\"middle\" x=\"684.19\" y=\"-158.3\" font-family=\"Times,serif\" font-size=\"14.00\">traffic jam</text>\n",
       "</g>\n",
       "<!-- traffic jam&#45;&gt;low speed due to long vehicle queues -->\n",
       "<g id=\"edge2\" class=\"edge\">\n",
       "<title>traffic jam&#45;&gt;low speed due to long vehicle queues</title>\n",
       "<path fill=\"none\" stroke=\"black\" d=\"M651.6,-147C628.1,-136.91 595.99,-123.12 569.52,-111.75\"/>\n",
       "<polygon fill=\"black\" stroke=\"black\" points=\"570.61,-108.41 560.04,-107.68 567.85,-114.85 570.61,-108.41\"/>\n",
       "</g>\n",
       "<!-- getting up late -->\n",
       "<g id=\"node8\" class=\"node\">\n",
       "<title>getting up late</title>\n",
       "<ellipse fill=\"none\" stroke=\"black\" cx=\"240.19\" cy=\"-90\" rx=\"79.09\" ry=\"18\"/>\n",
       "<text text-anchor=\"middle\" x=\"240.19\" y=\"-86.3\" font-family=\"Times,serif\" font-size=\"14.00\">getting up late</text>\n",
       "</g>\n",
       "<!-- getting up late&#45;&gt;late for work -->\n",
       "<g id=\"edge8\" class=\"edge\">\n",
       "<title>getting up late&#45;&gt;late for work</title>\n",
       "<path fill=\"none\" stroke=\"black\" d=\"M271.61,-73.29C291.93,-63.13 318.55,-49.82 340.35,-38.92\"/>\n",
       "<polygon fill=\"black\" stroke=\"black\" points=\"341.98,-42.02 349.36,-34.42 338.85,-35.76 341.98,-42.02\"/>\n",
       "</g>\n",
       "<!-- traffic accident -->\n",
       "<g id=\"node9\" class=\"node\">\n",
       "<title>traffic accident</title>\n",
       "<ellipse fill=\"none\" stroke=\"black\" cx=\"809.19\" cy=\"-234\" rx=\"80.69\" ry=\"18\"/>\n",
       "<text text-anchor=\"middle\" x=\"809.19\" y=\"-230.3\" font-family=\"Times,serif\" font-size=\"14.00\">traffic accident</text>\n",
       "</g>\n",
       "<!-- traffic accident&#45;&gt;road is blocked -->\n",
       "<g id=\"edge4\" class=\"edge\">\n",
       "<title>traffic accident&#45;&gt;road is blocked</title>\n",
       "<path fill=\"none\" stroke=\"black\" d=\"M823.96,-216.05C831.45,-207.46 840.69,-196.86 848.93,-187.4\"/>\n",
       "<polygon fill=\"black\" stroke=\"black\" points=\"851.63,-189.63 855.56,-179.79 846.35,-185.03 851.63,-189.63\"/>\n",
       "</g>\n",
       "<!-- traffic accident&#45;&gt;traffic jam -->\n",
       "<g id=\"edge3\" class=\"edge\">\n",
       "<title>traffic accident&#45;&gt;traffic jam</title>\n",
       "<path fill=\"none\" stroke=\"black\" d=\"M780.83,-217.12C762.79,-207.02 739.29,-193.86 719.98,-183.04\"/>\n",
       "<polygon fill=\"black\" stroke=\"black\" points=\"721.59,-179.93 711.16,-178.1 718.17,-186.04 721.59,-179.93\"/>\n",
       "</g>\n",
       "<!-- heavy rain -->\n",
       "<g id=\"node10\" class=\"node\">\n",
       "<title>heavy rain</title>\n",
       "<ellipse fill=\"none\" stroke=\"black\" cx=\"577.19\" cy=\"-234\" rx=\"59.59\" ry=\"18\"/>\n",
       "<text text-anchor=\"middle\" x=\"577.19\" y=\"-230.3\" font-family=\"Times,serif\" font-size=\"14.00\">heavy rain</text>\n",
       "</g>\n",
       "<!-- heavy rain&#45;&gt;slippery road -->\n",
       "<g id=\"edge5\" class=\"edge\">\n",
       "<title>heavy rain&#45;&gt;slippery road</title>\n",
       "<path fill=\"none\" stroke=\"black\" d=\"M563.92,-216.41C557.12,-207.91 548.69,-197.37 541.12,-187.91\"/>\n",
       "<polygon fill=\"black\" stroke=\"black\" points=\"543.74,-185.58 534.76,-179.96 538.27,-189.95 543.74,-185.58\"/>\n",
       "</g>\n",
       "<!-- low speed due to long vehicle queues&#45;&gt;late for work -->\n",
       "<g id=\"edge1\" class=\"edge\">\n",
       "<title>low speed due to long vehicle queues&#45;&gt;late for work</title>\n",
       "<path fill=\"none\" stroke=\"black\" d=\"M487.42,-72.23C467.26,-62.23 441.55,-49.46 420.36,-38.94\"/>\n",
       "<polygon fill=\"black\" stroke=\"black\" points=\"421.79,-35.75 411.28,-34.43 418.68,-42.02 421.79,-35.75\"/>\n",
       "</g>\n",
       "<!-- car malfunction -->\n",
       "<g id=\"node12\" class=\"node\">\n",
       "<title>car malfunction</title>\n",
       "<ellipse fill=\"none\" stroke=\"black\" cx=\"83.19\" cy=\"-162\" rx=\"83.39\" ry=\"18\"/>\n",
       "<text text-anchor=\"middle\" x=\"83.19\" y=\"-158.3\" font-family=\"Times,serif\" font-size=\"14.00\">car malfunction</text>\n",
       "</g>\n",
       "<!-- car malfunction&#45;&gt;car towing -->\n",
       "<g id=\"edge11\" class=\"edge\">\n",
       "<title>car malfunction&#45;&gt;car towing</title>\n",
       "<path fill=\"none\" stroke=\"black\" d=\"M83.19,-143.7C83.19,-135.98 83.19,-126.71 83.19,-118.11\"/>\n",
       "<polygon fill=\"black\" stroke=\"black\" points=\"86.69,-118.1 83.19,-108.1 79.69,-118.1 86.69,-118.1\"/>\n",
       "</g>\n",
       "</g>\n",
       "</svg>\n"
      ],
      "text/plain": [
       "<graphviz.graphs.Digraph at 0x75cc0816bf70>"
      ]
     },
     "execution_count": 13,
     "metadata": {},
     "output_type": "execute_result"
    }
   ],
   "source": [
    "# Plotting the causal DAG\n",
    "lateToWork.draw()"
   ]
  },
  {
   "cell_type": "markdown",
   "id": "e04a7336-de3e-4b36-9ffc-f3df9fc75efc",
   "metadata": {},
   "source": [
    "The above DAG has all the scenarios spelt out. Let's create another causal graph model with all the corresponding X variables names so that it is represented concisely which we will use from here on out."
   ]
  },
  {
   "cell_type": "code",
   "execution_count": 15,
   "id": "ea1eada8-cd25-4256-a4ec-4cbd12e37ef3",
   "metadata": {},
   "outputs": [],
   "source": [
    "lateToWorkX = CausalGraphicalModel(\n",
    "    nodes=['X1','X2','X3','X4','X5','X6','X7','X8','X9','X10','X11','X12'],\n",
    "    edges=[\n",
    "        ('X4', 'X3'), ('X3', 'X2'), ('X2', 'X1'), # Scenario #1\n",
    "        ('X5', 'X7'), ('X6', 'X7'), ('X7', 'X2'), ('X2', 'X1'), # Scenario #2\n",
    "        ('X8', 'X1'), # Scenario #3\n",
    "        ('X4', 'X9'), ('X9', 'X10'), ('X10', 'X1'), # Scenario #4\n",
    "        ('X11', 'X12'), ('X12', 'X1') # Scenario #5\n",
    "    ]\n",
    ")"
   ]
  },
  {
   "cell_type": "code",
   "execution_count": 16,
   "id": "e9300b6d-c63f-40d4-b5c4-c4fcce683e89",
   "metadata": {},
   "outputs": [
    {
     "data": {
      "image/svg+xml": [
       "<?xml version=\"1.0\" encoding=\"UTF-8\" standalone=\"no\"?>\n",
       "<!DOCTYPE svg PUBLIC \"-//W3C//DTD SVG 1.1//EN\"\n",
       " \"http://www.w3.org/Graphics/SVG/1.1/DTD/svg11.dtd\">\n",
       "<!-- Generated by graphviz version 2.43.0 (0)\n",
       " -->\n",
       "<!-- Title: %3 Pages: 1 -->\n",
       "<svg width=\"285pt\" height=\"260pt\"\n",
       " viewBox=\"0.00 0.00 285.19 260.00\" xmlns=\"http://www.w3.org/2000/svg\" xmlns:xlink=\"http://www.w3.org/1999/xlink\">\n",
       "<g id=\"graph0\" class=\"graph\" transform=\"scale(1 1) rotate(0) translate(4 256)\">\n",
       "<title>%3</title>\n",
       "<polygon fill=\"white\" stroke=\"transparent\" points=\"-4,4 -4,-256 281.19,-256 281.19,4 -4,4\"/>\n",
       "<!-- X4 -->\n",
       "<g id=\"node1\" class=\"node\">\n",
       "<title>X4</title>\n",
       "<ellipse fill=\"none\" stroke=\"black\" cx=\"64.6\" cy=\"-234\" rx=\"27\" ry=\"18\"/>\n",
       "<text text-anchor=\"middle\" x=\"64.6\" y=\"-230.3\" font-family=\"Times,serif\" font-size=\"14.00\">X4</text>\n",
       "</g>\n",
       "<!-- X9 -->\n",
       "<g id=\"node9\" class=\"node\">\n",
       "<title>X9</title>\n",
       "<ellipse fill=\"none\" stroke=\"black\" cx=\"28.6\" cy=\"-162\" rx=\"27\" ry=\"18\"/>\n",
       "<text text-anchor=\"middle\" x=\"28.6\" y=\"-158.3\" font-family=\"Times,serif\" font-size=\"14.00\">X9</text>\n",
       "</g>\n",
       "<!-- X4&#45;&gt;X9 -->\n",
       "<g id=\"edge4\" class=\"edge\">\n",
       "<title>X4&#45;&gt;X9</title>\n",
       "<path fill=\"none\" stroke=\"black\" d=\"M56.25,-216.76C51.89,-208.28 46.45,-197.71 41.56,-188.2\"/>\n",
       "<polygon fill=\"black\" stroke=\"black\" points=\"44.59,-186.44 36.9,-179.15 38.36,-189.64 44.59,-186.44\"/>\n",
       "</g>\n",
       "<!-- X3 -->\n",
       "<g id=\"node11\" class=\"node\">\n",
       "<title>X3</title>\n",
       "<ellipse fill=\"none\" stroke=\"black\" cx=\"100.6\" cy=\"-162\" rx=\"27\" ry=\"18\"/>\n",
       "<text text-anchor=\"middle\" x=\"100.6\" y=\"-158.3\" font-family=\"Times,serif\" font-size=\"14.00\">X3</text>\n",
       "</g>\n",
       "<!-- X4&#45;&gt;X3 -->\n",
       "<g id=\"edge3\" class=\"edge\">\n",
       "<title>X4&#45;&gt;X3</title>\n",
       "<path fill=\"none\" stroke=\"black\" d=\"M72.95,-216.76C77.31,-208.28 82.74,-197.71 87.64,-188.2\"/>\n",
       "<polygon fill=\"black\" stroke=\"black\" points=\"90.83,-189.64 92.29,-179.15 84.61,-186.44 90.83,-189.64\"/>\n",
       "</g>\n",
       "<!-- X6 -->\n",
       "<g id=\"node2\" class=\"node\">\n",
       "<title>X6</title>\n",
       "<ellipse fill=\"none\" stroke=\"black\" cx=\"136.6\" cy=\"-234\" rx=\"27\" ry=\"18\"/>\n",
       "<text text-anchor=\"middle\" x=\"136.6\" y=\"-230.3\" font-family=\"Times,serif\" font-size=\"14.00\">X6</text>\n",
       "</g>\n",
       "<!-- X7 -->\n",
       "<g id=\"node6\" class=\"node\">\n",
       "<title>X7</title>\n",
       "<ellipse fill=\"none\" stroke=\"black\" cx=\"172.6\" cy=\"-162\" rx=\"27\" ry=\"18\"/>\n",
       "<text text-anchor=\"middle\" x=\"172.6\" y=\"-158.3\" font-family=\"Times,serif\" font-size=\"14.00\">X7</text>\n",
       "</g>\n",
       "<!-- X6&#45;&gt;X7 -->\n",
       "<g id=\"edge6\" class=\"edge\">\n",
       "<title>X6&#45;&gt;X7</title>\n",
       "<path fill=\"none\" stroke=\"black\" d=\"M144.95,-216.76C149.31,-208.28 154.74,-197.71 159.64,-188.2\"/>\n",
       "<polygon fill=\"black\" stroke=\"black\" points=\"162.83,-189.64 164.29,-179.15 156.61,-186.44 162.83,-189.64\"/>\n",
       "</g>\n",
       "<!-- X10 -->\n",
       "<g id=\"node3\" class=\"node\">\n",
       "<title>X10</title>\n",
       "<ellipse fill=\"none\" stroke=\"black\" cx=\"28.6\" cy=\"-90\" rx=\"28.7\" ry=\"18\"/>\n",
       "<text text-anchor=\"middle\" x=\"28.6\" y=\"-86.3\" font-family=\"Times,serif\" font-size=\"14.00\">X10</text>\n",
       "</g>\n",
       "<!-- X1 -->\n",
       "<g id=\"node5\" class=\"node\">\n",
       "<title>X1</title>\n",
       "<ellipse fill=\"none\" stroke=\"black\" cx=\"138.6\" cy=\"-18\" rx=\"27\" ry=\"18\"/>\n",
       "<text text-anchor=\"middle\" x=\"138.6\" y=\"-14.3\" font-family=\"Times,serif\" font-size=\"14.00\">X1</text>\n",
       "</g>\n",
       "<!-- X10&#45;&gt;X1 -->\n",
       "<g id=\"edge10\" class=\"edge\">\n",
       "<title>X10&#45;&gt;X1</title>\n",
       "<path fill=\"none\" stroke=\"black\" d=\"M48.01,-76.65C65.55,-65.48 91.56,-48.93 111.22,-36.42\"/>\n",
       "<polygon fill=\"black\" stroke=\"black\" points=\"113.19,-39.32 119.75,-31 109.43,-33.41 113.19,-39.32\"/>\n",
       "</g>\n",
       "<!-- X5 -->\n",
       "<g id=\"node4\" class=\"node\">\n",
       "<title>X5</title>\n",
       "<ellipse fill=\"none\" stroke=\"black\" cx=\"208.6\" cy=\"-234\" rx=\"27\" ry=\"18\"/>\n",
       "<text text-anchor=\"middle\" x=\"208.6\" y=\"-230.3\" font-family=\"Times,serif\" font-size=\"14.00\">X5</text>\n",
       "</g>\n",
       "<!-- X5&#45;&gt;X7 -->\n",
       "<g id=\"edge5\" class=\"edge\">\n",
       "<title>X5&#45;&gt;X7</title>\n",
       "<path fill=\"none\" stroke=\"black\" d=\"M200.25,-216.76C195.89,-208.28 190.45,-197.71 185.56,-188.2\"/>\n",
       "<polygon fill=\"black\" stroke=\"black\" points=\"188.59,-186.44 180.9,-179.15 182.36,-189.64 188.59,-186.44\"/>\n",
       "</g>\n",
       "<!-- X2 -->\n",
       "<g id=\"node12\" class=\"node\">\n",
       "<title>X2</title>\n",
       "<ellipse fill=\"none\" stroke=\"black\" cx=\"102.6\" cy=\"-90\" rx=\"27\" ry=\"18\"/>\n",
       "<text text-anchor=\"middle\" x=\"102.6\" y=\"-86.3\" font-family=\"Times,serif\" font-size=\"14.00\">X2</text>\n",
       "</g>\n",
       "<!-- X7&#45;&gt;X2 -->\n",
       "<g id=\"edge7\" class=\"edge\">\n",
       "<title>X7&#45;&gt;X2</title>\n",
       "<path fill=\"none\" stroke=\"black\" d=\"M158.09,-146.5C148.33,-136.73 135.29,-123.69 124.3,-112.7\"/>\n",
       "<polygon fill=\"black\" stroke=\"black\" points=\"126.63,-110.08 117.08,-105.49 121.68,-115.03 126.63,-110.08\"/>\n",
       "</g>\n",
       "<!-- X11 -->\n",
       "<g id=\"node7\" class=\"node\">\n",
       "<title>X11</title>\n",
       "<ellipse fill=\"none\" stroke=\"black\" cx=\"248.6\" cy=\"-162\" rx=\"28.7\" ry=\"18\"/>\n",
       "<text text-anchor=\"middle\" x=\"248.6\" y=\"-158.3\" font-family=\"Times,serif\" font-size=\"14.00\">X11</text>\n",
       "</g>\n",
       "<!-- X12 -->\n",
       "<g id=\"node10\" class=\"node\">\n",
       "<title>X12</title>\n",
       "<ellipse fill=\"none\" stroke=\"black\" cx=\"248.6\" cy=\"-90\" rx=\"28.7\" ry=\"18\"/>\n",
       "<text text-anchor=\"middle\" x=\"248.6\" y=\"-86.3\" font-family=\"Times,serif\" font-size=\"14.00\">X12</text>\n",
       "</g>\n",
       "<!-- X11&#45;&gt;X12 -->\n",
       "<g id=\"edge11\" class=\"edge\">\n",
       "<title>X11&#45;&gt;X12</title>\n",
       "<path fill=\"none\" stroke=\"black\" d=\"M248.6,-143.7C248.6,-135.98 248.6,-126.71 248.6,-118.11\"/>\n",
       "<polygon fill=\"black\" stroke=\"black\" points=\"252.1,-118.1 248.6,-108.1 245.1,-118.1 252.1,-118.1\"/>\n",
       "</g>\n",
       "<!-- X8 -->\n",
       "<g id=\"node8\" class=\"node\">\n",
       "<title>X8</title>\n",
       "<ellipse fill=\"none\" stroke=\"black\" cx=\"174.6\" cy=\"-90\" rx=\"27\" ry=\"18\"/>\n",
       "<text text-anchor=\"middle\" x=\"174.6\" y=\"-86.3\" font-family=\"Times,serif\" font-size=\"14.00\">X8</text>\n",
       "</g>\n",
       "<!-- X8&#45;&gt;X1 -->\n",
       "<g id=\"edge8\" class=\"edge\">\n",
       "<title>X8&#45;&gt;X1</title>\n",
       "<path fill=\"none\" stroke=\"black\" d=\"M166.25,-72.76C161.89,-64.28 156.45,-53.71 151.56,-44.2\"/>\n",
       "<polygon fill=\"black\" stroke=\"black\" points=\"154.59,-42.44 146.9,-35.15 148.36,-45.64 154.59,-42.44\"/>\n",
       "</g>\n",
       "<!-- X9&#45;&gt;X10 -->\n",
       "<g id=\"edge9\" class=\"edge\">\n",
       "<title>X9&#45;&gt;X10</title>\n",
       "<path fill=\"none\" stroke=\"black\" d=\"M28.6,-143.7C28.6,-135.98 28.6,-126.71 28.6,-118.11\"/>\n",
       "<polygon fill=\"black\" stroke=\"black\" points=\"32.1,-118.1 28.6,-108.1 25.1,-118.1 32.1,-118.1\"/>\n",
       "</g>\n",
       "<!-- X12&#45;&gt;X1 -->\n",
       "<g id=\"edge12\" class=\"edge\">\n",
       "<title>X12&#45;&gt;X1</title>\n",
       "<path fill=\"none\" stroke=\"black\" d=\"M229.18,-76.65C211.64,-65.48 185.63,-48.93 165.98,-36.42\"/>\n",
       "<polygon fill=\"black\" stroke=\"black\" points=\"167.76,-33.41 157.45,-31 164.01,-39.32 167.76,-33.41\"/>\n",
       "</g>\n",
       "<!-- X3&#45;&gt;X2 -->\n",
       "<g id=\"edge2\" class=\"edge\">\n",
       "<title>X3&#45;&gt;X2</title>\n",
       "<path fill=\"none\" stroke=\"black\" d=\"M101.09,-143.7C101.31,-135.98 101.58,-126.71 101.82,-118.11\"/>\n",
       "<polygon fill=\"black\" stroke=\"black\" points=\"105.32,-118.2 102.11,-108.1 98.32,-118 105.32,-118.2\"/>\n",
       "</g>\n",
       "<!-- X2&#45;&gt;X1 -->\n",
       "<g id=\"edge1\" class=\"edge\">\n",
       "<title>X2&#45;&gt;X1</title>\n",
       "<path fill=\"none\" stroke=\"black\" d=\"M110.95,-72.76C115.31,-64.28 120.74,-53.71 125.64,-44.2\"/>\n",
       "<polygon fill=\"black\" stroke=\"black\" points=\"128.83,-45.64 130.29,-35.15 122.61,-42.44 128.83,-45.64\"/>\n",
       "</g>\n",
       "</g>\n",
       "</svg>\n"
      ],
      "text/plain": [
       "<graphviz.graphs.Digraph at 0x75cc083cfa90>"
      ]
     },
     "execution_count": 16,
     "metadata": {},
     "output_type": "execute_result"
    }
   ],
   "source": [
    "# Plotting the causal DAG\n",
    "lateToWorkX.draw()"
   ]
  },
  {
   "cell_type": "markdown",
   "id": "c0ecd215",
   "metadata": {},
   "source": [
    "### Step 1.3: Show the Joint Distibution of the Causal Network (1%)"
   ]
  },
  {
   "cell_type": "code",
   "execution_count": 18,
   "id": "db48a940",
   "metadata": {},
   "outputs": [
    {
     "name": "stdout",
     "output_type": "stream",
     "text": [
      "P(X4)P(X5)P(X6)P(X8)P(X11)P(X3|X4)P(X9|X4)P(X7|X5,X6)P(X12|X11)P(X10|X9)P(X2|X3,X7)P(X1|X2,X8,X10,X12)\n"
     ]
    }
   ],
   "source": [
    "print(lateToWorkX.get_distribution())"
   ]
  },
  {
   "cell_type": "markdown",
   "id": "f33fdb51",
   "metadata": {},
   "source": [
    "### Step 1.4: Run the intervention do(“road is blocked”) (7%)"
   ]
  },
  {
   "cell_type": "code",
   "execution_count": 21,
   "id": "047e9c72",
   "metadata": {},
   "outputs": [
    {
     "data": {
      "text/plain": [
       "CausalGraphicalModel(X1, X10, X11, X12, X2, X3, X4, X5, X6, X7, X8, X9)"
      ]
     },
     "execution_count": 21,
     "metadata": {},
     "output_type": "execute_result"
    }
   ],
   "source": [
    "# Running the intervention do(\"road is blocked\")\n",
    "x9_do = lateToWorkX.do('X9') # X9 = road is blocked\n",
    "x9_do"
   ]
  },
  {
   "cell_type": "markdown",
   "id": "c4a839dc",
   "metadata": {},
   "source": [
    "### Step 1.5: Show the Causal DAG with the intervention \"on\" (1%)"
   ]
  },
  {
   "cell_type": "code",
   "execution_count": 22,
   "id": "cd305a3b",
   "metadata": {},
   "outputs": [
    {
     "data": {
      "image/svg+xml": [
       "<?xml version=\"1.0\" encoding=\"UTF-8\" standalone=\"no\"?>\n",
       "<!DOCTYPE svg PUBLIC \"-//W3C//DTD SVG 1.1//EN\"\n",
       " \"http://www.w3.org/Graphics/SVG/1.1/DTD/svg11.dtd\">\n",
       "<!-- Generated by graphviz version 2.43.0 (0)\n",
       " -->\n",
       "<!-- Title: %3 Pages: 1 -->\n",
       "<svg width=\"359pt\" height=\"268pt\"\n",
       " viewBox=\"0.00 0.00 358.60 268.00\" xmlns=\"http://www.w3.org/2000/svg\" xmlns:xlink=\"http://www.w3.org/1999/xlink\">\n",
       "<g id=\"graph0\" class=\"graph\" transform=\"scale(1 1) rotate(0) translate(4 264)\">\n",
       "<title>%3</title>\n",
       "<polygon fill=\"white\" stroke=\"transparent\" points=\"-4,4 -4,-264 354.6,-264 354.6,4 -4,4\"/>\n",
       "<!-- X4 -->\n",
       "<g id=\"node1\" class=\"node\">\n",
       "<title>X4</title>\n",
       "<ellipse fill=\"none\" stroke=\"black\" cx=\"27\" cy=\"-242\" rx=\"27\" ry=\"18\"/>\n",
       "<text text-anchor=\"middle\" x=\"27\" y=\"-238.3\" font-family=\"Times,serif\" font-size=\"14.00\">X4</text>\n",
       "</g>\n",
       "<!-- X3 -->\n",
       "<g id=\"node11\" class=\"node\">\n",
       "<title>X3</title>\n",
       "<ellipse fill=\"none\" stroke=\"black\" cx=\"27\" cy=\"-166\" rx=\"27\" ry=\"18\"/>\n",
       "<text text-anchor=\"middle\" x=\"27\" y=\"-162.3\" font-family=\"Times,serif\" font-size=\"14.00\">X3</text>\n",
       "</g>\n",
       "<!-- X4&#45;&gt;X3 -->\n",
       "<g id=\"edge1\" class=\"edge\">\n",
       "<title>X4&#45;&gt;X3</title>\n",
       "<path fill=\"none\" stroke=\"black\" d=\"M27,-223.84C27,-215.06 27,-204.16 27,-194.27\"/>\n",
       "<polygon fill=\"black\" stroke=\"black\" points=\"30.5,-194.07 27,-184.07 23.5,-194.07 30.5,-194.07\"/>\n",
       "</g>\n",
       "<!-- X6 -->\n",
       "<g id=\"node2\" class=\"node\">\n",
       "<title>X6</title>\n",
       "<ellipse fill=\"none\" stroke=\"black\" cx=\"99\" cy=\"-242\" rx=\"27\" ry=\"18\"/>\n",
       "<text text-anchor=\"middle\" x=\"99\" y=\"-238.3\" font-family=\"Times,serif\" font-size=\"14.00\">X6</text>\n",
       "</g>\n",
       "<!-- X7 -->\n",
       "<g id=\"node6\" class=\"node\">\n",
       "<title>X7</title>\n",
       "<ellipse fill=\"none\" stroke=\"black\" cx=\"99\" cy=\"-166\" rx=\"27\" ry=\"18\"/>\n",
       "<text text-anchor=\"middle\" x=\"99\" y=\"-162.3\" font-family=\"Times,serif\" font-size=\"14.00\">X7</text>\n",
       "</g>\n",
       "<!-- X6&#45;&gt;X7 -->\n",
       "<g id=\"edge2\" class=\"edge\">\n",
       "<title>X6&#45;&gt;X7</title>\n",
       "<path fill=\"none\" stroke=\"black\" d=\"M99,-223.84C99,-215.06 99,-204.16 99,-194.27\"/>\n",
       "<polygon fill=\"black\" stroke=\"black\" points=\"102.5,-194.07 99,-184.07 95.5,-194.07 102.5,-194.07\"/>\n",
       "</g>\n",
       "<!-- X10 -->\n",
       "<g id=\"node3\" class=\"node\">\n",
       "<title>X10</title>\n",
       "<ellipse fill=\"none\" stroke=\"black\" cx=\"174\" cy=\"-90\" rx=\"28.7\" ry=\"18\"/>\n",
       "<text text-anchor=\"middle\" x=\"174\" y=\"-86.3\" font-family=\"Times,serif\" font-size=\"14.00\">X10</text>\n",
       "</g>\n",
       "<!-- X1 -->\n",
       "<g id=\"node5\" class=\"node\">\n",
       "<title>X1</title>\n",
       "<ellipse fill=\"none\" stroke=\"black\" cx=\"211\" cy=\"-18\" rx=\"27\" ry=\"18\"/>\n",
       "<text text-anchor=\"middle\" x=\"211\" y=\"-14.3\" font-family=\"Times,serif\" font-size=\"14.00\">X1</text>\n",
       "</g>\n",
       "<!-- X10&#45;&gt;X1 -->\n",
       "<g id=\"edge3\" class=\"edge\">\n",
       "<title>X10&#45;&gt;X1</title>\n",
       "<path fill=\"none\" stroke=\"black\" d=\"M182.58,-72.76C187.06,-64.28 192.65,-53.71 197.68,-44.2\"/>\n",
       "<polygon fill=\"black\" stroke=\"black\" points=\"200.89,-45.62 202.46,-35.15 194.7,-42.35 200.89,-45.62\"/>\n",
       "</g>\n",
       "<!-- X5 -->\n",
       "<g id=\"node4\" class=\"node\">\n",
       "<title>X5</title>\n",
       "<ellipse fill=\"none\" stroke=\"black\" cx=\"171\" cy=\"-242\" rx=\"27\" ry=\"18\"/>\n",
       "<text text-anchor=\"middle\" x=\"171\" y=\"-238.3\" font-family=\"Times,serif\" font-size=\"14.00\">X5</text>\n",
       "</g>\n",
       "<!-- X5&#45;&gt;X7 -->\n",
       "<g id=\"edge4\" class=\"edge\">\n",
       "<title>X5&#45;&gt;X7</title>\n",
       "<path fill=\"none\" stroke=\"black\" d=\"M156.78,-226.38C146.42,-215.74 132.22,-201.14 120.48,-189.08\"/>\n",
       "<polygon fill=\"black\" stroke=\"black\" points=\"122.68,-186.32 113.2,-181.59 117.66,-191.2 122.68,-186.32\"/>\n",
       "</g>\n",
       "<!-- X2 -->\n",
       "<g id=\"node12\" class=\"node\">\n",
       "<title>X2</title>\n",
       "<ellipse fill=\"none\" stroke=\"black\" cx=\"99\" cy=\"-90\" rx=\"27\" ry=\"18\"/>\n",
       "<text text-anchor=\"middle\" x=\"99\" y=\"-86.3\" font-family=\"Times,serif\" font-size=\"14.00\">X2</text>\n",
       "</g>\n",
       "<!-- X7&#45;&gt;X2 -->\n",
       "<g id=\"edge5\" class=\"edge\">\n",
       "<title>X7&#45;&gt;X2</title>\n",
       "<path fill=\"none\" stroke=\"black\" d=\"M99,-147.84C99,-139.06 99,-128.16 99,-118.27\"/>\n",
       "<polygon fill=\"black\" stroke=\"black\" points=\"102.5,-118.07 99,-108.07 95.5,-118.07 102.5,-118.07\"/>\n",
       "</g>\n",
       "<!-- X11 -->\n",
       "<g id=\"node7\" class=\"node\">\n",
       "<title>X11</title>\n",
       "<ellipse fill=\"none\" stroke=\"black\" cx=\"322\" cy=\"-166\" rx=\"28.7\" ry=\"18\"/>\n",
       "<text text-anchor=\"middle\" x=\"322\" y=\"-162.3\" font-family=\"Times,serif\" font-size=\"14.00\">X11</text>\n",
       "</g>\n",
       "<!-- X12 -->\n",
       "<g id=\"node10\" class=\"node\">\n",
       "<title>X12</title>\n",
       "<ellipse fill=\"none\" stroke=\"black\" cx=\"322\" cy=\"-90\" rx=\"28.7\" ry=\"18\"/>\n",
       "<text text-anchor=\"middle\" x=\"322\" y=\"-86.3\" font-family=\"Times,serif\" font-size=\"14.00\">X12</text>\n",
       "</g>\n",
       "<!-- X11&#45;&gt;X12 -->\n",
       "<g id=\"edge6\" class=\"edge\">\n",
       "<title>X11&#45;&gt;X12</title>\n",
       "<path fill=\"none\" stroke=\"black\" d=\"M322,-147.84C322,-139.06 322,-128.16 322,-118.27\"/>\n",
       "<polygon fill=\"black\" stroke=\"black\" points=\"325.5,-118.07 322,-108.07 318.5,-118.07 325.5,-118.07\"/>\n",
       "</g>\n",
       "<!-- X8 -->\n",
       "<g id=\"node8\" class=\"node\">\n",
       "<title>X8</title>\n",
       "<ellipse fill=\"none\" stroke=\"black\" cx=\"248\" cy=\"-90\" rx=\"27\" ry=\"18\"/>\n",
       "<text text-anchor=\"middle\" x=\"248\" y=\"-86.3\" font-family=\"Times,serif\" font-size=\"14.00\">X8</text>\n",
       "</g>\n",
       "<!-- X8&#45;&gt;X1 -->\n",
       "<g id=\"edge7\" class=\"edge\">\n",
       "<title>X8&#45;&gt;X1</title>\n",
       "<path fill=\"none\" stroke=\"black\" d=\"M239.42,-72.76C234.94,-64.28 229.35,-53.71 224.32,-44.2\"/>\n",
       "<polygon fill=\"black\" stroke=\"black\" points=\"227.3,-42.35 219.54,-35.15 221.11,-45.62 227.3,-42.35\"/>\n",
       "</g>\n",
       "<!-- X9 -->\n",
       "<g id=\"node9\" class=\"node\">\n",
       "<title>X9</title>\n",
       "<ellipse fill=\"none\" stroke=\"black\" cx=\"175\" cy=\"-166\" rx=\"27\" ry=\"18\"/>\n",
       "<ellipse fill=\"none\" stroke=\"black\" cx=\"175\" cy=\"-166\" rx=\"31\" ry=\"22\"/>\n",
       "<text text-anchor=\"middle\" x=\"175\" y=\"-162.3\" font-family=\"Times,serif\" font-size=\"14.00\">X9</text>\n",
       "</g>\n",
       "<!-- X9&#45;&gt;X10 -->\n",
       "<g id=\"edge8\" class=\"edge\">\n",
       "<title>X9&#45;&gt;X10</title>\n",
       "<path fill=\"none\" stroke=\"black\" d=\"M174.72,-143.99C174.61,-136.06 174.49,-126.91 174.37,-118.48\"/>\n",
       "<polygon fill=\"black\" stroke=\"black\" points=\"177.87,-118.27 174.23,-108.31 170.87,-118.36 177.87,-118.27\"/>\n",
       "</g>\n",
       "<!-- X12&#45;&gt;X1 -->\n",
       "<g id=\"edge9\" class=\"edge\">\n",
       "<title>X12&#45;&gt;X1</title>\n",
       "<path fill=\"none\" stroke=\"black\" d=\"M302.41,-76.65C284.71,-65.48 258.46,-48.93 238.63,-36.42\"/>\n",
       "<polygon fill=\"black\" stroke=\"black\" points=\"240.35,-33.37 230.02,-31 236.61,-39.29 240.35,-33.37\"/>\n",
       "</g>\n",
       "<!-- X3&#45;&gt;X2 -->\n",
       "<g id=\"edge10\" class=\"edge\">\n",
       "<title>X3&#45;&gt;X2</title>\n",
       "<path fill=\"none\" stroke=\"black\" d=\"M41.22,-150.38C51.58,-139.74 65.78,-125.14 77.52,-113.08\"/>\n",
       "<polygon fill=\"black\" stroke=\"black\" points=\"80.34,-115.2 84.8,-105.59 75.32,-110.32 80.34,-115.2\"/>\n",
       "</g>\n",
       "<!-- X2&#45;&gt;X1 -->\n",
       "<g id=\"edge11\" class=\"edge\">\n",
       "<title>X2&#45;&gt;X1</title>\n",
       "<path fill=\"none\" stroke=\"black\" d=\"M118,-77.13C135.94,-65.91 163.05,-48.97 183.38,-36.26\"/>\n",
       "<polygon fill=\"black\" stroke=\"black\" points=\"185.28,-39.2 191.91,-30.93 181.57,-33.26 185.28,-39.2\"/>\n",
       "</g>\n",
       "</g>\n",
       "</svg>\n"
      ],
      "text/plain": [
       "<graphviz.graphs.Digraph at 0x75cc08080880>"
      ]
     },
     "execution_count": 22,
     "metadata": {},
     "output_type": "execute_result"
    }
   ],
   "source": [
    "# Showing the causal DAG with the intervention 'on'\n",
    "x9_do.draw()"
   ]
  },
  {
   "cell_type": "markdown",
   "id": "93c3bfd3",
   "metadata": {},
   "source": [
    "### Step 1.6: Show the Joint Distibution of the Causal Network with the intervention \"on\" (1%)"
   ]
  },
  {
   "cell_type": "code",
   "execution_count": 24,
   "id": "54ef9671",
   "metadata": {},
   "outputs": [
    {
     "name": "stdout",
     "output_type": "stream",
     "text": [
      "P(X4)P(X6)P(X5)P(X11)P(X8)P(X3|X4)P(X7|X5,X6)P(X12|X11)P(X10|do(X9))P(X2|X3,X7)P(X1|X2,X8,X10,X12)\n"
     ]
    }
   ],
   "source": [
    "# Joint distribution of the causal network with the interventionof X9 'on'\n",
    "print(x9_do.get_distribution())"
   ]
  },
  {
   "cell_type": "markdown",
   "id": "15270698",
   "metadata": {},
   "source": [
    "***\n",
    "## Note\n",
    "In <b>Step 2</b> you need to transform the model, you have built in Step 1, to a Bayesian Network. Here, you will need to repeat some of the activities you have already done in E-tivity 2. Please, consider all the random variables <b>X</b> binary and the probability distribution of each variable as <b>{true=50%, false=50%}</b>. \n",
    "***"
   ]
  },
  {
   "cell_type": "markdown",
   "id": "e9de73a9",
   "metadata": {},
   "source": [
    "## Step 2: Create and Execute the Bayesian Network (50%)"
   ]
  },
  {
   "cell_type": "markdown",
   "id": "bd3ae2ef",
   "metadata": {},
   "source": [
    "### Step 2.1: Create and show the DAG of the Bayesian Network (20%)"
   ]
  },
  {
   "cell_type": "markdown",
   "id": "003634a5-ac16-4474-a03b-1cf7ccbc8229",
   "metadata": {},
   "source": [
    "#### Creating a Bayesian Network"
   ]
  },
  {
   "cell_type": "code",
   "execution_count": 26,
   "id": "c350d2fb",
   "metadata": {},
   "outputs": [],
   "source": [
    "# use the pgmpy library: \"from pgmpy.models import BayesianNetwork\"\n",
    "from pgmpy.models import BayesianNetwork\n",
    "from pgmpy.factors.discrete import TabularCPD\n",
    "import networkx as nx\n",
    "import matplotlib.pyplot as plt\n",
    "\n",
    "model = BayesianNetwork([\n",
    "        ('X4', 'X3'), ('X3', 'X2'), ('X2', 'X1'), # Scenario #1\n",
    "        ('X5', 'X7'), ('X6', 'X7'), ('X7', 'X2'), ('X2', 'X1'), # Scenario #2\n",
    "        ('X8', 'X1'), # Scenario #3\n",
    "        ('X4', 'X9'), ('X9', 'X10'), ('X10', 'X1'), # Scenario #4\n",
    "        ('X11', 'X12'), ('X12', 'X1') # Scenario #5\n",
    "    ])"
   ]
  },
  {
   "cell_type": "code",
   "execution_count": 27,
   "id": "1da73aa8-6489-4bc6-8a25-aaf2195edccb",
   "metadata": {},
   "outputs": [
    {
     "data": {
      "text/plain": [
       "NodeView(('X4', 'X3', 'X2', 'X1', 'X5', 'X7', 'X6', 'X8', 'X9', 'X10', 'X11', 'X12'))"
      ]
     },
     "execution_count": 27,
     "metadata": {},
     "output_type": "execute_result"
    }
   ],
   "source": [
    "model.nodes()"
   ]
  },
  {
   "cell_type": "code",
   "execution_count": 28,
   "id": "51b8a01e-bff3-4d6b-abe1-2e16c50b2dae",
   "metadata": {},
   "outputs": [
    {
     "data": {
      "text/plain": [
       "OutEdgeView([('X4', 'X3'), ('X4', 'X9'), ('X3', 'X2'), ('X2', 'X1'), ('X5', 'X7'), ('X7', 'X2'), ('X6', 'X7'), ('X8', 'X1'), ('X9', 'X10'), ('X10', 'X1'), ('X11', 'X12'), ('X12', 'X1')])"
      ]
     },
     "execution_count": 28,
     "metadata": {},
     "output_type": "execute_result"
    }
   ],
   "source": [
    "model.edges()"
   ]
  },
  {
   "cell_type": "markdown",
   "id": "f29774d1-82d0-40da-a3db-2f199f7a9311",
   "metadata": {},
   "source": [
    "#### Creating the DAG of the Bayesian Network"
   ]
  },
  {
   "cell_type": "code",
   "execution_count": 30,
   "id": "55e86226-6250-4d3a-a3d9-048610705e05",
   "metadata": {},
   "outputs": [
    {
     "data": {
      "image/png": "[encoded data removed]",
      "text/plain": [
       "<Figure size 640x480 with 1 Axes>"
      ]
     },
     "metadata": {},
     "output_type": "display_data"
    }
   ],
   "source": [
    "pos = nx.circular_layout(model)\n",
    "nx.draw(model, pos=pos, with_labels=True, node_color='#23faf3')\n",
    "plt.show()"
   ]
  },
  {
   "cell_type": "markdown",
   "id": "9fc20d41",
   "metadata": {},
   "source": [
    "### Step 2.2: Create the Conditional Probability Distributions of the Bayesian Network (20%)"
   ]
  },
  {
   "cell_type": "markdown",
   "id": "c75f3377",
   "metadata": {},
   "source": [
    "#### Step 2.2.1: Build the probability distribution tables with TabularCPD (16%)"
   ]
  },
  {
   "cell_type": "code",
   "execution_count": 7,
   "id": "b4241adf",
   "metadata": {},
   "outputs": [],
   "source": [
    "# your code goes here"
   ]
  },
  {
   "cell_type": "markdown",
   "id": "b6b85948",
   "metadata": {},
   "source": [
    "#### Step 2.2.2: Associate the distribution models with the network structure (2%)"
   ]
  },
  {
   "cell_type": "code",
   "execution_count": 8,
   "id": "9c60a865",
   "metadata": {},
   "outputs": [],
   "source": [
    "# your code goes here"
   ]
  },
  {
   "cell_type": "markdown",
   "id": "5a52a7fa",
   "metadata": {},
   "source": [
    "#### Step 2.2.3: Check the model (2%)"
   ]
  },
  {
   "cell_type": "code",
   "execution_count": 9,
   "id": "06b6fdc3",
   "metadata": {},
   "outputs": [],
   "source": [
    "# your code goes here"
   ]
  },
  {
   "cell_type": "markdown",
   "id": "9b258b7f",
   "metadata": {},
   "source": [
    "### Step 2.3: Infer Posterior Probability of “road is blocked” considering \"late for work\" as evidence. (10%)"
   ]
  },
  {
   "cell_type": "code",
   "execution_count": 10,
   "id": "a1acf2f0",
   "metadata": {},
   "outputs": [],
   "source": [
    "# show the probability results\n",
    "# your code goes here:"
   ]
  },
  {
   "cell_type": "code",
   "execution_count": null,
   "id": "983fabb1",
   "metadata": {},
   "outputs": [],
   "source": []
  }
 ],
 "metadata": {
  "kernelspec": {
   "display_name": "Python 3 (ipykernel)",
   "language": "python",
   "name": "python3"
  },
  "language_info": {
   "codemirror_mode": {
    "name": "ipython",
    "version": 3
   },
   "file_extension": ".py",
   "mimetype": "text/x-python",
   "name": "python",
   "nbconvert_exporter": "python",
   "pygments_lexer": "ipython3",
   "version": "3.10.12"
  }
 },
 "nbformat": 4,
 "nbformat_minor": 5
}
