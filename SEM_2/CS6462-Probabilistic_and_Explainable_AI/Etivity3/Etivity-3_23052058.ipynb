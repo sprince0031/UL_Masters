{
 "cells": [
  {
   "cell_type": "markdown",
   "id": "b8e5ed62",
   "metadata": {},
   "source": [
    "<div>\n",
    "<img src=\"https://www.ul.ie/themes/custom/ul/logo.jpg\" width=\"350\"/>\n",
    "</div> \n",
    "\n",
    "# **Artificial Intelligence - MSc**\n",
    "\n",
    "## CS6462 - PROBABILISTIC AND EXPLAINABLE AI \n",
    "## SEM2 2022/3\n",
    "\n",
    "### CS6462 Etivity 3 - Causal Graphical Model vs Bayesian Graphical Model\n",
    "\n",
    "### Instructor: Emil Vassev\n",
    "April 10th, 2023\n",
    "<br><br>\n",
    "Copyright (C) 2023 - All rights reserved, do not copy or distribute without permission of the author.\n",
    "***"
   ]
  },
  {
   "cell_type": "markdown",
   "id": "6c2603d7",
   "metadata": {},
   "source": [
    "## Submission Info\n",
    "### Student Name: Siddharth\n",
    "### Student Surname: Prince\n",
    "### Student ID: 23052058\n",
    "### Date of Final Submission: 28/04/2024\n",
    "***"
   ]
  },
  {
   "cell_type": "markdown",
   "id": "a2b8d751",
   "metadata": {},
   "source": [
    "## Task\n",
    "In this e-tivity, you are asked to build a Causal Graphical Model by using the <b>causalgraphicalmodels</b> library and do interventions on this model. Then you are asked to build the same model but as a Bayesian Network by using the <b>BayesianNetwork</b> construct of the <b>pgmpy.models</b> library. Both models need to cover a real-life scenario targeting getting late at work. \n",
    "\n",
    "## The real-life scenario\n",
    "\n",
    "Here, you can find a set of random variables X = {X1, X2, ... , X12}:\n",
    "<li>X1 = “late for work”</li> \n",
    "<li>X2 = “low speed due to long vehicle queues”</li> \n",
    "<li>X3 = “traffic jam”</li>\n",
    "<li>X4 = “traffic accident”</li> \n",
    "<li>X5 = “heavy rain”</li>\n",
    "<li>X6 = “snow”</li>\n",
    "<li>X7 = “slippery road”</li> \n",
    "<li>X8 = “getting up late”</li>\n",
    "<li>X9 = “road is blocked”</li>\n",
    "<li>X10 = “taking a longer alternative route”</li> \n",
    "<li>X11 = “car malfunction”</li> \n",
    "<li>X12 = “car towing”</li> \n",
    "\n",
    "Use your logic to build a <b>realistic</b> causal network, which then can be transformed to a Bayesian Network (Causal Bayesian Network). In this network, the parent-child relationships should be deduced based on your logic. You need to use all the random variables.\n",
    "    \n",
    "### Here are the steps you need to follow:"
   ]
  },
  {
   "cell_type": "markdown",
   "id": "a2788722",
   "metadata": {},
   "source": [
    "## Step 1: Create and Execute the Causal Network (50%)"
   ]
  },
  {
   "cell_type": "markdown",
   "id": "6b20db4c",
   "metadata": {},
   "source": [
    "### Step 1.1. Describe your logic of deducing the causal relationships. (10%)\n",
    "Outline the problem in terms of:\n",
    "<li>causal dependencies among the random variables</li>\n",
    "<li>short rationale on the parent-child relationships</li>    \n"
   ]
  },
  {
   "cell_type": "markdown",
   "id": "dc9249ff",
   "metadata": {},
   "source": [
    "Being late to work, X1 seems to be the scenario that all the other scenarios ultimately cause. So that should be the end node. The possible paths that lead to this with the other random variables (scenarios) are as follows;\n",
    "\n",
    "- Traffic accident/jam scenario is when an accident causes an issue with the regular commute and slows one down by having to wait for the road to clear up or find an alternate (often sub-optimal) route.\n",
    "    - **Scenario #1:** traffic accident (X4)/ traffic jam (X3) -> low speed due to long vehicle queues (X2) -> late for work (X1)\n",
    "    - **Scenario #2:** traffic accident (X4) -> road is blocked (X9) -> taking a longer alternative route (X10) -> late for work (X1)\n",
    "    - **Scenario #3:** traffic jam (X3) -> taking a longer alternative route (X10) -> late for work (X1)\n",
    "- Inclement weather is a usual suspect in making one late to work. \n",
    "    - **Scenario #4:** heavy rain (X5)/ snow (X6) -> slippery road (X7) -> low speed due to long vehicle queues (X2) -> late for work (X1)\n",
    "    - **Scenario #5:** snow (X6) -> road is blocked (X9) -> taking a longer alternative route (X10) -> late for work (X1)\n",
    "- A self explanatory scenario is if you're late to start your day, you are probably going to be late to work.\n",
    "    - **Scenario #6:** getting up late (X8) -> late for work (X1)\n",
    "- If you are dependent on your car for your commute and it breaks down, you're most definitely going to end up late while     you need to take care of the car and find alternate methods of transport.\n",
    "    - **Scenario #7:** car malfunction (X11) -> car towing (X12) -> late for work (X1)"
   ]
  },
  {
   "cell_type": "markdown",
   "id": "ee5b9a4b",
   "metadata": {},
   "source": [
    "### Step 1.2: Create and show the Causal DAG (30%)"
   ]
  },
  {
   "cell_type": "code",
   "execution_count": 1,
   "id": "45bc50ed-f807-4d5d-a313-3a23e4f5d1ca",
   "metadata": {},
   "outputs": [],
   "source": [
    "# To workaround the import error as suggested from the forum thread\n",
    "import collections.abc\n",
    "collections.Iterable = collections.abc.Iterable\n",
    "from collections.abc import Iterable"
   ]
  },
  {
   "cell_type": "code",
   "execution_count": 2,
   "id": "7ed86963",
   "metadata": {},
   "outputs": [],
   "source": [
    "from causalgraphicalmodels import CausalGraphicalModel\n",
    "lateToWork = CausalGraphicalModel(\n",
    "    nodes=['late for work','low speed due to long vehicle queues','traffic jam','traffic accident','heavy rain','snow',\n",
    "           'slippery road','getting up late','road is blocked','taking a longer alternative route','car malfunction','car towing'],\n",
    "    edges=[\n",
    "        ('traffic accident', 'low speed due to long vehicle queues'), ('traffic jam', 'low speed due to long vehicle queues'), ('low speed due to long vehicle queues', 'late for work'), # Scenario #1\n",
    "        ('traffic accident', 'road is blocked'), ('snow', 'road is blocked'), ('road is blocked', 'taking a longer alternative route'), ('traffic jam', 'taking a longer alternative route'), ('taking a longer alternative route', 'late for work'), # Scenario #2, #3 & #5\n",
    "        ('heavy rain', 'slippery road'), ('snow', 'slippery road'), ('slippery road', 'low speed due to long vehicle queues'), ('low speed due to long vehicle queues', 'late for work'), # Scenario #4\n",
    "        ('getting up late', 'late for work'), # Scenario #5\n",
    "        ('car malfunction', 'car towing'), ('car towing', 'late for work') # Scenario #6\n",
    "    ]\n",
    ")"
   ]
  },
  {
   "cell_type": "code",
   "execution_count": 3,
   "id": "4a291c51-ecb8-4849-8e67-d5d0ab24c07b",
   "metadata": {},
   "outputs": [
    {
     "data": {
      "image/svg+xml": [
       "<?xml version=\"1.0\" encoding=\"UTF-8\" standalone=\"no\"?>\n",
       "<!DOCTYPE svg PUBLIC \"-//W3C//DTD SVG 1.1//EN\"\n",
       " \"http://www.w3.org/Graphics/SVG/1.1/DTD/svg11.dtd\">\n",
       "<!-- Generated by graphviz version 2.43.0 (0)\n",
       " -->\n",
       "<!-- Title: %3 Pages: 1 -->\n",
       "<svg width=\"1056pt\" height=\"260pt\"\n",
       " viewBox=\"0.00 0.00 1056.49 260.00\" xmlns=\"http://www.w3.org/2000/svg\" xmlns:xlink=\"http://www.w3.org/1999/xlink\">\n",
       "<g id=\"graph0\" class=\"graph\" transform=\"scale(1 1) rotate(0) translate(4 256)\">\n",
       "<title>%3</title>\n",
       "<polygon fill=\"white\" stroke=\"transparent\" points=\"-4,4 -4,-256 1052.49,-256 1052.49,4 -4,4\"/>\n",
       "<!-- road is blocked -->\n",
       "<g id=\"node1\" class=\"node\">\n",
       "<title>road is blocked</title>\n",
       "<ellipse fill=\"none\" stroke=\"black\" cx=\"359.29\" cy=\"-162\" rx=\"81.49\" ry=\"18\"/>\n",
       "<text text-anchor=\"middle\" x=\"359.29\" y=\"-158.3\" font-family=\"Times,serif\" font-size=\"14.00\">road is blocked</text>\n",
       "</g>\n",
       "<!-- taking a longer alternative route -->\n",
       "<g id=\"node4\" class=\"node\">\n",
       "<title>taking a longer alternative route</title>\n",
       "<ellipse fill=\"none\" stroke=\"black\" cx=\"339.29\" cy=\"-90\" rx=\"162.47\" ry=\"18\"/>\n",
       "<text text-anchor=\"middle\" x=\"339.29\" y=\"-86.3\" font-family=\"Times,serif\" font-size=\"14.00\">taking a longer alternative route</text>\n",
       "</g>\n",
       "<!-- road is blocked&#45;&gt;taking a longer alternative route -->\n",
       "<g id=\"edge11\" class=\"edge\">\n",
       "<title>road is blocked&#45;&gt;taking a longer alternative route</title>\n",
       "<path fill=\"none\" stroke=\"black\" d=\"M354.35,-143.7C352.12,-135.9 349.44,-126.51 346.96,-117.83\"/>\n",
       "<polygon fill=\"black\" stroke=\"black\" points=\"350.29,-116.76 344.18,-108.1 343.56,-118.68 350.29,-116.76\"/>\n",
       "</g>\n",
       "<!-- getting up late -->\n",
       "<g id=\"node2\" class=\"node\">\n",
       "<title>getting up late</title>\n",
       "<ellipse fill=\"none\" stroke=\"black\" cx=\"79.29\" cy=\"-90\" rx=\"79.09\" ry=\"18\"/>\n",
       "<text text-anchor=\"middle\" x=\"79.29\" y=\"-86.3\" font-family=\"Times,serif\" font-size=\"14.00\">getting up late</text>\n",
       "</g>\n",
       "<!-- late for work -->\n",
       "<g id=\"node3\" class=\"node\">\n",
       "<title>late for work</title>\n",
       "<ellipse fill=\"none\" stroke=\"black\" cx=\"521.29\" cy=\"-18\" rx=\"70.39\" ry=\"18\"/>\n",
       "<text text-anchor=\"middle\" x=\"521.29\" y=\"-14.3\" font-family=\"Times,serif\" font-size=\"14.00\">late for work</text>\n",
       "</g>\n",
       "<!-- getting up late&#45;&gt;late for work -->\n",
       "<g id=\"edge10\" class=\"edge\">\n",
       "<title>getting up late&#45;&gt;late for work</title>\n",
       "<path fill=\"none\" stroke=\"black\" d=\"M137.16,-77.6C147.51,-75.66 158.21,-73.72 168.29,-72 265.97,-55.35 379.33,-38.82 450.69,-28.76\"/>\n",
       "<polygon fill=\"black\" stroke=\"black\" points=\"451.49,-32.18 460.9,-27.32 450.51,-25.25 451.49,-32.18\"/>\n",
       "</g>\n",
       "<!-- taking a longer alternative route&#45;&gt;late for work -->\n",
       "<g id=\"edge12\" class=\"edge\">\n",
       "<title>taking a longer alternative route&#45;&gt;late for work</title>\n",
       "<path fill=\"none\" stroke=\"black\" d=\"M381.96,-72.59C409.81,-61.88 446.16,-47.9 474.75,-36.9\"/>\n",
       "<polygon fill=\"black\" stroke=\"black\" points=\"476.05,-40.15 484.13,-33.29 473.54,-33.62 476.05,-40.15\"/>\n",
       "</g>\n",
       "<!-- car towing -->\n",
       "<g id=\"node5\" class=\"node\">\n",
       "<title>car towing</title>\n",
       "<ellipse fill=\"none\" stroke=\"black\" cx=\"965.29\" cy=\"-90\" rx=\"59.59\" ry=\"18\"/>\n",
       "<text text-anchor=\"middle\" x=\"965.29\" y=\"-86.3\" font-family=\"Times,serif\" font-size=\"14.00\">car towing</text>\n",
       "</g>\n",
       "<!-- car towing&#45;&gt;late for work -->\n",
       "<g id=\"edge14\" class=\"edge\">\n",
       "<title>car towing&#45;&gt;late for work</title>\n",
       "<path fill=\"none\" stroke=\"black\" d=\"M921.64,-77.54C913.26,-75.54 904.53,-73.59 896.29,-72 792.25,-51.88 670.58,-36.09 594.71,-27.15\"/>\n",
       "<polygon fill=\"black\" stroke=\"black\" points=\"594.66,-23.62 584.32,-25.93 593.84,-30.57 594.66,-23.62\"/>\n",
       "</g>\n",
       "<!-- traffic accident -->\n",
       "<g id=\"node6\" class=\"node\">\n",
       "<title>traffic accident</title>\n",
       "<ellipse fill=\"none\" stroke=\"black\" cx=\"384.29\" cy=\"-234\" rx=\"80.69\" ry=\"18\"/>\n",
       "<text text-anchor=\"middle\" x=\"384.29\" y=\"-230.3\" font-family=\"Times,serif\" font-size=\"14.00\">traffic accident</text>\n",
       "</g>\n",
       "<!-- traffic accident&#45;&gt;road is blocked -->\n",
       "<g id=\"edge5\" class=\"edge\">\n",
       "<title>traffic accident&#45;&gt;road is blocked</title>\n",
       "<path fill=\"none\" stroke=\"black\" d=\"M378.11,-215.7C375.3,-207.81 371.9,-198.3 368.77,-189.55\"/>\n",
       "<polygon fill=\"black\" stroke=\"black\" points=\"372.06,-188.34 365.4,-180.1 365.47,-190.7 372.06,-188.34\"/>\n",
       "</g>\n",
       "<!-- low speed due to long vehicle queues -->\n",
       "<g id=\"node8\" class=\"node\">\n",
       "<title>low speed due to long vehicle queues</title>\n",
       "<ellipse fill=\"none\" stroke=\"black\" cx=\"703.29\" cy=\"-90\" rx=\"183.87\" ry=\"18\"/>\n",
       "<text text-anchor=\"middle\" x=\"703.29\" y=\"-86.3\" font-family=\"Times,serif\" font-size=\"14.00\">low speed due to long vehicle queues</text>\n",
       "</g>\n",
       "<!-- traffic accident&#45;&gt;low speed due to long vehicle queues -->\n",
       "<g id=\"edge4\" class=\"edge\">\n",
       "<title>traffic accident&#45;&gt;low speed due to long vehicle queues</title>\n",
       "<path fill=\"none\" stroke=\"black\" d=\"M451.38,-223.82C491.79,-216.26 543.2,-202.92 584.29,-180 604.61,-168.67 604.04,-158.43 622.29,-144 636.05,-133.13 652.05,-122.31 666.18,-113.31\"/>\n",
       "<polygon fill=\"black\" stroke=\"black\" points=\"668.09,-116.25 674.7,-107.96 664.37,-110.32 668.09,-116.25\"/>\n",
       "</g>\n",
       "<!-- heavy rain -->\n",
       "<g id=\"node7\" class=\"node\">\n",
       "<title>heavy rain</title>\n",
       "<ellipse fill=\"none\" stroke=\"black\" cx=\"703.29\" cy=\"-234\" rx=\"59.59\" ry=\"18\"/>\n",
       "<text text-anchor=\"middle\" x=\"703.29\" y=\"-230.3\" font-family=\"Times,serif\" font-size=\"14.00\">heavy rain</text>\n",
       "</g>\n",
       "<!-- slippery road -->\n",
       "<g id=\"node10\" class=\"node\">\n",
       "<title>slippery road</title>\n",
       "<ellipse fill=\"none\" stroke=\"black\" cx=\"703.29\" cy=\"-162\" rx=\"72.29\" ry=\"18\"/>\n",
       "<text text-anchor=\"middle\" x=\"703.29\" y=\"-158.3\" font-family=\"Times,serif\" font-size=\"14.00\">slippery road</text>\n",
       "</g>\n",
       "<!-- heavy rain&#45;&gt;slippery road -->\n",
       "<g id=\"edge6\" class=\"edge\">\n",
       "<title>heavy rain&#45;&gt;slippery road</title>\n",
       "<path fill=\"none\" stroke=\"black\" d=\"M703.29,-215.7C703.29,-207.98 703.29,-198.71 703.29,-190.11\"/>\n",
       "<polygon fill=\"black\" stroke=\"black\" points=\"706.79,-190.1 703.29,-180.1 699.79,-190.1 706.79,-190.1\"/>\n",
       "</g>\n",
       "<!-- low speed due to long vehicle queues&#45;&gt;late for work -->\n",
       "<g id=\"edge1\" class=\"edge\">\n",
       "<title>low speed due to long vehicle queues&#45;&gt;late for work</title>\n",
       "<path fill=\"none\" stroke=\"black\" d=\"M660.16,-72.41C632.52,-61.78 596.63,-47.98 568.27,-37.07\"/>\n",
       "<polygon fill=\"black\" stroke=\"black\" points=\"569.16,-33.66 558.57,-33.34 566.65,-40.19 569.16,-33.66\"/>\n",
       "</g>\n",
       "<!-- traffic jam -->\n",
       "<g id=\"node9\" class=\"node\">\n",
       "<title>traffic jam</title>\n",
       "<ellipse fill=\"none\" stroke=\"black\" cx=\"517.29\" cy=\"-162\" rx=\"58.49\" ry=\"18\"/>\n",
       "<text text-anchor=\"middle\" x=\"517.29\" y=\"-158.3\" font-family=\"Times,serif\" font-size=\"14.00\">traffic jam</text>\n",
       "</g>\n",
       "<!-- traffic jam&#45;&gt;taking a longer alternative route -->\n",
       "<g id=\"edge3\" class=\"edge\">\n",
       "<title>traffic jam&#45;&gt;taking a longer alternative route</title>\n",
       "<path fill=\"none\" stroke=\"black\" d=\"M482.55,-147.34C456.35,-137.03 420,-122.74 390.48,-111.13\"/>\n",
       "<polygon fill=\"black\" stroke=\"black\" points=\"391.74,-107.86 381.15,-107.46 389.18,-114.38 391.74,-107.86\"/>\n",
       "</g>\n",
       "<!-- traffic jam&#45;&gt;low speed due to long vehicle queues -->\n",
       "<g id=\"edge2\" class=\"edge\">\n",
       "<title>traffic jam&#45;&gt;low speed due to long vehicle queues</title>\n",
       "<path fill=\"none\" stroke=\"black\" d=\"M552.72,-147.67C580.23,-137.32 618.82,-122.79 650.04,-111.04\"/>\n",
       "<polygon fill=\"black\" stroke=\"black\" points=\"651.35,-114.29 659.48,-107.49 648.89,-107.74 651.35,-114.29\"/>\n",
       "</g>\n",
       "<!-- slippery road&#45;&gt;low speed due to long vehicle queues -->\n",
       "<g id=\"edge9\" class=\"edge\">\n",
       "<title>slippery road&#45;&gt;low speed due to long vehicle queues</title>\n",
       "<path fill=\"none\" stroke=\"black\" d=\"M703.29,-143.7C703.29,-135.98 703.29,-126.71 703.29,-118.11\"/>\n",
       "<polygon fill=\"black\" stroke=\"black\" points=\"706.79,-118.1 703.29,-108.1 699.79,-118.1 706.79,-118.1\"/>\n",
       "</g>\n",
       "<!-- car malfunction -->\n",
       "<g id=\"node11\" class=\"node\">\n",
       "<title>car malfunction</title>\n",
       "<ellipse fill=\"none\" stroke=\"black\" cx=\"965.29\" cy=\"-162\" rx=\"83.39\" ry=\"18\"/>\n",
       "<text text-anchor=\"middle\" x=\"965.29\" y=\"-158.3\" font-family=\"Times,serif\" font-size=\"14.00\">car malfunction</text>\n",
       "</g>\n",
       "<!-- car malfunction&#45;&gt;car towing -->\n",
       "<g id=\"edge13\" class=\"edge\">\n",
       "<title>car malfunction&#45;&gt;car towing</title>\n",
       "<path fill=\"none\" stroke=\"black\" d=\"M965.29,-143.7C965.29,-135.98 965.29,-126.71 965.29,-118.11\"/>\n",
       "<polygon fill=\"black\" stroke=\"black\" points=\"968.79,-118.1 965.29,-108.1 961.79,-118.1 968.79,-118.1\"/>\n",
       "</g>\n",
       "<!-- snow -->\n",
       "<g id=\"node12\" class=\"node\">\n",
       "<title>snow</title>\n",
       "<ellipse fill=\"none\" stroke=\"black\" cx=\"566.29\" cy=\"-234\" rx=\"34.39\" ry=\"18\"/>\n",
       "<text text-anchor=\"middle\" x=\"566.29\" y=\"-230.3\" font-family=\"Times,serif\" font-size=\"14.00\">snow</text>\n",
       "</g>\n",
       "<!-- snow&#45;&gt;road is blocked -->\n",
       "<g id=\"edge7\" class=\"edge\">\n",
       "<title>snow&#45;&gt;road is blocked</title>\n",
       "<path fill=\"none\" stroke=\"black\" d=\"M537.94,-223.41C505.52,-212.45 451.74,-194.26 411.64,-180.7\"/>\n",
       "<polygon fill=\"black\" stroke=\"black\" points=\"412.62,-177.34 402.02,-177.45 410.37,-183.97 412.62,-177.34\"/>\n",
       "</g>\n",
       "<!-- snow&#45;&gt;slippery road -->\n",
       "<g id=\"edge8\" class=\"edge\">\n",
       "<title>snow&#45;&gt;slippery road</title>\n",
       "<path fill=\"none\" stroke=\"black\" d=\"M590.16,-220.81C610.46,-210.43 640.03,-195.32 663.85,-183.15\"/>\n",
       "<polygon fill=\"black\" stroke=\"black\" points=\"665.68,-186.15 672.99,-178.48 662.5,-179.91 665.68,-186.15\"/>\n",
       "</g>\n",
       "</g>\n",
       "</svg>\n"
      ],
      "text/plain": [
       "<graphviz.graphs.Digraph at 0x74996cbabaf0>"
      ]
     },
     "execution_count": 3,
     "metadata": {},
     "output_type": "execute_result"
    }
   ],
   "source": [
    "# Plotting the causal DAG\n",
    "lateToWork.draw()"
   ]
  },
  {
   "cell_type": "markdown",
   "id": "e04a7336-de3e-4b36-9ffc-f3df9fc75efc",
   "metadata": {},
   "source": [
    "The above DAG has all the scenarios spelt out. Let's create another causal graph model with all the corresponding X variables names so that it is represented concisely which we will use from here on out."
   ]
  },
  {
   "cell_type": "code",
   "execution_count": 4,
   "id": "ea1eada8-cd25-4256-a4ec-4cbd12e37ef3",
   "metadata": {},
   "outputs": [],
   "source": [
    "edges=[\n",
    "        ('X4', 'X2'), ('X3', 'X2'), ('X2', 'X1'), # Scenario #1\n",
    "        ('X4', 'X9'), ('X6', 'X9'), ('X9', 'X10'), ('X3', 'X10'), ('X10', 'X1'), # Scenario #2, #3 & #5\n",
    "        ('X5', 'X7'), ('X6', 'X7'), ('X7', 'X2'), ('X2', 'X1'), # Scenario #4\n",
    "        ('X8', 'X1'), # Scenario #6\n",
    "        ('X11', 'X12'), ('X12', 'X1') # Scenario #7\n",
    "    ]\n",
    "lateToWorkX = CausalGraphicalModel(\n",
    "    nodes=['X1','X2','X3','X4','X5','X6','X7','X8','X9','X10','X11','X12'],\n",
    "    edges=edges\n",
    ")"
   ]
  },
  {
   "cell_type": "code",
   "execution_count": 5,
   "id": "e9300b6d-c63f-40d4-b5c4-c4fcce683e89",
   "metadata": {},
   "outputs": [
    {
     "data": {
      "image/svg+xml": [
       "<?xml version=\"1.0\" encoding=\"UTF-8\" standalone=\"no\"?>\n",
       "<!DOCTYPE svg PUBLIC \"-//W3C//DTD SVG 1.1//EN\"\n",
       " \"http://www.w3.org/Graphics/SVG/1.1/DTD/svg11.dtd\">\n",
       "<!-- Generated by graphviz version 2.43.0 (0)\n",
       " -->\n",
       "<!-- Title: %3 Pages: 1 -->\n",
       "<svg width=\"341pt\" height=\"260pt\"\n",
       " viewBox=\"0.00 0.00 340.60 260.00\" xmlns=\"http://www.w3.org/2000/svg\" xmlns:xlink=\"http://www.w3.org/1999/xlink\">\n",
       "<g id=\"graph0\" class=\"graph\" transform=\"scale(1 1) rotate(0) translate(4 256)\">\n",
       "<title>%3</title>\n",
       "<polygon fill=\"white\" stroke=\"transparent\" points=\"-4,4 -4,-256 336.6,-256 336.6,4 -4,4\"/>\n",
       "<!-- X3 -->\n",
       "<g id=\"node1\" class=\"node\">\n",
       "<title>X3</title>\n",
       "<ellipse fill=\"none\" stroke=\"black\" cx=\"137\" cy=\"-162\" rx=\"27\" ry=\"18\"/>\n",
       "<text text-anchor=\"middle\" x=\"137\" y=\"-158.3\" font-family=\"Times,serif\" font-size=\"14.00\">X3</text>\n",
       "</g>\n",
       "<!-- X2 -->\n",
       "<g id=\"node9\" class=\"node\">\n",
       "<title>X2</title>\n",
       "<ellipse fill=\"none\" stroke=\"black\" cx=\"82\" cy=\"-90\" rx=\"27\" ry=\"18\"/>\n",
       "<text text-anchor=\"middle\" x=\"82\" y=\"-86.3\" font-family=\"Times,serif\" font-size=\"14.00\">X2</text>\n",
       "</g>\n",
       "<!-- X3&#45;&gt;X2 -->\n",
       "<g id=\"edge2\" class=\"edge\">\n",
       "<title>X3&#45;&gt;X2</title>\n",
       "<path fill=\"none\" stroke=\"black\" d=\"M125.07,-145.81C117.79,-136.55 108.34,-124.52 100.15,-114.09\"/>\n",
       "<polygon fill=\"black\" stroke=\"black\" points=\"102.84,-111.86 93.91,-106.16 97.34,-116.18 102.84,-111.86\"/>\n",
       "</g>\n",
       "<!-- X10 -->\n",
       "<g id=\"node10\" class=\"node\">\n",
       "<title>X10</title>\n",
       "<ellipse fill=\"none\" stroke=\"black\" cx=\"156\" cy=\"-90\" rx=\"28.7\" ry=\"18\"/>\n",
       "<text text-anchor=\"middle\" x=\"156\" y=\"-86.3\" font-family=\"Times,serif\" font-size=\"14.00\">X10</text>\n",
       "</g>\n",
       "<!-- X3&#45;&gt;X10 -->\n",
       "<g id=\"edge3\" class=\"edge\">\n",
       "<title>X3&#45;&gt;X10</title>\n",
       "<path fill=\"none\" stroke=\"black\" d=\"M141.6,-144.05C143.75,-136.14 146.35,-126.54 148.76,-117.69\"/>\n",
       "<polygon fill=\"black\" stroke=\"black\" points=\"152.2,-118.36 151.44,-107.79 145.45,-116.52 152.2,-118.36\"/>\n",
       "</g>\n",
       "<!-- X6 -->\n",
       "<g id=\"node2\" class=\"node\">\n",
       "<title>X6</title>\n",
       "<ellipse fill=\"none\" stroke=\"black\" cx=\"118\" cy=\"-234\" rx=\"27\" ry=\"18\"/>\n",
       "<text text-anchor=\"middle\" x=\"118\" y=\"-230.3\" font-family=\"Times,serif\" font-size=\"14.00\">X6</text>\n",
       "</g>\n",
       "<!-- X9 -->\n",
       "<g id=\"node6\" class=\"node\">\n",
       "<title>X9</title>\n",
       "<ellipse fill=\"none\" stroke=\"black\" cx=\"209\" cy=\"-162\" rx=\"27\" ry=\"18\"/>\n",
       "<text text-anchor=\"middle\" x=\"209\" y=\"-158.3\" font-family=\"Times,serif\" font-size=\"14.00\">X9</text>\n",
       "</g>\n",
       "<!-- X6&#45;&gt;X9 -->\n",
       "<g id=\"edge7\" class=\"edge\">\n",
       "<title>X6&#45;&gt;X9</title>\n",
       "<path fill=\"none\" stroke=\"black\" d=\"M135.12,-219.83C148.84,-209.27 168.31,-194.3 183.82,-182.37\"/>\n",
       "<polygon fill=\"black\" stroke=\"black\" points=\"186.17,-184.98 191.96,-176.11 181.9,-179.43 186.17,-184.98\"/>\n",
       "</g>\n",
       "<!-- X7 -->\n",
       "<g id=\"node11\" class=\"node\">\n",
       "<title>X7</title>\n",
       "<ellipse fill=\"none\" stroke=\"black\" cx=\"27\" cy=\"-162\" rx=\"27\" ry=\"18\"/>\n",
       "<text text-anchor=\"middle\" x=\"27\" y=\"-158.3\" font-family=\"Times,serif\" font-size=\"14.00\">X7</text>\n",
       "</g>\n",
       "<!-- X6&#45;&gt;X7 -->\n",
       "<g id=\"edge8\" class=\"edge\">\n",
       "<title>X6&#45;&gt;X7</title>\n",
       "<path fill=\"none\" stroke=\"black\" d=\"M100.88,-219.83C87.16,-209.27 67.69,-194.3 52.18,-182.37\"/>\n",
       "<polygon fill=\"black\" stroke=\"black\" points=\"54.1,-179.43 44.04,-176.11 49.83,-184.98 54.1,-179.43\"/>\n",
       "</g>\n",
       "<!-- X4 -->\n",
       "<g id=\"node3\" class=\"node\">\n",
       "<title>X4</title>\n",
       "<ellipse fill=\"none\" stroke=\"black\" cx=\"199\" cy=\"-234\" rx=\"27\" ry=\"18\"/>\n",
       "<text text-anchor=\"middle\" x=\"199\" y=\"-230.3\" font-family=\"Times,serif\" font-size=\"14.00\">X4</text>\n",
       "</g>\n",
       "<!-- X4&#45;&gt;X9 -->\n",
       "<g id=\"edge5\" class=\"edge\">\n",
       "<title>X4&#45;&gt;X9</title>\n",
       "<path fill=\"none\" stroke=\"black\" d=\"M201.42,-216.05C202.52,-208.35 203.85,-199.03 205.09,-190.36\"/>\n",
       "<polygon fill=\"black\" stroke=\"black\" points=\"208.58,-190.67 206.53,-180.28 201.65,-189.68 208.58,-190.67\"/>\n",
       "</g>\n",
       "<!-- X4&#45;&gt;X2 -->\n",
       "<g id=\"edge4\" class=\"edge\">\n",
       "<title>X4&#45;&gt;X2</title>\n",
       "<path fill=\"none\" stroke=\"black\" d=\"M176.59,-223.53C150.84,-212.21 110.85,-193.16 101,-180 87.72,-162.26 83.29,-137.25 82,-118.25\"/>\n",
       "<polygon fill=\"black\" stroke=\"black\" points=\"85.49,-117.97 81.56,-108.13 78.49,-118.27 85.49,-117.97\"/>\n",
       "</g>\n",
       "<!-- X8 -->\n",
       "<g id=\"node4\" class=\"node\">\n",
       "<title>X8</title>\n",
       "<ellipse fill=\"none\" stroke=\"black\" cx=\"230\" cy=\"-90\" rx=\"27\" ry=\"18\"/>\n",
       "<text text-anchor=\"middle\" x=\"230\" y=\"-86.3\" font-family=\"Times,serif\" font-size=\"14.00\">X8</text>\n",
       "</g>\n",
       "<!-- X1 -->\n",
       "<g id=\"node7\" class=\"node\">\n",
       "<title>X1</title>\n",
       "<ellipse fill=\"none\" stroke=\"black\" cx=\"193\" cy=\"-18\" rx=\"27\" ry=\"18\"/>\n",
       "<text text-anchor=\"middle\" x=\"193\" y=\"-14.3\" font-family=\"Times,serif\" font-size=\"14.00\">X1</text>\n",
       "</g>\n",
       "<!-- X8&#45;&gt;X1 -->\n",
       "<g id=\"edge10\" class=\"edge\">\n",
       "<title>X8&#45;&gt;X1</title>\n",
       "<path fill=\"none\" stroke=\"black\" d=\"M221.42,-72.76C216.94,-64.28 211.35,-53.71 206.32,-44.2\"/>\n",
       "<polygon fill=\"black\" stroke=\"black\" points=\"209.3,-42.35 201.54,-35.15 203.11,-45.62 209.3,-42.35\"/>\n",
       "</g>\n",
       "<!-- X11 -->\n",
       "<g id=\"node5\" class=\"node\">\n",
       "<title>X11</title>\n",
       "<ellipse fill=\"none\" stroke=\"black\" cx=\"304\" cy=\"-162\" rx=\"28.7\" ry=\"18\"/>\n",
       "<text text-anchor=\"middle\" x=\"304\" y=\"-158.3\" font-family=\"Times,serif\" font-size=\"14.00\">X11</text>\n",
       "</g>\n",
       "<!-- X12 -->\n",
       "<g id=\"node12\" class=\"node\">\n",
       "<title>X12</title>\n",
       "<ellipse fill=\"none\" stroke=\"black\" cx=\"304\" cy=\"-90\" rx=\"28.7\" ry=\"18\"/>\n",
       "<text text-anchor=\"middle\" x=\"304\" y=\"-86.3\" font-family=\"Times,serif\" font-size=\"14.00\">X12</text>\n",
       "</g>\n",
       "<!-- X11&#45;&gt;X12 -->\n",
       "<g id=\"edge13\" class=\"edge\">\n",
       "<title>X11&#45;&gt;X12</title>\n",
       "<path fill=\"none\" stroke=\"black\" d=\"M304,-143.7C304,-135.98 304,-126.71 304,-118.11\"/>\n",
       "<polygon fill=\"black\" stroke=\"black\" points=\"307.5,-118.1 304,-108.1 300.5,-118.1 307.5,-118.1\"/>\n",
       "</g>\n",
       "<!-- X9&#45;&gt;X10 -->\n",
       "<g id=\"edge11\" class=\"edge\">\n",
       "<title>X9&#45;&gt;X10</title>\n",
       "<path fill=\"none\" stroke=\"black\" d=\"M197.24,-145.46C190.38,-136.4 181.58,-124.79 173.88,-114.61\"/>\n",
       "<polygon fill=\"black\" stroke=\"black\" points=\"176.56,-112.35 167.73,-106.49 170.98,-116.58 176.56,-112.35\"/>\n",
       "</g>\n",
       "<!-- X5 -->\n",
       "<g id=\"node8\" class=\"node\">\n",
       "<title>X5</title>\n",
       "<ellipse fill=\"none\" stroke=\"black\" cx=\"27\" cy=\"-234\" rx=\"27\" ry=\"18\"/>\n",
       "<text text-anchor=\"middle\" x=\"27\" y=\"-230.3\" font-family=\"Times,serif\" font-size=\"14.00\">X5</text>\n",
       "</g>\n",
       "<!-- X5&#45;&gt;X7 -->\n",
       "<g id=\"edge6\" class=\"edge\">\n",
       "<title>X5&#45;&gt;X7</title>\n",
       "<path fill=\"none\" stroke=\"black\" d=\"M27,-215.7C27,-207.98 27,-198.71 27,-190.11\"/>\n",
       "<polygon fill=\"black\" stroke=\"black\" points=\"30.5,-190.1 27,-180.1 23.5,-190.1 30.5,-190.1\"/>\n",
       "</g>\n",
       "<!-- X2&#45;&gt;X1 -->\n",
       "<g id=\"edge1\" class=\"edge\">\n",
       "<title>X2&#45;&gt;X1</title>\n",
       "<path fill=\"none\" stroke=\"black\" d=\"M101.08,-76.97C118.71,-65.85 145.12,-49.19 165.12,-36.58\"/>\n",
       "<polygon fill=\"black\" stroke=\"black\" points=\"167.2,-39.41 173.8,-31.11 163.47,-33.48 167.2,-39.41\"/>\n",
       "</g>\n",
       "<!-- X10&#45;&gt;X1 -->\n",
       "<g id=\"edge12\" class=\"edge\">\n",
       "<title>X10&#45;&gt;X1</title>\n",
       "<path fill=\"none\" stroke=\"black\" d=\"M164.58,-72.76C169.06,-64.28 174.65,-53.71 179.68,-44.2\"/>\n",
       "<polygon fill=\"black\" stroke=\"black\" points=\"182.89,-45.62 184.46,-35.15 176.7,-42.35 182.89,-45.62\"/>\n",
       "</g>\n",
       "<!-- X7&#45;&gt;X2 -->\n",
       "<g id=\"edge9\" class=\"edge\">\n",
       "<title>X7&#45;&gt;X2</title>\n",
       "<path fill=\"none\" stroke=\"black\" d=\"M38.93,-145.81C46.21,-136.55 55.66,-124.52 63.85,-114.09\"/>\n",
       "<polygon fill=\"black\" stroke=\"black\" points=\"66.66,-116.18 70.09,-106.16 61.16,-111.86 66.66,-116.18\"/>\n",
       "</g>\n",
       "<!-- X12&#45;&gt;X1 -->\n",
       "<g id=\"edge14\" class=\"edge\">\n",
       "<title>X12&#45;&gt;X1</title>\n",
       "<path fill=\"none\" stroke=\"black\" d=\"M284.41,-76.65C266.71,-65.48 240.46,-48.93 220.63,-36.42\"/>\n",
       "<polygon fill=\"black\" stroke=\"black\" points=\"222.35,-33.37 212.02,-31 218.61,-39.29 222.35,-33.37\"/>\n",
       "</g>\n",
       "</g>\n",
       "</svg>\n"
      ],
      "text/plain": [
       "<graphviz.graphs.Digraph at 0x74994f593a90>"
      ]
     },
     "execution_count": 5,
     "metadata": {},
     "output_type": "execute_result"
    }
   ],
   "source": [
    "# Plotting the causal DAG\n",
    "lateToWorkX.draw()"
   ]
  },
  {
   "cell_type": "markdown",
   "id": "c0ecd215",
   "metadata": {},
   "source": [
    "### Step 1.3: Show the Joint Distibution of the Causal Network (1%)"
   ]
  },
  {
   "cell_type": "code",
   "execution_count": 6,
   "id": "db48a940",
   "metadata": {},
   "outputs": [
    {
     "name": "stdout",
     "output_type": "stream",
     "text": [
      "P(X3)P(X4)P(X5)P(X6)P(X8)P(X11)P(X9|X4,X6)P(X7|X5,X6)P(X12|X11)P(X10|X9,X3)P(X2|X4,X3,X7)P(X1|X2,X10,X8,X12)\n"
     ]
    }
   ],
   "source": [
    "print(lateToWorkX.get_distribution())"
   ]
  },
  {
   "cell_type": "markdown",
   "id": "f33fdb51",
   "metadata": {},
   "source": [
    "### Step 1.4: Run the intervention do(“road is blocked”) (7%)"
   ]
  },
  {
   "cell_type": "code",
   "execution_count": 7,
   "id": "047e9c72",
   "metadata": {},
   "outputs": [
    {
     "data": {
      "text/plain": [
       "CausalGraphicalModel(X1, X10, X11, X12, X2, X3, X4, X5, X6, X7, X8, X9)"
      ]
     },
     "execution_count": 7,
     "metadata": {},
     "output_type": "execute_result"
    }
   ],
   "source": [
    "# Running the intervention do(\"road is blocked\")\n",
    "x9_do = lateToWorkX.do('X9') # X9 = road is blocked\n",
    "x9_do"
   ]
  },
  {
   "cell_type": "markdown",
   "id": "c4a839dc",
   "metadata": {},
   "source": [
    "### Step 1.5: Show the Causal DAG with the intervention \"on\" (1%)"
   ]
  },
  {
   "cell_type": "code",
   "execution_count": 8,
   "id": "cd305a3b",
   "metadata": {},
   "outputs": [
    {
     "data": {
      "image/svg+xml": [
       "<?xml version=\"1.0\" encoding=\"UTF-8\" standalone=\"no\"?>\n",
       "<!DOCTYPE svg PUBLIC \"-//W3C//DTD SVG 1.1//EN\"\n",
       " \"http://www.w3.org/Graphics/SVG/1.1/DTD/svg11.dtd\">\n",
       "<!-- Generated by graphviz version 2.43.0 (0)\n",
       " -->\n",
       "<!-- Title: %3 Pages: 1 -->\n",
       "<svg width=\"362pt\" height=\"268pt\"\n",
       " viewBox=\"0.00 0.00 361.60 268.00\" xmlns=\"http://www.w3.org/2000/svg\" xmlns:xlink=\"http://www.w3.org/1999/xlink\">\n",
       "<g id=\"graph0\" class=\"graph\" transform=\"scale(1 1) rotate(0) translate(4 264)\">\n",
       "<title>%3</title>\n",
       "<polygon fill=\"white\" stroke=\"transparent\" points=\"-4,4 -4,-264 357.6,-264 357.6,4 -4,4\"/>\n",
       "<!-- X3 -->\n",
       "<g id=\"node1\" class=\"node\">\n",
       "<title>X3</title>\n",
       "<ellipse fill=\"none\" stroke=\"black\" cx=\"107\" cy=\"-166\" rx=\"27\" ry=\"18\"/>\n",
       "<text text-anchor=\"middle\" x=\"107\" y=\"-162.3\" font-family=\"Times,serif\" font-size=\"14.00\">X3</text>\n",
       "</g>\n",
       "<!-- X2 -->\n",
       "<g id=\"node9\" class=\"node\">\n",
       "<title>X2</title>\n",
       "<ellipse fill=\"none\" stroke=\"black\" cx=\"179\" cy=\"-90\" rx=\"27\" ry=\"18\"/>\n",
       "<text text-anchor=\"middle\" x=\"179\" y=\"-86.3\" font-family=\"Times,serif\" font-size=\"14.00\">X2</text>\n",
       "</g>\n",
       "<!-- X3&#45;&gt;X2 -->\n",
       "<g id=\"edge1\" class=\"edge\">\n",
       "<title>X3&#45;&gt;X2</title>\n",
       "<path fill=\"none\" stroke=\"black\" d=\"M121.22,-150.38C131.58,-139.74 145.78,-125.14 157.52,-113.08\"/>\n",
       "<polygon fill=\"black\" stroke=\"black\" points=\"160.34,-115.2 164.8,-105.59 155.32,-110.32 160.34,-115.2\"/>\n",
       "</g>\n",
       "<!-- X10 -->\n",
       "<g id=\"node10\" class=\"node\">\n",
       "<title>X10</title>\n",
       "<ellipse fill=\"none\" stroke=\"black\" cx=\"105\" cy=\"-90\" rx=\"28.7\" ry=\"18\"/>\n",
       "<text text-anchor=\"middle\" x=\"105\" y=\"-86.3\" font-family=\"Times,serif\" font-size=\"14.00\">X10</text>\n",
       "</g>\n",
       "<!-- X3&#45;&gt;X10 -->\n",
       "<g id=\"edge2\" class=\"edge\">\n",
       "<title>X3&#45;&gt;X10</title>\n",
       "<path fill=\"none\" stroke=\"black\" d=\"M106.54,-147.84C106.3,-139.06 106,-128.16 105.74,-118.27\"/>\n",
       "<polygon fill=\"black\" stroke=\"black\" points=\"109.23,-117.97 105.46,-108.07 102.23,-118.16 109.23,-117.97\"/>\n",
       "</g>\n",
       "<!-- X6 -->\n",
       "<g id=\"node2\" class=\"node\">\n",
       "<title>X6</title>\n",
       "<ellipse fill=\"none\" stroke=\"black\" cx=\"215\" cy=\"-242\" rx=\"27\" ry=\"18\"/>\n",
       "<text text-anchor=\"middle\" x=\"215\" y=\"-238.3\" font-family=\"Times,serif\" font-size=\"14.00\">X6</text>\n",
       "</g>\n",
       "<!-- X7 -->\n",
       "<g id=\"node11\" class=\"node\">\n",
       "<title>X7</title>\n",
       "<ellipse fill=\"none\" stroke=\"black\" cx=\"251\" cy=\"-166\" rx=\"27\" ry=\"18\"/>\n",
       "<text text-anchor=\"middle\" x=\"251\" y=\"-162.3\" font-family=\"Times,serif\" font-size=\"14.00\">X7</text>\n",
       "</g>\n",
       "<!-- X6&#45;&gt;X7 -->\n",
       "<g id=\"edge3\" class=\"edge\">\n",
       "<title>X6&#45;&gt;X7</title>\n",
       "<path fill=\"none\" stroke=\"black\" d=\"M222.99,-224.58C227.56,-215.19 233.39,-203.21 238.54,-192.61\"/>\n",
       "<polygon fill=\"black\" stroke=\"black\" points=\"241.81,-193.9 243.03,-183.38 235.51,-190.84 241.81,-193.9\"/>\n",
       "</g>\n",
       "<!-- X4 -->\n",
       "<g id=\"node3\" class=\"node\">\n",
       "<title>X4</title>\n",
       "<ellipse fill=\"none\" stroke=\"black\" cx=\"179\" cy=\"-166\" rx=\"27\" ry=\"18\"/>\n",
       "<text text-anchor=\"middle\" x=\"179\" y=\"-162.3\" font-family=\"Times,serif\" font-size=\"14.00\">X4</text>\n",
       "</g>\n",
       "<!-- X4&#45;&gt;X2 -->\n",
       "<g id=\"edge4\" class=\"edge\">\n",
       "<title>X4&#45;&gt;X2</title>\n",
       "<path fill=\"none\" stroke=\"black\" d=\"M179,-147.84C179,-139.06 179,-128.16 179,-118.27\"/>\n",
       "<polygon fill=\"black\" stroke=\"black\" points=\"182.5,-118.07 179,-108.07 175.5,-118.07 182.5,-118.07\"/>\n",
       "</g>\n",
       "<!-- X8 -->\n",
       "<g id=\"node4\" class=\"node\">\n",
       "<title>X8</title>\n",
       "<ellipse fill=\"none\" stroke=\"black\" cx=\"251\" cy=\"-90\" rx=\"27\" ry=\"18\"/>\n",
       "<text text-anchor=\"middle\" x=\"251\" y=\"-86.3\" font-family=\"Times,serif\" font-size=\"14.00\">X8</text>\n",
       "</g>\n",
       "<!-- X1 -->\n",
       "<g id=\"node7\" class=\"node\">\n",
       "<title>X1</title>\n",
       "<ellipse fill=\"none\" stroke=\"black\" cx=\"215\" cy=\"-18\" rx=\"27\" ry=\"18\"/>\n",
       "<text text-anchor=\"middle\" x=\"215\" y=\"-14.3\" font-family=\"Times,serif\" font-size=\"14.00\">X1</text>\n",
       "</g>\n",
       "<!-- X8&#45;&gt;X1 -->\n",
       "<g id=\"edge5\" class=\"edge\">\n",
       "<title>X8&#45;&gt;X1</title>\n",
       "<path fill=\"none\" stroke=\"black\" d=\"M242.65,-72.76C238.29,-64.28 232.85,-53.71 227.96,-44.2\"/>\n",
       "<polygon fill=\"black\" stroke=\"black\" points=\"230.99,-42.44 223.3,-35.15 224.77,-45.64 230.99,-42.44\"/>\n",
       "</g>\n",
       "<!-- X11 -->\n",
       "<g id=\"node5\" class=\"node\">\n",
       "<title>X11</title>\n",
       "<ellipse fill=\"none\" stroke=\"black\" cx=\"325\" cy=\"-166\" rx=\"28.7\" ry=\"18\"/>\n",
       "<text text-anchor=\"middle\" x=\"325\" y=\"-162.3\" font-family=\"Times,serif\" font-size=\"14.00\">X11</text>\n",
       "</g>\n",
       "<!-- X12 -->\n",
       "<g id=\"node12\" class=\"node\">\n",
       "<title>X12</title>\n",
       "<ellipse fill=\"none\" stroke=\"black\" cx=\"325\" cy=\"-90\" rx=\"28.7\" ry=\"18\"/>\n",
       "<text text-anchor=\"middle\" x=\"325\" y=\"-86.3\" font-family=\"Times,serif\" font-size=\"14.00\">X12</text>\n",
       "</g>\n",
       "<!-- X11&#45;&gt;X12 -->\n",
       "<g id=\"edge6\" class=\"edge\">\n",
       "<title>X11&#45;&gt;X12</title>\n",
       "<path fill=\"none\" stroke=\"black\" d=\"M325,-147.84C325,-139.06 325,-128.16 325,-118.27\"/>\n",
       "<polygon fill=\"black\" stroke=\"black\" points=\"328.5,-118.07 325,-108.07 321.5,-118.07 328.5,-118.07\"/>\n",
       "</g>\n",
       "<!-- X9 -->\n",
       "<g id=\"node6\" class=\"node\">\n",
       "<title>X9</title>\n",
       "<ellipse fill=\"none\" stroke=\"black\" cx=\"31\" cy=\"-166\" rx=\"27\" ry=\"18\"/>\n",
       "<ellipse fill=\"none\" stroke=\"black\" cx=\"31\" cy=\"-166\" rx=\"31\" ry=\"22\"/>\n",
       "<text text-anchor=\"middle\" x=\"31\" y=\"-162.3\" font-family=\"Times,serif\" font-size=\"14.00\">X9</text>\n",
       "</g>\n",
       "<!-- X9&#45;&gt;X10 -->\n",
       "<g id=\"edge7\" class=\"edge\">\n",
       "<title>X9&#45;&gt;X10</title>\n",
       "<path fill=\"none\" stroke=\"black\" d=\"M48.54,-147.46C58.82,-137.18 71.9,-124.1 82.88,-113.12\"/>\n",
       "<polygon fill=\"black\" stroke=\"black\" points=\"85.49,-115.46 90.09,-105.91 80.54,-110.51 85.49,-115.46\"/>\n",
       "</g>\n",
       "<!-- X5 -->\n",
       "<g id=\"node8\" class=\"node\">\n",
       "<title>X5</title>\n",
       "<ellipse fill=\"none\" stroke=\"black\" cx=\"287\" cy=\"-242\" rx=\"27\" ry=\"18\"/>\n",
       "<text text-anchor=\"middle\" x=\"287\" y=\"-238.3\" font-family=\"Times,serif\" font-size=\"14.00\">X5</text>\n",
       "</g>\n",
       "<!-- X5&#45;&gt;X7 -->\n",
       "<g id=\"edge8\" class=\"edge\">\n",
       "<title>X5&#45;&gt;X7</title>\n",
       "<path fill=\"none\" stroke=\"black\" d=\"M279.01,-224.58C274.44,-215.19 268.61,-203.21 263.46,-192.61\"/>\n",
       "<polygon fill=\"black\" stroke=\"black\" points=\"266.49,-190.84 258.97,-183.38 260.19,-193.9 266.49,-190.84\"/>\n",
       "</g>\n",
       "<!-- X2&#45;&gt;X1 -->\n",
       "<g id=\"edge9\" class=\"edge\">\n",
       "<title>X2&#45;&gt;X1</title>\n",
       "<path fill=\"none\" stroke=\"black\" d=\"M187.35,-72.76C191.71,-64.28 197.15,-53.71 202.04,-44.2\"/>\n",
       "<polygon fill=\"black\" stroke=\"black\" points=\"205.23,-45.64 206.7,-35.15 199.01,-42.44 205.23,-45.64\"/>\n",
       "</g>\n",
       "<!-- X10&#45;&gt;X1 -->\n",
       "<g id=\"edge10\" class=\"edge\">\n",
       "<title>X10&#45;&gt;X1</title>\n",
       "<path fill=\"none\" stroke=\"black\" d=\"M124.41,-76.65C141.96,-65.48 167.96,-48.93 187.62,-36.42\"/>\n",
       "<polygon fill=\"black\" stroke=\"black\" points=\"189.59,-39.32 196.15,-31 185.83,-33.41 189.59,-39.32\"/>\n",
       "</g>\n",
       "<!-- X7&#45;&gt;X2 -->\n",
       "<g id=\"edge11\" class=\"edge\">\n",
       "<title>X7&#45;&gt;X2</title>\n",
       "<path fill=\"none\" stroke=\"black\" d=\"M236.78,-150.38C226.42,-139.74 212.22,-125.14 200.48,-113.08\"/>\n",
       "<polygon fill=\"black\" stroke=\"black\" points=\"202.68,-110.32 193.2,-105.59 197.66,-115.2 202.68,-110.32\"/>\n",
       "</g>\n",
       "<!-- X12&#45;&gt;X1 -->\n",
       "<g id=\"edge12\" class=\"edge\">\n",
       "<title>X12&#45;&gt;X1</title>\n",
       "<path fill=\"none\" stroke=\"black\" d=\"M305.59,-76.65C288.04,-65.48 262.04,-48.93 242.38,-36.42\"/>\n",
       "<polygon fill=\"black\" stroke=\"black\" points=\"244.17,-33.41 233.85,-31 240.41,-39.32 244.17,-33.41\"/>\n",
       "</g>\n",
       "</g>\n",
       "</svg>\n"
      ],
      "text/plain": [
       "<graphviz.graphs.Digraph at 0x74994f5926e0>"
      ]
     },
     "execution_count": 8,
     "metadata": {},
     "output_type": "execute_result"
    }
   ],
   "source": [
    "# Showing the causal DAG with the intervention 'on'\n",
    "x9_do.draw()"
   ]
  },
  {
   "cell_type": "markdown",
   "id": "93c3bfd3",
   "metadata": {},
   "source": [
    "### Step 1.6: Show the Joint Distibution of the Causal Network with the intervention \"on\" (1%)"
   ]
  },
  {
   "cell_type": "code",
   "execution_count": 9,
   "id": "54ef9671",
   "metadata": {},
   "outputs": [
    {
     "name": "stdout",
     "output_type": "stream",
     "text": [
      "P(X3)P(X6)P(X4)P(X8)P(X11)P(X5)P(X12|X11)P(X10|X3,do(X9))P(X7|X5,X6)P(X2|X3,X4,X7)P(X1|X2,X8,X10,X12)\n"
     ]
    }
   ],
   "source": [
    "# Joint distribution of the causal network with the interventionof X9 'on'\n",
    "print(x9_do.get_distribution())"
   ]
  },
  {
   "cell_type": "markdown",
   "id": "15270698",
   "metadata": {},
   "source": [
    "***\n",
    "## Note\n",
    "In <b>Step 2</b> you need to transform the model, you have built in Step 1, to a Bayesian Network. Here, you will need to repeat some of the activities you have already done in E-tivity 2. Please, consider all the random variables <b>X</b> binary and the probability distribution of each variable as <b>{true=50%, false=50%}</b>. \n",
    "***"
   ]
  },
  {
   "cell_type": "markdown",
   "id": "e9de73a9",
   "metadata": {},
   "source": [
    "## Step 2: Create and Execute the Bayesian Network (50%)"
   ]
  },
  {
   "cell_type": "markdown",
   "id": "bd3ae2ef",
   "metadata": {},
   "source": [
    "### Step 2.1: Create and show the DAG of the Bayesian Network (20%)"
   ]
  },
  {
   "cell_type": "markdown",
   "id": "003634a5-ac16-4474-a03b-1cf7ccbc8229",
   "metadata": {},
   "source": [
    "#### Creating a Bayesian Network"
   ]
  },
  {
   "cell_type": "code",
   "execution_count": 10,
   "id": "c350d2fb",
   "metadata": {},
   "outputs": [],
   "source": [
    "# use the pgmpy library: \"from pgmpy.models import BayesianNetwork\"\n",
    "from pgmpy.models import BayesianNetwork\n",
    "from pgmpy.factors.discrete import TabularCPD\n",
    "import networkx as nx\n",
    "import matplotlib.pyplot as plt\n",
    "\n",
    "model = BayesianNetwork(edges) # using the same edges defined in the causal network above"
   ]
  },
  {
   "cell_type": "code",
   "execution_count": 11,
   "id": "1da73aa8-6489-4bc6-8a25-aaf2195edccb",
   "metadata": {},
   "outputs": [
    {
     "data": {
      "text/plain": [
       "NodeView(('X4', 'X2', 'X3', 'X1', 'X9', 'X6', 'X10', 'X5', 'X7', 'X8', 'X11', 'X12'))"
      ]
     },
     "execution_count": 11,
     "metadata": {},
     "output_type": "execute_result"
    }
   ],
   "source": [
    "model.nodes()"
   ]
  },
  {
   "cell_type": "code",
   "execution_count": 12,
   "id": "51b8a01e-bff3-4d6b-abe1-2e16c50b2dae",
   "metadata": {},
   "outputs": [
    {
     "data": {
      "text/plain": [
       "OutEdgeView([('X4', 'X2'), ('X4', 'X9'), ('X2', 'X1'), ('X3', 'X2'), ('X3', 'X10'), ('X9', 'X10'), ('X6', 'X9'), ('X6', 'X7'), ('X10', 'X1'), ('X5', 'X7'), ('X7', 'X2'), ('X8', 'X1'), ('X11', 'X12'), ('X12', 'X1')])"
      ]
     },
     "execution_count": 12,
     "metadata": {},
     "output_type": "execute_result"
    }
   ],
   "source": [
    "model.edges()"
   ]
  },
  {
   "cell_type": "markdown",
   "id": "f29774d1-82d0-40da-a3db-2f199f7a9311",
   "metadata": {},
   "source": [
    "#### Creating the DAG of the Bayesian Network"
   ]
  },
  {
   "cell_type": "code",
   "execution_count": 13,
   "id": "55e86226-6250-4d3a-a3d9-048610705e05",
   "metadata": {},
   "outputs": [
    {
     "data": {
      "image/png": "[encoded data removed]",
      "text/plain": [
       "<Figure size 640x480 with 1 Axes>"
      ]
     },
     "metadata": {},
     "output_type": "display_data"
    }
   ],
   "source": [
    "pos = nx.circular_layout(model)\n",
    "nx.draw(model, pos=pos, with_labels=True, node_color='#23faf3')\n",
    "plt.show()"
   ]
  },
  {
   "cell_type": "markdown",
   "id": "9fc20d41",
   "metadata": {},
   "source": [
    "### Step 2.2: Create the Conditional Probability Distributions of the Bayesian Network (20%)"
   ]
  },
  {
   "cell_type": "markdown",
   "id": "c75f3377",
   "metadata": {},
   "source": [
    "#### Step 2.2.1: Build the probability distribution tables with TabularCPD (16%)"
   ]
  },
  {
   "cell_type": "markdown",
   "id": "2a0b439c-aee6-4f1e-97d7-6ac7df2b668e",
   "metadata": {},
   "source": [
    "Building CPD tables for independent variables **(X3, X4, X5, X6, X8, X11)** and direct one-to-one causal relationships **(X12)**."
   ]
  },
  {
   "cell_type": "code",
   "execution_count": 14,
   "id": "f0190af6-7800-4f76-96b0-a91a72e66dd8",
   "metadata": {},
   "outputs": [],
   "source": [
    "# -----------------------------------------------------\n",
    "# Independent variables\n",
    "# -----------------------------------------------------\n",
    "# define CPD for \"traffic_jam\" (X3)\n",
    "cpd_x3 = TabularCPD (\n",
    "    variable=\"X3\",\n",
    "    variable_card=2,\n",
    "    values=[[0.5], [0.5]] # P(traffic_jam=True)=0.5, P(traffic_jam=False)=0.5\n",
    ")\n",
    "\n",
    "# define CPD for \"traffic_accident\" (X4)\n",
    "cpd_x4 = TabularCPD (\n",
    "    variable=\"X4\",\n",
    "    variable_card=2,\n",
    "    values=[[0.5], [0.5]] # P(traffic_accident=True)=0.5, P(traffic_accident=False)=0.5\n",
    ")\n",
    "\n",
    "# define CPD for \"heavy_rain\" (X5)\n",
    "cpd_x5 = TabularCPD (\n",
    "    variable=\"X5\",\n",
    "    variable_card=2,\n",
    "    values=[[0.5], [0.5]] # P(heavy_rain=True)=0.5, P(heavy_rain=False)=0.5\n",
    ")\n",
    "\n",
    "# define CPD for \"snow\" (X6)\n",
    "cpd_x6 = TabularCPD (\n",
    "    variable=\"X6\",\n",
    "    variable_card=2,\n",
    "    values=[[0.5], [0.5]] # P(snow=True)=0.5, P(snow=False)=0.5\n",
    ")\n",
    "\n",
    "# define CPD for \"getting_up_late\" (X8)\n",
    "cpd_x8 = TabularCPD (\n",
    "    variable=\"X8\",\n",
    "    variable_card=2,\n",
    "    values=[[0.5], [0.5]] # P(getting_up_late=True)=0.5, P(getting_up_late=False)=0.5\n",
    ")\n",
    "\n",
    "# define CPD for \"car_malfunction\" (X11)\n",
    "cpd_x11 = TabularCPD (\n",
    "    variable=\"X11\",\n",
    "    variable_card=2,\n",
    "    values=[[0.5], [0.5]] # P(car_malfunction=True)=0.5, P(car_malfunction=False)=0.5\n",
    ")\n",
    "\n",
    "# -----------------------------------------------------\n",
    "# Variables with direct one-to-one causal realtionships\n",
    "# -----------------------------------------------------\n",
    "# define CPD for \"car_towing\" (X12)\n",
    "cpd_x12 = TabularCPD (\n",
    "    variable=\"X12\",\n",
    "    variable_card=2,\n",
    "    values=[[0.5, 0.5], \n",
    "            [0.5, 0.5]], # P(car_malfunction=True|car_towing=True)=0.5, P(car_malfunction=False|car_towing=False)=0.5\n",
    "    evidence=[\"X11\"],\n",
    "    evidence_card=[2]\n",
    ")"
   ]
  },
  {
   "cell_type": "markdown",
   "id": "5b48e218-fe65-4ae1-8d7c-bbb3729fca53",
   "metadata": {},
   "source": [
    "Building CPD tables for dependent variables with many-to-one relationships **(X1, X2, X7, X9, X10)**"
   ]
  },
  {
   "cell_type": "code",
   "execution_count": 15,
   "id": "b4241adf",
   "metadata": {},
   "outputs": [],
   "source": [
    "# -----------------------------------------------------\n",
    "# Variables with many-to-one causal realtionships\n",
    "# -----------------------------------------------------\n",
    "# define CPD for \"slippery_road\" (X7)\n",
    "cpd_x7 = TabularCPD (\n",
    "    variable=\"X7\",\n",
    "    variable_card=2,\n",
    "\n",
    "    # X5 = heavy_rain, X6 = snow\n",
    "    # X7=True => {[X5=False, X6=False], [X5=True, X6=False], [X5=False, X6=True],[X5=True, X6=True]}\n",
    "    # X7=False => {[X5=False, X6=False], [X5=True, X6=False], [X5=False, X6=True],[X5=True, X6=True]}\n",
    "    # X7=True + X7=False = 1\n",
    "    values=[[0.5, 0.5, 0.5, 0.5], # Having all probabilies 0.5 because that is what is asked for the task. \n",
    "            [0.5, 0.5, 0.5, 0.5]], # In reality this would have a distribution of the OR logic gate.\n",
    "\n",
    "    # define the evidences - one of the causes must be true \n",
    "    evidence=[\"X5\", \"X6\"],\n",
    "    evidence_card=[2,2]\n",
    ")\n",
    "\n",
    "# define CPD for \"slippery_road\" (X9)\n",
    "cpd_x9 = TabularCPD (\n",
    "    variable=\"X9\",\n",
    "    variable_card=2,\n",
    "\n",
    "    # X4 = traffic_accident, X6 = snow\n",
    "    # X9=True => {[X4=False, X6=False], [X4=True, X6=False], [X4=False, X6=True],[X4=True, X6=True]}\n",
    "    # X9=False => {[X4=False, X6=False], [X4=True, X6=False], [X4=False, X6=True],[X4=True, X6=True]}\n",
    "    # X9=True + X9=False = 1\n",
    "    values=[[0.5, 0.5, 0.5, 0.5], # Having all probabilies 0.5 because that is what is asked for the task. \n",
    "            [0.5, 0.5, 0.5, 0.5]], # 2^2 possible combinations\n",
    "\n",
    "    # define the evidences - one of the causes must be true \n",
    "    evidence=[\"X4\", \"X6\"],\n",
    "    evidence_card=[2,2]\n",
    ")\n",
    "\n",
    "# define CPD for \"taking_a_longer_alternate_route\" (X10)\n",
    "cpd_x10 = TabularCPD (\n",
    "    variable=\"X10\",\n",
    "    variable_card=2,\n",
    "\n",
    "    # X3 = traffic_jam, X9 = road_is_blocked\n",
    "    # X10=True => {[X3=True, X9=False], [X3=True, X9=False], [X3=False, X9=True],[X3=True, X9=True]}\n",
    "    # X10=False => {[X3=False, X9=False], [X3=True, X9=False], [X3=False, X9=True],[X3=True, X9=True]}\n",
    "    # X10=True + X10=False = 1\n",
    "    values=[[0.5, 0.5, 0.5, 0.5], # Having all probabilies 0.5 because that is what is asked for the task. \n",
    "            [0.5, 0.5, 0.5, 0.5]], # 2^2 possible combinations\n",
    "\n",
    "    # define the evidences - one of the causes must be true \n",
    "    evidence=[\"X3\", \"X9\"],\n",
    "    evidence_card=[2,2]\n",
    ")\n",
    "\n",
    "# define CPD for \"low_speed_due_to_long_vehicle_queues\" (X2)\n",
    "cpd_x2 = TabularCPD (\n",
    "    variable=\"X2\",\n",
    "    variable_card=2,\n",
    "\n",
    "    # X3 = traffic_jam, X4 = traffic_accident, X7 = slippery_road\n",
    "    # X2=True  => {[X3=False, X4=False, X7=False], [X3=False, X4=False, X7=True], [X3=False, X4=True, X7=False],[X3=False, X4=True, X7=True], \n",
    "    #              [X3=True, X4=False, X7=False], [X3=True, X4=False, X7=True], [X3=True, X4=True, X7=False],[X3=True, X4=True, X7=True]}\n",
    "    # X2=False => {[X3=False, X4=False, X7=False], [X3=False, X4=False, X7=True], [X3=False, X4=True, X7=False],[X3=False, X4=True, X7=True], \n",
    "    #              [X3=True, X4=False, X7=False], [X3=True, X4=False, X7=True], [X3=True, X4=True, X7=False],[X3=True, X4=True, X7=True]}\n",
    "    # X2=True + X2=False = 1\n",
    "    values=[[0.5, 0.5, 0.5, 0.5, 0.5, 0.5, 0.5, 0.5], # Having all probabilies 0.5 because that is what is asked for the task. \n",
    "            [0.5, 0.5, 0.5, 0.5, 0.5, 0.5, 0.5, 0.5]], # 2^3 possible combinations\n",
    "\n",
    "    # define the evidences - one of the causes must be true \n",
    "    evidence=[\"X3\", \"X4\", \"X7\"],\n",
    "    evidence_card=[2,2,2]\n",
    ")\n",
    "\n",
    "# define CPD for \"late_for_work\" (X1)\n",
    "cpd_x1 = TabularCPD (\n",
    "    variable=\"X1\",\n",
    "    variable_card=2,\n",
    "\n",
    "    # X2 = low_speed_due_to_long_vehicle_queues, X8 = getting_up_late, X10 = taking_a_longer_alternate_route, X12 = car_towing\n",
    "    # X1=True  => {[X2=False, X8=False, X10=False, X12=False], [X2=False, X8=False, X10=False, X12=True], [X2=False, X8=False, X10=True, X12=False], [X2=False, X8=False, X10=True, X12=True], \n",
    "    #              [X2=False, X8=True, X10=False, X12=False], [X2=False, X8=True, X10=False, X12=True], [X2=False, X8=True, X10=True, X12=False], [X2=False, X8=True, X10=True, X12=True], \n",
    "    #              [X2=True, X8=False, X10=False, X12=False], [X2=True, X8=False, X10=False, X12=True], [X2=True, X8=False, X10=True, X12=False],[X2=True, X8=False, X10=True, X12=True],\n",
    "    #              [X2=True, X8=True, X10=False, X12=False], [X2=True, X8=True, X10=False, X12=True], [X2=True, X8=True, X10=True, X12=False],[X2=True, X8=True, X10=True, X12=True]}\n",
    "    # X1=False => {[X2=False, X8=False, X10=False, X12=False], [X2=False, X8=False, X10=False, X12=True], [X2=False, X8=False, X10=True, X12=False], [X2=False, X8=False, X10=True, X12=True], \n",
    "    #              [X2=False, X8=True, X10=False, X12=False], [X2=False, X8=True, X10=False, X12=True], [X2=False, X8=True, X10=True, X12=False], [X2=False, X8=True, X10=True, X12=True], \n",
    "    #              [X2=True, X8=False, X10=False, X12=False], [X2=True, X8=False, X10=False, X12=True], [X2=True, X8=False, X10=True, X12=False],[X2=True, X8=False, X10=True, X12=True],\n",
    "    #              [X2=True, X8=True, X10=False, X12=False], [X2=True, X8=True, X10=False, X12=True], [X2=True, X8=True, X10=True, X12=False],[X2=True, X8=True, X10=True, X12=True]}\n",
    "    # X1=True + X1=False = 1\n",
    "    values=[[0.5] * (2**4), # Having all probabilies 0.5 because that is what is asked for the task. \n",
    "            [0.5] * (2**4)], # 2^4 because there are 4 binary variables that X1 depends on.\n",
    "\n",
    "    # define the evidences - one of the causes must be true \n",
    "    evidence=[\"X2\", \"X8\", \"X10\", \"X12\"],\n",
    "    evidence_card=[2,2,2,2]\n",
    ")"
   ]
  },
  {
   "cell_type": "markdown",
   "id": "b6b85948",
   "metadata": {},
   "source": [
    "#### Step 2.2.2: Associate the distribution models with the network structure (2%)"
   ]
  },
  {
   "cell_type": "code",
   "execution_count": 16,
   "id": "9c60a865",
   "metadata": {},
   "outputs": [],
   "source": [
    "model.add_cpds(cpd_x1, cpd_x2, cpd_x3, cpd_x4, cpd_x5, cpd_x6, cpd_x7, cpd_x8, cpd_x9, cpd_x10, cpd_x11, cpd_x12)"
   ]
  },
  {
   "cell_type": "markdown",
   "id": "5a52a7fa",
   "metadata": {},
   "source": [
    "#### Step 2.2.3: Check the model (2%)"
   ]
  },
  {
   "cell_type": "code",
   "execution_count": 17,
   "id": "06b6fdc3",
   "metadata": {},
   "outputs": [
    {
     "data": {
      "text/plain": [
       "True"
      ]
     },
     "execution_count": 17,
     "metadata": {},
     "output_type": "execute_result"
    }
   ],
   "source": [
    "model.check_model()"
   ]
  },
  {
   "cell_type": "markdown",
   "id": "9b258b7f",
   "metadata": {},
   "source": [
    "### Step 2.3: Infer Posterior Probability of “road is blocked” considering \"late for work\" as evidence. (10%)"
   ]
  },
  {
   "cell_type": "code",
   "execution_count": 18,
   "id": "a1acf2f0",
   "metadata": {},
   "outputs": [],
   "source": [
    "# show the probability results\n",
    "from pgmpy.inference import VariableElimination\n",
    " \n",
    "infer = VariableElimination(model)"
   ]
  },
  {
   "cell_type": "markdown",
   "id": "e3a7fec9-9b4f-4a43-bb29-0dc3a0aaab24",
   "metadata": {},
   "source": [
    "Evidence \"late_for_work\" can have two values of True/False. We shall infer the posterior probability for both cases of the evidence."
   ]
  },
  {
   "cell_type": "code",
   "execution_count": 20,
   "id": "983fabb1",
   "metadata": {},
   "outputs": [
    {
     "name": "stdout",
     "output_type": "stream",
     "text": [
      "+-------+-----------+\n",
      "| X9    |   phi(X9) |\n",
      "+=======+===========+\n",
      "| X9(0) |    0.5000 |\n",
      "+-------+-----------+\n",
      "| X9(1) |    0.5000 |\n",
      "+-------+-----------+\n"
     ]
    }
   ],
   "source": [
    "# posterior probability results for X1=True\n",
    "# evidence={'X1': 1} means 'late_for_work' (X1) = True\n",
    "posterior_p_x9_x1_true = infer.query(['X9'], evidence={'X1': 1}) # X9 = road_is_blocked\n",
    "print(posterior_p_x9_x1_true)"
   ]
  },
  {
   "cell_type": "code",
   "execution_count": 22,
   "id": "af67f6a8-9d75-406b-b577-a517e0e1a395",
   "metadata": {},
   "outputs": [
    {
     "name": "stdout",
     "output_type": "stream",
     "text": [
      "+-------+-----------+\n",
      "| X9    |   phi(X9) |\n",
      "+=======+===========+\n",
      "| X9(0) |    0.5000 |\n",
      "+-------+-----------+\n",
      "| X9(1) |    0.5000 |\n",
      "+-------+-----------+\n"
     ]
    }
   ],
   "source": [
    "# posterior probability results for X1=False\n",
    "# evidence={'X1': 0} means 'late_for_work' (X1) = False\n",
    "posterior_p_x9_x1_false = infer.query(['X9'], evidence={'X1': 0}) # X9 = road_is_blocked\n",
    "print(posterior_p_x9_x1_false)"
   ]
  },
  {
   "cell_type": "markdown",
   "id": "070afd8a-04b8-4ed5-9731-ced7a85c6816",
   "metadata": {},
   "source": [
    "The posterior probabilities are all 0.5 above because we'd specified all binary probability distribution values to be 0.5."
   ]
  }
 ],
 "metadata": {
  "kernelspec": {
   "display_name": "Python 3 (ipykernel)",
   "language": "python",
   "name": "python3"
  },
  "language_info": {
   "codemirror_mode": {
    "name": "ipython",
    "version": 3
   },
   "file_extension": ".py",
   "mimetype": "text/x-python",
   "name": "python",
   "nbconvert_exporter": "python",
   "pygments_lexer": "ipython3",
   "version": "3.10.12"
  }
 },
 "nbformat": 4,
 "nbformat_minor": 5
}
