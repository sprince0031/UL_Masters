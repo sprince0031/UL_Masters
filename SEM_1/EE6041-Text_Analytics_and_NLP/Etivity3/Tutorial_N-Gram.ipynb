{
 "cells": [
  {
   "cell_type": "markdown",
   "id": "0f7482c9-d6d2-4b53-ae5e-ff289eafb40c",
   "metadata": {},
   "source": [
    "**Refer to the below tutorial support document**  \n",
    "[EE6041 SEM1 20234 Etivity3- TUT material](https://docs.google.com/document/d/1akPoWH8BOCjhm3Dz6ZaghldeCQbrKMG_M107r6qJ_mA/)"
   ]
  },
  {
   "cell_type": "markdown",
   "id": "3745d92c-32dd-41be-8254-3a1f4b5538a3",
   "metadata": {},
   "source": [
    "# Task 1\n",
    "### Calculating the probability of sentences *a* and *b* with and without Add-one Laplace smoothing\n",
    "\n",
    "a. \"I want to want\"  \n",
    "b. \"I want to spend\"  \n",
    "\n",
    "We can calculate the probability for \"I want to\" which would be common for both sentences. The formula for this would be according to the formula,  \n",
    "\n",
    "### $P(w_{i}|w_{i-1}) = \\frac{c(w_{i-1},w_{i})} {c(w_{i-1})}$  \n",
    "```\n",
    "where, c() -> count of,  \n",
    "       w -> represents the word,  \n",
    "       i -> current index  \n",
    "```\n",
    "\n",
    "Thus the probability for the sentence \"I want to\" will amount to the following as per the above formula,  \n",
    "$\\frac{827} {2533} * \\frac{608} {927} = 0.2141382084425178$  \n",
    "\n",
    "a. For \"I want to want\"  \n",
    "$0.2141382084425178 * \\frac{0} {2417} = 0$  \n",
    "\n",
    "b. For \"I want to spend\"  \n",
    "$0.2141382084425178 * \\frac{211} {2417} = 0.018693902350588026$  \n",
    "\n",
    "**With Add-One Laplace Smoothing**  \n",
    "As we can see for sentence 'a', the probability goes down to zero. \n",
    "### $P^{*}(w_{n}|w_{n-1}) = \\frac{c(w_{n-1}, w_{n})+1} {c(w_{n-1})+V}$"
   ]
  },
  {
   "cell_type": "code",
   "execution_count": 2,
   "id": "1767cc9c-a02a-429f-998b-6cf29da5103c",
   "metadata": {},
   "outputs": [
    {
     "data": {
      "text/plain": [
       "0.018693902350588026"
      ]
     },
     "execution_count": 2,
     "metadata": {},
     "output_type": "execute_result"
    }
   ],
   "source": [
    "(827/2533)*(608/927)\n",
    "(827/2533)*(608/927)*(211/2417)"
   ]
  }
 ],
 "metadata": {
  "kernelspec": {
   "display_name": "Python 3 (ipykernel)",
   "language": "python",
   "name": "python3"
  },
  "language_info": {
   "codemirror_mode": {
    "name": "ipython",
    "version": 3
   },
   "file_extension": ".py",
   "mimetype": "text/x-python",
   "name": "python",
   "nbconvert_exporter": "python",
   "pygments_lexer": "ipython3",
   "version": "3.10.12"
  }
 },
 "nbformat": 4,
 "nbformat_minor": 5
}
