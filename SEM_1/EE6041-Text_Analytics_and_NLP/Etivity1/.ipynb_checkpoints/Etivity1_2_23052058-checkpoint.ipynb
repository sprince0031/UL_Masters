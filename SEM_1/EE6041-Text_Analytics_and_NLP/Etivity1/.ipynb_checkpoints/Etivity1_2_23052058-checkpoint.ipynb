{
 "cells": [
  {
   "cell_type": "markdown",
   "id": "83e66546-7ce5-46be-a98a-b90977b615b5",
   "metadata": {},
   "source": [
    "Name: **Siddharth Prince**  \n",
    "Student ID: **23052058**"
   ]
  },
  {
   "cell_type": "code",
   "execution_count": null,
   "id": "48deb9e8-9a2e-4118-97e4-fc38b812275b",
   "metadata": {},
   "outputs": [],
   "source": [
    "# House keeping code including all imports\n",
    "\n"
   ]
  },
  {
   "cell_type": "markdown",
   "id": "9807a278-1f30-4e1d-a716-9482f2bfcc63",
   "metadata": {},
   "source": [
    "## Task 2.1\n",
    "\n",
    "Downloading the shakespeare corpus for all our processing"
   ]
  },
  {
   "cell_type": "code",
   "execution_count": 3,
   "id": "c69f6b22-e9d7-4b63-b9ca-913a6dca8389",
   "metadata": {},
   "outputs": [
    {
     "name": "stdout",
     "output_type": "stream",
     "text": [
      "['\\ufeffThe Project Gutenberg eBook of The Complete Works of William Shakespeare, by William Shakespeare', '', 'This eBook is for the use of anyone anywhere in the United States and', 'most other parts of the world at no cost and with almost no restrictions', 'whatsoever. You may copy it, give it away or re-use it under the terms', 'of the Project Gutenberg License included with this eBook or online at', 'www.gutenberg.org. If you are not located in the United States, you', 'will have to check the laws of the country where you are located before', 'using this eBook.', '', 'Title: The Complete Works of William Shakespeare', '', 'Author: William Shakespeare', '', 'Release Date: January 1994 [eBook #100]', '[Most recently updated: September 24, 2023]', '', 'Language: English', '', '', '*** START OF THE PROJECT GUTENBERG EBOOK THE COMPLETE WORKS OF WILLIAM SHAKESPEARE ***', '', '', '', '', 'The Complete Works of William Shakespeare', '', 'by William Shakespeare', '', '', '', '', '                    Contents', '', '    THE SONNETS', '    ALL’S WELL THAT ENDS WELL', '    THE TRAGEDY OF ANTONY AND CLEOPATRA', '    AS YOU LIKE IT', '    THE COMEDY OF ERRORS', '    THE TRAGEDY OF CORIOLANUS', '    CYMBELINE', '    THE TRAGEDY OF HAMLET, PRINCE OF DENMARK', '    THE FIRST PART OF KING HENRY THE FOURTH', '    THE SECOND PART OF KING HENRY THE FOURTH', '    THE LIFE OF KING HENRY THE FIFTH', '    THE FIRST PART OF HENRY THE SIXTH', '    THE SECOND PART OF KING HENRY THE SIXTH', '    THE THIRD PART OF KING HENRY THE SIXTH', '    KING HENRY THE EIGHTH', '    THE LIFE AND DEATH OF KING JOHN']\n"
     ]
    }
   ],
   "source": [
    "#TASK 2.1\n",
    "# !wget http://www.gutenberg.org/files/100/100-0.txt\n",
    "filePath = \"./100-0.txt\"\n",
    "ShakespeareFile = open(filePath, \"r\")\n",
    "ShakespeareContent = ShakespeareFile.read()\n",
    "ShakespeareContent = ShakespeareContent.splitlines()\n",
    "print(ShakespeareContent[0:50])"
   ]
  },
  {
   "cell_type": "markdown",
   "id": "75ecaa38-548a-4566-ac52-dfc5926d3183",
   "metadata": {},
   "source": [
    "## Task 2.2\n",
    "\n",
    "Tokenising using Keras."
   ]
  },
  {
   "cell_type": "code",
   "execution_count": null,
   "id": "39256418-2448-4915-8139-69d71c31fba8",
   "metadata": {},
   "outputs": [],
   "source": []
  }
 ],
 "metadata": {
  "kernelspec": {
   "display_name": "Python 3 (ipykernel)",
   "language": "python",
   "name": "python3"
  },
  "language_info": {
   "codemirror_mode": {
    "name": "ipython",
    "version": 3
   },
   "file_extension": ".py",
   "mimetype": "text/x-python",
   "name": "python",
   "nbconvert_exporter": "python",
   "pygments_lexer": "ipython3",
   "version": "3.10.12"
  }
 },
 "nbformat": 4,
 "nbformat_minor": 5
}
