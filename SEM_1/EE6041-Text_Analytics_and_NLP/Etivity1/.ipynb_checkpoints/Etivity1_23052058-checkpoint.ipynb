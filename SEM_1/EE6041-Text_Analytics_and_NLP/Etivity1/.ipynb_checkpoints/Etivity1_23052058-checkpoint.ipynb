{
 "cells": [
  {
   "cell_type": "markdown",
   "id": "bea2f0bc-a9f4-4680-9901-78bd6dd68ea4",
   "metadata": {},
   "source": [
    "Name: **Siddharth Prince**  \n",
    "Student ID: **23052058**"
   ]
  },
  {
   "cell_type": "markdown",
   "id": "c5d04142-4444-4786-8a7c-560217303e50",
   "metadata": {},
   "source": [
    "### Improvements over my initial submission:\n",
    "- Improved the regex logic used where instead of getting a list of matches for the pattern generically, the regex has been divided into two separate groups with an optional component of a space or hyphen character in between.  \n",
    "  - This way I can get the routing key and unique identifier parts of the Eircode directly from the match object which is much a simpler and straightforward approach.\n",
    "  - I previously resorted to adding another redundant regex check for the space/hyphen separator when I used the findall() method followed by a string splicing step in case the code was not separated this way.\n",
    "\n",
    "  \n",
    "   New regex: ^([A-Z0-9]{3})[\\s-]?([A-Z0-9]{4})$  \n",
    "   \n",
    "   Old regex: ^[A-Z0-9\\s-]{7,8}$\n",
    "  \n",
    "- The validate method only returns True i.e, valid if the routing key has a match in the database. If not, it is still invalid even if the Eircode provided follows an acceptable string pattern.  \n",
    "  - For example, the Eircode, \"Z94 XK4X\" is invalid eventhough the string pattern is acceptable because \"Z94\" does not correspond to any existing district.  \n",
    "  - This key validation condition was missed in the initial submission of this notebook.\n",
    "\n",
    "#### [Link to original submission](https://colab.research.google.com/drive/1LY5qW-DGQOfyDTnXi5-R60g0fluN0lLF?usp=sharing)\n",
    "    \n",
    "#### Reference:\n",
    "Got the above insights for improving my work when reviewing fellow colleague, [Dawid Kocik's (19233116) notebook](https://learn.ul.ie/d2l/le/10929/discussions/threads/9564/View)."
   ]
  },
  {
   "cell_type": "markdown",
   "id": "faade937-77fb-4b11-be2a-0cc42d02c725",
   "metadata": {},
   "source": [
    "### House keeping code"
   ]
  },
  {
   "cell_type": "code",
   "execution_count": 1,
   "id": "c5bf5e7c-b638-4f88-ab49-938be60d2ee9",
   "metadata": {},
   "outputs": [
    {
     "name": "stdout",
     "output_type": "stream",
     "text": [
      "{'ROUTING KEY': 'DESCRIPTOR', 'A41': 'BALLYBOUGHAL', 'A42': 'GARRISTOWN', 'A45': 'OLDTOWN', 'A63': 'GREYSTONES', 'A67': 'WICKLOW', 'A75': 'CASTLEBLAYNEY', 'A81': 'CARRICKMACROSS', 'A82': 'KELLS', 'A83': 'ENFIELD', 'A84': 'ASHBOURNE', 'A85': 'DUNSHAUGHLIN', 'A86': 'DUNBOYNE', 'A91': 'DUNDALK', 'A92': 'DROGHEDA', 'A94': 'BLACKROCK', 'A96': 'GLENAGEARY', 'A98': 'BRAY', 'C15': 'NAVAN', 'D01': 'DUBLIN 1', 'D02': 'DUBLIN 2', 'D03': 'DUBLIN 3', 'D04': 'DUBLIN 4', 'D05': 'DUBLIN 5', 'D06': 'DUBLIN 6', 'D07': 'DUBLIN 7', 'D08': 'DUBLIN 8', 'D09': 'DUBLIN 9', 'D10': 'DUBLIN 10', 'D11': 'DUBLIN 11', 'D12': 'DUBLIN 12', 'D13': 'DUBLIN 13', 'D14': 'DUBLIN 14', 'D15': 'DUBLIN 15', 'D16': 'DUBLIN 16', 'D17': 'DUBLIN 17', 'D18': 'DUBLIN 18', 'D20': 'DUBLIN 20', 'D22': 'DUBLIN 22', 'D24': 'DUBLIN 24', 'D6W': 'DUBLIN 6W', 'E21': 'CAHIR', 'E25': 'CASHEL', 'E32': 'CARRICK-ON-SUIR', 'E34': 'TIPPERARY', 'E41': 'THURLES', 'E45': 'NENAGH', 'E53': 'ROSCREA', 'E91': 'CLONMEL', 'F12': 'CLAREMORRIS', 'F23': 'CASTLEBAR', 'F26': 'BALLINA', 'F28': 'WESTPORT', 'F31': 'BALLINROBE', 'F35': 'BALLYHAUNIS', 'F42': 'ROSCOMMON', 'F45': 'CASTLEREA', 'F52': 'BOYLE', 'F56': 'BALLYMOTE', 'F91': 'SLIGO', 'F92': 'LETTERKENNY', 'F93': 'LIFFORD', 'F94': 'DONEGAL', 'H12': 'CAVAN', 'H14': 'BELTURBET', 'H16': 'COOTEHILL', 'H18': 'MONAGHAN', 'H23': 'CLONES', 'H53': 'BALLINASLOE', 'H54': 'TUAM', 'H62': 'LOUGHREA', 'H65': 'ATHENRY', 'H71': 'CLIFDEN', 'H91': 'GALWAY', 'K32': 'BALBRIGGAN', 'K34': 'SKERRIES', 'K36': 'MALAHIDE', 'K45': 'LUSK', 'K56': 'RUSH', 'K67': 'SWORDS', 'K78': 'LUCAN', 'N37': 'ATHLONE', 'N39': 'LONGFORD', 'N41': 'CARRICK-ON-SHANNON', 'N91': 'MULLINGAR', 'P12': 'MACROOM', 'P14': 'CORK - CROOKSTOWN', 'P17': 'KINSALE', 'P24': 'COBH', 'P25': 'MIDLETON', 'P31': 'BALLINCOLLIG', 'P32': 'CORK - DONOUGHMORE', 'P36': 'YOUGHAL', 'P43': 'CARRIGALINE', 'P47': 'CORK - DUNMANWAY', 'P51': 'MALLOW', 'P56': 'CHARLEVILLE', 'P61': 'FERMOY', 'P67': 'MITCHELSTOWN', 'P72': 'BANDON', 'P75': 'BANTRY', 'P81': 'SKIBBEREEN', 'P85': 'CLONAKILTY', 'R14': 'ATHY', 'R21': 'MUINE BHEAG', 'R32': 'PORTLAOISE', 'R35': 'TULLAMORE', 'R42': 'BIRR', 'R45': 'EDENDERRY', 'R51': 'KILDARE', 'R56': 'CURRAGH CAMP', 'R93': 'CARLOW', 'R95': 'KILKENNY', 'T12': 'CORK - BALLINHASSIG', 'T23': 'CORK - BLARNEY', 'T34': 'CORK - WHITECHURCH', 'T45': 'LITTLE ISLAND', 'T56': 'CORK - WATERGRASSHILL', 'V14': 'SHANNON', 'V15': 'KILRUSH', 'V23': 'CAHERCIVEEN', 'V31': 'LISTOWEL', 'V35': 'KILMALLOCK', 'V42': 'NEWCASTLE WEST', 'V92': 'TRALEE', 'V93': 'KILLARNEY', 'V94': 'LIMERICK', 'V95': 'ENNIS', 'W12': 'NEWBRIDGE', 'W23': 'MAYNOOTH', 'W34': 'MONASTEREVIN', 'W91': 'NAAS', 'X35': 'DUNGARVAN', 'X42': 'KILMACTHOMAS', 'X91': 'WATERFORD', 'Y14': 'ARKLOW', 'Y21': 'ENNISCORTHY', 'Y25': 'GOREY', 'Y34': 'NEW ROSS', 'Y35': 'WEXFORD'}\n"
     ]
    }
   ],
   "source": [
    "# Imports and declarations\n",
    "import re\n",
    "import csv\n",
    "\n",
    "# !wget https://gist.githubusercontent.com/ajoorabchi/eac194a79dd26de8864f9206b7842ff1/raw/8ea1d8d5f74b5b2724e378b43d4df6094990c7db/Eircode%2520Routing%2520Key%2520Boundaries.csv\n",
    "csvPath = \"./Eircode Routing Key Boundaries.csv\"\n",
    "\n",
    "with open(csvPath, 'r') as fhand:\n",
    "    reader = csv.reader(fhand)\n",
    "    keyRouteMap = dict(map(tuple, reader))\n",
    "print(keyRouteMap)"
   ]
  },
  {
   "cell_type": "markdown",
   "id": "5f3a5a9e-b557-477a-9539-d36f19c7e793",
   "metadata": {},
   "source": [
    "### Eircode validator implementation"
   ]
  },
  {
   "cell_type": "code",
   "execution_count": 2,
   "id": "328b243c-51e8-49a1-a76a-e79ca5717fc7",
   "metadata": {},
   "outputs": [],
   "source": [
    "# Class that has validation and geographical district resolution functionality\n",
    "class EircodeUtil:\n",
    "\n",
    "    # Contructor to perform initial validation\n",
    "    def __init__(self, eircode: str):\n",
    "        self.eircode = eircode\n",
    "        self.routingKey = None\n",
    "        self.uniqueIdentifier = None\n",
    "        self.district = None\n",
    "\n",
    "    def validate(self):\n",
    "        self.eircode = self.eircode.strip() # Stripping away any leading or trailing spaces.\n",
    "        '''\n",
    "        Checking to see if there are any invalid characters at all in the string. If so, we can end validation here itself.\n",
    "        Regex checks for uppercase alphabets, digits 3 characters long in the first group; optional '-' or space in the middle\n",
    "        and a final group of uppercase alphabets or digits that are 4 characters long.\n",
    "        '''\n",
    "        valRe = re.match(\"^([A-Z0-9]{3})[\\s-]?([A-Z0-9]{4})$\", self.eircode)\n",
    "        if valRe == None:\n",
    "            return self.runIfInvalid()\n",
    "            \n",
    "        self.routingKey, self.uniqueIdentifier = valRe.group(1), valRe.group(2)\n",
    "        print(f'Routing key = {self.routingKey}, Unique identifier = {self.uniqueIdentifier}')\n",
    "\n",
    "        # Final check to see if the routing code is present in the official list of codes. Invalid if not present.\n",
    "        if not self.resolveDistrict():\n",
    "            return self.runIfInvalid()\n",
    "            \n",
    "        print(f'Eircode, {self.eircode} is valid!')\n",
    "        return True\n",
    "\n",
    "    def resolveDistrict(self):\n",
    "        # Took the csv data as a dictionary instead of a list for simpler data access\n",
    "        try:\n",
    "            self.district = keyRouteMap[self.routingKey]\n",
    "            print(f'Destination: {self.district}')\n",
    "            return True\n",
    "        except:\n",
    "            print(f'Invalid routing key, {self.routingKey}')\n",
    "        return False\n",
    "\n",
    "    # Repeating block of code which I wanted to replace with a cleaner single method call.\n",
    "    def runIfInvalid(self):\n",
    "        print(f'Eircode, {self.eircode} is invalid.')\n",
    "        self.validity = False\n",
    "        return False\n",
    "        "
   ]
  },
  {
   "cell_type": "code",
   "execution_count": 3,
   "id": "ae0e2f11-dc17-4758-9606-530a69cf4693",
   "metadata": {},
   "outputs": [
    {
     "name": "stdout",
     "output_type": "stream",
     "text": [
      "Routing key = V94, Unique identifier = XK4X\n",
      "Destination: LIMERICK\n",
      "Eircode, V94-XK4X is valid!\n"
     ]
    }
   ],
   "source": [
    "e1 = EircodeUtil(\"V94-XK4X\")\n",
    "eircodeValidity = e1.validate()"
   ]
  },
  {
   "cell_type": "code",
   "execution_count": 4,
   "id": "7f18f68f-2561-47ab-836e-9549c5a4b9f5",
   "metadata": {},
   "outputs": [
    {
     "name": "stdout",
     "output_type": "stream",
     "text": [
      "Routing key = V94, Unique identifier = XK4X\n",
      "Destination: LIMERICK\n",
      "Eircode, V94 XK4X is valid!\n"
     ]
    }
   ],
   "source": [
    "e2 = EircodeUtil(\"V94 XK4X\")\n",
    "eircodeValidity = e2.validate()"
   ]
  },
  {
   "cell_type": "code",
   "execution_count": 5,
   "id": "de41d093-03f7-4706-a91a-b4038aaa9cda",
   "metadata": {},
   "outputs": [
    {
     "name": "stdout",
     "output_type": "stream",
     "text": [
      "Routing key = V94, Unique identifier = T9PX\n",
      "Destination: LIMERICK\n",
      "Eircode, V94T9PX is valid!\n"
     ]
    }
   ],
   "source": [
    "e3 = EircodeUtil(\"V94T9PX\")\n",
    "eircodeValidity = e3.validate()"
   ]
  },
  {
   "cell_type": "code",
   "execution_count": 6,
   "id": "f1a36755-7fde-4a91-a829-8932b07bd410",
   "metadata": {},
   "outputs": [
    {
     "name": "stdout",
     "output_type": "stream",
     "text": [
      "Routing key = V94, Unique identifier = T9PX\n",
      "Destination: LIMERICK\n",
      "Eircode, V94T9PX is valid!\n"
     ]
    }
   ],
   "source": [
    "e4 = EircodeUtil(\" V94T9PX\")\n",
    "eircodeValidity = e4.validate()"
   ]
  },
  {
   "cell_type": "code",
   "execution_count": 7,
   "id": "ab57b8eb-2fa9-4a3e-ad49-5a5997323722",
   "metadata": {},
   "outputs": [
    {
     "name": "stdout",
     "output_type": "stream",
     "text": [
      "Routing key = V94, Unique identifier = T9PX\n",
      "Destination: LIMERICK\n",
      "Eircode, V94T9PX is valid!\n"
     ]
    }
   ],
   "source": [
    "e5 = EircodeUtil(\"V94T9PX  \")\n",
    "eircodeValidity = e5.validate()"
   ]
  },
  {
   "cell_type": "code",
   "execution_count": 8,
   "id": "3dd0e1ae-9851-4a8b-9efa-4f427604d445",
   "metadata": {},
   "outputs": [
    {
     "name": "stdout",
     "output_type": "stream",
     "text": [
      "Eircode, v94 XK4X is invalid.\n"
     ]
    }
   ],
   "source": [
    "e6 = EircodeUtil(\"v94 XK4X\") # lower case v\n",
    "eircodeValidity = e6.validate()"
   ]
  },
  {
   "cell_type": "code",
   "execution_count": 9,
   "id": "4eff0494-8df3-4511-b2d8-0124c897af38",
   "metadata": {},
   "outputs": [
    {
     "name": "stdout",
     "output_type": "stream",
     "text": [
      "Eircode, V94-Xk4X is invalid.\n"
     ]
    }
   ],
   "source": [
    "e7 = EircodeUtil(\"V94-Xk4X\") # lower case k\n",
    "eircodeValidity = e7.validate()"
   ]
  },
  {
   "cell_type": "code",
   "execution_count": 10,
   "id": "fbe89745-f52f-4662-8e64-4deacfaf305b",
   "metadata": {},
   "outputs": [
    {
     "name": "stdout",
     "output_type": "stream",
     "text": [
      "Eircode, V94-Xk4XF is invalid.\n"
     ]
    }
   ],
   "source": [
    "e8 = EircodeUtil(\"V94-Xk4XF\") # Extra character length\n",
    "eircodeValidity = e8.validate()"
   ]
  },
  {
   "cell_type": "code",
   "execution_count": 11,
   "id": "48083e67-0df7-4685-9410-0fbdaf0f8ef0",
   "metadata": {},
   "outputs": [
    {
     "name": "stdout",
     "output_type": "stream",
     "text": [
      "Eircode, V94XK4XF is invalid.\n"
     ]
    }
   ],
   "source": [
    "e9 = EircodeUtil(\"V94XK4XF\") # Extra character length\n",
    "eircodeValidity = e9.validate()"
   ]
  },
  {
   "cell_type": "code",
   "execution_count": 12,
   "id": "59a0e60d-304e-400d-b107-cbf7bdc2a53c",
   "metadata": {},
   "outputs": [
    {
     "name": "stdout",
     "output_type": "stream",
     "text": [
      "Eircode, Hello Z94 XK4X is invalid.\n"
     ]
    }
   ],
   "source": [
    "e10 = EircodeUtil(\"Hello Z94 XK4X\") # Valid regex but the routing key doesn't exist\n",
    "eircodeValidity = e10.validate()"
   ]
  },
  {
   "cell_type": "code",
   "execution_count": 13,
   "id": "a57ab123-baa5-4ee8-b0fd-446292741f47",
   "metadata": {},
   "outputs": [
    {
     "name": "stdout",
     "output_type": "stream",
     "text": [
      "Routing key = Z94, Unique identifier = XK4X\n",
      "Invalid routing key, Z94\n",
      "Eircode, Z94 XK4X is invalid.\n"
     ]
    }
   ],
   "source": [
    "e11 = EircodeUtil(\"Z94 XK4X\") # Valid regex but the routing key doesn't exist\n",
    "eircodeValidity = e11.validate()"
   ]
  }
 ],
 "metadata": {
  "kernelspec": {
   "display_name": "Python 3 (ipykernel)",
   "language": "python",
   "name": "python3"
  },
  "language_info": {
   "codemirror_mode": {
    "name": "ipython",
    "version": 3
   },
   "file_extension": ".py",
   "mimetype": "text/x-python",
   "name": "python",
   "nbconvert_exporter": "python",
   "pygments_lexer": "ipython3",
   "version": "3.10.12"
  }
 },
 "nbformat": 4,
 "nbformat_minor": 5
}
