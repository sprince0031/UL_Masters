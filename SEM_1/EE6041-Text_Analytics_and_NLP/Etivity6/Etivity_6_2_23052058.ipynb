{
 "cells": [
  {
   "cell_type": "markdown",
   "id": "2df61929-8c8e-488d-8d63-34b262599ed3",
   "metadata": {},
   "source": [
    "## Student details:\n",
    "Student name: **Siddharth Prince**  \n",
    "Student ID: **23052058**"
   ]
  },
  {
   "cell_type": "markdown",
   "id": "524a7a6f-13bf-47cb-82c0-0c034a2f33e4",
   "metadata": {},
   "source": [
    "### House keeping code"
   ]
  },
  {
   "cell_type": "code",
   "execution_count": 26,
   "id": "bff225e1-99d4-4834-9fa4-d13fb51aeefd",
   "metadata": {},
   "outputs": [],
   "source": [
    "from textblob.classifiers import NaiveBayesClassifier\n",
    "import pandas as pd\n",
    "\n",
    "def convertDfToList(df):\n",
    "    return df.to_records(index=False).tolist()"
   ]
  },
  {
   "cell_type": "markdown",
   "id": "74a07cd8-5628-433c-be53-94f36f49da13",
   "metadata": {},
   "source": [
    "# Task 4"
   ]
  },
  {
   "cell_type": "code",
   "execution_count": 41,
   "id": "cc3af0b5-e207-4c3d-9326-fe3adf57c658",
   "metadata": {},
   "outputs": [],
   "source": [
    "# Method for Naive Bayes text classification using the TextBlob library\n",
    "def naiveBayesClassifier(trainingSet, testingSet, verbose=False):\n",
    "    nbClassifier = NaiveBayesClassifier(trainingSet)\n",
    "    correctPreds = 0\n",
    "    for testDoc in testingSet:\n",
    "        predicted = nbClassifier.classify(testDoc[0])\n",
    "        if predicted == testDoc[1]:\n",
    "            correctPreds += 1\n",
    "        if verbose:\n",
    "            print(f'document: {testDoc}\\t\\tpredicted class: {predicted}')\n",
    "    print(f'Accuracy: {correctPreds/len(testingSet)}')"
   ]
  },
  {
   "cell_type": "code",
   "execution_count": 25,
   "id": "c78282e3-9eb6-4c8e-9e43-c518e2330623",
   "metadata": {},
   "outputs": [
    {
     "name": "stdout",
     "output_type": "stream",
     "text": [
      "document: ('University of Limerick', 'IE')\t\tpredicted class: IE\n",
      "document: ('University College Dublin', 'IE')\t\tpredicted class: IE\n",
      "document: ('Imperial College London', 'GB')\t\tpredicted class: GB\n",
      "document: ('University of Oxford', 'GB')\t\tpredicted class: GB\n",
      "document: ('Ireland & GB', 'GB')\t\tpredicted class: IE\n",
      "Accuracy: 0.8\n"
     ]
    }
   ],
   "source": [
    "trainingSet = [('London is the Capital of GB','GB'),\n",
    "               ('Oxford is a city in GB','GB'),\n",
    "               ('Dublin is the capital of Ireland','IE'),\n",
    "               ('Limerick is a city in Ireland','IE')]\n",
    "testSet = [('University of Limerick','IE'),\n",
    "           ('University College Dublin','IE'),\n",
    "           ('Imperial College London','GB'),\n",
    "           ('University of Oxford','GB'),\n",
    "           ('Ireland & GB','GB')]\n",
    "naiveBayesClassifier(trainingSet, testSet, verbose=True)"
   ]
  },
  {
   "cell_type": "markdown",
   "id": "9f3b8b54-9aeb-41d3-a1dd-9d6bee6385aa",
   "metadata": {},
   "source": [
    "# Task 5"
   ]
  },
  {
   "cell_type": "code",
   "execution_count": 11,
   "id": "de9e3af2-1e74-4f17-a049-61399c379cbd",
   "metadata": {},
   "outputs": [
    {
     "name": "stdout",
     "output_type": "stream",
     "text": [
      "--2023-12-01 13:24:07--  https://storage.googleapis.com/dataset-uploader/bbc/bbc-text.csv\n",
      "Resolving storage.googleapis.com (storage.googleapis.com)... 74.125.193.207, 209.85.203.207, 172.253.116.207, ...\n",
      "Connecting to storage.googleapis.com (storage.googleapis.com)|74.125.193.207|:443... connected.\n",
      "HTTP request sent, awaiting response... 200 OK\n",
      "Length: 5057493 (4.8M) [text/csv]\n",
      "Saving to: ‘bbc-text.csv’\n",
      "\n",
      "bbc-text.csv        100%[===================>]   4.82M  6.74MB/s    in 0.7s    \n",
      "\n",
      "2023-12-01 13:24:08 (6.74 MB/s) - ‘bbc-text.csv’ saved [5057493/5057493]\n",
      "\n"
     ]
    },
    {
     "data": {
      "text/html": [
       "<div>\n",
       "<style scoped>\n",
       "    .dataframe tbody tr th:only-of-type {\n",
       "        vertical-align: middle;\n",
       "    }\n",
       "\n",
       "    .dataframe tbody tr th {\n",
       "        vertical-align: top;\n",
       "    }\n",
       "\n",
       "    .dataframe thead th {\n",
       "        text-align: right;\n",
       "    }\n",
       "</style>\n",
       "<table border=\"1\" class=\"dataframe\">\n",
       "  <thead>\n",
       "    <tr style=\"text-align: right;\">\n",
       "      <th></th>\n",
       "      <th>category</th>\n",
       "      <th>text</th>\n",
       "    </tr>\n",
       "  </thead>\n",
       "  <tbody>\n",
       "    <tr>\n",
       "      <th>0</th>\n",
       "      <td>tech</td>\n",
       "      <td>tv future in the hands of viewers with home th...</td>\n",
       "    </tr>\n",
       "    <tr>\n",
       "      <th>1</th>\n",
       "      <td>business</td>\n",
       "      <td>worldcom boss  left books alone  former worldc...</td>\n",
       "    </tr>\n",
       "    <tr>\n",
       "      <th>2</th>\n",
       "      <td>sport</td>\n",
       "      <td>tigers wary of farrell  gamble  leicester say ...</td>\n",
       "    </tr>\n",
       "    <tr>\n",
       "      <th>3</th>\n",
       "      <td>sport</td>\n",
       "      <td>yeading face newcastle in fa cup premiership s...</td>\n",
       "    </tr>\n",
       "    <tr>\n",
       "      <th>4</th>\n",
       "      <td>entertainment</td>\n",
       "      <td>ocean s twelve raids box office ocean s twelve...</td>\n",
       "    </tr>\n",
       "  </tbody>\n",
       "</table>\n",
       "</div>"
      ],
      "text/plain": [
       "        category                                               text\n",
       "0           tech  tv future in the hands of viewers with home th...\n",
       "1       business  worldcom boss  left books alone  former worldc...\n",
       "2          sport  tigers wary of farrell  gamble  leicester say ...\n",
       "3          sport  yeading face newcastle in fa cup premiership s...\n",
       "4  entertainment  ocean s twelve raids box office ocean s twelve..."
      ]
     },
     "execution_count": 11,
     "metadata": {},
     "output_type": "execute_result"
    }
   ],
   "source": [
    "# Downloading the text classification data set\n",
    "!wget https://storage.googleapis.com/dataset-uploader/bbc/bbc-text.csv\n",
    "\n",
    "# Loading the csv data inta a pandas dataframe\n",
    "df = pd.read_csv('./bbc-text.csv')\n",
    "df.head()"
   ]
  },
  {
   "cell_type": "code",
   "execution_count": 38,
   "id": "df2890ef-684c-49a8-badb-fd94c1f27bf6",
   "metadata": {},
   "outputs": [],
   "source": [
    "# The order of columns in the data frame are flipped. To avoid problems with the classifier method down the line, we'll reindex the df\n",
    "df = df.reindex(columns=['text', 'category'])"
   ]
  },
  {
   "cell_type": "code",
   "execution_count": 39,
   "id": "9cdb4f68-a291-49fc-8469-c683b8005497",
   "metadata": {},
   "outputs": [
    {
     "name": "stdout",
     "output_type": "stream",
     "text": [
      "Number of documents: 2225\n",
      "\n",
      "Documents per category: category\n",
      "business         510\n",
      "entertainment    386\n",
      "politics         417\n",
      "sport            511\n",
      "tech             401\n",
      "dtype: int64\n"
     ]
    }
   ],
   "source": [
    "print(f'Number of documents: {len(df.index)}\\n')\n",
    "    \n",
    "print(f'Documents per category: {df.groupby(\"category\").size()}')"
   ]
  },
  {
   "cell_type": "code",
   "execution_count": 44,
   "id": "9b29a097-bd72-46d5-a734-d282c82defe3",
   "metadata": {},
   "outputs": [
    {
     "name": "stdout",
     "output_type": "stream",
     "text": [
      "Train size: 1780\n",
      "Test size: 445\n",
      "\n",
      "Training set samples:\n"
     ]
    },
    {
     "data": {
      "text/html": [
       "<div>\n",
       "<style scoped>\n",
       "    .dataframe tbody tr th:only-of-type {\n",
       "        vertical-align: middle;\n",
       "    }\n",
       "\n",
       "    .dataframe tbody tr th {\n",
       "        vertical-align: top;\n",
       "    }\n",
       "\n",
       "    .dataframe thead th {\n",
       "        text-align: right;\n",
       "    }\n",
       "</style>\n",
       "<table border=\"1\" class=\"dataframe\">\n",
       "  <thead>\n",
       "    <tr style=\"text-align: right;\">\n",
       "      <th></th>\n",
       "      <th>text</th>\n",
       "      <th>category</th>\n",
       "    </tr>\n",
       "  </thead>\n",
       "  <tbody>\n",
       "    <tr>\n",
       "      <th>0</th>\n",
       "      <td>tv future in the hands of viewers with home th...</td>\n",
       "      <td>tech</td>\n",
       "    </tr>\n",
       "    <tr>\n",
       "      <th>1</th>\n",
       "      <td>worldcom boss  left books alone  former worldc...</td>\n",
       "      <td>business</td>\n",
       "    </tr>\n",
       "    <tr>\n",
       "      <th>2</th>\n",
       "      <td>tigers wary of farrell  gamble  leicester say ...</td>\n",
       "      <td>sport</td>\n",
       "    </tr>\n",
       "    <tr>\n",
       "      <th>3</th>\n",
       "      <td>yeading face newcastle in fa cup premiership s...</td>\n",
       "      <td>sport</td>\n",
       "    </tr>\n",
       "    <tr>\n",
       "      <th>4</th>\n",
       "      <td>ocean s twelve raids box office ocean s twelve...</td>\n",
       "      <td>entertainment</td>\n",
       "    </tr>\n",
       "    <tr>\n",
       "      <th>...</th>\n",
       "      <td>...</td>\n",
       "      <td>...</td>\n",
       "    </tr>\n",
       "    <tr>\n",
       "      <th>1775</th>\n",
       "      <td>china  blocks google news site  china has been...</td>\n",
       "      <td>tech</td>\n",
       "    </tr>\n",
       "    <tr>\n",
       "      <th>1776</th>\n",
       "      <td>labour accused of  eu propaganda  a  taxpayer ...</td>\n",
       "      <td>politics</td>\n",
       "    </tr>\n",
       "    <tr>\n",
       "      <th>1777</th>\n",
       "      <td>tevez - an argentine in brazil some 65 years a...</td>\n",
       "      <td>sport</td>\n",
       "    </tr>\n",
       "    <tr>\n",
       "      <th>1778</th>\n",
       "      <td>water firm suez in argentina row a conflict be...</td>\n",
       "      <td>business</td>\n",
       "    </tr>\n",
       "    <tr>\n",
       "      <th>1779</th>\n",
       "      <td>tv presenter deeley drops cd:uk cat deeley has...</td>\n",
       "      <td>entertainment</td>\n",
       "    </tr>\n",
       "  </tbody>\n",
       "</table>\n",
       "<p>1780 rows × 2 columns</p>\n",
       "</div>"
      ],
      "text/plain": [
       "                                                   text       category\n",
       "0     tv future in the hands of viewers with home th...           tech\n",
       "1     worldcom boss  left books alone  former worldc...       business\n",
       "2     tigers wary of farrell  gamble  leicester say ...          sport\n",
       "3     yeading face newcastle in fa cup premiership s...          sport\n",
       "4     ocean s twelve raids box office ocean s twelve...  entertainment\n",
       "...                                                 ...            ...\n",
       "1775  china  blocks google news site  china has been...           tech\n",
       "1776  labour accused of  eu propaganda  a  taxpayer ...       politics\n",
       "1777  tevez - an argentine in brazil some 65 years a...          sport\n",
       "1778  water firm suez in argentina row a conflict be...       business\n",
       "1779  tv presenter deeley drops cd:uk cat deeley has...  entertainment\n",
       "\n",
       "[1780 rows x 2 columns]"
      ]
     },
     "metadata": {},
     "output_type": "display_data"
    },
    {
     "name": "stdout",
     "output_type": "stream",
     "text": [
      "Testing set samples:\n"
     ]
    },
    {
     "data": {
      "text/html": [
       "<div>\n",
       "<style scoped>\n",
       "    .dataframe tbody tr th:only-of-type {\n",
       "        vertical-align: middle;\n",
       "    }\n",
       "\n",
       "    .dataframe tbody tr th {\n",
       "        vertical-align: top;\n",
       "    }\n",
       "\n",
       "    .dataframe thead th {\n",
       "        text-align: right;\n",
       "    }\n",
       "</style>\n",
       "<table border=\"1\" class=\"dataframe\">\n",
       "  <thead>\n",
       "    <tr style=\"text-align: right;\">\n",
       "      <th></th>\n",
       "      <th>text</th>\n",
       "      <th>category</th>\n",
       "    </tr>\n",
       "  </thead>\n",
       "  <tbody>\n",
       "    <tr>\n",
       "      <th>1780</th>\n",
       "      <td>hobbit picture  four years away  lord of the r...</td>\n",
       "      <td>entertainment</td>\n",
       "    </tr>\n",
       "    <tr>\n",
       "      <th>1781</th>\n",
       "      <td>game firm holds  cast  auditions video game fi...</td>\n",
       "      <td>tech</td>\n",
       "    </tr>\n",
       "    <tr>\n",
       "      <th>1782</th>\n",
       "      <td>clarke plans migrant point scheme anyone plann...</td>\n",
       "      <td>politics</td>\n",
       "    </tr>\n",
       "    <tr>\n",
       "      <th>1783</th>\n",
       "      <td>radcliffe will compete in london paula radclif...</td>\n",
       "      <td>sport</td>\n",
       "    </tr>\n",
       "    <tr>\n",
       "      <th>1784</th>\n",
       "      <td>serena becomes world number two serena william...</td>\n",
       "      <td>sport</td>\n",
       "    </tr>\n",
       "    <tr>\n",
       "      <th>...</th>\n",
       "      <td>...</td>\n",
       "      <td>...</td>\n",
       "    </tr>\n",
       "    <tr>\n",
       "      <th>2220</th>\n",
       "      <td>cars pull down us retail figures us retail sal...</td>\n",
       "      <td>business</td>\n",
       "    </tr>\n",
       "    <tr>\n",
       "      <th>2221</th>\n",
       "      <td>kilroy unveils immigration policy ex-chatshow ...</td>\n",
       "      <td>politics</td>\n",
       "    </tr>\n",
       "    <tr>\n",
       "      <th>2222</th>\n",
       "      <td>rem announce new glasgow concert us band rem h...</td>\n",
       "      <td>entertainment</td>\n",
       "    </tr>\n",
       "    <tr>\n",
       "      <th>2223</th>\n",
       "      <td>how political squabbles snowball it s become c...</td>\n",
       "      <td>politics</td>\n",
       "    </tr>\n",
       "    <tr>\n",
       "      <th>2224</th>\n",
       "      <td>souness delight at euro progress boss graeme s...</td>\n",
       "      <td>sport</td>\n",
       "    </tr>\n",
       "  </tbody>\n",
       "</table>\n",
       "<p>445 rows × 2 columns</p>\n",
       "</div>"
      ],
      "text/plain": [
       "                                                   text       category\n",
       "1780  hobbit picture  four years away  lord of the r...  entertainment\n",
       "1781  game firm holds  cast  auditions video game fi...           tech\n",
       "1782  clarke plans migrant point scheme anyone plann...       politics\n",
       "1783  radcliffe will compete in london paula radclif...          sport\n",
       "1784  serena becomes world number two serena william...          sport\n",
       "...                                                 ...            ...\n",
       "2220  cars pull down us retail figures us retail sal...       business\n",
       "2221  kilroy unveils immigration policy ex-chatshow ...       politics\n",
       "2222  rem announce new glasgow concert us band rem h...  entertainment\n",
       "2223  how political squabbles snowball it s become c...       politics\n",
       "2224  souness delight at euro progress boss graeme s...          sport\n",
       "\n",
       "[445 rows x 2 columns]"
      ]
     },
     "metadata": {},
     "output_type": "display_data"
    }
   ],
   "source": [
    "# performing train/test split (80-20 split)\n",
    "splitIndex = len(df.index) * 0.8\n",
    "train, test = df.loc[:splitIndex - 1, :], df.loc[splitIndex:, :]\n",
    "print(f'Train size: {len(train.index)}\\nTest size: {len(test.index)}\\n')\n",
    "print('Training set samples:')\n",
    "display(train)\n",
    "print('Testing set samples:')\n",
    "display(test)"
   ]
  },
  {
   "cell_type": "code",
   "execution_count": 45,
   "id": "7112d1c3-8710-474e-907d-299e6725fcfe",
   "metadata": {},
   "outputs": [
    {
     "name": "stdout",
     "output_type": "stream",
     "text": [
      "Accuracy: 0.9707865168539326\n"
     ]
    }
   ],
   "source": [
    "# Classifying the test data based on the training data\n",
    "\n",
    "# First, we need to convert the df to a list of tuples so that the data strutures are compatible with the defined function\n",
    "trainingList, testingList = convertDfToList(train), convertDfToList(test)\n",
    "\n",
    "# Passing the train and test data to the naiveBayesClassifier function that we defined in task 4 above. Code reusability is great! :D\n",
    "naiveBayesClassifier(trainingList, testingList)"
   ]
  }
 ],
 "metadata": {
  "kernelspec": {
   "display_name": "Python 3 (ipykernel)",
   "language": "python",
   "name": "python3"
  },
  "language_info": {
   "codemirror_mode": {
    "name": "ipython",
    "version": 3
   },
   "file_extension": ".py",
   "mimetype": "text/x-python",
   "name": "python",
   "nbconvert_exporter": "python",
   "pygments_lexer": "ipython3",
   "version": "3.10.12"
  }
 },
 "nbformat": 4,
 "nbformat_minor": 5
}
