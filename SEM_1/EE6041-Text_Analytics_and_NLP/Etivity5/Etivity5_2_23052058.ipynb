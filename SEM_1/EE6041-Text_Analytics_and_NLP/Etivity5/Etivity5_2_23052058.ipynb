{
 "cells": [
  {
   "cell_type": "markdown",
   "id": "dfc0f44a-6639-40b4-84c4-7f598f08e739",
   "metadata": {},
   "source": [
    "## Student details\n",
    "Student name: **Siddharth Prince**  \n",
    "Student ID: **23052058**"
   ]
  },
  {
   "cell_type": "markdown",
   "id": "68087d80-0899-4fbf-924b-582b32aa5565",
   "metadata": {},
   "source": [
    "# Task 1: Text Classification"
   ]
  },
  {
   "cell_type": "code",
   "execution_count": 1,
   "id": "8df72e39-f516-4d55-b5b7-6d92dd526d4e",
   "metadata": {},
   "outputs": [],
   "source": [
    "# Util methods\n",
    "def getBagOfWords(wordList):\n",
    "    bagOfWords = {}\n",
    "    for word in wordList:\n",
    "        if word in bagOfWords:\n",
    "            bagOfWords[word] += 1\n",
    "        else:\n",
    "            bagOfWords[word] = 1\n",
    "    return bagOfWords"
   ]
  },
  {
   "cell_type": "code",
   "execution_count": 5,
   "id": "114f605e-2c08-4d44-bacf-67b38714655c",
   "metadata": {},
   "outputs": [],
   "source": [
    "# Note to self: Make the function more general where it can take in any nnumber of classes and process the outputs accordingly.\n",
    "def naiveBayesClassifier(trainingSet, testingSet):\n",
    "    # Creating a \"mega doc\" string of all the strings in the training doc set corresponding to each class\n",
    "    megaDocGB = ' '.join([doc[0].lower() for doc in trainingSet if doc[1] == 'GB'])\n",
    "    megaDocIE = ' '.join([doc[0].lower() for doc in trainingSet if doc[1] == 'IE'])\n",
    "\n",
    "    print(f'megaDocGB = {megaDocGB}')\n",
    "    print(f'megaDocIE = {megaDocIE}\\n')\n",
    "    \n",
    "    megDocGBList = megaDocGB.split()\n",
    "    megDocIEList = megaDocIE.split()\n",
    "\n",
    "    # Getting the doc count for each class to calculate the priors\n",
    "    docCountGB = len([doc[1] for doc in trainingSet if doc[1] == 'GB'])\n",
    "    docCountIE = len([doc[1] for doc in trainingSet if doc[1] == 'IE'])\n",
    "\n",
    "    # Calculating the priors\n",
    "    probGB = docCountGB/len(trainingSet)\n",
    "    probIE = docCountIE/len(trainingSet)\n",
    "    print(f'probGB = {probGB}\\tprobIE = {probIE}\\n')\n",
    "\n",
    "    '''\n",
    "    Using the util function that counts the occurance of each word in a list of strings.\n",
    "    It returns a dictionary with counts for each string.\n",
    "    '''\n",
    "    GB_BoW = getBagOfWords(megDocGBList)\n",
    "    IE_BoW = getBagOfWords(megDocIEList)\n",
    "    print(f'GB_BoW = {GB_BoW}')\n",
    "    print(f'IE_BoW = {IE_BoW}\\n')\n",
    "\n",
    "    # Computing a dictionary containing all word types\n",
    "    V = getBagOfWords(megDocGBList + megDocIEList)\n",
    "    print(f'V = {V}')\n",
    "    print(f'|V| = {len(V)}\\n')\n",
    "\n",
    "    # Iterating through all the tests\n",
    "    for test in testingSet:\n",
    "        print('-------------------------------------------------------------')\n",
    "        print(f'Test document = {test}\\n')\n",
    "        documentProbGB, documentProbIE = probGB, probIE\n",
    "        for word in test[0].split():\n",
    "            word = word.lower()\n",
    "            if word not in V:\n",
    "                continue # Ignore the word if it never appears in the training corpus\n",
    "            \n",
    "            # Computing the conditional probability for the word if it is in the GB class\n",
    "            if word in GB_BoW:\n",
    "                conditionalProbGB = (GB_BoW[word] + 1)/(len(megDocGBList) + len(V))\n",
    "            else:\n",
    "                conditionalProbGB = 1/(len(megDocGBList) + len(V))\n",
    "\n",
    "            # Computing the conditional probability for the word if it is in the IE class\n",
    "            if word in IE_BoW:\n",
    "                conditionalProbIE = (IE_BoW[word] + 1)/(len(megDocIEList) + len(V))\n",
    "            else:\n",
    "                conditionalProbIE = 1/(len(megDocIEList) + len(V))\n",
    "                \n",
    "            print(f'word = \"{word}\"\\t\\twordConditionalProbGB = {conditionalProbGB}\\t\\twordConditionalProbIE = {conditionalProbIE}')\n",
    "\n",
    "            # Multiplying to the total document probabilities for each class\n",
    "            documentProbGB *= conditionalProbGB\n",
    "            documentProbIE *= conditionalProbIE\n",
    "\n",
    "        # Printing the total document probabilities as per the classes of GB and IE\n",
    "        print(f'\\ndocProbGB = {documentProbGB}\\ndocProbIE = {documentProbIE}')\n",
    "        if documentProbGB > documentProbIE:\n",
    "            inferredClass = 'GB'\n",
    "        elif documentProbGB < documentProbIE:\n",
    "            inferredClass = 'IE'\n",
    "        else:\n",
    "            inferredClass = 'GB & IE'\n",
    "\n",
    "        # Printing the inferred class as the result\n",
    "        print(f'Inferred class = {inferredClass}')\n",
    "        \n"
   ]
  },
  {
   "cell_type": "markdown",
   "id": "34b2f757-dad3-45ea-865b-ca9de3af637a",
   "metadata": {},
   "source": [
    "## Test case set 1:\n",
    "Given test cases"
   ]
  },
  {
   "cell_type": "code",
   "execution_count": 3,
   "id": "bd99fcba-cf1d-4866-b440-a083a3e5c47c",
   "metadata": {},
   "outputs": [
    {
     "name": "stdout",
     "output_type": "stream",
     "text": [
      "megaDocGB = london is the capital of gb oxford is a city in gb\n",
      "megaDocIE = dublin is the capital of ireland limerick is a city in ireland\n",
      "\n",
      "probGB = 0.5\tprobIE = 0.5\n",
      "\n",
      "GB_BoW = {'london': 1, 'is': 2, 'the': 1, 'capital': 1, 'of': 1, 'gb': 2, 'oxford': 1, 'a': 1, 'city': 1, 'in': 1}\n",
      "IE_BoW = {'dublin': 1, 'is': 2, 'the': 1, 'capital': 1, 'of': 1, 'ireland': 2, 'limerick': 1, 'a': 1, 'city': 1, 'in': 1}\n",
      "\n",
      "V = {'london': 1, 'is': 4, 'the': 2, 'capital': 2, 'of': 2, 'gb': 2, 'oxford': 1, 'a': 2, 'city': 2, 'in': 2, 'dublin': 1, 'ireland': 2, 'limerick': 1}\n",
      "|V| = 13\n",
      "\n",
      "-------------------------------------------------------------\n",
      "Test document = ('University of Limerick', '?')\n",
      "\n",
      "word = \"of\"\t\twordConditionalProbGB = 0.08\t\twordConditionalProbIE = 0.08\n",
      "word = \"limerick\"\t\twordConditionalProbGB = 0.04\t\twordConditionalProbIE = 0.08\n",
      "\n",
      "docProbGB = 0.0016\n",
      "docProbIE = 0.0032\n",
      "Inferred class = IE\n",
      "-------------------------------------------------------------\n",
      "Test document = ('University College Dublin', '?')\n",
      "\n",
      "word = \"dublin\"\t\twordConditionalProbGB = 0.04\t\twordConditionalProbIE = 0.08\n",
      "\n",
      "docProbGB = 0.02\n",
      "docProbIE = 0.04\n",
      "Inferred class = IE\n",
      "-------------------------------------------------------------\n",
      "Test document = ('Imperial College London', '?')\n",
      "\n",
      "word = \"london\"\t\twordConditionalProbGB = 0.08\t\twordConditionalProbIE = 0.04\n",
      "\n",
      "docProbGB = 0.04\n",
      "docProbIE = 0.02\n",
      "Inferred class = GB\n",
      "-------------------------------------------------------------\n",
      "Test document = ('University of Oxford', '?')\n",
      "\n",
      "word = \"of\"\t\twordConditionalProbGB = 0.08\t\twordConditionalProbIE = 0.08\n",
      "word = \"oxford\"\t\twordConditionalProbGB = 0.08\t\twordConditionalProbIE = 0.04\n",
      "\n",
      "docProbGB = 0.0032\n",
      "docProbIE = 0.0016\n",
      "Inferred class = GB\n",
      "-------------------------------------------------------------\n",
      "Test document = ('Ireland & GB', '?')\n",
      "\n",
      "word = \"ireland\"\t\twordConditionalProbGB = 0.04\t\twordConditionalProbIE = 0.12\n",
      "word = \"gb\"\t\twordConditionalProbGB = 0.12\t\twordConditionalProbIE = 0.04\n",
      "\n",
      "docProbGB = 0.0024\n",
      "docProbIE = 0.0024\n",
      "Inferred class = GB & IE\n"
     ]
    }
   ],
   "source": [
    "trainingSet = [('London is the Capital of GB', 'GB'), ('Oxford is a city in GB', 'GB'), ('Dublin is the capital of Ireland', 'IE'), ('Limerick is a city in Ireland', 'IE')]\n",
    "testingSet = [('University of Limerick', '?'), ('University College Dublin', '?'), ('Imperial College London', '?'), ('University of Oxford', '?'), ('Ireland & GB', '?')]\n",
    "naiveBayesClassifier(trainingSet, testingSet)"
   ]
  },
  {
   "cell_type": "markdown",
   "id": "7e0e39da-1f48-4313-a6b1-f8589597c749",
   "metadata": {},
   "source": [
    "## Test case set 2:\n",
    "Test case where none of the words are present in the training corpus."
   ]
  },
  {
   "cell_type": "code",
   "execution_count": 4,
   "id": "27ed0cbf-bdeb-4e9e-8cf6-263e4c988f62",
   "metadata": {},
   "outputs": [
    {
     "name": "stdout",
     "output_type": "stream",
     "text": [
      "megaDocGB = london is the capital of gb oxford is a city in gb\n",
      "megaDocIE = dublin is the capital of ireland limerick is a city in ireland\n",
      "\n",
      "probGB = 0.5\tprobIE = 0.5\n",
      "\n",
      "GB_BoW = {'london': 1, 'is': 2, 'the': 1, 'capital': 1, 'of': 1, 'gb': 2, 'oxford': 1, 'a': 1, 'city': 1, 'in': 1}\n",
      "IE_BoW = {'dublin': 1, 'is': 2, 'the': 1, 'capital': 1, 'of': 1, 'ireland': 2, 'limerick': 1, 'a': 1, 'city': 1, 'in': 1}\n",
      "\n",
      "V = {'london': 1, 'is': 4, 'the': 2, 'capital': 2, 'of': 2, 'gb': 2, 'oxford': 1, 'a': 2, 'city': 2, 'in': 2, 'dublin': 1, 'ireland': 2, 'limerick': 1}\n",
      "|V| = 13\n",
      "\n",
      "-------------------------------------------------------------\n",
      "Test document = ('Hello World!', '?')\n",
      "\n",
      "\n",
      "docProbGB = 0.5\n",
      "docProbIE = 0.5\n",
      "Inferred class = GB & IE\n"
     ]
    }
   ],
   "source": [
    "trainingSet = [('London is the Capital of GB', 'GB'), ('Oxford is a city in GB', 'GB'), ('Dublin is the capital of Ireland', 'IE'), ('Limerick is a city in Ireland', 'IE')]\n",
    "testingSet = [('Hello World!', '?')]\n",
    "naiveBayesClassifier(trainingSet, testingSet)"
   ]
  }
 ],
 "metadata": {
  "kernelspec": {
   "display_name": "Python 3 (ipykernel)",
   "language": "python",
   "name": "python3"
  },
  "language_info": {
   "codemirror_mode": {
    "name": "ipython",
    "version": 3
   },
   "file_extension": ".py",
   "mimetype": "text/x-python",
   "name": "python",
   "nbconvert_exporter": "python",
   "pygments_lexer": "ipython3",
   "version": "3.10.12"
  }
 },
 "nbformat": 4,
 "nbformat_minor": 5
}
