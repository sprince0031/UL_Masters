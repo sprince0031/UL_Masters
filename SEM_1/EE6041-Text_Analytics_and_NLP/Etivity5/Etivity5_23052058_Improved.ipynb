{
 "cells": [
  {
   "cell_type": "markdown",
   "id": "a496e123-211f-400e-8809-683a7c207615",
   "metadata": {
    "id": "a496e123-211f-400e-8809-683a7c207615"
   },
   "source": [
    "## Student details\n",
    "Student name: **Siddharth Prince**  \n",
    "Student ID: **23052058**"
   ]
  },
  {
   "cell_type": "markdown",
   "id": "f1f84d44-eda2-4455-82fa-b44a6e59e69a",
   "metadata": {
    "id": "f1f84d44-eda2-4455-82fa-b44a6e59e69a"
   },
   "source": [
    "# Task 1"
   ]
  },
  {
   "cell_type": "markdown",
   "id": "79e688f5-928f-4368-880b-8b61329f2441",
   "metadata": {
    "id": "79e688f5-928f-4368-880b-8b61329f2441"
   },
   "source": [
    "# Using the Naive Bayes\n",
    "\n",
    "## Calculating priors\n",
    "To calculate the priors, we can divide the number of documents for each class by the total number of documents.  \n",
    "\n",
    "**For prior of class \"GB\"**  \n",
    "Since there are two documents classified under \"GB\", we need to divide that by the total number of classes which is 4.  \n",
    "$$P(GB) = \\frac{count(d ∈ GB)} {count(d)} => \\frac{2} {4} = 0.5$$  \n",
    "\n",
    "**Same for prior with class \"IE\"**  \n",
    "$$P(IE) = \\frac{count(d ∈ IE)} {count(d)} => \\frac{2} {4} = 0.5$$  \n",
    "\n",
    "## Calculating the conditional probabilities with add-one smoothing\n",
    "**Computing P(GB|d5)**  \n",
    "  \n",
    "$$P(University|GB) = \\frac{count(University|GB) + 1} {\\underset{w ∈ V}{∑} count(w, GB) + |V|} = \\frac{0 + 1} {12 + 14} = 0.038461538$$  \n",
    "$$P(of|GB) = \\frac{count(of|GB) + 1} {\\underset{w ∈ V}{∑} count(w, GB) + |V|} = \\frac{1 + 1} {12 + 14} = 0.076923077$$  \n",
    "$$P(Limerick|GB) = \\frac{count(Limerick|GB) + 1} {\\underset{w ∈ V}{∑} count(w, GB) + |V|} = \\frac{0 + 1} {12 + 14} = 0.038461538$$  \n",
    "$$P(Wolves|GB) = \\frac{count(Wolves|GB) + 1} {\\underset{w ∈ V}{∑} count(w, GB) + |V|} = \\frac{0 + 1} {12 + 14} = 0.038461538$$  \n",
    "  \n",
    "$$P(GB|d5) = P(GB) * P(University|GB) * P(of|GB) * P(Limerick|GB) * P(Wolves|GB) = 0.5 * 0.038461538 * 0.076923077 * 0.038461538 * 0.038461538 ≃ 0.000002188$$\n",
    "\n",
    "**Computing P(IE|d5)**  \n",
    "  \n",
    "$$P(University|IE) = \\frac{count(University|IE) + 1} {\\underset{w ∈ V}{∑} count(w, IE) + |V|} = \\frac{0 + 1} {12 + 14} = 0.038461538$$  \n",
    "$$P(of|IE) = \\frac{count(of|IE) + 1} {\\underset{w ∈ V}{∑} count(w, IE) + |V|} = \\frac{1 + 1} {12 + 14} = 0.076923077$$  \n",
    "$$P(Limerick|IE) = \\frac{count(Limerick|IE) + 1} {\\underset{w ∈ V}{∑} count(w, IE) + |V|} = \\frac{1 + 1} {12 + 14} = 0.076923077$$  \n",
    "$$P(Wolves|IE) = \\frac{count(Wolves|IE) + 1} {\\underset{w ∈ V}{∑} count(w, IE) + |V|} = \\frac{0 + 1} {12 + 14} = 0.038461538$$  \n",
    "  \n",
    "$$P(IE|d5) = P(IE) * P(University|IE) * P(of|IE) * P(Limerick|IE) * P(Wolves|IE) = 0.5 * 0.038461538 * 0.076923077 * 0.076923077 * 0.038461538 ≃ 0.000004376$$  \n",
    "  \n",
    "## Conclusion\n",
    "**Since P(IE|d5) > P(DB|d5), d5 will be classified under IE.**"
   ]
  },
  {
   "cell_type": "markdown",
   "id": "SslLWgHk4gUZ",
   "metadata": {
    "id": "SslLWgHk4gUZ"
   },
   "source": [
    "Calculations:"
   ]
  },
  {
   "cell_type": "code",
   "execution_count": null,
   "id": "TtDuHLv337GH",
   "metadata": {
    "colab": {
     "base_uri": "https://localhost:8080/"
    },
    "id": "TtDuHLv337GH",
    "outputId": "225bcac9-73dc-457b-cef4-afa048344e88"
   },
   "outputs": [
    {
     "data": {
      "text/plain": [
       "0.038461538461538464"
      ]
     },
     "execution_count": 18,
     "metadata": {},
     "output_type": "execute_result"
    }
   ],
   "source": [
    "1/26"
   ]
  },
  {
   "cell_type": "code",
   "execution_count": null,
   "id": "zwq3pWcE36qX",
   "metadata": {
    "colab": {
     "base_uri": "https://localhost:8080/"
    },
    "id": "zwq3pWcE36qX",
    "outputId": "7f7c243e-c09d-4d5c-d66e-cb968233a855"
   },
   "outputs": [
    {
     "data": {
      "text/plain": [
       "0.07692307692307693"
      ]
     },
     "execution_count": 19,
     "metadata": {},
     "output_type": "execute_result"
    }
   ],
   "source": [
    "2/26"
   ]
  },
  {
   "cell_type": "code",
   "execution_count": 1,
   "id": "1Y7LssoN3nlh",
   "metadata": {
    "colab": {
     "base_uri": "https://localhost:8080/"
    },
    "id": "1Y7LssoN3nlh",
    "outputId": "57da50ca-71d1-4c36-896c-6e06132a2a8f"
   },
   "outputs": [
    {
     "data": {
      "text/plain": [
       "2.1882986524456444e-06"
      ]
     },
     "execution_count": 1,
     "metadata": {},
     "output_type": "execute_result"
    }
   ],
   "source": [
    "# P(DB|d5)\n",
    "0.5 * 0.038461538 * 0.076923077 * 0.038461538 * 0.038461538"
   ]
  },
  {
   "cell_type": "code",
   "execution_count": 2,
   "id": "C7k6VDx93n_M",
   "metadata": {
    "colab": {
     "base_uri": "https://localhost:8080/"
    },
    "id": "C7k6VDx93n_M",
    "outputId": "ecd8e771-f051-4271-d80d-ace5c807ee5f"
   },
   "outputs": [
    {
     "data": {
      "text/plain": [
       "4.376597361787054e-06"
      ]
     },
     "execution_count": 2,
     "metadata": {},
     "output_type": "execute_result"
    }
   ],
   "source": [
    "# P(IE|d5)\n",
    "0.5 * 0.038461538 * 0.076923077 * 0.076923077 * 0.038461538"
   ]
  },
  {
   "cell_type": "markdown",
   "id": "26650fcf-77ba-402c-abbe-ad9b443c003d",
   "metadata": {
    "id": "26650fcf-77ba-402c-abbe-ad9b443c003d"
   },
   "source": [
    "# Task 2"
   ]
  },
  {
   "cell_type": "code",
   "execution_count": null,
   "id": "745bf033-f2ad-4f12-ad3e-17ac38ed58b1",
   "metadata": {
    "colab": {
     "base_uri": "https://localhost:8080/"
    },
    "id": "745bf033-f2ad-4f12-ad3e-17ac38ed58b1",
    "outputId": "ea42acb0-2f17-4a2f-889b-5e5ecaf4aa2e"
   },
   "outputs": [
    {
     "name": "stdout",
     "output_type": "stream",
     "text": [
      "--2023-11-13 08:17:44--  http://ptrckprry.com/course/ssd/data/positive-words.txt\n",
      "Resolving ptrckprry.com (ptrckprry.com)... 185.199.110.153, 185.199.109.153, 185.199.108.153, ...\n",
      "Connecting to ptrckprry.com (ptrckprry.com)|185.199.110.153|:80... connected.\n",
      "HTTP request sent, awaiting response... 301 Moved Permanently\n",
      "Location: https://ptrckprry.com/course/ssd/data/positive-words.txt [following]\n",
      "--2023-11-13 08:17:44--  https://ptrckprry.com/course/ssd/data/positive-words.txt\n",
      "Connecting to ptrckprry.com (ptrckprry.com)|185.199.110.153|:443... connected.\n",
      "HTTP request sent, awaiting response... 200 OK\n",
      "Length: 20630 (20K) [text/plain]\n",
      "Saving to: ‘positive-words.txt’\n",
      "\n",
      "\r",
      "positive-words.txt    0%[                    ]       0  --.-KB/s               \r",
      "positive-words.txt  100%[===================>]  20.15K  --.-KB/s    in 0.001s  \n",
      "\n",
      "2023-11-13 08:17:44 (14.5 MB/s) - ‘positive-words.txt’ saved [20630/20630]\n",
      "\n",
      "--2023-11-13 08:17:44--  http://ptrckprry.com/course/ssd/data/negative-words.txt\n",
      "Resolving ptrckprry.com (ptrckprry.com)... 185.199.110.153, 185.199.109.153, 185.199.108.153, ...\n",
      "Connecting to ptrckprry.com (ptrckprry.com)|185.199.110.153|:80... connected.\n",
      "HTTP request sent, awaiting response... 301 Moved Permanently\n",
      "Location: https://ptrckprry.com/course/ssd/data/negative-words.txt [following]\n",
      "--2023-11-13 08:17:44--  https://ptrckprry.com/course/ssd/data/negative-words.txt\n",
      "Connecting to ptrckprry.com (ptrckprry.com)|185.199.110.153|:443... connected.\n",
      "HTTP request sent, awaiting response... 200 OK\n",
      "Length: 46299 (45K) [text/plain]\n",
      "Saving to: ‘negative-words.txt’\n",
      "\n",
      "negative-words.txt  100%[===================>]  45.21K  --.-KB/s    in 0.01s   \n",
      "\n",
      "2023-11-13 08:17:45 (3.70 MB/s) - ‘negative-words.txt’ saved [46299/46299]\n",
      "\n"
     ]
    }
   ],
   "source": [
    "!wget http://ptrckprry.com/course/ssd/data/positive-words.txt\n",
    "!wget http://ptrckprry.com/course/ssd/data/negative-words.txt"
   ]
  },
  {
   "cell_type": "code",
   "execution_count": null,
   "id": "41098ef5-d674-4381-9132-a23d57c6a24f",
   "metadata": {
    "colab": {
     "base_uri": "https://localhost:8080/"
    },
    "id": "41098ef5-d674-4381-9132-a23d57c6a24f",
    "outputId": "e569aeae-1c76-4cc4-9442-f99104b58879"
   },
   "outputs": [
    {
     "name": "stdout",
     "output_type": "stream",
     "text": [
      "['a+', 'abound', 'abounds', 'abundance', 'abundant', 'accessable', 'accessible', 'acclaim', 'acclaimed', 'acclamation']\n",
      "['2-faced', '2-faces', 'abnormal', 'abolish', 'abominable', 'abominably', 'abominate', 'abomination', 'abort', 'aborted']\n"
     ]
    }
   ],
   "source": [
    "with open(\"./positive-words.txt\", \"r\") as positiveWordsFile:\n",
    "    positiveWords = positiveWordsFile.read().splitlines()\n",
    "\n",
    "with open(\"./negative-words.txt\", \"r\", encoding='windows-1250') as negativeWordsFile:\n",
    "    negativeWords = negativeWordsFile.read().splitlines()\n",
    "\n",
    "positiveWords = positiveWords[35:]\n",
    "negativeWords = negativeWords[35:]\n",
    "\n",
    "print(positiveWords[:10])\n",
    "print(negativeWords[:10])"
   ]
  },
  {
   "cell_type": "code",
   "execution_count": null,
   "id": "2a1a6a72-11cd-487e-86a3-1eda0929aada",
   "metadata": {
    "id": "2a1a6a72-11cd-487e-86a3-1eda0929aada"
   },
   "outputs": [],
   "source": [
    "def findSentiment(text):\n",
    "    words = text.split()\n",
    "    negativeCount = 0\n",
    "    positiveCount = 0\n",
    "    for word in words:\n",
    "        if word in positiveWords:\n",
    "            positiveCount += 1\n",
    "        elif word in negativeWords:\n",
    "            negativeCount += 1\n",
    "\n",
    "    if positiveCount > negativeCount:\n",
    "        print(f\"Positive sentiment 😊\\nConfidence: {positiveCount/len(words)}\")\n",
    "    elif positiveCount < negativeCount:\n",
    "        print(f\"Negative sentiment ☹️\\nConfidence: {negativeCount/len(words)}\")\n",
    "    else:\n",
    "        print(f\"Neutral sentiment 😐\\nConfidence: {(len(words) - (positiveCount + negativeCount))/len(words)}\")"
   ]
  },
  {
   "cell_type": "code",
   "execution_count": null,
   "id": "5a696ede-5508-4f13-b6c1-65dff5889c55",
   "metadata": {
    "colab": {
     "base_uri": "https://localhost:8080/"
    },
    "id": "5a696ede-5508-4f13-b6c1-65dff5889c55",
    "outputId": "5831e393-c8be-459b-96e3-e4a5eead0a72"
   },
   "outputs": [
    {
     "name": "stdout",
     "output_type": "stream",
     "text": [
      "Positive sentiment 😊\n",
      "Confidence: 0.3333333333333333\n"
     ]
    }
   ],
   "source": [
    "findSentiment(\"NLP is cool\")"
   ]
  },
  {
   "cell_type": "code",
   "execution_count": null,
   "id": "e496a80d-e1df-48b4-a9af-44d28f3b713f",
   "metadata": {
    "colab": {
     "base_uri": "https://localhost:8080/"
    },
    "id": "e496a80d-e1df-48b4-a9af-44d28f3b713f",
    "outputId": "9b73fb3d-cce0-4196-a7df-fa496cfedc4a"
   },
   "outputs": [
    {
     "name": "stdout",
     "output_type": "stream",
     "text": [
      "Positive sentiment 😊\n",
      "Confidence: 0.4\n"
     ]
    }
   ],
   "source": [
    "findSentiment(\"NLP is cool and useful\")"
   ]
  },
  {
   "cell_type": "code",
   "execution_count": null,
   "id": "7512c344-c43e-41e4-8ffb-5d512a6c12fe",
   "metadata": {
    "colab": {
     "base_uri": "https://localhost:8080/"
    },
    "id": "7512c344-c43e-41e4-8ffb-5d512a6c12fe",
    "outputId": "28e68eef-e9e8-4a95-fc25-0aa0242ac205"
   },
   "outputs": [
    {
     "name": "stdout",
     "output_type": "stream",
     "text": [
      "Negative sentiment ☹️\n",
      "Confidence: 0.3333333333333333\n"
     ]
    }
   ],
   "source": [
    "findSentiment(\"NLP is hard\")"
   ]
  },
  {
   "cell_type": "code",
   "execution_count": null,
   "id": "5bf9d763-40dc-447c-94a1-cf9a21d04297",
   "metadata": {
    "colab": {
     "base_uri": "https://localhost:8080/"
    },
    "id": "5bf9d763-40dc-447c-94a1-cf9a21d04297",
    "outputId": "2550dc70-dee2-4154-9f97-267aa417b387"
   },
   "outputs": [
    {
     "name": "stdout",
     "output_type": "stream",
     "text": [
      "Negative sentiment ☹️\n",
      "Confidence: 0.4\n"
     ]
    }
   ],
   "source": [
    "findSentiment(\"NLP is hard and useless\")"
   ]
  },
  {
   "cell_type": "code",
   "execution_count": null,
   "id": "338dea58-7ee7-45fc-befc-441314af5707",
   "metadata": {
    "colab": {
     "base_uri": "https://localhost:8080/"
    },
    "id": "338dea58-7ee7-45fc-befc-441314af5707",
    "outputId": "e86c2dd9-eba5-4aee-c15c-59f01ab77685"
   },
   "outputs": [
    {
     "name": "stdout",
     "output_type": "stream",
     "text": [
      "Neutral sentiment 😐\n",
      "Confidence: 1.0\n"
     ]
    }
   ],
   "source": [
    "findSentiment(\"NLP stands for Natural Language Processing\")"
   ]
  }
 ],
 "metadata": {
  "colab": {
   "provenance": []
  },
  "kernelspec": {
   "display_name": "Python 3 (ipykernel)",
   "language": "python",
   "name": "python3"
  },
  "language_info": {
   "codemirror_mode": {
    "name": "ipython",
    "version": 3
   },
   "file_extension": ".py",
   "mimetype": "text/x-python",
   "name": "python",
   "nbconvert_exporter": "python",
   "pygments_lexer": "ipython3",
   "version": "3.10.12"
  }
 },
 "nbformat": 4,
 "nbformat_minor": 5
}
