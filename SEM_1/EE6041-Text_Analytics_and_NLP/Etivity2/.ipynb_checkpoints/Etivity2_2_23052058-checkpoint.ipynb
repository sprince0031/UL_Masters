{
 "cells": [
  {
   "cell_type": "markdown",
   "id": "d60e8b2e-935f-4a89-bef0-51a0e441aefa",
   "metadata": {},
   "source": [
    "## Student details\n",
    "Student name: **Siddharth Prince**  \n",
    "Student ID: **23052058**"
   ]
  },
  {
   "cell_type": "markdown",
   "id": "4e0dcd0d-3476-4a7a-90ff-699697306691",
   "metadata": {},
   "source": [
    "# Task 3\n",
    "Calculating Levinstein distance using dynamic programming"
   ]
  },
  {
   "cell_type": "code",
   "execution_count": 56,
   "id": "82cbf5a5-62ed-4b52-8590-ef4e3cd2a2a9",
   "metadata": {},
   "outputs": [],
   "source": [
    "import re\n",
    "import time\n",
    "\n",
    "# A helper function for formatting and printing the DP table. >>> DO NOT MODIFY <<<\n",
    "def printTable(table, description):\n",
    "    print(f'{description}\\n')\n",
    "    current_row = current_col = 0\n",
    "    current_row_col = re.search(\"^row ([0-9]+) , col ([0-9]+)$\",description)\n",
    "    if current_row_col:\n",
    "        current_row = int(current_row_col.group(1))\n",
    "        current_col= int(current_row_col.group(2))\n",
    "    row_counter=0\n",
    "    for row in table:\n",
    "        row_counter+=1\n",
    "        col_counter=0\n",
    "        for col in row:\n",
    "            col_counter+=1\n",
    "            #print(row_counter , row, current_col, col)\n",
    "            if (row_counter == current_row) and (col_counter == current_col): \n",
    "                formatting = '\\033[1m'+'\\033[91m' #bold + red\n",
    "            else: formatting = '\\x1b[0m' #reset fomatting\n",
    "            print(formatting + str(col).rjust(10, ' '), end=' ')  # rjust returns a 10-characters long, right justified version of the string\n",
    "        print('\\n\\n')\n",
    "    print('---------------------------------------------------------------------------------------------------------------')                     \n",
    "        \n",
    " # A DP-based solution for edit distance problem \n",
    "def editDistDP(x,y):\n",
    "    # Getting the current time at the start of the function\n",
    "    currentTime = time.time()\n",
    "    # Constant variables\n",
    "    vertical_trace = \"↑\"\n",
    "    horizontal_trace = \"←\"\n",
    "    diagonal_trace = \"↖\"\n",
    "    \n",
    "    dp = [] # Create an empty (Dynamic Pgoramming) table to store results of subproblems\n",
    "    dpTrace = [] # Shadow table for the arrow traces\n",
    "    # fill in the table with zeros \n",
    "    for row in range(len(x) + 1):\n",
    "        dp.append([0]* (len(y) + 1))\n",
    "        dpTrace.append([\"\"]* (len(y) + 1))\n",
    "    # Alternatively, you can use List Comprehension to initiate the DP table in one line of code\n",
    "    # dp = [[0 for column in range(len(y) + 1)] for row in range(len(x) + 1)]\n",
    "\n",
    "    # Fill in the base case (easy) subproblems, i.e. the first row and column of the DP table\n",
    "\n",
    "    # first row: base case subproblems for computing the cost of converting \"\" to y\n",
    "    for j in range(len(y) + 1):\n",
    "        # If x is empty then the only option is to insert all the characters of y\n",
    "        # Minimum number of required operations (cost) is j insertions, where j = len(y)\n",
    "        dp[0][j] = j\n",
    "        if j != 0:\n",
    "            dpTrace[0][j] += horizontal_trace\n",
    "\n",
    "# first column: base case subproblems for computing the cost of converting x to \"\"\n",
    "    for i in range(len(x) + 1):\n",
    "        # If y is empty then the only option is to delete all the characters of x\n",
    "        # Minimum number of required operations (cost) is i deletions, where i = len(x)\n",
    "        dp[i][0] = i\n",
    "        dpTrace[i][0] += vertical_trace\n",
    "\n",
    "    # printTable(dp,\"DP table after the base case (easy) subproblems are solved\");\n",
    "    # printTable(dpTrace, \"DP Trace table after base cases\")\n",
    "\n",
    "    # Fill in the rest of the DP table in a BOTTOM-UP manner \n",
    "    for i in range(1, len(x) + 1):\n",
    "        for j in range(1, len(y) + 1):\n",
    "\n",
    "            horizontal_or_insertion_cost = dp[i][j-1] + 1\n",
    "            vertical_or_deletion_cost= dp[i-1][j] + 1\n",
    "            \n",
    "            delta = 2 if x[i-1] != y[j-1] else 0\n",
    "            diagonal_or_substitution_cost= dp[i-1][j-1] + delta\n",
    "\n",
    "            minValue = min(horizontal_or_insertion_cost,vertical_or_deletion_cost,diagonal_or_substitution_cost)\n",
    "            dp[i][j] = minValue          \n",
    "            traces = \"\"\n",
    "            if horizontal_or_insertion_cost == minValue:\n",
    "                traces += horizontal_trace\n",
    "            if diagonal_or_substitution_cost == minValue:\n",
    "                traces += diagonal_trace\n",
    "            if vertical_or_deletion_cost == minValue:\n",
    "                traces += vertical_trace\n",
    "                \n",
    "            dpTrace[i][j] += traces\n",
    "            # printTable(dp,f'row {i+1} , col {j+1}') #UNCOMMENT this line to see how the DP table is filled at each step\n",
    "\n",
    "    finalDP = [[str(dp[i][j]) + dpTrace[i][j] for j in range(len(y) + 1)] for i in range(len(x) + 1)]\n",
    "    printTable(finalDP,\"Completed DP table after all the subproblems are solved\")\n",
    "    return currentTime, dp[-1][-1]\n"
   ]
  },
  {
   "cell_type": "markdown",
   "id": "164a0da2-9055-4c83-898e-de1f23a656e4",
   "metadata": {},
   "source": [
    "### Test case 1"
   ]
  },
  {
   "cell_type": "code",
   "execution_count": 57,
   "id": "dcb23ab3-ef5c-44d4-a4d7-73d4427fb495",
   "metadata": {},
   "outputs": [
    {
     "name": "stdout",
     "output_type": "stream",
     "text": [
      "Completed DP table after all the subproblems are solved\n",
      "\n",
      "\u001b[0m        0↑ \u001b[0m        1← \u001b[0m        2← \u001b[0m        3← \u001b[0m        4← \u001b[0m        5← \u001b[0m        6← \u001b[0m        7← \u001b[0m        8← \u001b[0m        9← \n",
      "\n",
      "\n",
      "\u001b[0m        1↑ \u001b[0m      2←↖↑ \u001b[0m      3←↖↑ \u001b[0m      4←↖↑ \u001b[0m      5←↖↑ \u001b[0m      6←↖↑ \u001b[0m      7←↖↑ \u001b[0m        6↖ \u001b[0m        7← \u001b[0m        8← \n",
      "\n",
      "\n",
      "\u001b[0m        2↑ \u001b[0m      3←↖↑ \u001b[0m      4←↖↑ \u001b[0m      5←↖↑ \u001b[0m      6←↖↑ \u001b[0m      7←↖↑ \u001b[0m      8←↖↑ \u001b[0m        7↑ \u001b[0m      8←↖↑ \u001b[0m        7↖ \n",
      "\n",
      "\n",
      "\u001b[0m        3↑ \u001b[0m      4←↖↑ \u001b[0m      5←↖↑ \u001b[0m      6←↖↑ \u001b[0m      7←↖↑ \u001b[0m      8←↖↑ \u001b[0m        7↖ \u001b[0m       8←↑ \u001b[0m      9←↖↑ \u001b[0m        8↑ \n",
      "\n",
      "\n",
      "\u001b[0m        4↑ \u001b[0m        3↖ \u001b[0m        4← \u001b[0m       5←↖ \u001b[0m        6← \u001b[0m        7← \u001b[0m       8←↑ \u001b[0m      9←↖↑ \u001b[0m     10←↖↑ \u001b[0m        9↑ \n",
      "\n",
      "\n",
      "\u001b[0m        5↑ \u001b[0m        4↑ \u001b[0m      5←↖↑ \u001b[0m      6←↖↑ \u001b[0m      7←↖↑ \u001b[0m      8←↖↑ \u001b[0m      9←↖↑ \u001b[0m     10←↖↑ \u001b[0m     11←↖↑ \u001b[0m      10↖↑ \n",
      "\n",
      "\n",
      "\u001b[0m        6↑ \u001b[0m        5↑ \u001b[0m      6←↖↑ \u001b[0m      7←↖↑ \u001b[0m      8←↖↑ \u001b[0m      9←↖↑ \u001b[0m        8↖ \u001b[0m        9← \u001b[0m       10← \u001b[0m      11←↑ \n",
      "\n",
      "\n",
      "\u001b[0m        7↑ \u001b[0m        6↑ \u001b[0m      7←↖↑ \u001b[0m      8←↖↑ \u001b[0m      9←↖↑ \u001b[0m     10←↖↑ \u001b[0m        9↑ \u001b[0m        8↖ \u001b[0m        9← \u001b[0m       10← \n",
      "\n",
      "\n",
      "\u001b[0m        8↑ \u001b[0m        7↑ \u001b[0m      8←↖↑ \u001b[0m      9←↖↑ \u001b[0m     10←↖↑ \u001b[0m     11←↖↑ \u001b[0m       10↑ \u001b[0m        9↑ \u001b[0m        8↖ \u001b[0m        9← \n",
      "\n",
      "\n",
      "\u001b[0m        9↑ \u001b[0m        8↑ \u001b[0m      9←↖↑ \u001b[0m     10←↖↑ \u001b[0m     11←↖↑ \u001b[0m     12←↖↑ \u001b[0m       11↑ \u001b[0m       10↑ \u001b[0m        9↑ \u001b[0m        8↖ \n",
      "\n",
      "\n",
      "---------------------------------------------------------------------------------------------------------------\n",
      "Levenshtein distance between \"intention\" and \"execution\": 8\n",
      "--- Executed in 0.004144430160522461 seconds ---\n"
     ]
    }
   ],
   "source": [
    "str1, str2 = \"intention\", \"execution\" \n",
    "currentTime, levinshteinDist = editDistDP(str1, str2)\n",
    "print(f'Levenshtein distance between \"{str1}\" and \"{str2}\": {levinsteinDist}') \n",
    "print(f'--- Executed in {time.time() - currentTime} seconds ---')"
   ]
  },
  {
   "cell_type": "markdown",
   "id": "d3bd2619-14ad-403a-a198-bd705f4ff5b0",
   "metadata": {},
   "source": [
    "### Test case 2"
   ]
  },
  {
   "cell_type": "code",
   "execution_count": 58,
   "id": "a1cf81fa-2805-476e-9ab1-30e7516c7db4",
   "metadata": {},
   "outputs": [
    {
     "name": "stdout",
     "output_type": "stream",
     "text": [
      "Completed DP table after all the subproblems are solved\n",
      "\n",
      "\u001b[0m        0↑ \u001b[0m        1← \u001b[0m        2← \u001b[0m        3← \u001b[0m        4← \u001b[0m        5← \u001b[0m        6← \u001b[0m        7← \u001b[0m        8← \u001b[0m        9← \n",
      "\n",
      "\n",
      "\u001b[0m        1↑ \u001b[0m      2←↖↑ \u001b[0m      3←↖↑ \u001b[0m      4←↖↑ \u001b[0m      5←↖↑ \u001b[0m      6←↖↑ \u001b[0m      7←↖↑ \u001b[0m        6↖ \u001b[0m        7← \u001b[0m        8← \n",
      "\n",
      "\n",
      "\u001b[0m        2↑ \u001b[0m      3←↖↑ \u001b[0m      4←↖↑ \u001b[0m      5←↖↑ \u001b[0m      6←↖↑ \u001b[0m      7←↖↑ \u001b[0m      8←↖↑ \u001b[0m        7↑ \u001b[0m      8←↖↑ \u001b[0m        7↖ \n",
      "\n",
      "\n",
      "\u001b[0m        3↑ \u001b[0m      4←↖↑ \u001b[0m      5←↖↑ \u001b[0m      6←↖↑ \u001b[0m      7←↖↑ \u001b[0m      8←↖↑ \u001b[0m        7↖ \u001b[0m       8←↑ \u001b[0m      9←↖↑ \u001b[0m        8↑ \n",
      "\n",
      "\n",
      "\u001b[0m        4↑ \u001b[0m        3↖ \u001b[0m        4← \u001b[0m       5←↖ \u001b[0m        6← \u001b[0m        7← \u001b[0m       8←↑ \u001b[0m      9←↖↑ \u001b[0m     10←↖↑ \u001b[0m        9↑ \n",
      "\n",
      "\n",
      "\u001b[0m        5↑ \u001b[0m        4↑ \u001b[0m      5←↖↑ \u001b[0m      6←↖↑ \u001b[0m      7←↖↑ \u001b[0m      8←↖↑ \u001b[0m      9←↖↑ \u001b[0m     10←↖↑ \u001b[0m     11←↖↑ \u001b[0m      10↖↑ \n",
      "\n",
      "\n",
      "\u001b[0m        6↑ \u001b[0m        5↑ \u001b[0m      6←↖↑ \u001b[0m      7←↖↑ \u001b[0m      8←↖↑ \u001b[0m      9←↖↑ \u001b[0m        8↖ \u001b[0m        9← \u001b[0m       10← \u001b[0m      11←↑ \n",
      "\n",
      "\n",
      "\u001b[0m        7↑ \u001b[0m        6↑ \u001b[0m      7←↖↑ \u001b[0m      8←↖↑ \u001b[0m      9←↖↑ \u001b[0m     10←↖↑ \u001b[0m        9↑ \u001b[0m        8↖ \u001b[0m        9← \u001b[0m       10← \n",
      "\n",
      "\n",
      "\u001b[0m        8↑ \u001b[0m        7↑ \u001b[0m      8←↖↑ \u001b[0m      9←↖↑ \u001b[0m     10←↖↑ \u001b[0m     11←↖↑ \u001b[0m       10↑ \u001b[0m        9↑ \u001b[0m        8↖ \u001b[0m        9← \n",
      "\n",
      "\n",
      "\u001b[0m        9↑ \u001b[0m        8↑ \u001b[0m      9←↖↑ \u001b[0m     10←↖↑ \u001b[0m     11←↖↑ \u001b[0m     12←↖↑ \u001b[0m       11↑ \u001b[0m       10↑ \u001b[0m        9↑ \u001b[0m        8↖ \n",
      "\n",
      "\n",
      "\u001b[0m       10↑ \u001b[0m        9↑ \u001b[0m     10←↖↑ \u001b[0m     11←↖↑ \u001b[0m     12←↖↑ \u001b[0m     13←↖↑ \u001b[0m       12↑ \u001b[0m       11↑ \u001b[0m       10↑ \u001b[0m        9↑ \n",
      "\n",
      "\n",
      "---------------------------------------------------------------------------------------------------------------\n",
      "Levenshtein distance between \"intentions\" and \"execution\": 8\n",
      "--- Executed in 0.001024484634399414 seconds ---\n"
     ]
    }
   ],
   "source": [
    "str1, str2 = \"intentions\", \"execution\" \n",
    "currentTime, levinshteinDist = editDistDP(str1, str2)\n",
    "print(f'Levenshtein distance between \"{str1}\" and \"{str2}\": {levinsteinDist}') \n",
    "print(f'--- Executed in {time.time() - currentTime} seconds ---')"
   ]
  },
  {
   "cell_type": "markdown",
   "id": "00217c81-ec7d-427f-914f-1ed6edb7e26a",
   "metadata": {},
   "source": [
    "### Test case 3"
   ]
  },
  {
   "cell_type": "code",
   "execution_count": 59,
   "id": "b21f7c52-1b25-4145-b445-fd1d424050d0",
   "metadata": {},
   "outputs": [
    {
     "name": "stdout",
     "output_type": "stream",
     "text": [
      "Completed DP table after all the subproblems are solved\n",
      "\n",
      "\u001b[0m        0↑ \u001b[0m        1← \u001b[0m        2← \u001b[0m        3← \u001b[0m        4← \u001b[0m        5← \u001b[0m        6← \u001b[0m        7← \u001b[0m        8← \u001b[0m        9← \n",
      "\n",
      "\n",
      "\u001b[0m        1↑ \u001b[0m      2←↖↑ \u001b[0m      3←↖↑ \u001b[0m        2↖ \u001b[0m        3← \u001b[0m        4← \u001b[0m        5← \u001b[0m        6← \u001b[0m        7← \u001b[0m        8← \n",
      "\n",
      "\n",
      "\u001b[0m        2↑ \u001b[0m      3←↖↑ \u001b[0m      4←↖↑ \u001b[0m        3↑ \u001b[0m        2↖ \u001b[0m        3← \u001b[0m        4← \u001b[0m        5← \u001b[0m        6← \u001b[0m       7←↖ \n",
      "\n",
      "\n",
      "\u001b[0m        3↑ \u001b[0m      4←↖↑ \u001b[0m      5←↖↑ \u001b[0m        4↑ \u001b[0m        3↑ \u001b[0m      4←↖↑ \u001b[0m      5←↖↑ \u001b[0m      6←↖↑ \u001b[0m      7←↖↑ \u001b[0m      8←↖↑ \n",
      "\n",
      "\n",
      "\u001b[0m        4↑ \u001b[0m      5←↖↑ \u001b[0m      6←↖↑ \u001b[0m        5↑ \u001b[0m        4↑ \u001b[0m      5←↖↑ \u001b[0m      6←↖↑ \u001b[0m      7←↖↑ \u001b[0m      8←↖↑ \u001b[0m      9←↖↑ \n",
      "\n",
      "\n",
      "\u001b[0m        5↑ \u001b[0m        4↖ \u001b[0m        5← \u001b[0m       6←↑ \u001b[0m        5↑ \u001b[0m      6←↖↑ \u001b[0m      7←↖↑ \u001b[0m      8←↖↑ \u001b[0m      9←↖↑ \u001b[0m     10←↖↑ \n",
      "\n",
      "\n",
      "---------------------------------------------------------------------------------------------------------------\n",
      "Levenshtein distance between \"hello\" and \"otherside\": 8\n",
      "--- Executed in 0.00093841552734375 seconds ---\n"
     ]
    }
   ],
   "source": [
    "str1, str2 = \"hello\", \"otherside\" \n",
    "currentTime, levinshteinDist = editDistDP(str1, str2)\n",
    "print(f'Levenshtein distance between \"{str1}\" and \"{str2}\": {levinsteinDist}') \n",
    "print(f'--- Executed in {time.time() - currentTime} seconds ---')"
   ]
  }
 ],
 "metadata": {
  "kernelspec": {
   "display_name": "Python 3 (ipykernel)",
   "language": "python",
   "name": "python3"
  },
  "language_info": {
   "codemirror_mode": {
    "name": "ipython",
    "version": 3
   },
   "file_extension": ".py",
   "mimetype": "text/x-python",
   "name": "python",
   "nbconvert_exporter": "python",
   "pygments_lexer": "ipython3",
   "version": "3.10.12"
  }
 },
 "nbformat": 4,
 "nbformat_minor": 5
}
