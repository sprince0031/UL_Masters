{
 "cells": [
  {
   "cell_type": "markdown",
   "id": "82732363-155f-4787-9c21-a53491f2a21d",
   "metadata": {},
   "source": [
    "## Student details\n",
    "Student name: **Siddharth Prince**  \n",
    "Student ID: **23052058**"
   ]
  },
  {
   "cell_type": "markdown",
   "id": "90cdb3cd-3064-4b6a-a360-f01fba9dba48",
   "metadata": {},
   "source": [
    "# Task 1"
   ]
  },
  {
   "cell_type": "code",
   "execution_count": 1,
   "id": "11751b4a-b33c-4d15-b296-10ae4b0cff54",
   "metadata": {},
   "outputs": [],
   "source": [
    "import time\n",
    "import re\n",
    "\n",
    "#How many insertions, deletions, or substitutions does it take to turn x into y?\n",
    "def edDistRecursive(x, y): \n",
    " \n",
    "    # If either x or y are empty, then one or more (depending on their length) INSERTIONS or DELECTIONS are needed to transform x to y.\n",
    "    if len(x) == 0:\n",
    "        #print(f'\\t Converting \"{x}\" TO \"{y}\" requires {len(y)} INSERTIONS, therefor it costs {len(y)}') \n",
    "        return len(y)\n",
    "    if len(y) == 0:\n",
    "        #print(f'\\t Converting \"{x}\" TO \"{y}\" requires {len(x)} DELETIONS, therefor it costs {len(x)}') \n",
    "        return len(x)\n",
    " \n",
    "    # When neither x or y are empty, we must compute the cost of each operation and find the least costly one.\n",
    "    \n",
    "    digitMatchX = re.match(\"\\d\", x[-1])\n",
    "    digitMatchY = re.match(\"\\d\", y[-1])\n",
    "    # print(f'x[-1]: {x[-1]}, y[-1]: {y[-1]}')\n",
    "    if x[-1] == y[-1]:\n",
    "        delta = 0\n",
    "    elif (digitMatchX and digitMatchY) or (digitMatchX==None and digitMatchY==None): # matching to check if either both are digits or both are letters\n",
    "        delta = 1\n",
    "    else:\n",
    "        delta = 2\n",
    "    # print(f'delta: {delta}')\n",
    "        \n",
    "    diagonal_or_substitution_cost = edDistRecursive(x[:-1], y[:-1]) + delta #what's the cost of SUBSTITUTING the last character of x with the last character of y\n",
    "    vertical_or_deletion_cost     = edDistRecursive(x[:-1], y)      + 1     #what's the cost of DELETING the last character of x\n",
    "    horizontal_or_insertion_cost  = edDistRecursive(x, y[:-1])      + 1     #what's the cost of INSERTING the last character of x into y\n",
    "    \n",
    "    # what's the least costly operation?\n",
    "    minValue = min(diagonal_or_substitution_cost, vertical_or_deletion_cost, horizontal_or_insertion_cost)\n",
    "    return minValue"
   ]
  },
  {
   "cell_type": "markdown",
   "id": "8f653d2c-a2c5-4fb6-91b1-d42d25f15456",
   "metadata": {},
   "source": [
    "### Running test cases"
   ]
  },
  {
   "cell_type": "markdown",
   "id": "acdf2794-13e9-4535-86fe-0d9ce19f908d",
   "metadata": {},
   "source": [
    "#### Test case #1\n",
    "Two strings of the same length and all having letters only."
   ]
  },
  {
   "cell_type": "code",
   "execution_count": 2,
   "id": "b9bd6a9c-e5ec-4889-a62a-6f0dd5850506",
   "metadata": {},
   "outputs": [
    {
     "name": "stdout",
     "output_type": "stream",
     "text": [
      "Edit distance between \"intention\" and \"execution\": 5\n",
      "--- Executed in 1.4362208843231201 seconds ---\n"
     ]
    }
   ],
   "source": [
    "x = 'intention'\n",
    "y = 'execution'\n",
    "currentTime = time.time()\n",
    "print(f'Edit distance between \"{x}\" and \"{y}\": {edDistRecursive(x, y)}')\n",
    "print(f'--- Executed in {time.time() - currentTime} seconds ---')"
   ]
  },
  {
   "cell_type": "markdown",
   "id": "d4f6c285-6cc7-4dda-ad38-15b7e060ba80",
   "metadata": {},
   "source": [
    "#### Test case #2\n",
    "Two strings of the same length and both having a combination of digits and letters."
   ]
  },
  {
   "cell_type": "code",
   "execution_count": 3,
   "id": "c05925ae-94f6-4532-84ac-022b2568321d",
   "metadata": {},
   "outputs": [
    {
     "name": "stdout",
     "output_type": "stream",
     "text": [
      "Edit distance between \"intent1on\" and \"ex3cut0n\": 8\n",
      "--- Executed in 0.779008150100708 seconds ---\n"
     ]
    }
   ],
   "source": [
    "x = 'intent1on'\n",
    "y = 'ex3cut0n'\n",
    "currentTime = time.time()\n",
    "print(f'Edit distance between \"{x}\" and \"{y}\": {edDistRecursive(x, y)}')\n",
    "print(f'--- Executed in {time.time() - currentTime} seconds ---')"
   ]
  },
  {
   "cell_type": "markdown",
   "id": "e0008dbf-dbaa-49c9-9511-234297fc0f41",
   "metadata": {},
   "source": [
    "#### Test case #3\n",
    "Two strings of different lengths but both having letters only."
   ]
  },
  {
   "cell_type": "code",
   "execution_count": 4,
   "id": "08ba58a4-89f5-4d65-8ae0-ea698e208a08",
   "metadata": {},
   "outputs": [
    {
     "name": "stdout",
     "output_type": "stream",
     "text": [
      "Edit distance between \"intentions\" and \"execution\": 6\n",
      "--- Executed in 3.2421889305114746 seconds ---\n"
     ]
    }
   ],
   "source": [
    "x = 'intentions'\n",
    "y = 'execution'\n",
    "currentTime = time.time()\n",
    "print(f'Edit distance between \"{x}\" and \"{y}\": {edDistRecursive(x, y)}')\n",
    "print(f'--- Executed in {time.time() - currentTime} seconds ---')"
   ]
  },
  {
   "cell_type": "markdown",
   "id": "bf548e3b-e5eb-4e80-ab72-eaaa8a426dea",
   "metadata": {},
   "source": [
    "#### Test case #4\n",
    "Two strings of different lengths but having a mix of letters and digits."
   ]
  },
  {
   "cell_type": "code",
   "execution_count": 5,
   "id": "e0594111-2637-4976-b936-d462c9fd0bcf",
   "metadata": {},
   "outputs": [
    {
     "name": "stdout",
     "output_type": "stream",
     "text": [
      "Edit distance between \"int3ntionsla\" and \"ex3cution\": 8\n",
      "--- Executed in 14.044188976287842 seconds ---\n"
     ]
    }
   ],
   "source": [
    "x = 'int3ntionsla'\n",
    "y = 'ex3cution'\n",
    "currentTime = time.time()\n",
    "print(f'Edit distance between \"{x}\" and \"{y}\": {edDistRecursive(x, y)}')\n",
    "print(f'--- Executed in {time.time() - currentTime} seconds ---')"
   ]
  },
  {
   "cell_type": "markdown",
   "id": "02c64bf3-b795-4cb3-af68-b18062860514",
   "metadata": {},
   "source": [
    "# Task 2"
   ]
  },
  {
   "cell_type": "markdown",
   "id": "6d4d3263-4d56-4f48-96c8-19551ed9503f",
   "metadata": {},
   "source": [
    "Housekeeping code"
   ]
  },
  {
   "cell_type": "code",
   "execution_count": 6,
   "id": "336383f3-342c-473a-a941-908a433abf19",
   "metadata": {},
   "outputs": [],
   "source": [
    "# Installing dependency libraries\n",
    "\n",
    "# !pip install names-dataset\n",
    "\n",
    "# !pip install jellyfish\n",
    "\n",
    "# Imports for the task\n",
    "\n",
    "from names_dataset import NameDataset, NameWrapper\n",
    "import jellyfish\n",
    "\n",
    "nd = NameDataset() # Loading it once here. Loading it multiple times in separate cells crashed the kernel. :("
   ]
  },
  {
   "cell_type": "markdown",
   "id": "6334a91b-67e1-4ab5-be42-69b33b6641d9",
   "metadata": {},
   "source": [
    "## Task 2.a"
   ]
  },
  {
   "cell_type": "code",
   "execution_count": 7,
   "id": "69759729-0fb6-498a-bbc4-1b5f0c7a2fde",
   "metadata": {},
   "outputs": [
    {
     "name": "stdout",
     "output_type": "stream",
     "text": [
      "First name, Siddharth found in dataset!\n",
      "Last name, Prince found in dataset!\n"
     ]
    }
   ],
   "source": [
    "# Function to check if first and last names are present in the First and Last Names Dataset.\n",
    "def inFLNDataSet(firstName, lastName):\n",
    "    firstNameResult = nd.search(firstName)\n",
    "    lastNameResult = nd.search(lastName)\n",
    "    if firstNameResult['first_name']:\n",
    "        print(f'First name, {firstName} found in dataset!')\n",
    "    else:\n",
    "        print(f'First name, {firstName} not available in dataset!')\n",
    "\n",
    "    if lastNameResult['last_name']:\n",
    "        print(f'Last name, {lastName} found in dataset!')\n",
    "    else:\n",
    "        print(f'Last name, {lastName} not available in dataset!')\\\n",
    "        \n",
    "    return firstNameResult['first_name'], lastNameResult['last_name']\n",
    "\n",
    "firstNameDetails, lastNameDetails = inFLNDataSet('Siddharth', 'Prince')"
   ]
  },
  {
   "cell_type": "markdown",
   "id": "d960430e-acc2-42ac-90aa-81ce45d17dfa",
   "metadata": {},
   "source": [
    "## Task 2.b"
   ]
  },
  {
   "cell_type": "code",
   "execution_count": 8,
   "id": "b9b1e166-5e99-44ca-8b09-47bd70eb1a18",
   "metadata": {},
   "outputs": [
    {
     "name": "stdout",
     "output_type": "stream",
     "text": [
      "Soundex code for first name, \"Siddharth\": S363\n",
      "Soundex code for last name, \"Prince\": P652\n"
     ]
    }
   ],
   "source": [
    "def getSoundexCodes(firstName, lastName):\n",
    "    if not firstName.isascii() or not lastName.isascii:\n",
    "        return None\n",
    "    firstNameSoundex, lastNameSoundex = jellyfish.soundex(firstName), jellyfish.soundex(lastName)\n",
    "    print(f'Soundex code for first name, \"{firstName}\": {firstNameSoundex}')\n",
    "    print(f'Soundex code for last name, \"{lastName}\": {lastNameSoundex}')\n",
    "    return firstNameSoundex, lastNameSoundex\n",
    "\n",
    "firstNameSoundex, lastNameSoundex = getSoundexCodes('Siddharth', 'Prince')"
   ]
  },
  {
   "cell_type": "markdown",
   "id": "d5861fbf-982a-48a2-80d8-5ffe6f5dc351",
   "metadata": {},
   "source": [
    "## Task 2.C"
   ]
  },
  {
   "cell_type": "code",
   "execution_count": 9,
   "id": "8e39fec0-14e4-4ee3-bcc2-861f4c3711ea",
   "metadata": {},
   "outputs": [
    {
     "name": "stdout",
     "output_type": "stream",
     "text": [
      "List of names that have the same soundex codes as my first name: \n",
      "['S Dorota', 'Sadart', 'Sadradin', 'Sadrata', 'Sadreddin', 'Sadredin', 'Sadrettin', 'Sadriddin', 'Sadrit', 'Sadroddin', 'Sadruddin', 'Sadrudin', 'Satriadi', 'Satrodhan', 'Satrudhan', 'Saturday', 'Saturdino', 'Schoettert', 'Sedrati', 'Sedreddin', 'Sedrettin', 'Seduardoz', 'Setordzi', 'Setrida', 'Shadurdy', 'Shatrudhan', 'Shidharth', 'Shidratul', 'Shihdurdy', 'Shkodra Tennis', 'Sidaarth', 'Sidarta', 'Sidarth', 'Siddareddy', 'Siddarth', 'Siddartha', 'Siddhart', 'Siddharth', 'Siddhartha', 'Siddharthan', 'Sidhart', 'Sidharta', 'Sidharth', 'Sidhartha', 'Sidharthan', 'Sidhurath', 'Sidrat', 'Sidratel', 'Sidratul', 'Sidratul Muntaha', 'Sidrit', 'Sidrita', 'Sidriti', 'Sidrotul', 'Sidurtlede', 'Sita Rudra', 'Siti Hardiyanti', 'Skaidrite', 'Skaidryte', 'Sotiriadis', 'Sstuardo', 'Starden', 'Stardent', 'Starodub', 'Start', 'Startbrac', 'Starttipaja', 'Steewardsen', 'Stert', 'Steward', 'Stewart', 'Stewarth', 'Steyaert', 'Sthewart', 'Sthuardo', 'Stiward', 'Stiwart', 'Storitve Bps Bostjan', 'Storry Tella', 'Straat', 'Strada', 'Stradimir', 'Stradivarius', 'Strado', 'Straider Stervens', 'Strata', 'Stratan', 'Strati', 'Stratila', 'Stratis', 'Strato', 'Stratokaster', 'Stratos', 'Stratoula', 'Stratsimir', 'Stratu', 'Stratulat', 'Stratus', 'Stratuta', 'Street', 'Street Boy', 'Streetboi', 'Streetboy', 'Streetbwoy', 'Streit', 'Streitz', 'Stretch', 'Stretch Ceiling', 'Strida', 'Strit', 'Strotz', 'Strudel', 'Strut', 'Strutz', 'Stryder', 'Stuard', 'Stuardo', 'Stuart', 'Stuart X Rodricka', 'Stuarth', 'Stuarty', 'Sturridge', 'Stuwart', 'Stward', 'Stwart', 'Sudarat', 'Sudarti', 'Sudarto', 'Sudarwati', 'Sudawirat', 'Sudiarto', 'Sudradjat', 'Sutardi', 'Sutarti', 'Sutarto', 'Sutirto', 'Sweetart', 'Sweethert']\n"
     ]
    }
   ],
   "source": [
    "def getSameSoundexNames(name):\n",
    "    if not name.isascii():\n",
    "        return None\n",
    "    nameSoundex = jellyfish.soundex(name)\n",
    "    # print(nameSoundex)\n",
    "    sameSoundexList = []\n",
    "    for firstName in nd.first_names.keys():\n",
    "        # print(firstName)\n",
    "        if not firstName.isascii():\n",
    "            continue\n",
    "        tempNameSoundex = jellyfish.soundex(firstName)\n",
    "        if tempNameSoundex == nameSoundex:\n",
    "            sameSoundexList.append(firstName)\n",
    "    return sameSoundexList\n",
    "\n",
    "print(f'List of names that have the same soundex codes as my first name: \\n{getSameSoundexNames(\"Siddharth\")}')"
   ]
  },
  {
   "cell_type": "markdown",
   "id": "70443373-f096-4cba-9307-f056a5a9e22c",
   "metadata": {},
   "source": [
    "## Task 2.D"
   ]
  },
  {
   "cell_type": "code",
   "execution_count": 10,
   "id": "0a044bf2-8922-4b02-b2ed-12e44b37b57e",
   "metadata": {},
   "outputs": [
    {
     "name": "stdout",
     "output_type": "stream",
     "text": [
      "Levenshtein distance between my first and last names: 9\n"
     ]
    }
   ],
   "source": [
    "print(f'Levenshtein distance between my first and last names: {jellyfish.levenshtein_distance(\"Siddharth\", \"Prince\")}')"
   ]
  }
 ],
 "metadata": {
  "kernelspec": {
   "display_name": "Python 3 (ipykernel)",
   "language": "python",
   "name": "python3"
  },
  "language_info": {
   "codemirror_mode": {
    "name": "ipython",
    "version": 3
   },
   "file_extension": ".py",
   "mimetype": "text/x-python",
   "name": "python",
   "nbconvert_exporter": "python",
   "pygments_lexer": "ipython3",
   "version": "3.10.12"
  }
 },
 "nbformat": 4,
 "nbformat_minor": 5
}
