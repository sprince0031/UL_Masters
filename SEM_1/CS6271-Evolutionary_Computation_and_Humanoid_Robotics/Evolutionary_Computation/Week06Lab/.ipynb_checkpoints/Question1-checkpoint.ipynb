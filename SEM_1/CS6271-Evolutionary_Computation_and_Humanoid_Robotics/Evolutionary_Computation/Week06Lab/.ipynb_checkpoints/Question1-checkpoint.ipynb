{
 "cells": [
  {
   "cell_type": "markdown",
   "id": "ec68685d-45f1-4198-9ce6-c1ef9a676932",
   "metadata": {},
   "source": [
    "### Student details\n",
    "Student name; **Siddharth Prince**  \n",
    "Student id: **23052058**"
   ]
  },
  {
   "cell_type": "markdown",
   "id": "1fa416fc-8593-4f04-b46a-9f076dde0a03",
   "metadata": {},
   "source": [
    "### Grammar specification:\n",
    "\n",
    "```\n",
    "<e>::= (<o><e><e>)|(<u><e>)|<v>\n",
    "\n",
    "<o>::=+|-|/|*\n",
    "\n",
    "<u>::=Sin|Cos|Tan\n",
    "\n",
    "<v>::=x|y\n",
    "```\n",
    "\n",
    "### Given individual:\n",
    "27, 176, 22, 53, 77, 74, 177, 215, 200, 183, 229, 111, 77, 124, 66, 94, 91, 232, 44, 53, 114, 71, 234, 98, 72, 106, 71, 231, 97, 203, 32, 15"
   ]
  },
  {
   "cell_type": "markdown",
   "id": "b0d1ad5f-a66e-468c-8c0d-a1f01d3ee166",
   "metadata": {},
   "source": [
    "### Options for each grammar definition:\n",
    "```\n",
    "<e> -> 3 where option 0 := (<o><e><e>)\n",
    "               option 1 := (<u><e>)\n",
    "               option 2 := <v>\n",
    "\n",
    "<o> -> 4 where option 0 := +\n",
    "               option 1 := -\n",
    "               option 2 := /\n",
    "               option 3 := *\n",
    "\n",
    "<u> -> 3 where option 0 := Sin\n",
    "               option 1 := Cos\n",
    "               option 2 := Tan\n",
    "\n",
    "<v> -> 2 where option 0 := x\n",
    "               option 1 := y\n",
    "```"
   ]
  },
  {
   "cell_type": "markdown",
   "id": "a5d87eba-fcc2-41ea-bc03-ced4d574d4df",
   "metadata": {},
   "source": [
    "Thus starting with <e> from the grammar and mapping the codons, we get the following.  \n",
    "\n",
    "```\n",
    "27 % 3 (for <e>) = 0 => (<o><e><e>) (i.e, option 0)\n",
    "176 % 4 (expanding for <o>) = 0 => (+<e><e>) (i.e, option 0)\n",
    "22 % 3 (expanding for <e>) = 1 => (+(<u><e>)<e>) (i.e, option 1)\n",
    "53 % 3 (expanding for <u>) = 2 => (+(Tan<e>)<e>) (i.e, option 2)\n",
    "77 % 3 (expanding for <e>) = 2 => (+(Tan<v>)<e>) (i.e, option 2)\n",
    "74 % 2 (expanding for <v>) = 0 => (+(Tanx)<e>) (i.e, option 0)\n",
    "177 % 3 (expanding for <e>) = 0 => (+(Tanx)(<o><e><e>)) (i.e, option 0)\n",
    "215 % 4 (expanding for <o>) = 3 => (+(Tanx)(*<e><e>)) (i.e, option 3)\n",
    "200 % 3 (expanding for <e>) = 2 => (+(Tanx)(*<v><e>)) (i.e, option 2)\n",
    "183 % 2 (expanding for <v>) = 1 => (+(Tanx)(*y<e>)) (i.e, option 1)\n",
    "229 % 3 (expanding for <e>) = 1 => (+(Tanx)(*y(<u><e>))) (i.e, option 1)\n",
    "111 % 3 (expanding for <u>) = 0 => (+(Tanx)(*y(Sin<e>))) (i.e, option 0)\n",
    "77 % 3 (expanding for <e>) = 2 => (+(Tanx)(*y(Sin<v>))) (i.e, option 2)\n",
    "124 % 2 (expanding for <v>) = 0 => (+(Tanx)(*y(Sinx))) (i.e, option 0)\n",
    "```"
   ]
  },
  {
   "cell_type": "markdown",
   "id": "c30e92e9-51a2-4a9a-9e53-95c88aad232f",
   "metadata": {},
   "source": [
    "Since the grammar mapping has been terminated by the codon 124 as seen above, the grammar expansion stops here. The individual would map to the following expression:  \n",
    "\n",
    "#### (+(Tanx)(*y(Sinx)))\n",
    "\n",
    "The effective length for the individual would be only upto the corresponding point in binary that maps to 124. The rest is the tail."
   ]
  }
 ],
 "metadata": {
  "kernelspec": {
   "display_name": "Python 3 (ipykernel)",
   "language": "python",
   "name": "python3"
  },
  "language_info": {
   "codemirror_mode": {
    "name": "ipython",
    "version": 3
   },
   "file_extension": ".py",
   "mimetype": "text/x-python",
   "name": "python",
   "nbconvert_exporter": "python",
   "pygments_lexer": "ipython3",
   "version": "3.10.12"
  }
 },
 "nbformat": 4,
 "nbformat_minor": 5
}
