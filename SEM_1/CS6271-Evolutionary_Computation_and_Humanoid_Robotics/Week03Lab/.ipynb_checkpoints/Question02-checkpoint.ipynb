{
 "cells": [
  {
   "cell_type": "markdown",
   "metadata": {},
   "source": [
    "Student name: **Siddharth Prince**  \n",
    "Student ID: **23052058**"
   ]
  },
  {
   "cell_type": "markdown",
   "metadata": {},
   "source": [
    "## Answer to question 2 (using tournament selection instead of roulette wheel selection)\n",
    "\n",
    "The Max generations I have set is $24$ for which the minimum population size I found via method of trial and error to get a perfect solution is $249$. The model fails to reach the perfect solution consistently when I try to run it with any number of generations lower than $249$ or max generations of $24$. I have kept the other parameters i.e, the probability of mutation and crossover to 0.03 and 0.8 respectively and have still used two-point crossover.\n",
    "\n",
    "Thus the number of individuals processed here are $249 * 24 = 5,976$  \n",
    "\n",
    "The following are the various setups and combinations of parameters I'd used to arrive to my final figures.  \n",
    "\n",
    "- 545 total population, 22 generations\n",
    "- 543 total population, 18 generations\n",
    "- 542 total population, 21 generations\n",
    "- 540 total population, 23 generations\n",
    "- 531 total population, 22\n",
    "- 530 total population, did not reach perfect solution in 25 generations\n",
    "- 521 total population, 21\n",
    "- 500 total population, 24\n",
    "- 400 total population, did not reach max fitness\n",
    "- 399 total population, 22\n",
    "- 249 total population, 24 -> **This combination had the least number of individuals processed.**\n",
    "- 248 total population, 25\n",
    "Multiple trials below these numbers have consistently failed to reach the perfect solution."
   ]
  },
  {
   "cell_type": "markdown",
   "metadata": {},
   "source": [
    "   # GA applied to OneMax"
   ]
  },
  {
   "cell_type": "markdown",
   "metadata": {},
   "source": [
    "This notebook implements a simple GA in a fairly lowlevel way. In later examples we'll use more highlevel operators, but it is a very valuable exercise to ensure you understand what this code is actually doing. Make sure you understand the processes below before moving to the more high-level toolboxes!"
   ]
  },
  {
   "cell_type": "markdown",
   "metadata": {},
   "source": [
    "Install DEAP. Note that if you are running this on your own computer you might not need to do this. In fact, it is better practice to install it so that it is always available, but when running on Colab, we do need this."
   ]
  },
  {
   "cell_type": "code",
   "execution_count": 1,
   "metadata": {},
   "outputs": [],
   "source": [
    "# !pip install deap"
   ]
  },
  {
   "cell_type": "markdown",
   "metadata": {},
   "source": [
    "Import the DEAP tools and useful libraries (random and matplotlib)."
   ]
  },
  {
   "cell_type": "code",
   "execution_count": 2,
   "metadata": {},
   "outputs": [],
   "source": [
    "from deap import base\n",
    "from deap import creator\n",
    "from deap import tools\n",
    "\n",
    "import random\n",
    "\n",
    "import matplotlib.pyplot as plt"
   ]
  },
  {
   "cell_type": "markdown",
   "metadata": {},
   "source": [
    "Set our Genetic Algorithm parameters"
   ]
  },
  {
   "cell_type": "code",
   "execution_count": 3,
   "metadata": {},
   "outputs": [],
   "source": [
    "# Genetic Algorithm constants:\n",
    "POPULATION_SIZE = 249\n",
    "P_CROSSOVER = 0.8 # probability for crossover\n",
    "P_MUTATION = 0.03 # probability for mutating an individual\n",
    "MAX_GENERATIONS = 24"
   ]
  },
  {
   "cell_type": "markdown",
   "metadata": {},
   "source": [
    "Set any problem-specific constants here. In this case we need to know how long the string is."
   ]
  },
  {
   "cell_type": "code",
   "execution_count": 4,
   "metadata": {},
   "outputs": [],
   "source": [
    "ONE_MAX_LENGTH = 100  # length of bit string to be optimized"
   ]
  },
  {
   "cell_type": "markdown",
   "metadata": {},
   "source": [
    "Set the random seed. This is important so that we can reproduce runs later on."
   ]
  },
  {
   "cell_type": "code",
   "execution_count": 5,
   "metadata": {},
   "outputs": [],
   "source": [
    "RANDOM_SEED = 42\n",
    "random.seed(RANDOM_SEED)"
   ]
  },
  {
   "cell_type": "markdown",
   "metadata": {},
   "source": [
    "Create our toolbox. Note that we can pull in a bunch of predefined operators to tailor our Evolutionary Algorithm, which, of course, in this case is a GA. Notice that it is possible to create our **own** operators and functions to use, which is what we do with our **oneMaxFitness** function below."
   ]
  },
  {
   "cell_type": "code",
   "execution_count": 6,
   "metadata": {},
   "outputs": [],
   "source": [
    "toolbox = base.Toolbox()\n",
    "\n",
    "# create an operator that randomly returns 0 or 1:\n",
    "toolbox.register(\"zeroOrOne\", random.randint, 0, 1)\n",
    "\n",
    "# define a single objective, maximizing fitness strategy:\n",
    "creator.create(\"FitnessMax\", base.Fitness, weights=(1.0,))\n",
    "\n",
    "# create the Individual class based on list:\n",
    "creator.create(\"Individual\", list, fitness=creator.FitnessMax)\n",
    "#creator.create(\"Individual\", array.array, typecode='b', fitness=creator.FitnessMax)\n",
    "\n",
    "# create the individual operator to fill up an Individual instance:\n",
    "toolbox.register(\"individualCreator\", tools.initRepeat, creator.Individual, toolbox.zeroOrOne, ONE_MAX_LENGTH)\n",
    "\n",
    "# create the population operator to generate a list of individuals:\n",
    "toolbox.register(\"populationCreator\", tools.initRepeat, list, toolbox.individualCreator)\n",
    "\n",
    "\n",
    "# fitness calculation:\n",
    "# compute the number of '1's in the individual\n",
    "def oneMaxFitness(individual):\n",
    "    return sum(individual),  # return a tuple\n",
    "\n",
    "\n",
    "toolbox.register(\"evaluate\", oneMaxFitness)\n",
    "\n",
    "# genetic operators:\n",
    "\n",
    "# Tournament selection with tournament size of 3:\n",
    "toolbox.register(\"select\", tools.selTournament, tournsize=3)\n",
    "\n",
    "# Two-point crossover:\n",
    "toolbox.register(\"mate\", tools.cxTwoPoint)\n",
    "\n",
    "# Flip-bit mutation:\n",
    "# indpb: Independent probability for each attribute to be flipped\n",
    "toolbox.register(\"mutate\", tools.mutFlipBit, indpb=1.0/ONE_MAX_LENGTH)\n",
    "\n"
   ]
  },
  {
   "cell_type": "markdown",
   "metadata": {},
   "source": [
    "Here is the main GA loop. We will iterate through it up to the MAX_GENERATIONS parameter and then print out our best individual."
   ]
  },
  {
   "cell_type": "code",
   "execution_count": 7,
   "metadata": {
    "scrolled": true
   },
   "outputs": [
    {
     "name": "stdout",
     "output_type": "stream",
     "text": [
      "- Generation 1: Max Fitness = 66.0, Avg Fitness = 53.899598393574294\n",
      "Best Individual =  0 1 1 1 0 1 1 1 1 1 1 1 1 1 1 1 1 1 1 1 1 1 0 0 0 0 0 0 1 1 1 1 1 0 1 0 1 0 1 1 1 1 0 0 0 0 1 0 0 1 1 1 0 1 0 1 1 0 1 1 1 0 1 0 1 1 1 1 1 1 0 0 1 1 0 1 1 1 0 1 1 0 1 0 1 1 1 1 1 0 0 0 0 1 1 0 1 1 1 0 \n",
      "\n",
      "- Generation 2: Max Fitness = 68.0, Avg Fitness = 57.204819277108435\n",
      "Best Individual =  1 0 1 1 1 0 1 1 1 1 1 1 1 0 0 1 0 1 0 1 1 1 1 0 1 0 0 1 0 1 0 1 0 0 1 0 0 1 1 1 1 0 1 1 0 1 1 1 1 1 1 1 1 0 1 1 1 1 0 1 1 0 1 0 1 0 1 1 1 1 0 1 0 1 0 1 1 0 0 1 1 1 1 1 1 0 0 1 1 1 1 1 1 1 0 1 1 0 0 1 \n",
      "\n",
      "- Generation 3: Max Fitness = 71.0, Avg Fitness = 59.8433734939759\n",
      "Best Individual =  0 1 1 1 1 1 1 1 0 1 0 1 0 0 1 1 1 1 1 0 1 1 1 0 0 1 1 1 0 0 0 1 0 1 1 1 1 1 1 1 1 1 0 1 1 0 1 1 1 0 0 1 1 1 0 1 0 1 1 1 1 1 1 1 1 1 1 1 1 0 1 1 0 1 1 0 1 1 1 1 0 1 1 0 0 1 1 0 1 1 1 1 1 0 0 1 0 1 1 0 \n",
      "\n",
      "- Generation 4: Max Fitness = 73.0, Avg Fitness = 62.42168674698795\n",
      "Best Individual =  0 1 1 1 0 1 1 1 1 1 1 1 1 1 1 1 1 1 0 1 1 1 1 0 1 1 1 1 0 0 0 1 0 1 1 1 1 1 1 1 1 1 0 1 0 1 1 1 1 0 1 1 1 1 1 0 1 1 1 0 1 1 0 1 1 1 1 1 1 0 1 1 1 0 1 0 1 0 1 1 1 1 0 0 1 1 0 0 0 0 1 1 0 1 1 0 1 1 1 0 \n",
      "\n",
      "- Generation 5: Max Fitness = 72.0, Avg Fitness = 64.93975903614458\n",
      "Best Individual =  0 1 0 0 1 0 1 1 1 1 0 1 1 1 1 1 1 0 1 0 1 1 1 0 0 1 1 1 0 0 0 1 0 1 1 1 1 1 1 1 1 1 0 1 1 0 1 1 1 1 0 1 1 1 1 1 1 1 1 0 0 0 1 0 0 1 1 1 1 0 1 1 1 1 0 1 1 1 0 1 1 1 0 0 1 1 1 1 1 1 1 1 1 1 1 1 1 0 1 0 \n",
      "\n",
      "- Generation 6: Max Fitness = 74.0, Avg Fitness = 66.91164658634538\n",
      "Best Individual =  0 1 0 0 1 0 1 1 1 1 0 1 1 1 1 1 1 1 1 1 1 0 1 0 1 1 1 1 0 1 0 1 1 1 1 0 1 1 1 0 1 0 0 0 1 1 1 0 1 1 1 1 0 1 0 0 0 1 1 1 1 1 1 1 1 1 1 1 1 0 1 1 1 0 1 1 1 1 0 1 1 1 0 0 1 1 1 1 1 1 1 1 1 1 1 1 1 0 1 0 \n",
      "\n",
      "- Generation 7: Max Fitness = 79.0, Avg Fitness = 69.52208835341365\n",
      "Best Individual =  0 1 1 1 0 1 1 1 1 1 1 1 1 1 1 1 1 1 0 1 1 1 1 0 1 1 1 1 0 0 0 1 0 1 1 1 1 1 1 1 1 1 1 0 0 1 1 1 1 1 1 1 1 0 1 1 1 1 0 1 1 1 1 1 1 1 1 1 0 0 1 1 1 1 0 1 1 0 0 1 1 1 1 1 1 0 0 1 1 1 1 1 1 1 0 1 1 1 1 0 \n",
      "\n",
      "- Generation 8: Max Fitness = 81.0, Avg Fitness = 72.42570281124497\n",
      "Best Individual =  0 1 1 1 0 1 1 1 1 1 1 1 1 1 1 1 1 1 0 1 1 1 1 0 1 1 1 1 0 0 0 1 0 1 1 1 1 1 1 1 1 1 1 0 0 1 1 1 1 1 1 1 1 0 1 1 1 1 0 1 1 1 1 1 1 1 1 1 0 0 1 1 1 1 0 1 1 1 0 1 1 1 1 1 1 1 1 1 1 1 0 1 0 1 1 1 1 1 1 0 \n",
      "\n",
      "- Generation 9: Max Fitness = 81.0, Avg Fitness = 74.43373493975903\n",
      "Best Individual =  1 1 0 1 1 1 0 0 1 1 0 1 1 1 1 1 1 1 0 1 1 1 0 1 1 1 0 1 0 0 1 1 1 1 1 1 1 1 1 1 1 1 0 1 1 0 1 1 1 1 0 1 1 1 1 1 1 1 1 1 1 1 1 1 1 1 1 1 1 0 1 1 1 0 1 1 1 1 0 1 1 1 1 1 1 1 1 1 1 1 0 1 0 1 1 1 1 0 1 0 \n",
      "\n",
      "- Generation 10: Max Fitness = 83.0, Avg Fitness = 76.28915662650603\n",
      "Best Individual =  1 1 0 1 0 1 1 1 1 1 1 1 1 1 1 1 1 1 0 1 0 1 1 1 1 1 1 1 0 0 1 0 1 1 1 1 1 1 1 1 1 1 0 1 1 0 1 1 1 1 0 1 1 1 1 1 1 1 1 1 1 1 1 1 1 1 1 1 1 0 1 1 1 0 1 1 1 1 0 1 1 1 1 1 1 1 1 1 1 1 0 1 0 1 1 1 1 0 1 0 \n",
      "\n",
      "- Generation 11: Max Fitness = 84.0, Avg Fitness = 78.33734939759036\n",
      "Best Individual =  0 1 1 1 1 0 1 1 1 1 1 1 1 1 1 1 1 0 1 1 1 1 0 1 1 1 1 1 0 1 1 1 1 1 1 1 1 1 1 1 1 1 0 1 0 1 1 1 1 0 1 1 1 0 1 1 1 0 1 1 1 1 1 1 1 1 1 1 1 0 1 1 1 0 1 1 1 1 1 1 0 1 1 1 1 1 1 1 1 1 1 1 1 1 1 0 1 0 1 0 \n",
      "\n",
      "- Generation 12: Max Fitness = 85.0, Avg Fitness = 80.09638554216868\n",
      "Best Individual =  0 1 0 1 1 1 1 1 1 1 1 1 1 1 1 1 1 1 0 1 1 1 1 0 1 1 1 1 1 1 1 1 0 0 1 1 0 1 1 1 1 1 1 1 1 0 0 1 1 1 1 1 1 1 1 1 1 0 1 1 1 1 1 1 1 1 1 1 1 0 1 1 1 0 1 1 1 1 0 1 1 1 1 1 1 1 1 1 1 1 0 1 0 1 1 1 1 1 1 1 \n",
      "\n",
      "- Generation 13: Max Fitness = 88.0, Avg Fitness = 81.70682730923694\n",
      "Best Individual =  1 1 1 1 1 0 1 1 1 1 1 1 1 1 1 1 1 0 1 1 1 1 0 1 1 1 1 1 1 1 1 1 1 1 1 1 0 1 1 1 1 1 1 1 1 0 0 1 1 1 1 1 1 1 1 1 1 0 1 1 1 1 1 1 1 1 1 1 0 1 1 1 1 1 0 1 1 1 0 1 1 1 1 1 1 1 1 1 1 1 0 1 0 1 1 1 1 1 1 1 \n",
      "\n",
      "- Generation 14: Max Fitness = 89.0, Avg Fitness = 83.21686746987952\n",
      "Best Individual =  0 1 1 1 0 1 1 1 1 1 1 1 1 1 1 1 1 1 0 1 1 1 1 0 1 1 1 1 1 1 1 1 1 1 1 1 1 1 1 1 1 1 0 1 0 1 1 1 1 1 1 1 1 1 1 1 1 0 1 1 1 1 1 1 1 1 1 1 1 1 1 1 1 1 1 1 1 1 0 1 1 1 1 1 1 0 0 1 1 1 1 1 1 1 1 1 1 1 1 0 \n",
      "\n",
      "- Generation 15: Max Fitness = 90.0, Avg Fitness = 84.63855421686748\n",
      "Best Individual =  0 1 1 1 0 1 1 1 1 1 1 1 1 1 1 1 1 1 0 1 1 1 1 0 1 1 1 1 1 1 1 1 1 1 1 1 1 1 1 1 1 1 0 1 0 1 1 1 1 1 1 1 1 1 1 1 1 0 1 1 1 1 1 1 1 1 1 1 1 1 1 1 1 1 1 1 1 1 0 1 1 1 1 1 1 1 1 1 1 1 0 1 1 1 1 1 1 1 1 0 \n",
      "\n",
      "- Generation 16: Max Fitness = 90.0, Avg Fitness = 85.89156626506023\n",
      "Best Individual =  0 1 0 1 1 1 1 1 1 1 1 1 1 1 1 1 1 0 1 1 1 1 0 1 1 1 1 1 0 0 1 1 1 1 1 1 1 1 1 1 1 1 1 0 0 1 1 1 1 1 1 1 1 0 1 1 1 1 1 1 1 0 1 1 1 1 1 1 1 1 1 1 1 1 1 1 1 1 1 1 1 1 1 1 1 1 1 1 1 1 1 1 1 1 1 1 1 1 1 1 \n",
      "\n",
      "- Generation 17: Max Fitness = 91.0, Avg Fitness = 87.24497991967871\n",
      "Best Individual =  0 1 1 1 1 1 1 1 1 1 1 1 1 1 1 1 1 1 0 1 1 1 0 1 1 1 1 1 1 1 1 1 1 1 1 1 1 1 1 1 1 1 1 0 0 1 1 1 1 1 1 1 1 0 1 1 1 1 1 1 1 0 1 1 1 1 1 1 1 1 1 1 1 1 1 1 1 1 1 1 1 1 1 1 1 1 1 1 1 1 1 1 1 1 0 1 1 1 1 0 \n",
      "\n",
      "- Generation 18: Max Fitness = 94.0, Avg Fitness = 88.58232931726907\n",
      "Best Individual =  1 1 1 1 1 1 1 1 1 1 1 1 1 1 1 1 1 1 0 1 1 1 1 1 1 1 1 1 1 1 1 1 1 1 1 1 1 1 1 1 1 1 0 1 0 1 0 1 1 1 1 1 1 1 1 1 1 0 1 1 1 1 1 1 1 1 1 1 1 1 1 1 1 1 0 1 1 1 1 1 1 1 1 1 1 1 1 1 1 1 1 1 1 1 1 1 1 1 1 1 \n",
      "\n",
      "- Generation 19: Max Fitness = 94.0, Avg Fitness = 89.78313253012048\n",
      "Best Individual =  1 1 1 1 1 1 1 1 1 1 1 1 1 1 1 1 1 1 0 1 1 1 1 1 1 1 1 1 1 1 1 1 1 1 1 1 1 1 1 1 1 1 0 1 0 1 0 1 1 1 1 1 1 1 1 1 1 0 1 1 1 1 1 1 1 1 1 1 1 1 1 1 1 1 0 1 1 1 1 1 1 1 1 1 1 1 1 1 1 1 1 1 1 1 1 1 1 1 1 1 \n",
      "\n",
      "- Generation 20: Max Fitness = 97.0, Avg Fitness = 91.02409638554217\n",
      "Best Individual =  1 1 1 1 1 1 1 1 1 1 1 1 1 1 1 1 1 1 0 1 1 1 1 1 1 1 1 1 1 1 1 1 1 1 1 1 0 1 1 1 1 1 1 1 1 1 1 1 1 1 1 1 1 1 1 1 1 1 1 1 1 1 1 1 1 1 1 1 1 1 1 1 1 1 0 1 1 1 1 1 1 1 1 1 1 1 1 1 1 1 1 1 1 1 1 1 1 1 1 1 \n",
      "\n",
      "- Generation 21: Max Fitness = 96.0, Avg Fitness = 92.12449799196787\n",
      "Best Individual =  1 1 1 1 1 1 1 1 1 1 1 1 1 1 1 1 1 1 0 1 1 1 0 1 1 1 1 1 1 1 1 1 1 1 1 1 0 1 1 1 1 1 1 1 1 1 1 1 1 1 1 1 1 1 1 1 1 0 1 1 1 1 1 1 1 1 1 1 1 1 1 1 1 1 1 1 1 1 1 1 1 1 1 1 1 1 1 1 1 1 1 1 1 1 1 1 1 1 1 1 \n",
      "\n",
      "- Generation 22: Max Fitness = 98.0, Avg Fitness = 93.3132530120482\n",
      "Best Individual =  1 1 1 1 1 1 1 1 1 1 1 1 1 1 1 1 1 1 0 1 1 1 1 1 1 1 1 1 1 1 1 1 1 1 1 1 1 1 1 1 1 1 1 1 1 1 1 1 1 1 1 1 1 1 1 1 1 0 1 1 1 1 1 1 1 1 1 1 1 1 1 1 1 1 1 1 1 1 1 1 1 1 1 1 1 1 1 1 1 1 1 1 1 1 1 1 1 1 1 1 \n",
      "\n",
      "- Generation 23: Max Fitness = 98.0, Avg Fitness = 94.52610441767068\n",
      "Best Individual =  1 1 1 1 1 1 1 1 1 1 1 1 1 1 1 1 1 1 0 1 1 1 1 0 1 1 1 1 1 1 1 1 1 1 1 1 1 1 1 1 1 1 1 1 1 1 1 1 1 1 1 1 1 1 1 1 1 1 1 1 1 1 1 1 1 1 1 1 1 1 1 1 1 1 1 1 1 1 1 1 1 1 1 1 1 1 1 1 1 1 1 1 1 1 1 1 1 1 1 1 \n",
      "\n",
      "- Generation 24: Max Fitness = 100.0, Avg Fitness = 95.60642570281125\n",
      "Best Individual =  1 1 1 1 1 1 1 1 1 1 1 1 1 1 1 1 1 1 1 1 1 1 1 1 1 1 1 1 1 1 1 1 1 1 1 1 1 1 1 1 1 1 1 1 1 1 1 1 1 1 1 1 1 1 1 1 1 1 1 1 1 1 1 1 1 1 1 1 1 1 1 1 1 1 1 1 1 1 1 1 1 1 1 1 1 1 1 1 1 1 1 1 1 1 1 1 1 1 1 1 \n",
      "\n"
     ]
    }
   ],
   "source": [
    "# create initial population (generation 0):\n",
    "population = toolbox.populationCreator(n=POPULATION_SIZE)\n",
    "generationCounter = 0\n",
    "\n",
    "# calculate fitness tuple for each individual in the population:\n",
    "fitnessValues = list(map(toolbox.evaluate, population))\n",
    "for individual, fitnessValue in zip(population, fitnessValues):\n",
    "    individual.fitness.values = fitnessValue\n",
    "\n",
    "# extract fitness values from all individuals in population:\n",
    "fitnessValues = [individual.fitness.values[0] for individual in population]\n",
    "\n",
    "# initialize statistics accumulators:\n",
    "maxFitnessValues = []\n",
    "meanFitnessValues = []\n",
    "\n",
    "# main evolutionary loop:\n",
    "# stop if max fitness value reached the known max value\n",
    "# OR if number of generations exceeded the preset value:\n",
    "while max(fitnessValues) < ONE_MAX_LENGTH and generationCounter < MAX_GENERATIONS:\n",
    "    # update counter:\n",
    "    generationCounter = generationCounter + 1\n",
    "\n",
    "    # apply the selection operator, to select the next generation's individuals:\n",
    "    offspring = toolbox.select(population, len(population))\n",
    "    # clone the selected individuals:\n",
    "    offspring = list(map(toolbox.clone, offspring))\n",
    "\n",
    "    # apply the crossover operator to pairs of offspring:\n",
    "    for child1, child2 in zip(offspring[::2], offspring[1::2]):\n",
    "        if random.random() < P_CROSSOVER:\n",
    "            toolbox.mate(child1, child2)\n",
    "            del child1.fitness.values\n",
    "            del child2.fitness.values\n",
    "\n",
    "    for mutant in offspring:\n",
    "        if random.random() < P_MUTATION:\n",
    "            toolbox.mutate(mutant)\n",
    "            del mutant.fitness.values\n",
    "\n",
    "    # calculate fitness for the individuals with no previous calculated fitness value:\n",
    "    freshIndividuals = [ind for ind in offspring if not ind.fitness.valid]\n",
    "    freshFitnessValues = list(map(toolbox.evaluate, freshIndividuals))\n",
    "    for individual, fitnessValue in zip(freshIndividuals, freshFitnessValues):\n",
    "        individual.fitness.values = fitnessValue\n",
    "\n",
    "    # replace the current population with the offspring:\n",
    "    population[:] = offspring\n",
    "\n",
    "    # collect fitnessValues into a list, update statistics and print:\n",
    "    fitnessValues = [ind.fitness.values[0] for ind in population]\n",
    "\n",
    "    maxFitness = max(fitnessValues)\n",
    "    meanFitness = sum(fitnessValues) / len(population)\n",
    "    maxFitnessValues.append(maxFitness)\n",
    "    meanFitnessValues.append(meanFitness)\n",
    "    print(\"- Generation {}: Max Fitness = {}, Avg Fitness = {}\".format(generationCounter, maxFitness, meanFitness))\n",
    "\n",
    "    # find and print best individual:\n",
    "    best_index = fitnessValues.index(max(fitnessValues))\n",
    "    print(\"Best Individual = \", *population[best_index], \"\\n\")"
   ]
  },
  {
   "cell_type": "markdown",
   "metadata": {},
   "source": [
    "Now that we're done, let's print out some statistics. Generally we record (at least) the max and average over time."
   ]
  },
  {
   "cell_type": "code",
   "execution_count": 8,
   "metadata": {},
   "outputs": [
    {
     "data": {
      "image/png": "[encoded data removed]",
      "text/plain": [
       "<Figure size 640x480 with 1 Axes>"
      ]
     },
     "metadata": {},
     "output_type": "display_data"
    }
   ],
   "source": [
    "# Genetic Algorithm is done - plot statistics:\n",
    "#sns.set_style(\"whitegrid\")\n",
    "plt.plot(maxFitnessValues, color='red')\n",
    "plt.plot(meanFitnessValues, color='green')\n",
    "plt.xlabel('Generation')\n",
    "plt.ylabel('Max / Average Fitness')\n",
    "plt.title('Max and Average Fitness over Generations')\n",
    "plt.show()"
   ]
  }
 ],
 "metadata": {
  "kernelspec": {
   "display_name": "Python 3 (ipykernel)",
   "language": "python",
   "name": "python3"
  },
  "language_info": {
   "codemirror_mode": {
    "name": "ipython",
    "version": 3
   },
   "file_extension": ".py",
   "mimetype": "text/x-python",
   "name": "python",
   "nbconvert_exporter": "python",
   "pygments_lexer": "ipython3",
   "version": "3.10.12"
  }
 },
 "nbformat": 4,
 "nbformat_minor": 4
}
