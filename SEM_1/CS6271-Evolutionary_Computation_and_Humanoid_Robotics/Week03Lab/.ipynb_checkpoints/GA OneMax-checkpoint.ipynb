{
 "cells": [
  {
   "cell_type": "markdown",
   "metadata": {},
   "source": [
    "## Answer to question 1\n",
    "\n",
    "The Max generations I have set is **75** for which the minimum population size I found via method of trial and error to get a perfect solution is **1281**. The model fails to reach the perfect solution consistently when I try to run it with any number of generations lower than 1281.   \n",
    "\n",
    "Thus the number of individuals processed here are **1281 * 75 = 96075**"
   ]
  },
  {
   "cell_type": "markdown",
   "metadata": {},
   "source": [
    "   # GA applied to OneMax"
   ]
  },
  {
   "cell_type": "markdown",
   "metadata": {},
   "source": [
    "This notebook implements a simple GA in a fairly lowlevel way. In later examples we'll use more highlevel operators, but it is a very valuable exercise to ensure you understand what this code is actually doing. Make sure you understand the processes below before moving to the more high-level toolboxes!"
   ]
  },
  {
   "cell_type": "markdown",
   "metadata": {},
   "source": [
    "Install DEAP. Note that if you are running this on your own computer you might not need to do this. In fact, it is better practice to install it so that it is always available, but when running on Colab, we do need this."
   ]
  },
  {
   "cell_type": "code",
   "execution_count": 234,
   "metadata": {},
   "outputs": [],
   "source": [
    "# !pip install deap"
   ]
  },
  {
   "cell_type": "markdown",
   "metadata": {},
   "source": [
    "Import the DEAP tools and useful libraries (random and matplotlib)."
   ]
  },
  {
   "cell_type": "code",
   "execution_count": 235,
   "metadata": {},
   "outputs": [],
   "source": [
    "from deap import base\n",
    "from deap import creator\n",
    "from deap import tools\n",
    "\n",
    "import random\n",
    "\n",
    "import matplotlib.pyplot as plt"
   ]
  },
  {
   "cell_type": "markdown",
   "metadata": {},
   "source": [
    "Set our Genetic Algorithm parameters"
   ]
  },
  {
   "cell_type": "code",
   "execution_count": 236,
   "metadata": {},
   "outputs": [],
   "source": [
    "# Genetic Algorithm constants:\n",
    "POPULATION_SIZE = 1280\n",
    "P_CROSSOVER = 0.7 # probability for crossover\n",
    "P_MUTATION = 0.03 # probability for mutating an individual\n",
    "MAX_GENERATIONS = 75"
   ]
  },
  {
   "cell_type": "markdown",
   "metadata": {},
   "source": [
    "Set any problem-specific constants here. In this case we need to know how long the string is."
   ]
  },
  {
   "cell_type": "code",
   "execution_count": 237,
   "metadata": {},
   "outputs": [],
   "source": [
    "ONE_MAX_LENGTH = 50  # length of bit string to be optimized"
   ]
  },
  {
   "cell_type": "markdown",
   "metadata": {},
   "source": [
    "Set the random seed. This is important so that we can reproduce runs later on."
   ]
  },
  {
   "cell_type": "code",
   "execution_count": 238,
   "metadata": {},
   "outputs": [],
   "source": [
    "RANDOM_SEED = 42\n",
    "random.seed(RANDOM_SEED)"
   ]
  },
  {
   "cell_type": "markdown",
   "metadata": {},
   "source": [
    "Create our toolbox. Note that we can pull in a bunch of predefined operators to tailor our Evolutionary Algorithm, which, of course, in this case is a GA. Notice that it is possible to create our **own** operators and functions to use, which is what we do with our **oneMaxFitness** function below."
   ]
  },
  {
   "cell_type": "code",
   "execution_count": 239,
   "metadata": {},
   "outputs": [],
   "source": [
    "toolbox = base.Toolbox()\n",
    "\n",
    "# create an operator that randomly returns 0 or 1:\n",
    "toolbox.register(\"zeroOrOne\", random.randint, 0, 1)\n",
    "\n",
    "# define a single objective, maximizing fitness strategy:\n",
    "creator.create(\"FitnessMax\", base.Fitness, weights=(1.0,))\n",
    "\n",
    "# create the Individual class based on list:\n",
    "creator.create(\"Individual\", list, fitness=creator.FitnessMax)\n",
    "#creator.create(\"Individual\", array.array, typecode='b', fitness=creator.FitnessMax)\n",
    "\n",
    "# create the individual operator to fill up an Individual instance:\n",
    "toolbox.register(\"individualCreator\", tools.initRepeat, creator.Individual, toolbox.zeroOrOne, ONE_MAX_LENGTH)\n",
    "\n",
    "# create the population operator to generate a list of individuals:\n",
    "toolbox.register(\"populationCreator\", tools.initRepeat, list, toolbox.individualCreator)\n",
    "\n",
    "\n",
    "# fitness calculation:\n",
    "# compute the number of '1's in the individual\n",
    "def oneMaxFitness(individual):\n",
    "    return sum(individual),  # return a tuple\n",
    "\n",
    "\n",
    "toolbox.register(\"evaluate\", oneMaxFitness)\n",
    "\n",
    "# genetic operators:\n",
    "\n",
    "# Tournament selection with tournament size of 3:\n",
    "toolbox.register(\"select\", tools.selRoulette)\n",
    "\n",
    "# Single-point crossover:\n",
    "toolbox.register(\"mate\", tools.cxTwoPoint)\n",
    "\n",
    "# Flip-bit mutation:\n",
    "# indpb: Independent probability for each attribute to be flipped\n",
    "toolbox.register(\"mutate\", tools.mutFlipBit, indpb=1.0/ONE_MAX_LENGTH)\n",
    "\n"
   ]
  },
  {
   "cell_type": "markdown",
   "metadata": {},
   "source": [
    "Here is the main GA loop. We will iterate through it up to the MAX_GENERATIONS parameter and then print out our best individual."
   ]
  },
  {
   "cell_type": "code",
   "execution_count": 240,
   "metadata": {
    "scrolled": true
   },
   "outputs": [
    {
     "name": "stdout",
     "output_type": "stream",
     "text": [
      "- Generation 1: Max Fitness = 37.0, Avg Fitness = 25.74453125\n",
      "Best Individual =  0 1 0 1 0 1 1 0 1 1 0 1 1 0 0 1 1 1 1 1 1 1 1 1 1 0 0 1 0 0 1 1 1 1 1 1 1 1 1 1 0 1 0 1 1 1 1 1 1 1 \n",
      "\n",
      "- Generation 2: Max Fitness = 37.0, Avg Fitness = 26.278125\n",
      "Best Individual =  0 1 0 1 0 1 1 0 1 1 0 1 1 0 0 1 1 1 1 1 1 1 1 1 1 0 0 1 0 0 1 1 1 1 1 1 1 1 1 1 0 1 0 1 1 1 1 1 1 1 \n",
      "\n",
      "- Generation 3: Max Fitness = 38.0, Avg Fitness = 26.7171875\n",
      "Best Individual =  0 1 1 1 0 1 1 0 1 1 0 1 1 0 0 1 1 1 1 1 1 1 1 1 1 0 0 1 0 0 1 1 1 1 1 1 1 1 1 1 0 1 0 1 1 1 1 1 1 1 \n",
      "\n",
      "- Generation 4: Max Fitness = 37.0, Avg Fitness = 27.1671875\n",
      "Best Individual =  1 1 1 1 0 1 1 1 1 1 0 1 0 1 0 1 1 0 0 1 1 1 0 1 1 1 1 1 1 1 1 1 1 1 1 1 1 0 0 1 0 1 1 1 1 0 0 1 0 1 \n",
      "\n",
      "- Generation 5: Max Fitness = 37.0, Avg Fitness = 27.6390625\n",
      "Best Individual =  0 1 1 1 1 0 1 1 1 1 1 1 1 0 0 0 0 1 0 1 1 1 0 1 1 1 0 1 1 1 1 1 1 0 1 0 1 1 1 1 0 1 0 1 1 1 1 1 1 1 \n",
      "\n",
      "- Generation 6: Max Fitness = 39.0, Avg Fitness = 28.05078125\n",
      "Best Individual =  1 0 1 1 1 1 1 1 0 1 1 0 1 0 1 1 1 1 1 1 1 0 0 0 1 1 1 0 0 1 1 1 0 1 1 1 1 1 1 1 1 1 1 1 1 1 1 0 1 1 \n",
      "\n",
      "- Generation 7: Max Fitness = 38.0, Avg Fitness = 28.37109375\n",
      "Best Individual =  1 0 1 1 1 1 1 1 0 1 0 0 1 1 1 1 0 1 1 0 1 1 1 1 1 1 1 0 0 1 1 1 1 1 1 1 0 1 1 0 1 1 0 1 1 0 1 1 1 1 \n",
      "\n",
      "- Generation 8: Max Fitness = 38.0, Avg Fitness = 28.71796875\n",
      "Best Individual =  0 0 0 1 1 1 0 0 1 1 1 1 1 1 1 1 1 1 1 1 0 1 1 1 1 1 1 0 0 1 1 1 0 0 0 1 1 1 1 1 1 0 1 1 1 1 1 1 1 1 \n",
      "\n",
      "- Generation 9: Max Fitness = 40.0, Avg Fitness = 29.15859375\n",
      "Best Individual =  1 1 1 1 1 1 1 0 1 1 1 1 0 1 1 1 1 1 1 1 1 0 0 1 1 0 0 1 1 1 1 1 1 1 1 1 0 1 1 0 1 1 0 1 0 1 1 1 1 1 \n",
      "\n",
      "- Generation 10: Max Fitness = 42.0, Avg Fitness = 29.6171875\n",
      "Best Individual =  1 1 1 1 1 1 1 1 0 0 0 1 1 0 1 1 1 1 1 1 1 1 1 1 0 1 1 0 1 1 1 1 1 1 1 1 1 1 1 0 1 1 1 0 1 1 1 1 1 1 \n",
      "\n",
      "- Generation 11: Max Fitness = 42.0, Avg Fitness = 30.05390625\n",
      "Best Individual =  1 1 0 1 1 0 1 1 0 1 1 1 1 1 1 1 0 1 1 0 1 1 1 1 1 1 1 1 1 1 1 1 1 1 1 1 1 1 1 0 1 1 1 0 1 1 0 1 1 1 \n",
      "\n",
      "- Generation 12: Max Fitness = 41.0, Avg Fitness = 30.34921875\n",
      "Best Individual =  1 1 1 1 1 1 1 0 1 1 1 1 1 1 0 0 0 0 1 1 1 1 1 1 1 0 0 1 1 1 1 1 1 1 1 1 1 1 1 0 1 0 1 1 1 1 1 1 1 1 \n",
      "\n",
      "- Generation 13: Max Fitness = 41.0, Avg Fitness = 30.75234375\n",
      "Best Individual =  1 1 1 1 1 1 1 0 1 1 1 1 1 1 0 0 0 0 1 1 1 1 1 1 1 0 0 1 1 1 1 1 1 1 1 1 1 1 1 0 1 0 1 1 1 1 1 1 1 1 \n",
      "\n",
      "- Generation 14: Max Fitness = 42.0, Avg Fitness = 31.05546875\n",
      "Best Individual =  1 1 1 1 0 1 1 1 1 1 1 1 0 1 1 0 1 1 1 1 1 1 1 1 1 1 1 1 1 1 0 1 1 1 1 1 1 1 1 1 0 1 1 1 1 0 0 1 1 0 \n",
      "\n",
      "- Generation 15: Max Fitness = 42.0, Avg Fitness = 31.440625\n",
      "Best Individual =  1 1 1 1 0 1 1 1 1 1 1 1 0 1 1 0 1 1 1 1 1 1 1 1 1 1 1 1 1 1 0 1 1 1 1 1 1 1 1 1 0 1 1 1 1 0 0 1 1 0 \n",
      "\n",
      "- Generation 16: Max Fitness = 42.0, Avg Fitness = 31.71328125\n",
      "Best Individual =  1 1 1 1 0 1 1 1 1 1 1 1 0 1 1 0 1 1 1 1 1 1 1 1 1 1 1 1 1 1 0 1 1 1 1 1 1 1 1 1 0 1 1 1 1 0 0 1 1 0 \n",
      "\n",
      "- Generation 17: Max Fitness = 42.0, Avg Fitness = 32.02578125\n",
      "Best Individual =  1 1 1 1 1 1 1 0 1 1 1 1 1 1 0 1 1 1 1 1 1 1 1 1 1 0 0 1 1 0 1 0 1 1 1 1 1 1 1 0 1 0 1 1 1 1 1 1 1 1 \n",
      "\n",
      "- Generation 18: Max Fitness = 42.0, Avg Fitness = 32.32109375\n",
      "Best Individual =  1 0 1 1 1 0 0 1 1 1 1 1 1 1 1 1 0 1 1 1 0 1 1 1 1 0 1 1 1 1 1 1 1 1 1 1 0 1 1 1 1 1 1 0 1 1 1 1 1 1 \n",
      "\n",
      "- Generation 19: Max Fitness = 43.0, Avg Fitness = 32.4984375\n",
      "Best Individual =  1 1 1 1 1 1 1 1 1 1 1 1 1 1 0 1 1 1 1 1 1 1 1 1 1 0 0 1 1 0 1 0 1 1 1 1 1 1 1 0 1 0 1 1 1 1 1 1 1 1 \n",
      "\n",
      "- Generation 20: Max Fitness = 42.0, Avg Fitness = 32.98203125\n",
      "Best Individual =  1 0 1 1 1 1 1 1 1 1 1 1 1 1 1 1 0 1 1 1 1 0 1 1 1 0 1 1 0 1 1 1 1 1 1 1 1 0 1 1 1 1 1 1 1 1 1 0 0 1 \n",
      "\n",
      "- Generation 21: Max Fitness = 42.0, Avg Fitness = 33.2453125\n",
      "Best Individual =  1 1 1 1 1 1 1 0 1 1 1 0 1 1 0 1 1 1 1 1 0 1 1 1 1 1 1 1 1 0 1 0 1 1 1 0 1 1 1 1 1 1 1 0 1 1 1 1 1 1 \n",
      "\n",
      "- Generation 22: Max Fitness = 43.0, Avg Fitness = 33.53125\n",
      "Best Individual =  1 1 1 1 1 1 1 1 1 1 0 1 1 0 1 1 1 1 1 0 1 1 1 1 1 1 0 1 1 1 0 1 1 1 1 1 1 1 1 1 0 1 1 1 1 0 1 1 1 1 \n",
      "\n",
      "- Generation 23: Max Fitness = 44.0, Avg Fitness = 33.82734375\n",
      "Best Individual =  1 1 1 1 1 1 1 1 1 1 0 1 0 1 1 1 1 1 1 1 1 1 0 1 1 1 1 1 0 0 1 1 1 1 1 1 1 1 1 1 1 1 1 1 0 1 1 1 1 1 \n",
      "\n",
      "- Generation 24: Max Fitness = 43.0, Avg Fitness = 34.24609375\n",
      "Best Individual =  1 1 0 1 0 1 1 1 1 1 1 1 1 1 1 1 1 1 1 1 1 0 1 1 1 1 1 1 1 1 0 0 1 1 0 1 1 1 1 0 1 1 1 1 1 1 1 1 1 1 \n",
      "\n",
      "- Generation 25: Max Fitness = 45.0, Avg Fitness = 34.51796875\n",
      "Best Individual =  1 1 1 0 1 1 1 1 1 1 1 1 1 1 1 1 1 1 1 1 0 1 1 1 1 0 1 1 1 0 1 1 1 1 1 1 1 1 1 1 1 1 1 1 0 1 1 1 1 1 \n",
      "\n",
      "- Generation 26: Max Fitness = 44.0, Avg Fitness = 34.76015625\n",
      "Best Individual =  1 1 1 1 1 0 0 1 1 1 1 1 1 1 1 1 1 1 1 1 1 0 1 1 1 1 1 0 1 0 1 1 1 1 1 1 1 1 1 1 1 1 1 1 1 1 1 0 1 1 \n",
      "\n",
      "- Generation 27: Max Fitness = 44.0, Avg Fitness = 35.00234375\n",
      "Best Individual =  1 1 1 1 1 0 0 1 1 1 1 1 1 1 1 1 1 1 1 1 1 0 1 1 1 1 1 0 1 0 1 1 1 1 1 1 1 1 1 1 1 1 1 1 1 1 1 0 1 1 \n",
      "\n",
      "- Generation 28: Max Fitness = 45.0, Avg Fitness = 35.1890625\n",
      "Best Individual =  1 1 1 1 1 1 1 1 1 1 1 1 1 1 1 1 1 1 1 1 0 0 1 1 1 1 1 1 1 1 1 0 1 1 0 1 1 1 1 1 1 0 1 1 1 1 1 1 1 1 \n",
      "\n",
      "- Generation 29: Max Fitness = 45.0, Avg Fitness = 35.50625\n",
      "Best Individual =  1 1 1 1 0 1 1 1 1 1 1 1 1 1 1 1 0 1 1 1 0 1 1 1 1 1 1 1 1 1 1 1 1 1 1 0 1 0 1 1 1 1 1 1 1 1 1 1 1 1 \n",
      "\n",
      "- Generation 30: Max Fitness = 44.0, Avg Fitness = 35.83984375\n",
      "Best Individual =  1 1 1 1 1 0 1 1 1 1 0 1 1 1 1 0 1 1 1 1 1 1 1 1 1 1 1 1 1 1 1 1 0 1 1 1 1 1 1 1 1 1 0 0 1 1 1 1 1 1 \n",
      "\n",
      "- Generation 31: Max Fitness = 44.0, Avg Fitness = 36.1296875\n",
      "Best Individual =  1 1 0 1 1 1 1 1 1 1 1 1 1 1 1 1 0 1 1 1 0 1 1 1 1 1 1 1 1 1 1 1 1 1 1 1 1 1 1 1 0 0 1 1 1 1 1 0 1 1 \n",
      "\n",
      "- Generation 32: Max Fitness = 44.0, Avg Fitness = 36.44375\n",
      "Best Individual =  1 1 0 1 1 1 1 1 1 1 1 1 1 1 1 1 0 1 1 1 0 1 1 1 1 1 1 1 1 1 1 1 1 1 1 1 1 1 1 1 0 0 1 1 1 1 1 0 1 1 \n",
      "\n",
      "- Generation 33: Max Fitness = 46.0, Avg Fitness = 36.69765625\n",
      "Best Individual =  1 1 1 1 1 1 1 1 1 1 1 1 1 1 0 1 1 1 1 0 1 1 1 1 1 1 1 1 0 1 0 1 1 1 1 1 1 1 1 1 1 1 1 1 1 1 1 1 1 1 \n",
      "\n",
      "- Generation 34: Max Fitness = 47.0, Avg Fitness = 37.046875\n",
      "Best Individual =  1 1 1 1 1 1 1 1 1 1 1 1 1 1 1 1 1 1 0 1 1 0 1 1 1 1 1 1 1 1 0 1 1 1 1 1 1 1 1 1 1 1 1 1 1 1 1 1 1 1 \n",
      "\n",
      "- Generation 35: Max Fitness = 46.0, Avg Fitness = 37.1890625\n",
      "Best Individual =  1 1 1 1 1 1 1 1 1 1 1 1 1 1 1 1 1 1 0 1 1 1 0 1 0 1 1 0 1 1 1 1 1 1 1 1 1 1 1 1 1 1 1 1 1 1 1 1 1 1 \n",
      "\n",
      "- Generation 36: Max Fitness = 46.0, Avg Fitness = 37.4515625\n",
      "Best Individual =  1 1 1 1 1 1 1 1 1 1 1 1 1 1 1 1 1 1 0 1 1 1 0 1 0 1 1 0 1 1 1 1 1 1 1 1 1 1 1 1 1 1 1 1 1 1 1 1 1 1 \n",
      "\n",
      "- Generation 37: Max Fitness = 46.0, Avg Fitness = 37.80546875\n",
      "Best Individual =  1 1 1 1 1 1 1 1 1 1 1 1 1 1 1 1 1 0 1 1 1 1 1 1 1 1 1 1 1 1 1 1 1 1 1 1 1 1 1 1 0 1 1 0 0 1 1 1 1 1 \n",
      "\n",
      "- Generation 38: Max Fitness = 48.0, Avg Fitness = 38.159375\n",
      "Best Individual =  1 0 1 1 1 1 1 1 1 1 1 1 1 1 1 1 1 1 1 1 1 1 0 1 1 1 1 1 1 1 1 1 1 1 1 1 1 1 1 1 1 1 1 1 1 1 1 1 1 1 \n",
      "\n",
      "- Generation 39: Max Fitness = 47.0, Avg Fitness = 38.41640625\n",
      "Best Individual =  1 1 1 1 1 1 1 1 1 1 1 1 1 1 1 1 1 1 1 1 1 1 1 1 1 1 1 1 1 1 1 1 1 1 1 1 1 1 1 1 1 1 0 1 1 1 1 0 0 1 \n",
      "\n",
      "- Generation 40: Max Fitness = 47.0, Avg Fitness = 38.80859375\n",
      "Best Individual =  1 1 1 1 0 1 1 1 1 1 1 1 1 1 1 1 1 1 0 1 1 1 1 1 1 1 1 1 1 1 1 1 0 1 1 1 1 1 1 1 1 1 1 1 1 1 1 1 1 1 \n",
      "\n",
      "- Generation 41: Max Fitness = 47.0, Avg Fitness = 39.13828125\n",
      "Best Individual =  0 1 1 1 0 1 1 1 1 1 1 1 1 1 1 1 0 1 1 1 1 1 1 1 1 1 1 1 1 1 1 1 1 1 1 1 1 1 1 1 1 1 1 1 1 1 1 1 1 1 \n",
      "\n",
      "- Generation 42: Max Fitness = 47.0, Avg Fitness = 39.26796875\n",
      "Best Individual =  0 1 1 1 1 1 1 0 1 1 1 1 1 1 1 1 1 1 1 1 1 1 1 1 1 1 1 0 1 1 1 1 1 1 1 1 1 1 1 1 1 1 1 1 1 1 1 1 1 1 \n",
      "\n",
      "- Generation 43: Max Fitness = 47.0, Avg Fitness = 39.55390625\n",
      "Best Individual =  1 1 1 1 0 1 1 1 1 1 0 1 1 1 1 1 1 1 1 1 1 1 1 1 1 1 1 1 1 1 1 1 1 1 0 1 1 1 1 1 1 1 1 1 1 1 1 1 1 1 \n",
      "\n",
      "- Generation 44: Max Fitness = 48.0, Avg Fitness = 39.7734375\n",
      "Best Individual =  1 1 1 1 1 1 1 1 1 1 1 1 1 1 1 0 0 1 1 1 1 1 1 1 1 1 1 1 1 1 1 1 1 1 1 1 1 1 1 1 1 1 1 1 1 1 1 1 1 1 \n",
      "\n",
      "- Generation 45: Max Fitness = 49.0, Avg Fitness = 39.98984375\n",
      "Best Individual =  1 1 1 1 1 1 1 1 0 1 1 1 1 1 1 1 1 1 1 1 1 1 1 1 1 1 1 1 1 1 1 1 1 1 1 1 1 1 1 1 1 1 1 1 1 1 1 1 1 1 \n",
      "\n",
      "- Generation 46: Max Fitness = 48.0, Avg Fitness = 40.2796875\n",
      "Best Individual =  1 1 1 1 0 1 1 1 1 1 1 1 1 1 1 1 1 1 1 1 1 1 1 1 1 1 1 1 1 1 0 1 1 1 1 1 1 1 1 1 1 1 1 1 1 1 1 1 1 1 \n",
      "\n",
      "- Generation 47: Max Fitness = 48.0, Avg Fitness = 40.459375\n",
      "Best Individual =  1 1 1 1 1 1 1 1 1 1 1 1 1 1 1 1 1 1 1 1 1 0 1 1 1 1 1 1 1 1 1 1 1 1 1 1 1 1 1 1 1 1 1 1 1 1 0 1 1 1 \n",
      "\n",
      "- Generation 48: Max Fitness = 48.0, Avg Fitness = 40.8703125\n",
      "Best Individual =  1 0 1 1 1 1 1 1 1 1 1 1 1 1 1 1 1 1 1 1 1 1 1 1 1 0 1 1 1 1 1 1 1 1 1 1 1 1 1 1 1 1 1 1 1 1 1 1 1 1 \n",
      "\n",
      "- Generation 49: Max Fitness = 49.0, Avg Fitness = 40.928125\n",
      "Best Individual =  1 1 1 1 1 1 1 1 1 1 1 1 1 1 1 1 1 1 1 1 1 1 1 1 1 1 1 1 1 1 1 1 1 1 1 1 1 1 1 1 1 1 1 1 1 1 0 1 1 1 \n",
      "\n",
      "- Generation 50: Max Fitness = 48.0, Avg Fitness = 41.11171875\n",
      "Best Individual =  0 1 1 1 1 1 1 1 1 1 1 1 1 1 1 1 1 1 1 1 1 1 1 1 1 1 1 1 1 1 1 1 1 1 0 1 1 1 1 1 1 1 1 1 1 1 1 1 1 1 \n",
      "\n",
      "- Generation 51: Max Fitness = 48.0, Avg Fitness = 41.34140625\n",
      "Best Individual =  1 1 1 1 1 0 1 1 1 1 1 1 1 1 1 1 1 1 1 1 1 1 1 1 1 1 1 1 1 1 1 1 1 1 1 1 1 1 1 1 1 1 1 0 1 1 1 1 1 1 \n",
      "\n",
      "- Generation 52: Max Fitness = 48.0, Avg Fitness = 41.4328125\n",
      "Best Individual =  1 1 1 1 1 1 1 1 1 1 1 1 1 1 1 1 1 1 1 1 1 1 1 1 1 1 1 1 1 1 1 1 1 1 1 1 1 1 1 1 1 1 1 0 1 0 1 1 1 1 \n",
      "\n",
      "- Generation 53: Max Fitness = 48.0, Avg Fitness = 41.6671875\n",
      "Best Individual =  0 1 1 1 1 1 1 1 1 1 1 1 1 1 1 1 1 1 1 1 1 1 1 1 0 1 1 1 1 1 1 1 1 1 1 1 1 1 1 1 1 1 1 1 1 1 1 1 1 1 \n",
      "\n",
      "- Generation 54: Max Fitness = 48.0, Avg Fitness = 41.6625\n",
      "Best Individual =  0 1 1 1 1 1 1 1 1 1 1 1 1 1 1 1 1 1 1 1 1 1 1 1 1 1 1 1 1 1 1 1 1 1 0 1 1 1 1 1 1 1 1 1 1 1 1 1 1 1 \n",
      "\n",
      "- Generation 55: Max Fitness = 50.0, Avg Fitness = 41.6921875\n",
      "Best Individual =  1 1 1 1 1 1 1 1 1 1 1 1 1 1 1 1 1 1 1 1 1 1 1 1 1 1 1 1 1 1 1 1 1 1 1 1 1 1 1 1 1 1 1 1 1 1 1 1 1 1 \n",
      "\n"
     ]
    }
   ],
   "source": [
    "# create initial population (generation 0):\n",
    "population = toolbox.populationCreator(n=POPULATION_SIZE)\n",
    "generationCounter = 0\n",
    "\n",
    "# calculate fitness tuple for each individual in the population:\n",
    "fitnessValues = list(map(toolbox.evaluate, population))\n",
    "for individual, fitnessValue in zip(population, fitnessValues):\n",
    "    individual.fitness.values = fitnessValue\n",
    "\n",
    "# extract fitness values from all individuals in population:\n",
    "fitnessValues = [individual.fitness.values[0] for individual in population]\n",
    "\n",
    "# initialize statistics accumulators:\n",
    "maxFitnessValues = []\n",
    "meanFitnessValues = []\n",
    "\n",
    "# main evolutionary loop:\n",
    "# stop if max fitness value reached the known max value\n",
    "# OR if number of generations exceeded the preset value:\n",
    "while max(fitnessValues) < ONE_MAX_LENGTH and generationCounter < MAX_GENERATIONS:\n",
    "    # update counter:\n",
    "    generationCounter = generationCounter + 1\n",
    "\n",
    "    # apply the selection operator, to select the next generation's individuals:\n",
    "    offspring = toolbox.select(population, len(population))\n",
    "    # clone the selected individuals:\n",
    "    offspring = list(map(toolbox.clone, offspring))\n",
    "\n",
    "    # apply the crossover operator to pairs of offspring:\n",
    "    for child1, child2 in zip(offspring[::2], offspring[1::2]):\n",
    "        if random.random() < P_CROSSOVER:\n",
    "            toolbox.mate(child1, child2)\n",
    "            del child1.fitness.values\n",
    "            del child2.fitness.values\n",
    "\n",
    "    for mutant in offspring:\n",
    "        if random.random() < P_MUTATION:\n",
    "            toolbox.mutate(mutant)\n",
    "            del mutant.fitness.values\n",
    "\n",
    "    # calculate fitness for the individuals with no previous calculated fitness value:\n",
    "    freshIndividuals = [ind for ind in offspring if not ind.fitness.valid]\n",
    "    freshFitnessValues = list(map(toolbox.evaluate, freshIndividuals))\n",
    "    for individual, fitnessValue in zip(freshIndividuals, freshFitnessValues):\n",
    "        individual.fitness.values = fitnessValue\n",
    "\n",
    "    # replace the current population with the offspring:\n",
    "    population[:] = offspring\n",
    "\n",
    "    # collect fitnessValues into a list, update statistics and print:\n",
    "    fitnessValues = [ind.fitness.values[0] for ind in population]\n",
    "\n",
    "    maxFitness = max(fitnessValues)\n",
    "    meanFitness = sum(fitnessValues) / len(population)\n",
    "    maxFitnessValues.append(maxFitness)\n",
    "    meanFitnessValues.append(meanFitness)\n",
    "    print(\"- Generation {}: Max Fitness = {}, Avg Fitness = {}\".format(generationCounter, maxFitness, meanFitness))\n",
    "\n",
    "    # find and print best individual:\n",
    "    best_index = fitnessValues.index(max(fitnessValues))\n",
    "    print(\"Best Individual = \", *population[best_index], \"\\n\")"
   ]
  },
  {
   "cell_type": "markdown",
   "metadata": {},
   "source": [
    "Now that we're done, let's print out some statistics. Generally we record (at least) the max and average over time."
   ]
  },
  {
   "cell_type": "code",
   "execution_count": 241,
   "metadata": {},
   "outputs": [
    {
     "data": {
      "image/png": "[encoded data removed]",
      "text/plain": [
       "<Figure size 640x480 with 1 Axes>"
      ]
     },
     "metadata": {},
     "output_type": "display_data"
    }
   ],
   "source": [
    "# Genetic Algorithm is done - plot statistics:\n",
    "#sns.set_style(\"whitegrid\")\n",
    "plt.plot(maxFitnessValues, color='red')\n",
    "plt.plot(meanFitnessValues, color='green')\n",
    "plt.xlabel('Generation')\n",
    "plt.ylabel('Max / Average Fitness')\n",
    "plt.title('Max and Average Fitness over Generations')\n",
    "plt.show()"
   ]
  },
  {
   "cell_type": "code",
   "execution_count": null,
   "metadata": {},
   "outputs": [],
   "source": []
  }
 ],
 "metadata": {
  "kernelspec": {
   "display_name": "Python 3 (ipykernel)",
   "language": "python",
   "name": "python3"
  },
  "language_info": {
   "codemirror_mode": {
    "name": "ipython",
    "version": 3
   },
   "file_extension": ".py",
   "mimetype": "text/x-python",
   "name": "python",
   "nbconvert_exporter": "python",
   "pygments_lexer": "ipython3",
   "version": "3.10.12"
  }
 },
 "nbformat": 4,
 "nbformat_minor": 4
}
