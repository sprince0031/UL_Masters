{
 "cells": [
  {
   "cell_type": "markdown",
   "id": "c756a2f6-41d1-4c60-b857-ccda9a59c126",
   "metadata": {},
   "source": [
    "### Student details\n",
    "Student name; **Siddharth Prince**  \n",
    "Student id: **23052058**"
   ]
  },
  {
   "cell_type": "markdown",
   "id": "c46b9c66-25fe-465d-b7ed-18c4c0605faf",
   "metadata": {},
   "source": [
    "# Goals\n",
    "The aim of this notebook is to compare the effectiveness of GP and GE and the problem chosen for this comparison is the 4bit-parity problem."
   ]
  },
  {
   "cell_type": "markdown",
   "id": "eed55d63-88b7-4cfc-9535-25fd19df3a18",
   "metadata": {},
   "source": [
    "### Houskeeping"
   ]
  },
  {
   "cell_type": "code",
   "execution_count": 1,
   "id": "64488f70-e9aa-4f40-b427-411a9746b7fe",
   "metadata": {},
   "outputs": [
    {
     "name": "stdout",
     "output_type": "stream",
     "text": [
      "Defaulting to user installation because normal site-packages is not writeable\n",
      "Requirement already satisfied: deap in /home/sprince0031/.local/lib/python3.10/site-packages (1.4.1)\n",
      "Requirement already satisfied: numpy in /home/sprince0031/.local/lib/python3.10/site-packages (from deap) (1.25.2)\n"
     ]
    }
   ],
   "source": [
    "!pip install deap"
   ]
  },
  {
   "cell_type": "code",
   "execution_count": 2,
   "id": "3a2d9f40-d923-4c37-bc0f-91a5a5626e7c",
   "metadata": {},
   "outputs": [
    {
     "name": "stderr",
     "output_type": "stream",
     "text": [
      "/tmp/ipykernel_28183/3777615979.py:1: DeprecationWarning: Importing display from IPython.core.display is deprecated since IPython 7.14, please import from IPython display\n",
      "  from IPython.core.display import display, HTML\n"
     ]
    },
    {
     "data": {
      "text/html": [
       "<style>.container { width:100% !important; }</style>"
      ],
      "text/plain": [
       "<IPython.core.display.HTML object>"
      ]
     },
     "metadata": {},
     "output_type": "display_data"
    }
   ],
   "source": [
    "from IPython.core.display import display, HTML\n",
    "display(HTML(\"<style>.container { width:100% !important; }</style>\"))"
   ]
  },
  {
   "cell_type": "markdown",
   "id": "643420da-3f84-4934-b3d0-a67e41d38103",
   "metadata": {},
   "source": [
    "Importing all required packages and tools"
   ]
  },
  {
   "cell_type": "code",
   "execution_count": 3,
   "id": "04fee069-295b-42df-b55d-560506d65356",
   "metadata": {},
   "outputs": [],
   "source": [
    "import operator\n",
    "import math\n",
    "import random\n",
    "\n",
    "import numpy\n",
    "\n",
    "from deap import algorithms\n",
    "from deap import base\n",
    "from deap import creator\n",
    "from deap import tools\n",
    "from deap import gp\n",
    "\n",
    "\n",
    "import matplotlib.pyplot as plt\n",
    "\n",
    "import itertools\n",
    "import networkx as nx"
   ]
  },
  {
   "cell_type": "markdown",
   "id": "7fd04bf2-8ef5-4190-8300-1a518402c067",
   "metadata": {},
   "source": [
    "Setting the random seed"
   ]
  },
  {
   "cell_type": "code",
   "execution_count": 4,
   "id": "4be710dc-735e-4222-83e7-fce0b79a2e96",
   "metadata": {},
   "outputs": [],
   "source": [
    "RANDOM_SEED = 42\n",
    "random.seed(RANDOM_SEED)"
   ]
  },
  {
   "cell_type": "markdown",
   "id": "8e2c1178-b540-48c9-a957-90dff0e0207b",
   "metadata": {},
   "source": [
    "## GP Applied to the 4bit-Parity Problem"
   ]
  },
  {
   "cell_type": "markdown",
   "id": "82b92629-c553-4674-b4c2-ec0fb7bcec4f",
   "metadata": {},
   "source": [
    "GP parameters that will remain constant for all the different setups"
   ]
  },
  {
   "cell_type": "code",
   "execution_count": 5,
   "id": "9f130e0b-c3a4-4947-a9f9-5ba5d26f8578",
   "metadata": {},
   "outputs": [],
   "source": [
    "# Genetic Programming CONSTANT constants:\n",
    "POPULATION_SIZE = 2000\n",
    "HALL_OF_FAME_SIZE = 10"
   ]
  },
  {
   "cell_type": "markdown",
   "id": "bf8284c5-0646-4f5c-8573-16908c27c86d",
   "metadata": {},
   "source": [
    "GP sepcific constants"
   ]
  },
  {
   "cell_type": "code",
   "execution_count": 6,
   "id": "52fa9168-d0e8-463d-b947-062d3ef0b675",
   "metadata": {},
   "outputs": [],
   "source": [
    "MIN_TREE_HEIGHT = 3\n",
    "MAX_TREE_HEIGHT = 5\n",
    "LIMIT_TREE_HEIGHT = 17\n",
    "MUT_MIN_TREE_HEIGHT = 0\n",
    "MUT_MAX_TREE_HEIGHT = 2"
   ]
  },
  {
   "cell_type": "markdown",
   "id": "455cb1be-e208-4aca-9ccb-8ae066f0abca",
   "metadata": {},
   "source": [
    "The problem constants specific to the 4bit-parity problem"
   ]
  },
  {
   "cell_type": "code",
   "execution_count": 7,
   "id": "24a52fa1-6bf9-4ec6-935a-8d310da2c165",
   "metadata": {},
   "outputs": [],
   "source": [
    "NUM_INPUTS = 4\n",
    "NUM_COMBINATIONS = 2 ** NUM_INPUTS"
   ]
  },
  {
   "cell_type": "code",
   "execution_count": 8,
   "id": "7af932e9-4c25-43b2-9239-7409808c9966",
   "metadata": {},
   "outputs": [],
   "source": [
    "# calculate the truth table of even parity check:\n",
    "parityIn = list(itertools.product([0, 1], repeat=NUM_INPUTS))\n",
    "parityOut = []\n",
    "for row in parityIn:\n",
    "    parityOut.append(sum(row) % 2)\n",
    "    \n",
    "# calculate the difference between the results of the\n",
    "# generated function and the expected parity results:\n",
    "def parityError(individual):\n",
    "    func = getToolbox().compile(expr=individual)\n",
    "    return sum(func(*pIn) != pOut for pIn, pOut in zip(parityIn, parityOut))\n",
    "\n",
    "# fitness measure:\n",
    "def getCost(individual):\n",
    "    return parityError(individual), # return a tuple"
   ]
  },
  {
   "cell_type": "markdown",
   "id": "a96d5587-1556-4e58-9545-7eb5237fcc79",
   "metadata": {},
   "source": [
    "Adding the function set"
   ]
  },
  {
   "cell_type": "code",
   "execution_count": 9,
   "id": "89b0de06-257b-4aa8-9b17-bc7b1992533b",
   "metadata": {},
   "outputs": [],
   "source": [
    "# create the primitive set:\n",
    "primitiveSet = gp.PrimitiveSet(\"main\", NUM_INPUTS, \"in_\")\n",
    "primitiveSet.addPrimitive(operator.and_, 2)\n",
    "primitiveSet.addPrimitive(operator.or_, 2)\n",
    "primitiveSet.addPrimitive(operator.xor, 2)\n",
    "primitiveSet.addPrimitive(operator.not_, 1)\n",
    "\n",
    "# add terminal values:\n",
    "primitiveSet.addTerminal(1)\n",
    "primitiveSet.addTerminal(0)"
   ]
  },
  {
   "cell_type": "markdown",
   "id": "b93c8ce6-fb2b-48db-b3e7-71173877f8fc",
   "metadata": {},
   "source": [
    "Creating the toolbox"
   ]
  },
  {
   "cell_type": "code",
   "execution_count": 10,
   "id": "8f0f65c4-16b5-4450-bf3f-9e4a50141351",
   "metadata": {},
   "outputs": [],
   "source": [
    "def getToolbox():\n",
    "    toolbox = base.Toolbox()\n",
    "    \n",
    "    # define a single objective, minimizing fitness strategy:\n",
    "    creator.create(\"FitnessMin\", base.Fitness, weights=(-1.0,))\n",
    "    \n",
    "    # create the Individual class based on the primitive tree:\n",
    "    creator.create(\"Individual\", gp.PrimitiveTree, fitness=creator.FitnessMin)\n",
    "    \n",
    "    # create a helper function for creating random trees using the primitive set:\n",
    "    toolbox.register(\"expr\", gp.genFull, pset=primitiveSet, min_=MIN_TREE_HEIGHT, max_=MAX_TREE_HEIGHT)\n",
    "    \n",
    "    # create the individual operator to fill up an Individual instance:\n",
    "    toolbox.register(\"individualCreator\", tools.initIterate, creator.Individual, toolbox.expr)\n",
    "    \n",
    "    # create the population operator to generate a list of individuals:\n",
    "    toolbox.register(\"populationCreator\", tools.initRepeat, list, toolbox.individualCreator)\n",
    "    \n",
    "    # create an operator to compile the primitive tree into python code:\n",
    "    toolbox.register(\"compile\", gp.compile, pset=primitiveSet)\n",
    "    \n",
    "    toolbox.register(\"evaluate\", getCost)\n",
    "    \n",
    "    # genetic operators:\n",
    "    toolbox.register(\"select\", tools.selTournament, tournsize=2)\n",
    "    toolbox.register(\"mate\", gp.cxOnePoint)\n",
    "    toolbox.register(\"expr_mut\", gp.genGrow, min_=MUT_MIN_TREE_HEIGHT, max_=MUT_MAX_TREE_HEIGHT)\n",
    "    toolbox.register(\"mutate\", gp.mutUniform, expr=toolbox.expr_mut, pset=primitiveSet)\n",
    "    \n",
    "    # bloat control:\n",
    "    toolbox.decorate(\"mate\", gp.staticLimit(key=operator.attrgetter(\"height\"), max_value=LIMIT_TREE_HEIGHT))\n",
    "    toolbox.decorate(\"mutate\", gp.staticLimit(key=operator.attrgetter(\"height\"), max_value=LIMIT_TREE_HEIGHT))\n",
    "\n",
    "    return toolbox"
   ]
  },
  {
   "cell_type": "markdown",
   "id": "db4e3aea-b32d-4444-ae17-2bcc3e11bf04",
   "metadata": {},
   "source": [
    "Setting up our stats to track the progress"
   ]
  },
  {
   "cell_type": "markdown",
   "id": "0f67d6aa-4672-4a10-9c86-950796bb7b2c",
   "metadata": {},
   "source": [
    "Setting up the population"
   ]
  },
  {
   "cell_type": "code",
   "execution_count": 11,
   "id": "bc1d6a97-c236-40dd-9dd0-d0175b0c65f5",
   "metadata": {},
   "outputs": [],
   "source": [
    "# define the hall-of-fame object:\n",
    "hof = tools.HallOfFame(HALL_OF_FAME_SIZE)   "
   ]
  },
  {
   "cell_type": "code",
   "execution_count": 12,
   "id": "ce264a4e-26da-439c-89b6-ee90a97ce947",
   "metadata": {},
   "outputs": [],
   "source": [
    "stats_fit = tools.Statistics(lambda ind: ind.fitness.values)\n",
    "stats_size = tools.Statistics(len)\n",
    "mstats = tools.MultiStatistics(fitness=stats_fit, size=stats_size)\n",
    "mstats.register(\"avg\", numpy.mean)\n",
    "mstats.register(\"std\", numpy.std)\n",
    "mstats.register(\"min\", numpy.min)\n",
    "mstats.register(\"max\", numpy.max)"
   ]
  },
  {
   "cell_type": "markdown",
   "id": "462582f5-c78a-4da4-8983-ad7a93ba448e",
   "metadata": {},
   "source": [
    "### Setup 1\n",
    "Mutation => 0.02  \n",
    "Crossover => 0.7  "
   ]
  },
  {
   "cell_type": "markdown",
   "id": "c5ba955b-b7a2-4230-b9ae-d3a29e7bb910",
   "metadata": {},
   "source": [
    "Setting the Genetic Programming parameters"
   ]
  },
  {
   "cell_type": "code",
   "execution_count": 13,
   "id": "424da722-3b44-4f43-b3df-b09dbeb57087",
   "metadata": {},
   "outputs": [],
   "source": [
    "# Genetic Programming constants:\n",
    "P_CROSSOVER = 0.7\n",
    "P_MUTATION = 0.02\n",
    "MAX_GENERATIONS = 200"
   ]
  },
  {
   "cell_type": "markdown",
   "id": "cd900bb4-bd5a-4c29-b903-2362091fcb1d",
   "metadata": {},
   "source": [
    "Running the GP for setup #1"
   ]
  },
  {
   "cell_type": "code",
   "execution_count": 14,
   "id": "4ec1bfac-4cb6-49c8-a373-1fd5696a07b6",
   "metadata": {},
   "outputs": [
    {
     "name": "stderr",
     "output_type": "stream",
     "text": [
      "/home/sprince0031/.local/lib/python3.10/site-packages/deap/creator.py:185: RuntimeWarning: A class named 'FitnessMin' has already been created and it will be overwritten. Consider deleting previous creation of that class or rename it.\n",
      "  warnings.warn(\"A class named '{0}' has already been created and it \"\n",
      "/home/sprince0031/.local/lib/python3.10/site-packages/deap/creator.py:185: RuntimeWarning: A class named 'Individual' has already been created and it will be overwritten. Consider deleting previous creation of that class or rename it.\n",
      "  warnings.warn(\"A class named '{0}' has already been created and it \"\n"
     ]
    },
    {
     "name": "stdout",
     "output_type": "stream",
     "text": [
      "   \t      \t                    fitness                     \t                      size                     \n",
      "   \t      \t------------------------------------------------\t-----------------------------------------------\n",
      "gen\tnevals\tavg   \tgen\tmax\tmin\tnevals\tstd     \tavg   \tgen\tmax\tmin\tnevals\tstd    \n",
      "0  \t2000  \t8.0015\t0  \t16 \t0  \t2000  \t0.773626\t22.409\t0  \t61 \t4  \t2000  \t13.2246\n",
      "1  \t1401  \t7.8715\t1  \t12 \t4  \t1401  \t0.708511\t22.0555\t1  \t64 \t1  \t1401  \t13.3907\n",
      "2  \t1480  \t7.816 \t2  \t14 \t2  \t1480  \t0.82713 \t22.5565\t2  \t69 \t1  \t1480  \t14.1787\n",
      "3  \t1402  \t7.709 \t3  \t12 \t3  \t1402  \t0.918324\t23.4775\t3  \t71 \t1  \t1402  \t14.9274\n",
      "4  \t1434  \t7.5425\t4  \t12 \t0  \t1434  \t1.14026 \t25.2945\t4  \t87 \t1  \t1434  \t15.311 \n",
      "5  \t1444  \t7.4265\t5  \t13 \t0  \t1444  \t1.23434 \t27.634 \t5  \t84 \t1  \t1444  \t16.2211\n",
      "6  \t1366  \t7.1905\t6  \t12 \t0  \t1366  \t1.34581 \t31.0675\t6  \t84 \t1  \t1366  \t16.8054\n",
      "7  \t1404  \t6.9895\t7  \t12 \t0  \t1404  \t1.43958 \t33.8095\t7  \t107\t1  \t1404  \t16.7088\n",
      "8  \t1429  \t6.8105\t8  \t14 \t0  \t1429  \t1.58069 \t36.1725\t8  \t93 \t1  \t1429  \t16.6978\n",
      "9  \t1407  \t6.575 \t9  \t14 \t0  \t1407  \t1.70158 \t38.398 \t9  \t100\t1  \t1407  \t16.6827\n",
      "10 \t1405  \t6.3605\t10 \t16 \t0  \t1405  \t1.78341 \t39.8595\t10 \t116\t2  \t1405  \t16.5498\n",
      "11 \t1400  \t6.1025\t11 \t13 \t0  \t1400  \t1.92717 \t42.4405\t11 \t116\t2  \t1400  \t16.8936\n",
      "12 \t1440  \t5.7735\t12 \t13 \t0  \t1440  \t2.00704 \t43.1165\t12 \t107\t1  \t1440  \t16.7543\n",
      "13 \t1441  \t5.5555\t13 \t16 \t0  \t1441  \t2.13    \t44.1125\t13 \t120\t1  \t1441  \t17.1833\n",
      "14 \t1424  \t5.3145\t14 \t16 \t0  \t1424  \t2.27455 \t45.548 \t14 \t133\t2  \t1424  \t17.656 \n",
      "15 \t1370  \t5.003 \t15 \t16 \t0  \t1370  \t2.37023 \t47.4925\t15 \t133\t2  \t1370  \t18.6208\n",
      "16 \t1384  \t4.5285\t16 \t16 \t0  \t1384  \t2.4872  \t49.1705\t16 \t122\t1  \t1384  \t19.6375\n",
      "17 \t1458  \t4.202 \t17 \t16 \t0  \t1458  \t2.74612 \t49.804 \t17 \t147\t1  \t1458  \t20.3885\n",
      "18 \t1363  \t3.735 \t18 \t16 \t0  \t1363  \t2.87972 \t50.9765\t18 \t137\t1  \t1363  \t21.0567\n",
      "19 \t1378  \t3.225 \t19 \t16 \t0  \t1378  \t3.01254 \t51.52  \t19 \t132\t2  \t1378  \t22.0226\n",
      "20 \t1422  \t2.69  \t20 \t16 \t0  \t1422  \t3.06527 \t52.52  \t20 \t138\t1  \t1422  \t22.8761\n",
      "21 \t1351  \t2.1565\t21 \t16 \t0  \t1351  \t2.98496 \t54.6955\t21 \t153\t2  \t1351  \t23.6861\n",
      "22 \t1409  \t1.89  \t22 \t16 \t0  \t1409  \t3.04416 \t55.895 \t22 \t190\t1  \t1409  \t25.2489\n",
      "23 \t1451  \t1.7875\t23 \t16 \t0  \t1451  \t3.11823 \t56.581 \t23 \t182\t1  \t1451  \t25.3634\n",
      "24 \t1352  \t1.602 \t24 \t16 \t0  \t1352  \t3.05067 \t58.2065\t24 \t196\t1  \t1352  \t26.7001\n",
      "25 \t1427  \t1.5545\t25 \t16 \t0  \t1427  \t3.06725 \t59.904 \t25 \t190\t1  \t1427  \t26.8397\n",
      "26 \t1398  \t1.439 \t26 \t16 \t0  \t1398  \t2.97897 \t61.852 \t26 \t168\t1  \t1398  \t27.2602\n",
      "27 \t1391  \t1.349 \t27 \t16 \t0  \t1391  \t2.93704 \t63.444 \t27 \t192\t2  \t1391  \t28.2261\n",
      "28 \t1433  \t1.193 \t28 \t16 \t0  \t1433  \t2.73125 \t66.3105\t28 \t191\t4  \t1433  \t29.0859\n",
      "29 \t1400  \t1.2375\t29 \t16 \t0  \t1400  \t2.81018 \t66.3685\t29 \t185\t1  \t1400  \t29.7252\n",
      "30 \t1422  \t1.2885\t30 \t16 \t0  \t1422  \t2.87407 \t69.1145\t30 \t187\t2  \t1422  \t31.3954\n",
      "31 \t1438  \t1.252 \t31 \t16 \t0  \t1438  \t2.83522 \t71.452 \t31 \t199\t2  \t1438  \t32.747 \n",
      "32 \t1418  \t1.1895\t32 \t16 \t0  \t1418  \t2.78794 \t73.7635\t32 \t204\t4  \t1418  \t32.748 \n",
      "33 \t1388  \t1.0585\t33 \t16 \t0  \t1388  \t2.64709 \t73.601 \t33 \t187\t1  \t1388  \t32.3343\n",
      "34 \t1425  \t1.097 \t34 \t16 \t0  \t1425  \t2.68898 \t74.605 \t34 \t189\t1  \t1425  \t32.6188\n",
      "35 \t1474  \t1.145 \t35 \t16 \t0  \t1474  \t2.74954 \t73.89  \t35 \t187\t1  \t1474  \t32.9977\n",
      "36 \t1413  \t1.078 \t36 \t16 \t0  \t1413  \t2.61016 \t74.002 \t36 \t191\t5  \t1413  \t32.8557\n",
      "37 \t1360  \t1.005 \t37 \t16 \t0  \t1360  \t2.52764 \t75.6275\t37 \t191\t5  \t1360  \t32.7076\n",
      "38 \t1438  \t1.0495\t38 \t16 \t0  \t1438  \t2.63952 \t76.5025\t38 \t191\t3  \t1438  \t32.6578\n",
      "39 \t1426  \t0.974 \t39 \t16 \t0  \t1426  \t2.54152 \t76.6075\t39 \t191\t1  \t1426  \t33.2288\n",
      "40 \t1340  \t1.0895\t40 \t16 \t0  \t1340  \t2.67572 \t77.0825\t40 \t190\t1  \t1340  \t34.0409\n",
      "41 \t1437  \t1.146 \t41 \t16 \t0  \t1437  \t2.76617 \t77.5995\t41 \t190\t1  \t1437  \t34.4324\n",
      "42 \t1420  \t1.074 \t42 \t16 \t0  \t1420  \t2.71008 \t78.903 \t42 \t190\t1  \t1420  \t34.883 \n",
      "43 \t1443  \t1.23  \t43 \t16 \t0  \t1443  \t2.86777 \t81.1065\t43 \t190\t3  \t1443  \t34.9027\n",
      "44 \t1432  \t0.9575\t44 \t16 \t0  \t1432  \t2.51807 \t83.1795\t44 \t233\t2  \t1432  \t35.3616\n",
      "45 \t1458  \t1.0705\t45 \t16 \t0  \t1458  \t2.68971 \t84.364 \t45 \t233\t5  \t1458  \t35.4471\n",
      "46 \t1375  \t0.955 \t46 \t16 \t0  \t1375  \t2.51256 \t86.471 \t46 \t229\t1  \t1375  \t35.5449\n",
      "47 \t1357  \t0.954 \t47 \t16 \t0  \t1357  \t2.53296 \t87.538 \t47 \t246\t1  \t1357  \t35.757 \n",
      "48 \t1384  \t0.8795\t48 \t16 \t0  \t1384  \t2.39081 \t86.624 \t48 \t244\t5  \t1384  \t35.2799\n",
      "49 \t1410  \t0.884 \t49 \t16 \t0  \t1410  \t2.44204 \t88.7695\t49 \t226\t1  \t1410  \t34.9252\n",
      "50 \t1470  \t0.891 \t50 \t16 \t0  \t1470  \t2.46923 \t90.98  \t50 \t233\t2  \t1470  \t35.7682\n",
      "51 \t1401  \t0.841 \t51 \t16 \t0  \t1401  \t2.43099 \t91.513 \t51 \t261\t1  \t1401  \t36.4076\n",
      "52 \t1440  \t0.802 \t52 \t16 \t0  \t1440  \t2.31599 \t91.0275\t52 \t261\t9  \t1440  \t36.846 \n",
      "53 \t1420  \t0.825 \t53 \t16 \t0  \t1420  \t2.38293 \t90.792 \t53 \t230\t5  \t1420  \t37.4021\n",
      "54 \t1441  \t0.809 \t54 \t16 \t0  \t1441  \t2.3224  \t91.377 \t54 \t208\t1  \t1441  \t37.2963\n",
      "55 \t1395  \t0.851 \t55 \t16 \t0  \t1395  \t2.34836 \t91.2905\t55 \t214\t6  \t1395  \t38.1634\n",
      "56 \t1397  \t0.9025\t56 \t16 \t0  \t1397  \t2.47568 \t92.486 \t56 \t234\t3  \t1397  \t38.8331\n",
      "57 \t1402  \t0.8   \t57 \t16 \t0  \t1402  \t2.33602 \t92.545 \t57 \t215\t9  \t1402  \t38.5225\n",
      "58 \t1410  \t0.7505\t58 \t16 \t0  \t1410  \t2.26258 \t92.5055\t58 \t221\t3  \t1410  \t39.176 \n",
      "59 \t1397  \t0.837 \t59 \t16 \t0  \t1397  \t2.3955  \t92.4955\t59 \t237\t1  \t1397  \t39.2125\n",
      "60 \t1451  \t0.905 \t60 \t16 \t0  \t1451  \t2.47143 \t93.944 \t60 \t223\t2  \t1451  \t39.197 \n",
      "61 \t1403  \t0.836 \t61 \t16 \t0  \t1403  \t2.37763 \t95.795 \t61 \t241\t9  \t1403  \t40.8778\n",
      "62 \t1424  \t0.87  \t62 \t16 \t0  \t1424  \t2.45786 \t95.517 \t62 \t217\t1  \t1424  \t40.4149\n",
      "63 \t1412  \t0.943 \t63 \t16 \t0  \t1412  \t2.52225 \t96.4145\t63 \t210\t2  \t1412  \t40.9157\n",
      "64 \t1400  \t0.8435\t64 \t12 \t0  \t1400  \t2.32379 \t98.2575\t64 \t273\t9  \t1400  \t42.0763\n",
      "65 \t1382  \t0.7905\t65 \t16 \t0  \t1382  \t2.36043 \t99.5445\t65 \t273\t9  \t1382  \t42.0592\n",
      "66 \t1367  \t0.726 \t66 \t16 \t0  \t1367  \t2.22237 \t99.235 \t66 \t231\t3  \t1367  \t41.9797\n",
      "67 \t1407  \t0.7695\t67 \t16 \t0  \t1407  \t2.2712  \t100.692\t67 \t233\t3  \t1407  \t42.4481\n",
      "68 \t1376  \t0.679 \t68 \t16 \t0  \t1376  \t2.15266 \t101.77 \t68 \t231\t7  \t1376  \t43.1845\n",
      "69 \t1383  \t0.7365\t69 \t16 \t0  \t1383  \t2.26982 \t102.21 \t69 \t232\t1  \t1383  \t43.4216\n",
      "70 \t1411  \t0.799 \t70 \t16 \t0  \t1411  \t2.36804 \t103.314\t70 \t238\t9  \t1411  \t44.3531\n",
      "71 \t1436  \t0.751 \t71 \t16 \t0  \t1436  \t2.30304 \t104.7  \t71 \t249\t3  \t1436  \t44.125 \n",
      "72 \t1427  \t0.7395\t72 \t12 \t0  \t1427  \t2.21532 \t106.855\t72 \t234\t5  \t1427  \t44.724 \n",
      "73 \t1383  \t0.6925\t73 \t16 \t0  \t1383  \t2.21674 \t107.055\t73 \t238\t3  \t1383  \t44.1739\n",
      "74 \t1438  \t0.7715\t74 \t16 \t0  \t1438  \t2.29811 \t107.094\t74 \t258\t7  \t1438  \t44.1458\n",
      "75 \t1405  \t0.6465\t75 \t16 \t0  \t1405  \t2.12474 \t108.582\t75 \t258\t1  \t1405  \t45.6158\n",
      "76 \t1428  \t0.649 \t76 \t16 \t0  \t1428  \t2.11324 \t106.915\t76 \t274\t5  \t1428  \t45.2631\n",
      "77 \t1380  \t0.7155\t77 \t16 \t0  \t1380  \t2.20988 \t108.3  \t77 \t269\t2  \t1380  \t46.3528\n",
      "78 \t1431  \t0.7575\t78 \t16 \t0  \t1431  \t2.27458 \t108.534\t78 \t269\t1  \t1431  \t47.091 \n",
      "79 \t1442  \t0.7245\t79 \t16 \t0  \t1442  \t2.25402 \t110.127\t79 \t289\t1  \t1442  \t47.573 \n",
      "80 \t1373  \t0.657 \t80 \t16 \t0  \t1373  \t2.14997 \t110.24 \t80 \t310\t1  \t1373  \t48.7559\n",
      "81 \t1380  \t0.652 \t81 \t16 \t0  \t1380  \t2.16099 \t109.335\t81 \t289\t2  \t1380  \t47.3348\n",
      "82 \t1412  \t0.654 \t82 \t12 \t0  \t1412  \t2.09076 \t109.178\t82 \t303\t7  \t1412  \t47.5558\n",
      "83 \t1440  \t0.8365\t83 \t16 \t0  \t1440  \t2.42585 \t107.231\t83 \t289\t3  \t1440  \t47.8486\n",
      "84 \t1405  \t0.704 \t84 \t16 \t0  \t1405  \t2.22067 \t110.222\t84 \t283\t3  \t1405  \t46.7162\n",
      "85 \t1427  \t0.7   \t85 \t16 \t0  \t1427  \t2.19613 \t111.432\t85 \t269\t1  \t1427  \t47.4704\n",
      "86 \t1408  \t0.6935\t86 \t16 \t0  \t1408  \t2.20126 \t112.335\t86 \t274\t2  \t1408  \t47.6761\n",
      "87 \t1450  \t0.7075\t87 \t16 \t0  \t1450  \t2.21336 \t114.287\t87 \t258\t11 \t1450  \t48.3976\n",
      "88 \t1435  \t0.6585\t88 \t16 \t0  \t1435  \t2.15705 \t115.638\t88 \t303\t1  \t1435  \t49.1306\n",
      "89 \t1431  \t0.5645\t89 \t16 \t0  \t1431  \t2.00346 \t114.934\t89 \t258\t9  \t1431  \t47.5961\n",
      "90 \t1430  \t0.658 \t90 \t16 \t0  \t1430  \t2.16519 \t115.287\t90 \t311\t1  \t1430  \t47.9977\n",
      "91 \t1414  \t0.571 \t91 \t10 \t0  \t1414  \t1.9514  \t115.427\t91 \t269\t2  \t1414  \t48.5637\n",
      "92 \t1424  \t0.6955\t92 \t16 \t0  \t1424  \t2.18009 \t115.971\t92 \t261\t1  \t1424  \t48.8976\n",
      "93 \t1436  \t0.6345\t93 \t16 \t0  \t1436  \t2.09807 \t117.416\t93 \t295\t2  \t1436  \t47.9215\n",
      "94 \t1381  \t0.6055\t94 \t16 \t0  \t1381  \t2.07554 \t116.008\t94 \t272\t2  \t1381  \t49.3256\n",
      "95 \t1413  \t0.675 \t95 \t16 \t0  \t1413  \t2.19804 \t116.05 \t95 \t255\t2  \t1413  \t49.1028\n",
      "96 \t1365  \t0.575 \t96 \t16 \t0  \t1365  \t2.00559 \t116.712\t96 \t254\t3  \t1365  \t48.4508\n",
      "97 \t1422  \t0.6335\t97 \t16 \t0  \t1422  \t2.07682 \t117.966\t97 \t270\t1  \t1422  \t48.6495\n",
      "98 \t1418  \t0.6125\t98 \t16 \t0  \t1418  \t2.12258 \t120.082\t98 \t250\t9  \t1418  \t48.4381\n",
      "99 \t1430  \t0.6   \t99 \t16 \t0  \t1430  \t2.0799  \t120.519\t99 \t248\t7  \t1430  \t47.9419\n",
      "100\t1375  \t0.548 \t100\t16 \t0  \t1375  \t1.95594 \t120.751\t100\t293\t1  \t1375  \t48.2912\n",
      "101\t1393  \t0.503 \t101\t16 \t0  \t1393  \t1.88812 \t120.155\t101\t295\t9  \t1393  \t48.05  \n",
      "102\t1432  \t0.592 \t102\t16 \t0  \t1432  \t2.04854 \t119.663\t102\t365\t4  \t1432  \t49.1994\n",
      "103\t1355  \t0.5275\t103\t16 \t0  \t1355  \t1.94197 \t121.07 \t103\t258\t8  \t1355  \t48.0963\n",
      "104\t1391  \t0.6505\t104\t16 \t0  \t1391  \t2.19485 \t121.873\t104\t266\t9  \t1391  \t48.0333\n",
      "105\t1415  \t0.5825\t105\t10 \t0  \t1415  \t1.98877 \t122.92 \t105\t278\t7  \t1415  \t48.2517\n",
      "106\t1347  \t0.492 \t106\t16 \t0  \t1347  \t1.84118 \t124.972\t106\t275\t2  \t1347  \t47.787 \n",
      "107\t1489  \t0.5785\t107\t16 \t0  \t1489  \t2.00993 \t124.472\t107\t275\t2  \t1489  \t49.4081\n",
      "108\t1402  \t0.4825\t108\t14 \t0  \t1402  \t1.86539 \t126.771\t108\t278\t9  \t1402  \t49.3528\n",
      "109\t1351  \t0.4965\t109\t14 \t0  \t1351  \t1.83983 \t125.484\t109\t323\t5  \t1351  \t49.6746\n",
      "110\t1425  \t0.624 \t110\t16 \t0  \t1425  \t2.05733 \t125.749\t110\t341\t1  \t1425  \t50.2938\n",
      "111\t1370  \t0.654 \t111\t16 \t0  \t1370  \t2.14623 \t125.459\t111\t262\t1  \t1370  \t49.6983\n",
      "112\t1422  \t0.4885\t112\t12 \t0  \t1422  \t1.81352 \t127.992\t112\t313\t11 \t1422  \t48.6194\n",
      "113\t1454  \t0.543 \t113\t16 \t0  \t1454  \t1.99553 \t127.4  \t113\t311\t4  \t1454  \t49.4378\n",
      "114\t1452  \t0.5535\t114\t16 \t0  \t1452  \t1.96523 \t129.442\t114\t268\t9  \t1452  \t49.304 \n",
      "115\t1433  \t0.5955\t115\t16 \t0  \t1433  \t2.07651 \t129.602\t115\t274\t7  \t1433  \t49.2622\n",
      "116\t1398  \t0.4835\t116\t16 \t0  \t1398  \t1.84302 \t129.083\t116\t306\t4  \t1398  \t49.0989\n",
      "117\t1401  \t0.497 \t117\t16 \t0  \t1401  \t1.87483 \t128.271\t117\t303\t1  \t1401  \t49.8048\n",
      "118\t1407  \t0.5395\t118\t16 \t0  \t1407  \t1.96709 \t126.708\t118\t277\t2  \t1407  \t49.5914\n",
      "119\t1386  \t0.5175\t119\t16 \t0  \t1386  \t1.92528 \t129.215\t119\t292\t5  \t1386  \t49.3278\n",
      "120\t1390  \t0.547 \t120\t16 \t0  \t1390  \t1.98338 \t131.832\t120\t277\t4  \t1390  \t49.2175\n",
      "121\t1426  \t0.4905\t121\t16 \t0  \t1426  \t1.86706 \t133.364\t121\t271\t9  \t1426  \t49.7259\n",
      "122\t1418  \t0.4875\t122\t12 \t0  \t1418  \t1.86811 \t134.19 \t122\t271\t6  \t1418  \t49.7543\n",
      "123\t1476  \t0.538 \t123\t16 \t0  \t1476  \t1.98029 \t133.566\t123\t271\t2  \t1476  \t50.0304\n",
      "124\t1445  \t0.4555\t124\t16 \t0  \t1445  \t1.77342 \t133.79 \t124\t268\t4  \t1445  \t51.1685\n",
      "125\t1395  \t0.502 \t125\t12 \t0  \t1395  \t1.87083 \t132.613\t125\t268\t3  \t1395  \t50.4924\n",
      "126\t1379  \t0.5485\t126\t16 \t0  \t1379  \t2.01362 \t130.453\t126\t285\t1  \t1379  \t50.7783\n",
      "127\t1361  \t0.512 \t127\t16 \t0  \t1361  \t1.95445 \t132.171\t127\t297\t3  \t1361  \t51.5523\n",
      "128\t1397  \t0.522 \t128\t16 \t0  \t1397  \t1.92393 \t132.988\t128\t306\t1  \t1397  \t52.1043\n",
      "129\t1416  \t0.477 \t129\t16 \t0  \t1416  \t1.87443 \t134.445\t129\t306\t9  \t1416  \t52.2462\n",
      "130\t1431  \t0.487 \t130\t16 \t0  \t1431  \t1.85979 \t134.215\t130\t316\t9  \t1431  \t52.9382\n",
      "131\t1437  \t0.504 \t131\t16 \t0  \t1437  \t1.89023 \t134.587\t131\t316\t9  \t1437  \t52.5707\n",
      "132\t1370  \t0.5   \t132\t16 \t0  \t1370  \t1.88627 \t133.696\t132\t316\t2  \t1370  \t53.7988\n",
      "133\t1370  \t0.469 \t133\t16 \t0  \t1370  \t1.821   \t134.77 \t133\t316\t9  \t1370  \t54.2248\n",
      "134\t1416  \t0.4915\t134\t16 \t0  \t1416  \t1.86116 \t132.885\t134\t316\t10 \t1416  \t53.4247\n",
      "135\t1378  \t0.4735\t135\t16 \t0  \t1378  \t1.86341 \t133.702\t135\t336\t9  \t1378  \t52.8872\n",
      "136\t1379  \t0.494 \t136\t16 \t0  \t1379  \t1.91441 \t133.345\t136\t310\t9  \t1379  \t52.903 \n",
      "137\t1374  \t0.466 \t137\t16 \t0  \t1374  \t1.86597 \t134.518\t137\t307\t9  \t1374  \t52.4232\n",
      "138\t1451  \t0.473 \t138\t16 \t0  \t1451  \t1.8725  \t133.48 \t138\t312\t9  \t1451  \t52.8212\n",
      "139\t1415  \t0.418 \t139\t12 \t0  \t1415  \t1.69271 \t134.809\t139\t316\t9  \t1415  \t54.1566\n",
      "140\t1377  \t0.462 \t140\t16 \t0  \t1377  \t1.82553 \t133.493\t140\t316\t9  \t1377  \t53.9121\n",
      "141\t1414  \t0.5525\t141\t16 \t0  \t1414  \t2.02959 \t134.394\t141\t321\t1  \t1414  \t54.3514\n",
      "142\t1452  \t0.451 \t142\t12 \t0  \t1452  \t1.76142 \t134.304\t142\t321\t4  \t1452  \t55.7596\n",
      "143\t1417  \t0.522 \t143\t16 \t0  \t1417  \t1.98885 \t134.885\t143\t312\t1  \t1417  \t54.1168\n",
      "144\t1362  \t0.56  \t144\t16 \t0  \t1362  \t2.09652 \t134.688\t144\t351\t9  \t1362  \t54.2334\n",
      "145\t1402  \t0.473 \t145\t16 \t0  \t1402  \t1.82737 \t135.07 \t145\t351\t5  \t1402  \t53.9514\n",
      "146\t1399  \t0.465 \t146\t16 \t0  \t1399  \t1.85358 \t136.555\t146\t300\t9  \t1399  \t53.9816\n",
      "147\t1450  \t0.4835\t147\t16 \t0  \t1450  \t1.92165 \t136.262\t147\t284\t3  \t1450  \t54.6456\n",
      "148\t1380  \t0.482 \t148\t10 \t0  \t1380  \t1.81953 \t137.469\t148\t354\t1  \t1380  \t54.2809\n",
      "149\t1411  \t0.487 \t149\t16 \t0  \t1411  \t1.83653 \t136.816\t149\t306\t9  \t1411  \t52.9173\n",
      "150\t1382  \t0.5145\t150\t16 \t0  \t1382  \t1.9354  \t137.123\t150\t306\t9  \t1382  \t52.3471\n",
      "151\t1435  \t0.474 \t151\t16 \t0  \t1435  \t1.87892 \t137.226\t151\t313\t9  \t1435  \t52.6756\n",
      "152\t1391  \t0.4025\t152\t12 \t0  \t1391  \t1.7022  \t137.154\t152\t333\t9  \t1391  \t53.6052\n",
      "153\t1441  \t0.4435\t153\t12 \t0  \t1441  \t1.76715 \t137.124\t153\t333\t9  \t1441  \t53.092 \n",
      "154\t1395  \t0.474 \t154\t12 \t0  \t1395  \t1.8084  \t135.512\t154\t332\t3  \t1395  \t53.8298\n",
      "155\t1426  \t0.4405\t155\t12 \t0  \t1426  \t1.77213 \t135.435\t155\t320\t9  \t1426  \t54.2309\n",
      "156\t1426  \t0.4445\t156\t16 \t0  \t1426  \t1.78799 \t135.569\t156\t286\t1  \t1426  \t53.8276\n",
      "157\t1407  \t0.5445\t157\t16 \t0  \t1407  \t2.02732 \t138.595\t157\t298\t7  \t1407  \t54.6949\n",
      "158\t1443  \t0.4915\t158\t14 \t0  \t1443  \t1.85713 \t137.506\t158\t292\t1  \t1443  \t54.9967\n",
      "159\t1416  \t0.397 \t159\t16 \t0  \t1416  \t1.67314 \t139.919\t159\t332\t9  \t1416  \t55.1318\n",
      "160\t1401  \t0.4685\t160\t16 \t0  \t1401  \t1.84093 \t140.679\t160\t292\t3  \t1401  \t56.2112\n",
      "161\t1440  \t0.4375\t161\t12 \t0  \t1440  \t1.7387  \t141.422\t161\t296\t9  \t1440  \t55.3866\n",
      "162\t1397  \t0.3895\t162\t16 \t0  \t1397  \t1.69257 \t143.519\t162\t296\t9  \t1397  \t56.1549\n",
      "163\t1416  \t0.4525\t163\t16 \t0  \t1416  \t1.80686 \t142.958\t163\t324\t1  \t1416  \t55.289 \n",
      "164\t1432  \t0.497 \t164\t10 \t0  \t1432  \t1.85903 \t141.529\t164\t322\t6  \t1432  \t55.2761\n",
      "165\t1352  \t0.4095\t165\t16 \t0  \t1352  \t1.70053 \t141.645\t165\t296\t1  \t1352  \t56.5304\n",
      "166\t1380  \t0.4075\t166\t16 \t0  \t1380  \t1.6904  \t142.348\t166\t325\t9  \t1380  \t56.5174\n",
      "167\t1390  \t0.4725\t167\t16 \t0  \t1390  \t1.84099 \t143.839\t167\t326\t9  \t1390  \t58.0817\n",
      "168\t1400  \t0.3855\t168\t16 \t0  \t1400  \t1.6682  \t144.7  \t168\t327\t10 \t1400  \t59.2985\n",
      "169\t1387  \t0.3775\t169\t16 \t0  \t1387  \t1.64134 \t144.333\t169\t330\t14 \t1387  \t59.4611\n",
      "170\t1411  \t0.498 \t170\t16 \t0  \t1411  \t1.90893 \t145.028\t170\t337\t9  \t1411  \t59.553 \n",
      "171\t1437  \t0.51  \t171\t16 \t0  \t1437  \t1.93388 \t144.41 \t171\t337\t1  \t1437  \t59.544 \n",
      "172\t1394  \t0.3445\t172\t16 \t0  \t1394  \t1.56997 \t145.429\t172\t338\t9  \t1394  \t60.0541\n",
      "173\t1405  \t0.39  \t173\t16 \t0  \t1405  \t1.67747 \t146.659\t173\t339\t9  \t1405  \t59.8776\n",
      "174\t1417  \t0.413 \t174\t16 \t0  \t1417  \t1.7261  \t146.439\t174\t337\t9  \t1417  \t58.6426\n",
      "175\t1433  \t0.476 \t175\t16 \t0  \t1433  \t1.80456 \t145.752\t175\t337\t9  \t1433  \t59.3881\n",
      "176\t1396  \t0.4885\t176\t16 \t0  \t1396  \t1.86678 \t144.124\t176\t333\t3  \t1396  \t58.9875\n",
      "177\t1415  \t0.3875\t177\t16 \t0  \t1415  \t1.69804 \t145.791\t177\t344\t9  \t1415  \t58.6428\n",
      "178\t1426  \t0.3925\t178\t16 \t0  \t1426  \t1.69601 \t143.918\t178\t337\t9  \t1426  \t58.7686\n",
      "179\t1461  \t0.511 \t179\t12 \t0  \t1461  \t1.8764  \t144.124\t179\t314\t9  \t1461  \t59.4308\n",
      "180\t1400  \t0.5005\t180\t16 \t0  \t1400  \t1.97079 \t145.098\t180\t323\t1  \t1400  \t59.8547\n",
      "181\t1418  \t0.4815\t181\t16 \t0  \t1418  \t1.88326 \t144.591\t181\t315\t9  \t1418  \t59.2056\n",
      "182\t1400  \t0.349 \t182\t16 \t0  \t1400  \t1.58751 \t143.457\t182\t367\t9  \t1400  \t59.6869\n",
      "183\t1444  \t0.394 \t183\t16 \t0  \t1444  \t1.68783 \t142.482\t183\t368\t1  \t1444  \t60.3786\n",
      "184\t1440  \t0.375 \t184\t12 \t0  \t1440  \t1.62246 \t144.893\t184\t394\t9  \t1440  \t61.8711\n",
      "185\t1422  \t0.4415\t185\t16 \t0  \t1422  \t1.83972 \t146.315\t185\t369\t9  \t1422  \t63.5796\n",
      "186\t1407  \t0.4355\t186\t12 \t0  \t1407  \t1.74437 \t146.02 \t186\t373\t1  \t1407  \t63.9289\n",
      "187\t1409  \t0.4335\t187\t16 \t0  \t1409  \t1.73048 \t144.649\t187\t375\t7  \t1409  \t65.5824\n",
      "188\t1374  \t0.392 \t188\t12 \t0  \t1374  \t1.65328 \t143.951\t188\t381\t1  \t1374  \t63.8699\n",
      "189\t1453  \t0.356 \t189\t16 \t0  \t1453  \t1.58974 \t143.96 \t189\t380\t9  \t1453  \t64.1512\n",
      "190\t1436  \t0.5185\t190\t16 \t0  \t1436  \t2.00291 \t143.749\t190\t389\t9  \t1436  \t64.439 \n",
      "191\t1447  \t0.4295\t191\t16 \t0  \t1447  \t1.76069 \t145.981\t191\t389\t9  \t1447  \t65.1995\n",
      "192\t1394  \t0.458 \t192\t16 \t0  \t1394  \t1.79868 \t142.875\t192\t388\t1  \t1394  \t65.2656\n",
      "193\t1412  \t0.438 \t193\t16 \t0  \t1412  \t1.76215 \t142.222\t193\t388\t9  \t1412  \t65.0905\n",
      "194\t1372  \t0.47  \t194\t12 \t0  \t1372  \t1.82568 \t142.602\t194\t390\t1  \t1372  \t62.786 \n",
      "195\t1402  \t0.382 \t195\t16 \t0  \t1402  \t1.66375 \t141.607\t195\t388\t1  \t1402  \t62.1758\n",
      "196\t1457  \t0.481 \t196\t16 \t0  \t1457  \t1.83375 \t140.428\t196\t396\t3  \t1457  \t61.5238\n",
      "197\t1410  \t0.446 \t197\t16 \t0  \t1410  \t1.7692  \t141.745\t197\t396\t9  \t1410  \t59.6002\n",
      "198\t1449  \t0.471 \t198\t16 \t0  \t1449  \t1.81856 \t141.052\t198\t394\t9  \t1449  \t58.9185\n",
      "199\t1438  \t0.4235\t199\t16 \t0  \t1438  \t1.73094 \t139.446\t199\t406\t5  \t1438  \t58.5889\n",
      "200\t1473  \t0.3815\t200\t15 \t0  \t1473  \t1.64072 \t137.893\t200\t383\t1  \t1473  \t56.5524\n"
     ]
    }
   ],
   "source": [
    "toolbox1 = getToolbox()\n",
    "population1 = population = toolbox1.populationCreator(n=POPULATION_SIZE)\n",
    "population, logbook = algorithms.eaSimple(population1,\n",
    "                                                  toolbox1,\n",
    "                                                  cxpb=P_CROSSOVER,\n",
    "                                                  mutpb=P_MUTATION,\n",
    "                                                  ngen=MAX_GENERATIONS,\n",
    "                                                  stats=mstats,\n",
    "                                                  halloffame=hof,\n",
    "                                                  verbose=True)"
   ]
  },
  {
   "cell_type": "markdown",
   "id": "f932567b-a8ef-4c40-88e1-952ce486feb3",
   "metadata": {},
   "source": [
    "Plotting the stats as a readable chart."
   ]
  },
  {
   "cell_type": "code",
   "execution_count": 15,
   "id": "cdf7208b-ed77-4be5-a3db-687c93924c59",
   "metadata": {},
   "outputs": [
    {
     "name": "stdout",
     "output_type": "stream",
     "text": [
      "-- Best Individual =  and_(xor(xor(xor(in_3, in_2), and_(1, in_1)), not_(not_(in_0))), or_(xor(xor(1, in_1), and_(in_0, in_1)), or_(not_(or_(1, and_(0, in_1))), xor(and_(in_3, 0), in_1))))\n",
      "-- length=32, height=6\n",
      "-- Best Fitness =  0.0\n"
     ]
    },
    {
     "data": {
      "image/png": "[encoded data removed]",
      "text/plain": [
       "<Figure size 640x480 with 1 Axes>"
      ]
     },
     "metadata": {},
     "output_type": "display_data"
    }
   ],
   "source": [
    "maxFitnessValues, meanFitnessValues = logbook.chapters['fitness'].select(\"min\", \"avg\")\n",
    "\n",
    "\n",
    "# print info for best solution found:\n",
    "best = hof.items[0]\n",
    "print(\"-- Best Individual = \", best)\n",
    "print(\"-- length={}, height={}\".format(len(best), best.height))\n",
    "print(\"-- Best Fitness = \", best.fitness.values[0])\n",
    "\n",
    "plt.plot(maxFitnessValues, color='red')\n",
    "plt.plot(meanFitnessValues, color='green')\n",
    "plt.xlabel('Generation')\n",
    "plt.ylabel('Max / Average Fitness')\n",
    "plt.title('Max and Average Fitness over Generations')\n",
    "plt.legend(['Max Fitness', 'Mean Fitness'], loc = 'upper right')\n",
    "plt.show()"
   ]
  },
  {
   "cell_type": "markdown",
   "id": "3c4c30e9-b93e-487b-98f0-4d9c53b256e4",
   "metadata": {},
   "source": [
    "### Setup 2\n",
    "Mutation => 0.01  \n",
    "Crossover => 0.9  "
   ]
  },
  {
   "cell_type": "markdown",
   "id": "b83eb2bc-aed7-4f49-a1fc-0fb57a0b2cc2",
   "metadata": {},
   "source": [
    "Setting the Genetic Programming parameters"
   ]
  },
  {
   "cell_type": "code",
   "execution_count": 16,
   "id": "b97f8d15-c200-43a2-80d9-abeb6caa80b3",
   "metadata": {},
   "outputs": [],
   "source": [
    "# Genetic Programming constants:\n",
    "P_CROSSOVER = 0.9\n",
    "P_MUTATION = 0.01\n",
    "MAX_GENERATIONS = 200"
   ]
  },
  {
   "cell_type": "markdown",
   "id": "ad3d0be0-eadf-414e-8ef5-71a62e12f1b8",
   "metadata": {},
   "source": [
    "Running the GP for setup #2"
   ]
  },
  {
   "cell_type": "code",
   "execution_count": 17,
   "id": "065f878a-2881-48d6-a577-15d3dcecd88b",
   "metadata": {},
   "outputs": [
    {
     "name": "stdout",
     "output_type": "stream",
     "text": [
      "   \t      \t                    fitness                    \t                      size                     \n",
      "   \t      \t-----------------------------------------------\t-----------------------------------------------\n",
      "gen\tnevals\tavg  \tgen\tmax\tmin\tnevals\tstd    \tavg   \tgen\tmax\tmin\tnevals\tstd    \n",
      "0  \t2000  \t8.026\t0  \t16 \t2  \t2000  \t0.78315\t22.683\t0  \t62 \t4  \t2000  \t13.1724\n",
      "1  \t1811  \t7.8945\t1  \t16 \t0  \t1811  \t0.756551\t21.8925\t1  \t68 \t1  \t1811  \t13.1801\n",
      "2  \t1761  \t7.8515\t2  \t12 \t4  \t1761  \t0.749965\t22.607 \t2  \t82 \t1  \t1761  \t14.1525\n",
      "3  \t1833  \t7.8035\t3  \t12 \t0  \t1833  \t0.839576\t23.7625\t3  \t80 \t1  \t1833  \t15.1648\n",
      "4  \t1810  \t7.7185\t4  \t16 \t1  \t1810  \t0.921552\t25.7825\t4  \t95 \t1  \t1810  \t16.1276\n",
      "5  \t1808  \t7.6555\t5  \t12 \t1  \t1808  \t0.970474\t27.908 \t5  \t91 \t1  \t1808  \t16.7006\n",
      "6  \t1827  \t7.555 \t6  \t12 \t1  \t1827  \t1.02371 \t30.2525\t6  \t109\t1  \t1827  \t17.8618\n",
      "7  \t1819  \t7.4785\t7  \t14 \t1  \t1819  \t1.11469 \t32.7245\t7  \t112\t1  \t1819  \t19.1149\n",
      "8  \t1813  \t7.3835\t8  \t13 \t0  \t1813  \t1.25077 \t36.1535\t8  \t112\t1  \t1813  \t20.4338\n",
      "9  \t1799  \t7.191 \t9  \t14 \t0  \t1799  \t1.42321 \t40.0585\t9  \t126\t1  \t1799  \t21.6274\n",
      "10 \t1811  \t7.0325\t10 \t14 \t0  \t1811  \t1.51078 \t42.796 \t10 \t131\t2  \t1811  \t22.2748\n",
      "11 \t1805  \t6.8465\t11 \t14 \t0  \t1805  \t1.61893 \t45.6025\t11 \t137\t2  \t1805  \t22.8234\n",
      "12 \t1791  \t6.5935\t12 \t14 \t0  \t1791  \t1.71209 \t49.565 \t12 \t150\t2  \t1791  \t24.7758\n",
      "13 \t1825  \t6.3765\t13 \t12 \t0  \t1825  \t1.74607 \t52.4785\t13 \t168\t1  \t1825  \t25.5709\n",
      "14 \t1803  \t6.237 \t14 \t16 \t0  \t1803  \t1.88834 \t55.1025\t14 \t152\t2  \t1803  \t25.9607\n",
      "15 \t1819  \t5.949 \t15 \t14 \t0  \t1819  \t1.93298 \t58.645 \t15 \t167\t3  \t1819  \t27.087 \n",
      "16 \t1801  \t5.669 \t16 \t16 \t0  \t1801  \t1.99034 \t61.7565\t16 \t165\t1  \t1801  \t28.3888\n",
      "17 \t1806  \t5.3645\t17 \t13 \t0  \t1806  \t2.09777 \t67.2115\t17 \t163\t1  \t1806  \t29.0214\n",
      "18 \t1767  \t5.103 \t18 \t14 \t0  \t1767  \t2.16296 \t69.919 \t18 \t209\t1  \t1767  \t30.0626\n",
      "19 \t1775  \t4.77  \t19 \t14 \t0  \t1775  \t2.21475 \t72.622 \t19 \t209\t3  \t1775  \t30.3656\n",
      "20 \t1796  \t4.5565\t20 \t15 \t0  \t1796  \t2.42132 \t73.632 \t20 \t198\t5  \t1796  \t30.367 \n",
      "21 \t1816  \t4.3485\t21 \t16 \t0  \t1816  \t2.53615 \t75.707 \t21 \t191\t7  \t1816  \t30.5047\n",
      "22 \t1821  \t4.022 \t22 \t16 \t0  \t1821  \t2.59432 \t78.342 \t22 \t233\t1  \t1821  \t30.3461\n",
      "23 \t1839  \t3.6675\t23 \t16 \t0  \t1839  \t2.71513 \t81.5635\t23 \t235\t2  \t1839  \t31.431 \n",
      "24 \t1800  \t3.3065\t24 \t16 \t0  \t1800  \t2.73122 \t83.1015\t24 \t237\t7  \t1800  \t30.844 \n",
      "25 \t1773  \t2.995 \t25 \t16 \t0  \t1773  \t2.74135 \t84.8485\t25 \t235\t1  \t1773  \t29.8462\n",
      "26 \t1816  \t2.739 \t26 \t16 \t0  \t1816  \t2.86389 \t85.6555\t26 \t222\t1  \t1816  \t29.7453\n",
      "27 \t1771  \t2.547 \t27 \t16 \t0  \t1771  \t2.96931 \t88.141 \t27 \t212\t1  \t1771  \t30.0279\n",
      "28 \t1808  \t2.408 \t28 \t16 \t0  \t1808  \t3.09056 \t90.49  \t28 \t215\t8  \t1808  \t31.1571\n",
      "29 \t1786  \t2.0625\t29 \t16 \t0  \t1786  \t2.87847 \t92.873 \t29 \t216\t10 \t1786  \t31.9344\n",
      "30 \t1785  \t2.0445\t30 \t16 \t0  \t1785  \t2.97683 \t94.987 \t30 \t205\t14 \t1785  \t32.4942\n",
      "31 \t1805  \t1.9815\t31 \t16 \t0  \t1805  \t3.00752 \t96.648 \t31 \t200\t3  \t1805  \t33.9333\n",
      "32 \t1827  \t1.8895\t32 \t16 \t0  \t1827  \t3.02031 \t99.9535\t32 \t214\t9  \t1827  \t33.5185\n",
      "33 \t1813  \t1.7435\t33 \t16 \t0  \t1813  \t2.92997 \t101.637\t33 \t224\t11 \t1813  \t33.3028\n",
      "34 \t1829  \t1.7625\t34 \t16 \t0  \t1829  \t3.06286 \t105.073\t34 \t213\t5  \t1829  \t33.5164\n",
      "35 \t1779  \t1.629 \t35 \t16 \t0  \t1779  \t2.88277 \t105.83 \t35 \t218\t1  \t1779  \t34.1684\n",
      "36 \t1794  \t1.6895\t36 \t16 \t0  \t1794  \t3.03662 \t107.575\t36 \t243\t1  \t1794  \t36.1344\n",
      "37 \t1757  \t1.5275\t37 \t16 \t0  \t1757  \t2.86692 \t110.524\t37 \t235\t1  \t1757  \t36.1316\n",
      "38 \t1834  \t1.5305\t38 \t16 \t0  \t1834  \t2.90415 \t111.541\t38 \t234\t1  \t1834  \t35.6442\n",
      "39 \t1834  \t1.564 \t39 \t16 \t0  \t1834  \t2.95971 \t112.986\t39 \t236\t6  \t1834  \t36.1805\n",
      "40 \t1772  \t1.407 \t40 \t16 \t0  \t1772  \t2.81182 \t116.963\t40 \t260\t18 \t1772  \t37.2532\n",
      "41 \t1811  \t1.3895\t41 \t16 \t0  \t1811  \t2.81475 \t118.017\t41 \t260\t15 \t1811  \t38.4703\n",
      "42 \t1800  \t1.3785\t42 \t16 \t0  \t1800  \t2.78895 \t120.728\t42 \t242\t19 \t1800  \t37.3884\n",
      "43 \t1808  \t1.2735\t43 \t16 \t0  \t1808  \t2.68918 \t123.35 \t43 \t249\t1  \t1808  \t37.5842\n",
      "44 \t1808  \t1.2125\t44 \t16 \t0  \t1808  \t2.62152 \t123.192\t44 \t305\t12 \t1808  \t37.7034\n",
      "45 \t1821  \t1.279 \t45 \t16 \t0  \t1821  \t2.75666 \t123.751\t45 \t283\t5  \t1821  \t38.0838\n",
      "46 \t1811  \t1.3465\t46 \t16 \t0  \t1811  \t2.84894 \t125.174\t46 \t282\t15 \t1811  \t39.2807\n",
      "47 \t1789  \t1.3415\t47 \t16 \t0  \t1789  \t2.76855 \t127.776\t47 \t284\t21 \t1789  \t39.4808\n",
      "48 \t1789  \t1.267 \t48 \t16 \t0  \t1789  \t2.75058 \t127.471\t48 \t284\t18 \t1789  \t40.3435\n",
      "49 \t1826  \t1.2555\t49 \t16 \t0  \t1826  \t2.665   \t129.049\t49 \t262\t14 \t1826  \t40.3713\n",
      "50 \t1807  \t1.177 \t50 \t16 \t0  \t1807  \t2.60608 \t130.619\t50 \t252\t20 \t1807  \t41.8469\n",
      "51 \t1786  \t1.15  \t51 \t16 \t0  \t1786  \t2.5672  \t130.007\t51 \t260\t18 \t1786  \t41.3875\n",
      "52 \t1770  \t1.207 \t52 \t16 \t0  \t1770  \t2.67939 \t130.911\t52 \t292\t18 \t1770  \t41.79  \n",
      "53 \t1840  \t1.298 \t53 \t16 \t0  \t1840  \t2.73097 \t133.129\t53 \t307\t21 \t1840  \t43.7303\n",
      "54 \t1802  \t1.13  \t54 \t16 \t0  \t1802  \t2.58961 \t135.984\t54 \t307\t17 \t1802  \t44.9356\n",
      "55 \t1806  \t1.191 \t55 \t16 \t0  \t1806  \t2.70324 \t137.185\t55 \t291\t14 \t1806  \t45.8079\n",
      "56 \t1806  \t1.162 \t56 \t16 \t0  \t1806  \t2.67334 \t139.727\t56 \t297\t3  \t1806  \t47.1467\n",
      "57 \t1812  \t1.188 \t57 \t16 \t0  \t1812  \t2.67874 \t142.013\t57 \t299\t19 \t1812  \t48.2342\n",
      "58 \t1792  \t1.229 \t58 \t16 \t0  \t1792  \t2.67536 \t143.79 \t58 \t306\t13 \t1792  \t48.4223\n",
      "59 \t1825  \t1.2565\t59 \t16 \t0  \t1825  \t2.75639 \t144.923\t59 \t336\t12 \t1825  \t48.9266\n",
      "60 \t1800  \t1.0915\t60 \t16 \t0  \t1800  \t2.53005 \t145.849\t60 \t338\t3  \t1800  \t48.9392\n",
      "61 \t1750  \t1.025 \t61 \t16 \t0  \t1750  \t2.50667 \t146.383\t61 \t355\t19 \t1750  \t47.9761\n",
      "62 \t1823  \t1.033 \t62 \t16 \t0  \t1823  \t2.48353 \t146.23 \t62 \t355\t1  \t1823  \t47.8974\n",
      "63 \t1807  \t1.127 \t63 \t16 \t0  \t1807  \t2.60247 \t146.057\t63 \t369\t15 \t1807  \t48.5422\n",
      "64 \t1794  \t1.129 \t64 \t16 \t0  \t1794  \t2.68484 \t146.116\t64 \t301\t23 \t1794  \t48.6998\n",
      "65 \t1805  \t1.174 \t65 \t16 \t0  \t1805  \t2.62559 \t147.964\t65 \t352\t15 \t1805  \t48.7353\n",
      "66 \t1809  \t1.0865\t66 \t16 \t0  \t1809  \t2.5503  \t147.22 \t66 \t316\t18 \t1809  \t49.036 \n",
      "67 \t1820  \t1.0725\t67 \t16 \t0  \t1820  \t2.56793 \t146.413\t67 \t327\t15 \t1820  \t48.7983\n",
      "68 \t1812  \t1.1005\t68 \t16 \t0  \t1812  \t2.55018 \t146.433\t68 \t329\t5  \t1812  \t49.0165\n",
      "69 \t1810  \t1.1565\t69 \t16 \t0  \t1810  \t2.6226  \t146.925\t69 \t313\t16 \t1810  \t50.5518\n",
      "70 \t1791  \t1.021 \t70 \t16 \t0  \t1791  \t2.44593 \t146.683\t70 \t328\t1  \t1791  \t49.3625\n",
      "71 \t1784  \t1.0685\t71 \t16 \t0  \t1784  \t2.65929 \t147.652\t71 \t321\t10 \t1784  \t48.8498\n",
      "72 \t1839  \t1.069 \t72 \t16 \t0  \t1839  \t2.48842 \t148.802\t72 \t316\t1  \t1839  \t50.1699\n",
      "73 \t1824  \t1.0335\t73 \t16 \t0  \t1824  \t2.54978 \t149.19 \t73 \t308\t25 \t1824  \t49.4681\n",
      "74 \t1801  \t1.0865\t74 \t16 \t0  \t1801  \t2.59654 \t151.565\t74 \t339\t13 \t1801  \t49.1937\n",
      "75 \t1836  \t1.0835\t75 \t16 \t0  \t1836  \t2.58699 \t151.201\t75 \t339\t13 \t1836  \t50.8156\n",
      "76 \t1774  \t1.0365\t76 \t16 \t0  \t1774  \t2.52748 \t150.947\t76 \t339\t1  \t1774  \t50.92  \n",
      "77 \t1790  \t0.97  \t77 \t16 \t0  \t1790  \t2.43354 \t153.645\t77 \t333\t3  \t1790  \t50.4282\n",
      "78 \t1814  \t0.97  \t78 \t16 \t0  \t1814  \t2.41663 \t153.568\t78 \t348\t17 \t1814  \t49.8122\n",
      "79 \t1806  \t1.0415\t79 \t16 \t0  \t1806  \t2.55613 \t153.24 \t79 \t329\t19 \t1806  \t49.9978\n",
      "80 \t1817  \t1.0405\t80 \t16 \t0  \t1817  \t2.60765 \t153.694\t80 \t315\t19 \t1817  \t50.5291\n",
      "81 \t1815  \t1.016 \t81 \t16 \t0  \t1815  \t2.54652 \t152.578\t81 \t316\t9  \t1815  \t49.8298\n",
      "82 \t1811  \t1.074 \t82 \t16 \t0  \t1811  \t2.64642 \t150.688\t82 \t311\t26 \t1811  \t48.7568\n",
      "83 \t1812  \t1     \t83 \t16 \t0  \t1812  \t2.57216 \t153.483\t83 \t338\t15 \t1812  \t49.5965\n",
      "84 \t1812  \t1.0485\t84 \t16 \t0  \t1812  \t2.59695 \t154.235\t84 \t336\t9  \t1812  \t51.8323\n",
      "85 \t1824  \t1.0325\t85 \t16 \t0  \t1824  \t2.62153 \t154.089\t85 \t386\t21 \t1824  \t50.5808\n",
      "86 \t1820  \t0.982 \t86 \t16 \t0  \t1820  \t2.57287 \t154.206\t86 \t386\t30 \t1820  \t50.2485\n",
      "87 \t1790  \t0.988 \t87 \t16 \t0  \t1790  \t2.55751 \t152.827\t87 \t316\t3  \t1790  \t51.0938\n",
      "88 \t1809  \t1.042 \t88 \t16 \t0  \t1809  \t2.55895 \t155.372\t88 \t342\t23 \t1809  \t51.7409\n",
      "89 \t1787  \t1.024 \t89 \t16 \t0  \t1787  \t2.55625 \t154.487\t89 \t317\t5  \t1787  \t52.307 \n",
      "90 \t1805  \t1.008 \t90 \t16 \t0  \t1805  \t2.53277 \t155.687\t90 \t356\t12 \t1805  \t53.1087\n",
      "91 \t1823  \t1.04  \t91 \t16 \t0  \t1823  \t2.54232 \t158.672\t91 \t343\t14 \t1823  \t53.3195\n",
      "92 \t1828  \t1.0135\t92 \t16 \t0  \t1828  \t2.57339 \t159.19 \t92 \t302\t3  \t1828  \t51.9934\n",
      "93 \t1785  \t1.01  \t93 \t16 \t0  \t1785  \t2.62772 \t160.984\t93 \t325\t24 \t1785  \t51.6325\n",
      "94 \t1807  \t0.898 \t94 \t16 \t0  \t1807  \t2.39303 \t162.467\t94 \t372\t3  \t1807  \t53.1312\n",
      "95 \t1815  \t0.914 \t95 \t16 \t0  \t1815  \t2.38424 \t161.983\t95 \t334\t1  \t1815  \t52.1565\n",
      "96 \t1816  \t0.874 \t96 \t16 \t0  \t1816  \t2.27796 \t163.491\t96 \t335\t21 \t1816  \t52.155 \n",
      "97 \t1821  \t0.9855\t97 \t16 \t0  \t1821  \t2.55133 \t164.885\t97 \t336\t4  \t1821  \t53.7276\n",
      "98 \t1803  \t0.9525\t98 \t16 \t0  \t1803  \t2.4729  \t165.086\t98 \t351\t12 \t1803  \t54.0484\n",
      "99 \t1804  \t0.921 \t99 \t16 \t0  \t1804  \t2.49835 \t162.883\t99 \t351\t23 \t1804  \t55.6538\n",
      "100\t1798  \t0.879 \t100\t16 \t0  \t1798  \t2.35316 \t162.125\t100\t346\t3  \t1798  \t54.8748\n",
      "101\t1796  \t1.001 \t101\t16 \t0  \t1796  \t2.503   \t161.071\t101\t346\t21 \t1796  \t55.3993\n",
      "102\t1767  \t1.004 \t102\t16 \t0  \t1767  \t2.49619 \t161.74 \t102\t335\t7  \t1767  \t54.9229\n",
      "103\t1795  \t0.8995\t103\t16 \t0  \t1795  \t2.44835 \t163.328\t103\t338\t1  \t1795  \t55.6824\n",
      "104\t1825  \t1.0185\t104\t16 \t0  \t1825  \t2.60675 \t164.795\t104\t363\t1  \t1825  \t55.992 \n",
      "105\t1786  \t0.9315\t105\t16 \t0  \t1786  \t2.51631 \t167.388\t105\t363\t7  \t1786  \t54.9935\n",
      "106\t1820  \t0.9655\t106\t16 \t0  \t1820  \t2.49345 \t169.683\t106\t363\t26 \t1820  \t55.0087\n",
      "107\t1815  \t0.9195\t107\t16 \t0  \t1815  \t2.42426 \t170.662\t107\t363\t11 \t1815  \t54.952 \n",
      "108\t1799  \t0.8625\t108\t16 \t0  \t1799  \t2.38214 \t170.87 \t108\t370\t24 \t1799  \t54.7081\n",
      "109\t1805  \t0.8255\t109\t16 \t0  \t1805  \t2.35904 \t173.545\t109\t340\t1  \t1805  \t53.3486\n",
      "110\t1812  \t0.766 \t110\t16 \t0  \t1812  \t2.25815 \t172.637\t110\t347\t13 \t1812  \t53.9126\n",
      "111\t1818  \t0.875 \t111\t16 \t0  \t1818  \t2.35698 \t174.064\t111\t343\t7  \t1818  \t56.0898\n",
      "112\t1784  \t0.739 \t112\t16 \t0  \t1784  \t2.2347  \t175.913\t112\t346\t1  \t1784  \t57.1391\n",
      "113\t1802  \t0.852 \t113\t16 \t0  \t1802  \t2.37426 \t178.574\t113\t372\t16 \t1802  \t56.15  \n",
      "114\t1807  \t0.896 \t114\t16 \t0  \t1807  \t2.41623 \t179.704\t114\t372\t24 \t1807  \t56.4685\n",
      "115\t1804  \t0.8735\t115\t16 \t0  \t1804  \t2.48968 \t180.024\t115\t335\t17 \t1804  \t55.3713\n",
      "116\t1814  \t0.844 \t116\t16 \t0  \t1814  \t2.31919 \t180.323\t116\t355\t22 \t1814  \t55.5499\n",
      "117\t1795  \t0.8365\t117\t16 \t0  \t1795  \t2.3411  \t180.184\t117\t399\t3  \t1795  \t57.3507\n",
      "118\t1804  \t0.8085\t118\t16 \t0  \t1804  \t2.30734 \t180.567\t118\t344\t6  \t1804  \t57.4734\n",
      "119\t1820  \t0.843 \t119\t16 \t0  \t1820  \t2.3591  \t180.847\t119\t373\t3  \t1820  \t59.242 \n",
      "120\t1806  \t0.905 \t120\t16 \t0  \t1806  \t2.46089 \t180.314\t120\t338\t27 \t1806  \t60.3759\n",
      "121\t1823  \t0.8515\t121\t16 \t0  \t1823  \t2.41401 \t183.638\t121\t367\t3  \t1823  \t60.0031\n",
      "122\t1807  \t0.9255\t122\t16 \t0  \t1807  \t2.55244 \t182.357\t122\t399\t5  \t1807  \t59.6776\n",
      "123\t1812  \t0.874 \t123\t16 \t0  \t1812  \t2.4019  \t181.222\t123\t359\t21 \t1812  \t58.6579\n",
      "124\t1783  \t0.792 \t124\t16 \t0  \t1783  \t2.33746 \t185.016\t124\t357\t21 \t1783  \t58.4235\n",
      "125\t1843  \t0.9555\t125\t16 \t0  \t1843  \t2.5504  \t183.4  \t125\t362\t18 \t1843  \t59.2827\n",
      "126\t1820  \t0.734 \t126\t16 \t0  \t1820  \t2.15598 \t184.234\t126\t344\t8  \t1820  \t58.4484\n",
      "127\t1820  \t0.788 \t127\t16 \t0  \t1820  \t2.31863 \t183.57 \t127\t340\t10 \t1820  \t57.7638\n",
      "128\t1816  \t0.715 \t128\t16 \t0  \t1816  \t2.16305 \t181.253\t128\t337\t3  \t1816  \t57.1921\n",
      "129\t1781  \t0.86  \t129\t16 \t0  \t1781  \t2.44916 \t182.709\t129\t346\t29 \t1781  \t59.177 \n",
      "130\t1853  \t0.826 \t130\t16 \t0  \t1853  \t2.36532 \t184.256\t130\t368\t30 \t1853  \t58.8707\n",
      "131\t1806  \t0.8925\t131\t16 \t0  \t1806  \t2.51375 \t182.942\t131\t369\t27 \t1806  \t59.5996\n",
      "132\t1827  \t0.783 \t132\t16 \t0  \t1827  \t2.29083 \t183.174\t132\t377\t26 \t1827  \t61.1783\n",
      "133\t1816  \t0.7895\t133\t16 \t0  \t1816  \t2.33628 \t181.927\t133\t376\t1  \t1816  \t61.2676\n",
      "134\t1825  \t0.809 \t134\t16 \t0  \t1825  \t2.32584 \t183.714\t134\t373\t5  \t1825  \t59.218 \n",
      "135\t1779  \t0.82  \t135\t16 \t0  \t1779  \t2.35512 \t185.359\t135\t368\t20 \t1779  \t57.3213\n",
      "136\t1777  \t0.798 \t136\t16 \t0  \t1777  \t2.33092 \t185.935\t136\t373\t20 \t1777  \t58.3313\n",
      "137\t1804  \t0.7775\t137\t16 \t0  \t1804  \t2.25898 \t186.402\t137\t368\t1  \t1804  \t59.1472\n",
      "138\t1791  \t0.7715\t138\t16 \t0  \t1791  \t2.24372 \t185.197\t138\t369\t1  \t1791  \t60.0882\n",
      "139\t1815  \t0.7775\t139\t16 \t0  \t1815  \t2.2926  \t186.396\t139\t368\t3  \t1815  \t58.5819\n",
      "140\t1805  \t0.735 \t140\t16 \t0  \t1805  \t2.20766 \t186.274\t140\t366\t17 \t1805  \t58.4124\n",
      "141\t1789  \t0.756 \t141\t16 \t0  \t1789  \t2.32281 \t186.881\t141\t366\t24 \t1789  \t60.5203\n",
      "142\t1804  \t0.689 \t142\t16 \t0  \t1804  \t2.17492 \t185.024\t142\t425\t1  \t1804  \t60.7444\n",
      "143\t1794  \t0.788 \t143\t16 \t0  \t1794  \t2.33154 \t185.289\t143\t369\t15 \t1794  \t62.2573\n",
      "144\t1796  \t0.701 \t144\t16 \t0  \t1796  \t2.14956 \t186.136\t144\t357\t15 \t1796  \t61.0279\n",
      "145\t1805  \t0.803 \t145\t16 \t0  \t1805  \t2.35142 \t185.5  \t145\t364\t24 \t1805  \t61.1232\n",
      "146\t1789  \t0.7955\t146\t16 \t0  \t1789  \t2.34044 \t188.218\t146\t363\t15 \t1789  \t60.297 \n",
      "147\t1744  \t0.842 \t147\t16 \t0  \t1744  \t2.39876 \t190.626\t147\t369\t10 \t1744  \t61.3042\n",
      "148\t1790  \t0.716 \t148\t16 \t0  \t1790  \t2.20734 \t191.929\t148\t379\t20 \t1790  \t61.2908\n",
      "149\t1826  \t0.784 \t149\t16 \t0  \t1826  \t2.3361  \t192.564\t149\t379\t7  \t1826  \t62.8078\n",
      "150\t1818  \t0.6795\t150\t16 \t0  \t1818  \t2.17274 \t193.364\t150\t409\t22 \t1818  \t63.1097\n",
      "151\t1787  \t0.7655\t151\t16 \t0  \t1787  \t2.30163 \t192.074\t151\t416\t22 \t1787  \t62.9687\n",
      "152\t1826  \t0.725 \t152\t16 \t0  \t1826  \t2.15415 \t192.854\t152\t414\t22 \t1826  \t62.9965\n",
      "153\t1790  \t0.6615\t153\t16 \t0  \t1790  \t2.09688 \t195.01 \t153\t433\t1  \t1790  \t63.8573\n",
      "154\t1817  \t0.673 \t154\t16 \t0  \t1817  \t2.17901 \t193.518\t154\t439\t24 \t1817  \t62.2798\n",
      "155\t1778  \t0.7995\t155\t16 \t0  \t1778  \t2.36227 \t194.736\t155\t365\t19 \t1778  \t61.9796\n",
      "156\t1826  \t0.7565\t156\t16 \t0  \t1826  \t2.23522 \t193.439\t156\t365\t26 \t1826  \t62.1901\n",
      "157\t1772  \t0.745 \t157\t16 \t0  \t1772  \t2.26693 \t196.118\t157\t372\t4  \t1772  \t63.4696\n",
      "158\t1820  \t0.5735\t158\t16 \t0  \t1820  \t1.95438 \t193.232\t158\t373\t16 \t1820  \t62.8119\n",
      "159\t1829  \t0.754 \t159\t16 \t0  \t1829  \t2.31246 \t192.482\t159\t371\t23 \t1829  \t62.7494\n",
      "160\t1800  \t0.7565\t160\t16 \t0  \t1800  \t2.29591 \t194.459\t160\t403\t17 \t1800  \t63.5087\n",
      "161\t1800  \t0.7615\t161\t16 \t0  \t1800  \t2.31595 \t194.755\t161\t405\t1  \t1800  \t64.4719\n",
      "162\t1820  \t0.731 \t162\t16 \t0  \t1820  \t2.26531 \t195.59 \t162\t409\t30 \t1820  \t63.6731\n",
      "163\t1785  \t0.687 \t163\t16 \t0  \t1785  \t2.17348 \t198.483\t163\t408\t27 \t1785  \t64.0685\n",
      "164\t1803  \t0.7135\t164\t16 \t0  \t1803  \t2.20803 \t200.431\t164\t375\t29 \t1803  \t65.7113\n",
      "165\t1792  \t0.659 \t165\t16 \t0  \t1792  \t2.08008 \t203.988\t165\t384\t3  \t1792  \t66.9782\n",
      "166\t1817  \t0.7655\t166\t16 \t0  \t1817  \t2.28068 \t202.513\t166\t471\t5  \t1817  \t68.1939\n",
      "167\t1828  \t0.7255\t167\t16 \t0  \t1828  \t2.2477  \t203.549\t167\t397\t13 \t1828  \t67.7111\n",
      "168\t1808  \t0.618 \t168\t16 \t0  \t1808  \t2.03496 \t204.802\t168\t384\t14 \t1808  \t65.4713\n",
      "169\t1781  \t0.6355\t169\t16 \t0  \t1781  \t2.12947 \t205.48 \t169\t386\t26 \t1781  \t66.5936\n",
      "170\t1800  \t0.719 \t170\t16 \t0  \t1800  \t2.25056 \t208.34 \t170\t383\t27 \t1800  \t66.2333\n",
      "171\t1796  \t0.6915\t171\t16 \t0  \t1796  \t2.19325 \t209.999\t171\t384\t19 \t1796  \t66.8546\n",
      "172\t1794  \t0.7145\t172\t16 \t0  \t1794  \t2.27815 \t208.659\t172\t389\t22 \t1794  \t65.6123\n",
      "173\t1804  \t0.67  \t173\t16 \t0  \t1804  \t2.11071 \t210.157\t173\t392\t24 \t1804  \t65.3751\n",
      "174\t1819  \t0.585 \t174\t16 \t0  \t1819  \t2.02133 \t212.056\t174\t401\t3  \t1819  \t66.4464\n",
      "175\t1836  \t0.7055\t175\t16 \t0  \t1836  \t2.21603 \t210.09 \t175\t397\t15 \t1836  \t66.116 \n",
      "176\t1792  \t0.609 \t176\t16 \t0  \t1792  \t2.07198 \t208.293\t176\t398\t10 \t1792  \t64.8728\n",
      "177\t1790  \t0.642 \t177\t16 \t0  \t1790  \t2.13257 \t210.952\t177\t409\t23 \t1790  \t66.3267\n",
      "178\t1812  \t0.6185\t178\t16 \t0  \t1812  \t2.04572 \t208.97 \t178\t398\t1  \t1812  \t65.086 \n",
      "179\t1786  \t0.6735\t179\t16 \t0  \t1786  \t2.20474 \t209.176\t179\t400\t19 \t1786  \t64.9599\n",
      "180\t1786  \t0.6505\t180\t16 \t0  \t1786  \t2.14997 \t207.87 \t180\t391\t1  \t1786  \t65.3694\n",
      "181\t1784  \t0.6895\t181\t14 \t0  \t1784  \t2.13941 \t206.695\t181\t404\t22 \t1784  \t65.5449\n",
      "182\t1783  \t0.6475\t182\t16 \t0  \t1783  \t2.1022  \t203.792\t182\t400\t20 \t1783  \t66.1958\n",
      "183\t1807  \t0.6265\t183\t16 \t0  \t1807  \t2.07581 \t202.145\t183\t424\t16 \t1807  \t65.7611\n",
      "184\t1784  \t0.774 \t184\t16 \t0  \t1784  \t2.28821 \t200.119\t184\t402\t7  \t1784  \t67.3742\n",
      "185\t1786  \t0.708 \t185\t16 \t0  \t1786  \t2.19357 \t201.564\t185\t403\t26 \t1786  \t67.7499\n",
      "186\t1803  \t0.668 \t186\t16 \t0  \t1803  \t2.18307 \t200.967\t186\t414\t5  \t1803  \t67.7223\n",
      "187\t1795  \t0.7855\t187\t16 \t0  \t1795  \t2.31873 \t202.161\t187\t420\t11 \t1795  \t65.6834\n",
      "188\t1816  \t0.682 \t188\t16 \t0  \t1816  \t2.17873 \t203.369\t188\t438\t10 \t1816  \t65.5212\n",
      "189\t1797  \t0.637 \t189\t16 \t0  \t1797  \t2.10647 \t204.742\t189\t461\t20 \t1797  \t66.8084\n",
      "190\t1814  \t0.6635\t190\t16 \t0  \t1814  \t2.17239 \t205.149\t190\t461\t2  \t1814  \t66.7313\n",
      "191\t1818  \t0.681 \t191\t16 \t0  \t1818  \t2.22671 \t204.559\t191\t435\t14 \t1818  \t66.3691\n",
      "192\t1796  \t0.8395\t192\t16 \t0  \t1796  \t2.39682 \t202.14 \t192\t435\t1  \t1796  \t68.5891\n",
      "193\t1798  \t0.748 \t193\t16 \t0  \t1798  \t2.21551 \t203.783\t193\t418\t11 \t1798  \t67.5022\n",
      "194\t1807  \t0.7495\t194\t16 \t0  \t1807  \t2.24182 \t202.869\t194\t418\t27 \t1807  \t67.5667\n",
      "195\t1808  \t0.7445\t195\t16 \t0  \t1808  \t2.22018 \t203.475\t195\t415\t17 \t1808  \t67.2236\n",
      "196\t1808  \t0.6745\t196\t12 \t0  \t1808  \t2.09775 \t204.337\t196\t415\t15 \t1808  \t66.0538\n",
      "197\t1811  \t0.6955\t197\t15 \t0  \t1811  \t2.14401 \t202.655\t197\t417\t33 \t1811  \t65.9995\n",
      "198\t1787  \t0.6305\t198\t16 \t0  \t1787  \t2.1057  \t203.074\t198\t386\t9  \t1787  \t65.8788\n",
      "199\t1822  \t0.704 \t199\t16 \t0  \t1822  \t2.20961 \t205.841\t199\t407\t10 \t1822  \t65.8318\n",
      "200\t1790  \t0.7135\t200\t16 \t0  \t1790  \t2.21978 \t204.907\t200\t398\t25 \t1790  \t65.9315\n"
     ]
    }
   ],
   "source": [
    "toolbox2 = getToolbox()\n",
    "population2 = population = toolbox2.populationCreator(n=POPULATION_SIZE)\n",
    "population, logbook = algorithms.eaSimple(population2,\n",
    "                                                  toolbox2,\n",
    "                                                  cxpb=P_CROSSOVER,\n",
    "                                                  mutpb=P_MUTATION,\n",
    "                                                  ngen=MAX_GENERATIONS,\n",
    "                                                  stats=mstats,\n",
    "                                                  halloffame=hof,\n",
    "                                                  verbose=True)"
   ]
  },
  {
   "cell_type": "markdown",
   "id": "97627e43-22c7-428e-8416-3eaa8f301fcc",
   "metadata": {},
   "source": [
    "Plotting the stats as a readable chart."
   ]
  },
  {
   "cell_type": "code",
   "execution_count": 18,
   "id": "9a1bc481-6101-438f-8610-d59b9074118f",
   "metadata": {},
   "outputs": [
    {
     "name": "stdout",
     "output_type": "stream",
     "text": [
      "-- Best Individual =  and_(xor(xor(xor(in_3, in_2), and_(1, in_1)), not_(not_(in_0))), or_(xor(xor(1, in_1), and_(in_0, in_1)), or_(not_(or_(1, and_(0, in_1))), xor(and_(in_3, 0), in_1))))\n",
      "-- length=32, height=6\n",
      "-- Best Fitness =  0.0\n"
     ]
    },
    {
     "data": {
      "image/png": "[encoded data removed]",
      "text/plain": [
       "<Figure size 640x480 with 1 Axes>"
      ]
     },
     "metadata": {},
     "output_type": "display_data"
    }
   ],
   "source": [
    "maxFitnessValues, meanFitnessValues = logbook.chapters['fitness'].select(\"min\", \"avg\")\n",
    "\n",
    "\n",
    "# print info for best solution found:\n",
    "best = hof.items[0]\n",
    "print(\"-- Best Individual = \", best)\n",
    "print(\"-- length={}, height={}\".format(len(best), best.height))\n",
    "print(\"-- Best Fitness = \", best.fitness.values[0])\n",
    "\n",
    "plt.plot(maxFitnessValues, color='red')\n",
    "plt.plot(meanFitnessValues, color='green')\n",
    "plt.xlabel('Generation')\n",
    "plt.ylabel('Max / Average Fitness')\n",
    "plt.title('Max and Average Fitness over Generations')\n",
    "plt.legend(['Max Fitness', 'Mean Fitness'], loc = 'upper right')\n",
    "plt.show()"
   ]
  },
  {
   "cell_type": "markdown",
   "id": "a6440204-f8d7-42d4-ac4b-a5e2487d5e1a",
   "metadata": {},
   "source": [
    "### Setup 3\n",
    "Mutation => 0.03  \n",
    "Crossover => 0.8  "
   ]
  },
  {
   "cell_type": "markdown",
   "id": "32deef16-587f-4fff-91c4-3402404d9823",
   "metadata": {},
   "source": [
    "Setting the Genetic Programming parameters"
   ]
  },
  {
   "cell_type": "code",
   "execution_count": 19,
   "id": "3e5a2172-7d1f-41a0-9d4e-e0c6681975de",
   "metadata": {},
   "outputs": [],
   "source": [
    "# Genetic Programming constants:\n",
    "P_CROSSOVER = 0.8\n",
    "P_MUTATION = 0.03\n",
    "MAX_GENERATIONS = 200"
   ]
  },
  {
   "cell_type": "markdown",
   "id": "e24d7ebb-2de2-45db-abc3-f8508cadd46a",
   "metadata": {},
   "source": [
    "Running the GP for setup #3"
   ]
  },
  {
   "cell_type": "code",
   "execution_count": 20,
   "id": "166cd172-ad9a-41ec-8eab-a8a1747f5ca6",
   "metadata": {},
   "outputs": [
    {
     "name": "stdout",
     "output_type": "stream",
     "text": [
      "   \t      \t                    fitness                     \t                      size                     \n",
      "   \t      \t------------------------------------------------\t-----------------------------------------------\n",
      "gen\tnevals\tavg   \tgen\tmax\tmin\tnevals\tstd     \tavg   \tgen\tmax\tmin\tnevals\tstd    \n",
      "0  \t2000  \t8.0075\t0  \t14 \t0  \t2000  \t0.742593\t23.091\t0  \t61 \t4  \t2000  \t13.5075\n",
      "1  \t1606  \t7.8925\t1  \t12 \t0  \t1606  \t0.752292\t22.324\t1  \t69 \t1  \t1606  \t13.5808\n",
      "2  \t1629  \t7.8215\t2  \t12 \t0  \t1629  \t0.74474 \t22.73 \t2  \t69 \t1  \t1629  \t14.2579\n",
      "3  \t1623  \t7.762 \t3  \t12 \t0  \t1623  \t0.819363\t23.9965\t3  \t75 \t1  \t1623  \t14.9023\n",
      "4  \t1590  \t7.7045\t4  \t16 \t0  \t1590  \t0.933906\t25.3795\t4  \t80 \t1  \t1590  \t15.7887\n",
      "5  \t1617  \t7.5975\t5  \t12 \t0  \t1617  \t1.03513 \t27.8465\t5  \t96 \t1  \t1617  \t16.5619\n",
      "6  \t1607  \t7.4945\t6  \t13 \t2  \t1607  \t1.10633 \t30.2505\t6  \t105\t1  \t1607  \t17.5703\n",
      "7  \t1609  \t7.3775\t7  \t16 \t2  \t1609  \t1.21942 \t33.815 \t7  \t119\t1  \t1609  \t18.7529\n",
      "8  \t1595  \t7.1945\t8  \t16 \t1  \t1595  \t1.35228 \t36.7715\t8  \t110\t1  \t1595  \t19.2022\n",
      "9  \t1621  \t7.0115\t9  \t12 \t1  \t1621  \t1.42701 \t40.899 \t9  \t110\t1  \t1621  \t20.1451\n",
      "10 \t1583  \t6.8195\t10 \t13 \t0  \t1583  \t1.56106 \t44.4345\t10 \t108\t1  \t1583  \t20.3164\n",
      "11 \t1622  \t6.5785\t11 \t13 \t0  \t1622  \t1.64828 \t47.98  \t11 \t118\t1  \t1622  \t20.9881\n",
      "12 \t1587  \t6.317 \t12 \t13 \t0  \t1587  \t1.78676 \t51.145 \t12 \t147\t1  \t1587  \t21.3624\n",
      "13 \t1633  \t6.0315\t13 \t12 \t0  \t1633  \t1.89011 \t54.789 \t13 \t134\t1  \t1633  \t21.9429\n",
      "14 \t1626  \t5.7515\t14 \t14 \t0  \t1626  \t1.99318 \t58.199 \t14 \t155\t1  \t1626  \t22.9705\n",
      "15 \t1594  \t5.474 \t15 \t16 \t0  \t1594  \t2.05799 \t62.283 \t15 \t153\t4  \t1594  \t24.4865\n",
      "16 \t1598  \t5.075 \t16 \t16 \t0  \t1598  \t2.1287  \t65.4745\t16 \t166\t5  \t1598  \t25.6539\n",
      "17 \t1621  \t4.834 \t17 \t13 \t0  \t1621  \t2.24888 \t68.1045\t17 \t187\t3  \t1621  \t26.0452\n",
      "18 \t1592  \t4.5845\t18 \t14 \t0  \t1592  \t2.35454 \t70.175 \t18 \t193\t3  \t1592  \t26.3614\n",
      "19 \t1577  \t4.186 \t19 \t16 \t0  \t1577  \t2.38462 \t73.192 \t19 \t195\t1  \t1577  \t27.3138\n",
      "20 \t1643  \t4.0485\t20 \t14 \t0  \t1643  \t2.49242 \t75.996 \t20 \t195\t1  \t1643  \t27.5015\n",
      "21 \t1611  \t3.7615\t21 \t16 \t0  \t1611  \t2.53606 \t78.9805\t21 \t203\t1  \t1611  \t27.6402\n",
      "22 \t1609  \t3.5665\t22 \t16 \t0  \t1609  \t2.59279 \t80.7925\t22 \t203\t1  \t1609  \t28.7984\n",
      "23 \t1574  \t3.2125\t23 \t16 \t0  \t1574  \t2.63957 \t84.2695\t23 \t199\t3  \t1574  \t30.0148\n",
      "24 \t1610  \t2.8655\t24 \t16 \t0  \t1610  \t2.74106 \t85.301 \t24 \t192\t3  \t1610  \t30.8717\n",
      "25 \t1604  \t2.6435\t25 \t16 \t0  \t1604  \t2.74634 \t86.4615\t25 \t216\t3  \t1604  \t31.9521\n",
      "26 \t1602  \t2.402 \t26 \t16 \t0  \t1602  \t2.7165  \t88.16  \t26 \t216\t4  \t1602  \t31.6727\n",
      "27 \t1601  \t2.0945\t27 \t16 \t0  \t1601  \t2.73817 \t90.024 \t27 \t221\t1  \t1601  \t32.5845\n",
      "28 \t1649  \t2.0465\t28 \t16 \t0  \t1649  \t2.80131 \t91.586 \t28 \t221\t5  \t1649  \t33.2531\n",
      "29 \t1597  \t1.8435\t29 \t16 \t0  \t1597  \t2.82914 \t92.8125\t29 \t224\t3  \t1597  \t33.9382\n",
      "30 \t1603  \t1.7645\t30 \t16 \t0  \t1603  \t2.76171 \t93.1925\t30 \t214\t3  \t1603  \t34.0111\n",
      "31 \t1633  \t1.751 \t31 \t16 \t0  \t1633  \t2.78711 \t93.2005\t31 \t225\t1  \t1633  \t33.7612\n",
      "32 \t1587  \t1.6825\t32 \t16 \t0  \t1587  \t2.80012 \t95.023 \t32 \t242\t2  \t1587  \t33.4189\n",
      "33 \t1592  \t1.6035\t33 \t16 \t0  \t1592  \t2.7594  \t97.275 \t33 \t242\t1  \t1592  \t33.7966\n",
      "34 \t1598  \t1.4855\t34 \t16 \t0  \t1598  \t2.71547 \t98.3235\t34 \t244\t7  \t1598  \t35.1017\n",
      "35 \t1633  \t1.507 \t35 \t16 \t0  \t1633  \t2.72579 \t98.075 \t35 \t250\t13 \t1633  \t36.2765\n",
      "36 \t1614  \t1.436 \t36 \t16 \t0  \t1614  \t2.6685  \t100.668\t36 \t250\t5  \t1614  \t36.375 \n",
      "37 \t1605  \t1.436 \t37 \t16 \t0  \t1605  \t2.68121 \t101.448\t37 \t246\t11 \t1605  \t36.5551\n",
      "38 \t1632  \t1.429 \t38 \t16 \t0  \t1632  \t2.66683 \t102.481\t38 \t267\t1  \t1632  \t37.7237\n",
      "39 \t1606  \t1.5095\t39 \t16 \t0  \t1606  \t2.80783 \t103.218\t39 \t295\t1  \t1606  \t38.0922\n",
      "40 \t1613  \t1.466 \t40 \t16 \t0  \t1613  \t2.72871 \t104.04 \t40 \t265\t12 \t1613  \t38.5591\n",
      "41 \t1664  \t1.475 \t41 \t16 \t0  \t1664  \t2.76521 \t105.79 \t41 \t265\t16 \t1664  \t38.8927\n",
      "42 \t1597  \t1.4265\t42 \t14 \t0  \t1597  \t2.73196 \t106.804\t42 \t263\t5  \t1597  \t39.5814\n",
      "43 \t1605  \t1.3395\t43 \t16 \t0  \t1605  \t2.70153 \t107.867\t43 \t259\t3  \t1605  \t39.0517\n",
      "44 \t1622  \t1.422 \t44 \t16 \t0  \t1622  \t2.73439 \t108.526\t44 \t284\t1  \t1622  \t39.4094\n",
      "45 \t1647  \t1.388 \t45 \t16 \t0  \t1647  \t2.75199 \t110.118\t45 \t249\t1  \t1647  \t39.7946\n",
      "46 \t1632  \t1.327 \t46 \t16 \t0  \t1632  \t2.70741 \t112.463\t46 \t259\t11 \t1632  \t39.545 \n",
      "47 \t1606  \t1.28  \t47 \t16 \t0  \t1606  \t2.6504  \t114.775\t47 \t263\t13 \t1606  \t39.8165\n",
      "48 \t1603  \t1.194 \t48 \t16 \t0  \t1603  \t2.57767 \t115.618\t48 \t268\t1  \t1603  \t40.9679\n",
      "49 \t1602  \t1.1915\t49 \t16 \t0  \t1602  \t2.57174 \t116.454\t49 \t271\t3  \t1602  \t41.1195\n",
      "50 \t1631  \t1.2585\t50 \t16 \t0  \t1631  \t2.68304 \t116.458\t50 \t288\t5  \t1631  \t41.7474\n",
      "51 \t1600  \t1.1765\t51 \t16 \t0  \t1600  \t2.58154 \t118.337\t51 \t266\t7  \t1600  \t41.4758\n",
      "52 \t1584  \t1.156 \t52 \t16 \t0  \t1584  \t2.60819 \t120.463\t52 \t268\t1  \t1584  \t40.3441\n",
      "53 \t1613  \t1.105 \t53 \t16 \t0  \t1613  \t2.53712 \t121.925\t53 \t271\t2  \t1613  \t40.8675\n",
      "54 \t1620  \t1.1145\t54 \t16 \t0  \t1620  \t2.53266 \t121.96 \t54 \t280\t18 \t1620  \t42.4003\n",
      "55 \t1640  \t1.067 \t55 \t16 \t0  \t1640  \t2.45652 \t122.837\t55 \t269\t1  \t1640  \t42.0648\n",
      "56 \t1615  \t1.1275\t56 \t16 \t0  \t1615  \t2.5759  \t123.697\t56 \t268\t17 \t1615  \t42.9419\n",
      "57 \t1637  \t1.097 \t57 \t16 \t0  \t1637  \t2.53645 \t124.284\t57 \t302\t1  \t1637  \t44.2208\n",
      "58 \t1623  \t1.1735\t58 \t16 \t0  \t1623  \t2.59411 \t125.498\t58 \t284\t6  \t1623  \t45.1645\n",
      "59 \t1558  \t1.019 \t59 \t16 \t0  \t1558  \t2.45533 \t125.653\t59 \t291\t1  \t1558  \t44.7929\n",
      "60 \t1646  \t1.0085\t60 \t12 \t0  \t1646  \t2.3842  \t127.936\t60 \t291\t16 \t1646  \t45.8602\n",
      "61 \t1567  \t1.0545\t61 \t16 \t0  \t1567  \t2.51605 \t129.341\t61 \t302\t5  \t1567  \t46.1619\n",
      "62 \t1649  \t1.0935\t62 \t16 \t0  \t1649  \t2.51868 \t130.72 \t62 \t311\t1  \t1649  \t48.5435\n",
      "63 \t1634  \t1.1605\t63 \t16 \t0  \t1634  \t2.6313  \t131.167\t63 \t302\t8  \t1634  \t49.2377\n",
      "64 \t1599  \t1.146 \t64 \t13 \t0  \t1599  \t2.59108 \t132.253\t64 \t313\t1  \t1599  \t50.1832\n",
      "65 \t1648  \t1.003 \t65 \t16 \t0  \t1648  \t2.40375 \t133.133\t65 \t314\t8  \t1648  \t49.1603\n",
      "66 \t1629  \t1.0795\t66 \t16 \t0  \t1629  \t2.51081 \t133.789\t66 \t314\t1  \t1629  \t48.8326\n",
      "67 \t1618  \t0.963 \t67 \t16 \t0  \t1618  \t2.38278 \t136.039\t67 \t319\t14 \t1618  \t48.3512\n",
      "68 \t1581  \t0.9685\t68 \t16 \t0  \t1581  \t2.40552 \t137.114\t68 \t319\t5  \t1581  \t49.6317\n",
      "69 \t1611  \t0.968 \t69 \t16 \t0  \t1611  \t2.45804 \t137.079\t69 \t319\t1  \t1611  \t49.4918\n",
      "70 \t1615  \t0.967 \t70 \t16 \t0  \t1615  \t2.44906 \t135.791\t70 \t339\t1  \t1615  \t49.7142\n",
      "71 \t1629  \t0.9865\t71 \t16 \t0  \t1629  \t2.4717  \t136.769\t71 \t353\t1  \t1629  \t50.8403\n",
      "72 \t1595  \t0.9815\t72 \t16 \t0  \t1595  \t2.39148 \t138.589\t72 \t337\t1  \t1595  \t50.8313\n",
      "73 \t1609  \t1.033 \t73 \t16 \t0  \t1609  \t2.52624 \t140.016\t73 \t339\t3  \t1609  \t51.5374\n",
      "74 \t1626  \t0.9005\t74 \t16 \t0  \t1626  \t2.3447  \t141.224\t74 \t344\t1  \t1626  \t51.9086\n",
      "75 \t1598  \t0.8975\t75 \t12 \t0  \t1598  \t2.29565 \t140.43 \t75 \t359\t11 \t1598  \t52.9781\n",
      "76 \t1652  \t0.9265\t76 \t12 \t0  \t1652  \t2.33412 \t140.457\t76 \t359\t8  \t1652  \t52.6811\n",
      "77 \t1580  \t1.039 \t77 \t16 \t0  \t1580  \t2.49168 \t142.067\t77 \t361\t15 \t1580  \t53.7421\n",
      "78 \t1595  \t1.001 \t78 \t16 \t0  \t1595  \t2.48193 \t142.321\t78 \t392\t15 \t1595  \t53.3459\n",
      "79 \t1634  \t0.9755\t79 \t16 \t0  \t1634  \t2.42547 \t144.015\t79 \t363\t8  \t1634  \t54.789 \n",
      "80 \t1605  \t0.8995\t80 \t16 \t0  \t1605  \t2.32194 \t144.685\t80 \t363\t2  \t1605  \t55.4827\n",
      "81 \t1629  \t0.9745\t81 \t16 \t0  \t1629  \t2.41947 \t145.887\t81 \t395\t5  \t1629  \t57.4686\n",
      "82 \t1646  \t0.945 \t82 \t16 \t0  \t1646  \t2.44335 \t148.917\t82 \t395\t1  \t1646  \t56.6403\n",
      "83 \t1600  \t0.9295\t83 \t16 \t0  \t1600  \t2.36443 \t150.761\t83 \t395\t9  \t1600  \t57.5075\n",
      "84 \t1648  \t0.9485\t84 \t16 \t0  \t1648  \t2.42236 \t151.903\t84 \t411\t15 \t1648  \t57.9868\n",
      "85 \t1574  \t0.8155\t85 \t16 \t0  \t1574  \t2.23796 \t152.459\t85 \t402\t12 \t1574  \t58.8239\n",
      "86 \t1638  \t0.867 \t86 \t16 \t0  \t1638  \t2.31977 \t152.15 \t86 \t373\t1  \t1638  \t60.2514\n",
      "87 \t1582  \t0.8435\t87 \t16 \t0  \t1582  \t2.27772 \t150.536\t87 \t367\t1  \t1582  \t61.4645\n",
      "88 \t1621  \t0.784 \t88 \t16 \t0  \t1621  \t2.18205 \t153.245\t88 \t365\t1  \t1621  \t63.1647\n",
      "89 \t1590  \t0.858 \t89 \t16 \t0  \t1590  \t2.29627 \t153.186\t89 \t390\t17 \t1590  \t63.4649\n",
      "90 \t1629  \t0.9465\t90 \t16 \t0  \t1629  \t2.39513 \t153.517\t90 \t396\t1  \t1629  \t63.5369\n",
      "91 \t1585  \t0.8535\t91 \t16 \t0  \t1585  \t2.29261 \t152.095\t91 \t396\t1  \t1585  \t61.6709\n",
      "92 \t1630  \t0.796 \t92 \t16 \t0  \t1630  \t2.25197 \t155.42 \t92 \t395\t17 \t1630  \t60.5893\n",
      "93 \t1612  \t0.805 \t93 \t16 \t0  \t1612  \t2.21314 \t156.814\t93 \t395\t12 \t1612  \t61.3738\n",
      "94 \t1649  \t0.874 \t94 \t16 \t0  \t1649  \t2.37384 \t158.125\t94 \t395\t9  \t1649  \t61.1537\n",
      "95 \t1627  \t0.7415\t95 \t16 \t0  \t1627  \t2.16764 \t156.425\t95 \t395\t1  \t1627  \t60.9824\n",
      "96 \t1633  \t0.8325\t96 \t13 \t0  \t1633  \t2.29291 \t157.016\t96 \t437\t5  \t1633  \t61.6957\n",
      "97 \t1597  \t0.817 \t97 \t16 \t0  \t1597  \t2.27432 \t159.535\t97 \t395\t2  \t1597  \t62.2475\n",
      "98 \t1615  \t0.8355\t98 \t16 \t0  \t1615  \t2.30791 \t161.03 \t98 \t395\t3  \t1615  \t59.6408\n",
      "99 \t1632  \t0.846 \t99 \t16 \t0  \t1632  \t2.29549 \t161.401\t99 \t377\t13 \t1632  \t58.2708\n",
      "100\t1601  \t0.817 \t100\t16 \t0  \t1601  \t2.25245 \t162.15 \t100\t377\t1  \t1601  \t60.5872\n",
      "101\t1619  \t0.779 \t101\t14 \t0  \t1619  \t2.20163 \t164.235\t101\t377\t15 \t1619  \t59.8682\n",
      "102\t1609  \t0.705 \t102\t16 \t0  \t1609  \t2.0988  \t165.126\t102\t377\t1  \t1609  \t59.4418\n",
      "103\t1598  \t0.6955\t103\t16 \t0  \t1598  \t2.1009  \t166.6  \t103\t377\t1  \t1598  \t60.615 \n",
      "104\t1658  \t0.7185\t104\t10 \t0  \t1658  \t2.12256 \t166.683\t104\t371\t1  \t1658  \t60.0413\n",
      "105\t1620  \t0.8015\t105\t16 \t0  \t1620  \t2.21971 \t166.832\t105\t369\t18 \t1620  \t60.756 \n",
      "106\t1630  \t0.7255\t106\t16 \t0  \t1630  \t2.1317  \t166.257\t106\t375\t14 \t1630  \t60.8061\n",
      "107\t1592  \t0.741 \t107\t16 \t0  \t1592  \t2.16054 \t165.629\t107\t375\t15 \t1592  \t62.0523\n",
      "108\t1606  \t0.7425\t108\t16 \t0  \t1606  \t2.18156 \t168.282\t108\t385\t1  \t1606  \t64.2924\n",
      "109\t1582  \t0.717 \t109\t16 \t0  \t1582  \t2.1213  \t167.537\t109\t377\t1  \t1582  \t63.4681\n",
      "110\t1575  \t0.681 \t110\t16 \t0  \t1575  \t2.02959 \t168.036\t110\t379\t3  \t1575  \t61.47  \n",
      "111\t1625  \t0.705 \t111\t16 \t0  \t1625  \t2.06833 \t168.726\t111\t379\t1  \t1625  \t61.941 \n",
      "112\t1645  \t0.74  \t112\t16 \t0  \t1645  \t2.16389 \t172.042\t112\t388\t18 \t1645  \t61.9899\n",
      "113\t1623  \t0.7455\t113\t16 \t0  \t1623  \t2.14796 \t171.948\t113\t384\t15 \t1623  \t61.7918\n",
      "114\t1622  \t0.6735\t114\t16 \t0  \t1622  \t2.07627 \t173.382\t114\t384\t13 \t1622  \t63.1386\n",
      "115\t1593  \t0.6535\t115\t12 \t0  \t1593  \t1.9956  \t172.159\t115\t371\t13 \t1593  \t62.2327\n",
      "116\t1628  \t0.7175\t116\t13 \t0  \t1628  \t2.09802 \t169.212\t116\t371\t2  \t1628  \t61.6554\n",
      "117\t1602  \t0.725 \t117\t16 \t0  \t1602  \t2.18595 \t167.706\t117\t371\t1  \t1602  \t61.2405\n",
      "118\t1625  \t0.7485\t118\t12 \t0  \t1625  \t2.13922 \t167.321\t118\t367\t1  \t1625  \t61.9695\n",
      "119\t1616  \t0.678 \t119\t16 \t0  \t1616  \t2.08454 \t169.45 \t119\t359\t1  \t1616  \t60.234 \n",
      "120\t1574  \t0.618 \t120\t12 \t0  \t1574  \t1.97334 \t171.252\t120\t344\t11 \t1574  \t59.4609\n",
      "121\t1593  \t0.7225\t121\t16 \t0  \t1593  \t2.18575 \t173.618\t121\t344\t19 \t1593  \t60.5431\n",
      "122\t1569  \t0.6195\t122\t9  \t0  \t1569  \t2.01661 \t173.276\t122\t346\t13 \t1569  \t60.6676\n",
      "123\t1609  \t0.7105\t123\t16 \t0  \t1609  \t2.13159 \t171.042\t123\t347\t3  \t1609  \t61.3386\n",
      "124\t1603  \t0.685 \t124\t16 \t0  \t1603  \t2.11371 \t170.512\t124\t346\t5  \t1603  \t58.326 \n",
      "125\t1616  \t0.7035\t125\t16 \t0  \t1616  \t2.19444 \t169.857\t125\t342\t13 \t1616  \t58.1343\n",
      "126\t1609  \t0.72  \t126\t16 \t0  \t1609  \t2.14047 \t170.308\t126\t342\t1  \t1609  \t58.59  \n",
      "127\t1579  \t0.6875\t127\t16 \t0  \t1579  \t2.07602 \t168.004\t127\t321\t1  \t1579  \t58.0911\n",
      "128\t1643  \t0.694 \t128\t16 \t0  \t1643  \t2.0759  \t168.709\t128\t371\t13 \t1643  \t57.6943\n",
      "129\t1610  \t0.6015\t129\t12 \t0  \t1610  \t1.92476 \t169.737\t129\t331\t16 \t1610  \t57.1211\n",
      "130\t1552  \t0.624 \t130\t16 \t0  \t1552  \t2.02376 \t168.315\t130\t360\t1  \t1552  \t58.3378\n",
      "131\t1577  \t0.655 \t131\t16 \t0  \t1577  \t2.06082 \t166.268\t131\t406\t9  \t1577  \t57.8424\n",
      "132\t1580  \t0.6555\t132\t14 \t0  \t1580  \t2.06901 \t165.51 \t132\t406\t1  \t1580  \t58.1185\n",
      "133\t1633  \t0.632 \t133\t16 \t0  \t1633  \t2.01583 \t165.499\t133\t404\t1  \t1633  \t57.8384\n",
      "134\t1621  \t0.6805\t134\t16 \t0  \t1621  \t2.11953 \t163.667\t134\t370\t5  \t1621  \t55.8699\n",
      "135\t1628  \t0.656 \t135\t10 \t0  \t1628  \t2.01734 \t162.56 \t135\t370\t1  \t1628  \t55.3312\n",
      "136\t1637  \t0.6495\t136\t12 \t0  \t1637  \t2.03043 \t160.207\t136\t370\t15 \t1637  \t55.2324\n",
      "137\t1588  \t0.5785\t137\t16 \t0  \t1588  \t1.92557 \t160.28 \t137\t383\t1  \t1588  \t55.8799\n",
      "138\t1609  \t0.6905\t138\t16 \t0  \t1609  \t2.09325 \t160.687\t138\t383\t3  \t1609  \t57.2212\n",
      "139\t1621  \t0.645 \t139\t10 \t0  \t1621  \t1.98972 \t162.441\t139\t383\t17 \t1621  \t56.808 \n",
      "140\t1618  \t0.6125\t140\t16 \t0  \t1618  \t1.97062 \t163.401\t140\t430\t2  \t1618  \t57.2054\n",
      "141\t1643  \t0.633 \t141\t16 \t0  \t1643  \t2.01527 \t162.805\t141\t440\t1  \t1643  \t57.0987\n",
      "142\t1648  \t0.6975\t142\t12 \t0  \t1648  \t2.06906 \t161.297\t142\t386\t15 \t1648  \t57.8617\n",
      "143\t1579  \t0.6405\t143\t8  \t0  \t1579  \t1.97592 \t164.119\t143\t391\t1  \t1579  \t57.4676\n",
      "144\t1617  \t0.588 \t144\t16 \t0  \t1617  \t1.95659 \t164.877\t144\t350\t13 \t1617  \t56.7282\n",
      "145\t1637  \t0.5895\t145\t16 \t0  \t1637  \t1.94782 \t163.181\t145\t374\t1  \t1637  \t58.7516\n",
      "146\t1596  \t0.5345\t146\t12 \t0  \t1596  \t1.8614  \t165.142\t146\t377\t1  \t1596  \t58.6799\n",
      "147\t1597  \t0.5555\t147\t16 \t0  \t1597  \t1.93337 \t166.203\t147\t346\t1  \t1597  \t58.7829\n",
      "148\t1592  \t0.576 \t148\t14 \t0  \t1592  \t1.93371 \t167.923\t148\t336\t12 \t1592  \t60.8145\n",
      "149\t1553  \t0.61  \t149\t16 \t0  \t1553  \t1.98139 \t167.931\t149\t341\t1  \t1553  \t59.5175\n",
      "150\t1634  \t0.6795\t150\t11 \t0  \t1634  \t2.06441 \t167.271\t150\t341\t1  \t1634  \t59.1485\n",
      "151\t1607  \t0.697 \t151\t14 \t0  \t1607  \t2.10978 \t166.698\t151\t377\t8  \t1607  \t60.3157\n",
      "152\t1581  \t0.652 \t152\t16 \t0  \t1581  \t2.09592 \t166.026\t152\t351\t5  \t1581  \t61.603 \n",
      "153\t1617  \t0.6805\t153\t16 \t0  \t1617  \t2.07688 \t165.457\t153\t348\t7  \t1617  \t63.792 \n",
      "154\t1599  \t0.638 \t154\t16 \t0  \t1599  \t2.03297 \t165.734\t154\t366\t2  \t1599  \t64.5681\n",
      "155\t1585  \t0.677 \t155\t16 \t0  \t1585  \t2.15608 \t168.007\t155\t364\t2  \t1585  \t64.5401\n",
      "156\t1621  \t0.635 \t156\t16 \t0  \t1621  \t2.05761 \t167.84 \t156\t364\t1  \t1621  \t64.0747\n",
      "157\t1611  \t0.621 \t157\t8  \t0  \t1611  \t1.9724  \t169.369\t157\t364\t15 \t1611  \t64.2013\n",
      "158\t1611  \t0.613 \t158\t12 \t0  \t1611  \t1.96398 \t169.001\t158\t379\t16 \t1611  \t63.7625\n",
      "159\t1608  \t0.6415\t159\t16 \t0  \t1608  \t2.03592 \t167.769\t159\t379\t15 \t1608  \t64.1832\n",
      "160\t1573  \t0.645 \t160\t16 \t0  \t1573  \t2.04987 \t169.416\t160\t379\t13 \t1573  \t65.5625\n",
      "161\t1597  \t0.6155\t161\t16 \t0  \t1597  \t2.03462 \t172.981\t161\t379\t15 \t1597  \t64.8657\n",
      "162\t1633  \t0.6905\t162\t16 \t0  \t1633  \t2.1196  \t171.458\t162\t399\t13 \t1633  \t64.6848\n",
      "163\t1639  \t0.626 \t163\t16 \t0  \t1639  \t2.03841 \t173.266\t163\t398\t15 \t1639  \t62.5785\n",
      "164\t1642  \t0.609 \t164\t14 \t0  \t1642  \t2.00527 \t174.352\t164\t433\t16 \t1642  \t61.0291\n",
      "165\t1585  \t0.556 \t165\t16 \t0  \t1585  \t1.88756 \t173.544\t165\t437\t18 \t1585  \t62.2004\n",
      "166\t1630  \t0.5885\t166\t16 \t0  \t1630  \t1.91577 \t173.169\t166\t385\t13 \t1630  \t61.199 \n",
      "167\t1636  \t0.624 \t167\t16 \t0  \t1636  \t2.01187 \t174.125\t167\t385\t15 \t1636  \t61.3743\n",
      "168\t1575  \t0.584 \t168\t12 \t0  \t1575  \t1.92923 \t172.275\t168\t364\t15 \t1575  \t62.1897\n",
      "169\t1621  \t0.654 \t169\t16 \t0  \t1621  \t2.08141 \t170.155\t169\t364\t15 \t1621  \t62.3319\n",
      "170\t1631  \t0.5975\t170\t13 \t0  \t1631  \t1.96481 \t168.605\t170\t373\t16 \t1631  \t60.4534\n",
      "171\t1645  \t0.622 \t171\t16 \t0  \t1645  \t2.02586 \t167.31 \t171\t359\t10 \t1645  \t59.4686\n",
      "172\t1616  \t0.656 \t172\t16 \t0  \t1616  \t2.07694 \t169.432\t172\t372\t1  \t1616  \t59.634 \n",
      "173\t1601  \t0.659 \t173\t12 \t0  \t1601  \t2.06439 \t170.065\t173\t370\t1  \t1601  \t60.5481\n",
      "174\t1568  \t0.5925\t174\t16 \t0  \t1568  \t1.962   \t170.508\t174\t378\t3  \t1568  \t60.1389\n",
      "175\t1595  \t0.6175\t175\t12 \t0  \t1595  \t1.98398 \t169.452\t175\t370\t1  \t1595  \t59.1625\n",
      "176\t1568  \t0.492 \t176\t12 \t0  \t1568  \t1.78576 \t170.612\t176\t368\t1  \t1568  \t60.4049\n",
      "177\t1602  \t0.5215\t177\t16 \t0  \t1602  \t1.85864 \t170.94 \t177\t367\t15 \t1602  \t61.6663\n",
      "178\t1613  \t0.6055\t178\t16 \t0  \t1613  \t1.97025 \t167.948\t178\t366\t3  \t1613  \t61.4176\n",
      "179\t1619  \t0.636 \t179\t16 \t0  \t1619  \t2.09845 \t167.653\t179\t376\t17 \t1619  \t61.2515\n",
      "180\t1617  \t0.5855\t180\t12 \t0  \t1617  \t1.93486 \t167.52 \t180\t368\t9  \t1617  \t62.3039\n",
      "181\t1584  \t0.594 \t181\t10 \t0  \t1584  \t1.9476  \t167.921\t181\t356\t5  \t1584  \t61.3785\n",
      "182\t1610  \t0.6025\t182\t9  \t0  \t1610  \t1.97345 \t166.499\t182\t356\t14 \t1610  \t60.0378\n",
      "183\t1628  \t0.607 \t183\t12 \t0  \t1628  \t1.95973 \t167.933\t183\t356\t1  \t1628  \t59.3154\n",
      "184\t1595  \t0.5475\t184\t8  \t0  \t1595  \t1.85277 \t167.89 \t184\t393\t15 \t1595  \t58.3243\n",
      "185\t1588  \t0.5775\t185\t16 \t0  \t1588  \t1.97737 \t169.071\t185\t378\t15 \t1588  \t58.069 \n",
      "186\t1594  \t0.647 \t186\t16 \t0  \t1594  \t2.0989  \t166.317\t186\t388\t1  \t1594  \t60.5321\n",
      "187\t1583  \t0.626 \t187\t12 \t0  \t1583  \t2.01745 \t167.123\t187\t394\t3  \t1583  \t60.4527\n",
      "188\t1591  \t0.5975\t188\t12 \t0  \t1591  \t1.92081 \t169.404\t188\t373\t11 \t1591  \t60.3204\n",
      "189\t1611  \t0.5745\t189\t16 \t0  \t1611  \t1.93247 \t168.383\t189\t381\t15 \t1611  \t58.4945\n",
      "190\t1572  \t0.6125\t190\t14 \t0  \t1572  \t1.9607  \t167.048\t190\t354\t16 \t1572  \t58.1133\n",
      "191\t1628  \t0.612 \t191\t16 \t0  \t1628  \t1.99611 \t165.73 \t191\t361\t15 \t1628  \t58.0608\n",
      "192\t1608  \t0.6505\t192\t11 \t0  \t1608  \t2.04239 \t164.536\t192\t365\t1  \t1608  \t58.9173\n",
      "193\t1593  \t0.593 \t193\t16 \t0  \t1593  \t1.96019 \t162.23 \t193\t361\t1  \t1593  \t57.5775\n",
      "194\t1633  \t0.732 \t194\t16 \t0  \t1633  \t2.18316 \t161.213\t194\t355\t1  \t1633  \t57.9603\n",
      "195\t1633  \t0.7145\t195\t16 \t0  \t1633  \t2.12438 \t159.904\t195\t363\t5  \t1633  \t58.0092\n",
      "196\t1650  \t0.598 \t196\t8  \t0  \t1650  \t1.93142 \t160.924\t196\t367\t3  \t1650  \t59.0289\n",
      "197\t1649  \t0.5755\t197\t16 \t0  \t1649  \t1.89982 \t162.525\t197\t336\t6  \t1649  \t59.6907\n",
      "198\t1630  \t0.5865\t198\t12 \t0  \t1630  \t1.9312  \t160.238\t198\t338\t16 \t1630  \t59.9101\n",
      "199\t1585  \t0.6255\t199\t16 \t0  \t1585  \t2.04138 \t162.339\t199\t338\t1  \t1585  \t59.3489\n",
      "200\t1611  \t0.562 \t200\t12 \t0  \t1611  \t1.90398 \t164.194\t200\t340\t16 \t1611  \t61.3921\n"
     ]
    }
   ],
   "source": [
    "toolbox3 = getToolbox()\n",
    "population3 = population = toolbox3.populationCreator(n=POPULATION_SIZE)\n",
    "population, logbook = algorithms.eaSimple(population3,\n",
    "                                                  toolbox3,\n",
    "                                                  cxpb=P_CROSSOVER,\n",
    "                                                  mutpb=P_MUTATION,\n",
    "                                                  ngen=MAX_GENERATIONS,\n",
    "                                                  stats=mstats,\n",
    "                                                  halloffame=hof,\n",
    "                                                  verbose=True)"
   ]
  },
  {
   "cell_type": "markdown",
   "id": "cc2affdd-99db-41ac-81c3-c30f14967eb8",
   "metadata": {},
   "source": [
    "Plotting the stats as a readable chart."
   ]
  },
  {
   "cell_type": "code",
   "execution_count": 21,
   "id": "d2351b67-4ec2-4baf-bed3-db60f3180a74",
   "metadata": {},
   "outputs": [
    {
     "name": "stdout",
     "output_type": "stream",
     "text": [
      "-- Best Individual =  and_(xor(xor(xor(in_3, in_2), and_(1, in_1)), not_(not_(in_0))), or_(xor(xor(1, in_1), and_(in_0, in_1)), or_(not_(or_(1, and_(0, in_1))), xor(and_(in_3, 0), in_1))))\n",
      "-- length=32, height=6\n",
      "-- Best Fitness =  0.0\n"
     ]
    },
    {
     "data": {
      "image/png": "[encoded data removed]",
      "text/plain": [
       "<Figure size 640x480 with 1 Axes>"
      ]
     },
     "metadata": {},
     "output_type": "display_data"
    }
   ],
   "source": [
    "maxFitnessValues, meanFitnessValues = logbook.chapters['fitness'].select(\"min\", \"avg\")\n",
    "\n",
    "\n",
    "# print info for best solution found:\n",
    "best = hof.items[0]\n",
    "print(\"-- Best Individual = \", best)\n",
    "print(\"-- length={}, height={}\".format(len(best), best.height))\n",
    "print(\"-- Best Fitness = \", best.fitness.values[0])\n",
    "\n",
    "plt.plot(maxFitnessValues, color='red')\n",
    "plt.plot(meanFitnessValues, color='green')\n",
    "plt.xlabel('Generation')\n",
    "plt.ylabel('Max / Average Fitness')\n",
    "plt.title('Max and Average Fitness over Generations')\n",
    "plt.legend(['Max Fitness', 'Mean Fitness'], loc = 'upper right')\n",
    "plt.show()"
   ]
  },
  {
   "cell_type": "markdown",
   "id": "ebfcdc51-9c5f-466f-b951-e17ebb559a02",
   "metadata": {},
   "source": [
    "## GE Applied to the 4bit-Parity Problem\n",
    "We're using the GRAPE library to perform GE on the 4bit-parity problem.  \n",
    "Code reference: [GRAPE code running parity problems with 3, 4 or 5 bits](https://github.com/conorlime/CS6271/blob/main/GE_Applied_to_Parity_Problems.ipynb)  "
   ]
  },
  {
   "cell_type": "code",
   "execution_count": null,
   "id": "678400ce-bf7b-4514-8c87-cfc3c74a603e",
   "metadata": {},
   "outputs": [],
   "source": []
  },
  {
   "cell_type": "markdown",
   "id": "9dcf5196-bbec-4b45-8a7b-19fbc7425800",
   "metadata": {},
   "source": [
    "### Setup 1\n",
    "Mutation => 0.02  \n",
    "Crossover => 0.7  "
   ]
  },
  {
   "cell_type": "code",
   "execution_count": null,
   "id": "0ceef4b5-3b8d-4694-96d9-f6eff4520ad0",
   "metadata": {},
   "outputs": [],
   "source": []
  },
  {
   "cell_type": "markdown",
   "id": "4caa62e1-2f24-4c59-9c6e-a6d678137ddb",
   "metadata": {},
   "source": [
    "### Setup 2\n",
    "Mutation => 0.01  \n",
    "Crossover => 0.9  "
   ]
  },
  {
   "cell_type": "code",
   "execution_count": null,
   "id": "26726798-d96b-4ba3-ad89-b9ff582ebd3e",
   "metadata": {},
   "outputs": [],
   "source": []
  },
  {
   "cell_type": "markdown",
   "id": "65372d8c-3145-4f2e-9165-cdf1de232fa6",
   "metadata": {},
   "source": [
    "### Setup 3\n",
    "Mutation => 0.03  \n",
    "Crossover => 0.8  "
   ]
  },
  {
   "cell_type": "code",
   "execution_count": null,
   "id": "211a9a90-134e-4567-9be5-e0072e450efc",
   "metadata": {},
   "outputs": [],
   "source": []
  }
 ],
 "metadata": {
  "kernelspec": {
   "display_name": "Python 3 (ipykernel)",
   "language": "python",
   "name": "python3"
  },
  "language_info": {
   "codemirror_mode": {
    "name": "ipython",
    "version": 3
   },
   "file_extension": ".py",
   "mimetype": "text/x-python",
   "name": "python",
   "nbconvert_exporter": "python",
   "pygments_lexer": "ipython3",
   "version": "3.10.12"
  }
 },
 "nbformat": 4,
 "nbformat_minor": 5
}
