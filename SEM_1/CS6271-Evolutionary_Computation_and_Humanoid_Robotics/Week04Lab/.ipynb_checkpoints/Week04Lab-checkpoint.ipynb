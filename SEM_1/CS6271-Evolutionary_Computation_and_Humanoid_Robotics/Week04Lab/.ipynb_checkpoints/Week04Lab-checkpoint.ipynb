{
 "cells": [
  {
   "cell_type": "markdown",
   "id": "f6329f79-d18d-413f-8ba3-3a439f04e6ec",
   "metadata": {},
   "source": [
    "### Student details \n",
    "\n",
    "Name: **Siddharth Prince**  \n",
    "ID: **23052058**"
   ]
  },
  {
   "cell_type": "code",
   "execution_count": 1,
   "id": "dd03f92b-7409-4b1c-98b4-e623ca8433c9",
   "metadata": {},
   "outputs": [],
   "source": [
    "from deap import base\n",
    "from deap import creator\n",
    "from deap import tools\n",
    "\n",
    "import random\n",
    "\n",
    "import matplotlib.pyplot as plt"
   ]
  },
  {
   "cell_type": "code",
   "execution_count": null,
   "id": "6de47a69-7d32-4953-8522-ad500c914bb1",
   "metadata": {},
   "outputs": [],
   "source": [
    "# Genetic Algorithm constants:\n",
    "POPULATION_SIZE = 1000\n",
    "P_CROSSOVER = 0.8 # probability for crossover\n",
    "P_MUTATION = 0.03 # probability for mutating an individual\n",
    "MAX_GENERATIONS = 50"
   ]
  },
  {
   "cell_type": "code",
   "execution_count": null,
   "id": "e6675765-0485-457c-b746-ac84408eb4b6",
   "metadata": {},
   "outputs": [],
   "source": [
    "INDIVIDUAL_LENGTH = 100 # Length of an individual with each bit in the bit string representing an iten's selection for the knapsack or not."
   ]
  },
  {
   "cell_type": "code",
   "execution_count": 3,
   "id": "218bdfdf-3321-4c13-a54b-3e34089a9f02",
   "metadata": {},
   "outputs": [
    {
     "name": "stdout",
     "output_type": "stream",
     "text": [
      "{0: (2, 4), 1: (5, 32), 2: (4, 18), 3: (2, 87), 4: (9, 12), 5: (10, 55), 6: (1, 4), 7: (2, 28), 8: (4, 65), 9: (10, 4), 10: (9, 26), 11: (9, 54), 12: (4, 58), 13: (10, 36), 14: (1, 98), 15: (3, 90), 16: (7, 44), 17: (5, 20), 18: (4, 98), 19: (6, 14), 20: (2, 49), 21: (2, 46), 22: (6, 78), 23: (5, 6), 24: (8, 69), 25: (2, 49), 26: (2, 71), 27: (5, 81), 28: (10, 47), 29: (10, 25), 30: (2, 6), 31: (4, 99), 32: (5, 11), 33: (4, 13), 34: (7, 36), 35: (8, 82), 36: (6, 21), 37: (6, 46), 38: (4, 86), 39: (5, 90), 40: (2, 78), 41: (3, 69), 42: (4, 21), 43: (8, 49), 44: (5, 82), 45: (9, 29), 46: (6, 99), 47: (1, 30), 48: (1, 41), 49: (7, 35), 50: (2, 28), 51: (10, 92), 52: (6, 28), 53: (8, 51), 54: (8, 19), 55: (5, 18), 56: (4, 96), 57: (9, 69), 58: (5, 96), 59: (10, 55), 60: (10, 52), 61: (6, 29), 62: (3, 66), 63: (8, 12), 64: (1, 15), 65: (3, 81), 66: (3, 88), 67: (7, 77), 68: (2, 50), 69: (7, 77), 70: (8, 68), 71: (5, 71), 72: (1, 88), 73: (2, 88), 74: (9, 97), 75: (5, 99), 76: (6, 15), 77: (5, 56), 78: (3, 59), 79: (1, 93), 80: (5, 65), 81: (3, 65), 82: (2, 81), 83: (5, 82), 84: (9, 78), 85: (4, 20), 86: (6, 98), 87: (3, 70), 88: (9, 1), 89: (10, 42), 90: (8, 3), 91: (2, 47), 92: (5, 31), 93: (1, 31), 94: (10, 11), 95: (2, 94), 96: (8, 9), 97: (9, 99), 98: (3, 17), 99: (8, 71)}\n"
     ]
    }
   ],
   "source": [
    "NBR_ITEMS = 100\n",
    "MAX_WEIGHT = 1000\n",
    "\n",
    "# set the random seed. Make sure you do this BEFORE creating the knapsack\n",
    "# creating the knapsack\n",
    "RANDOM_SEED = 42\n",
    "random.seed(RANDOM_SEED)\n",
    "\n",
    "# Create the item dictionary: item name is an integer, and value is\n",
    "# a (value, weight) 2-uple.\n",
    "\n",
    "items = {}\n",
    "\n",
    "# Create random items and store them in the items' dictionary.\n",
    "for i in range(NBR_ITEMS):\n",
    "     items[i] = (random.randint(1, 10), random.randint(1, 100))\n",
    "print(items)"
   ]
  }
 ],
 "metadata": {
  "kernelspec": {
   "display_name": "Python 3 (ipykernel)",
   "language": "python",
   "name": "python3"
  },
  "language_info": {
   "codemirror_mode": {
    "name": "ipython",
    "version": 3
   },
   "file_extension": ".py",
   "mimetype": "text/x-python",
   "name": "python",
   "nbconvert_exporter": "python",
   "pygments_lexer": "ipython3",
   "version": "3.10.12"
  }
 },
 "nbformat": 4,
 "nbformat_minor": 5
}
