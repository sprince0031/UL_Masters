{
 "cells": [
  {
   "cell_type": "markdown",
   "metadata": {},
   "source": [
    "# GP Applied to the Even-Parity Problem"
   ]
  },
  {
   "cell_type": "markdown",
   "metadata": {},
   "source": [
    "This time we apply GP to a Boolean problem -- this has a different type and different operators, but the algorithm remains the same.\n",
    "\n",
    "The code in this notebook is a bit tighter, that is, although slightly more difficult to read, it is a lot more reusable. First of all, here's a nice piece of code to widen our notebook to make to easier to read the output we get later on."
   ]
  },
  {
   "cell_type": "markdown",
   "metadata": {},
   "source": [
    "Install DEAP. "
   ]
  },
  {
   "cell_type": "code",
   "execution_count": null,
   "metadata": {},
   "outputs": [],
   "source": [
    "!pip install deap"
   ]
  },
  {
   "cell_type": "code",
   "execution_count": 1,
   "metadata": {},
   "outputs": [
    {
     "name": "stderr",
     "output_type": "stream",
     "text": [
      "/tmp/ipykernel_96700/3777615979.py:1: DeprecationWarning: Importing display from IPython.core.display is deprecated since IPython 7.14, please import from IPython display\n",
      "  from IPython.core.display import display, HTML\n"
     ]
    },
    {
     "data": {
      "text/html": [
       "<style>.container { width:100% !important; }</style>"
      ],
      "text/plain": [
       "<IPython.core.display.HTML object>"
      ]
     },
     "metadata": {},
     "output_type": "display_data"
    }
   ],
   "source": [
    "from IPython.core.display import display, HTML\n",
    "display(HTML(\"<style>.container { width:100% !important; }</style>\"))"
   ]
  },
  {
   "cell_type": "markdown",
   "metadata": {},
   "source": [
    "Import our tools as before, except this time we also include **itertools** and **networks** which contain some nice iterative tools (for creating our test set) and graph drawing functionality, respectively."
   ]
  },
  {
   "cell_type": "code",
   "execution_count": 2,
   "metadata": {},
   "outputs": [],
   "source": [
    "import operator\n",
    "import math\n",
    "import random\n",
    "\n",
    "import numpy\n",
    "\n",
    "from deap import algorithms\n",
    "from deap import base\n",
    "from deap import creator\n",
    "from deap import tools\n",
    "from deap import gp\n",
    "\n",
    "\n",
    "import matplotlib.pyplot as plt\n",
    "\n",
    "import itertools\n",
    "import networkx as nx\n",
    "\n"
   ]
  },
  {
   "cell_type": "markdown",
   "metadata": {},
   "source": [
    "Set our Genetic Programming parameters.  Notice that these are virtually the same as the GA ones."
   ]
  },
  {
   "cell_type": "code",
   "execution_count": 3,
   "metadata": {},
   "outputs": [],
   "source": [
    "# Genetic Programming constants:\n",
    "POPULATION_SIZE = 2000\n",
    "P_CROSSOVER = 0.9\n",
    "P_MUTATION = 0.01\n",
    "MAX_GENERATIONS = 200\n",
    "HALL_OF_FAME_SIZE = 10\n"
   ]
  },
  {
   "cell_type": "markdown",
   "metadata": {},
   "source": [
    "Set the random seed. "
   ]
  },
  {
   "cell_type": "code",
   "execution_count": 4,
   "metadata": {},
   "outputs": [],
   "source": [
    "RANDOM_SEED = 412\n",
    "random.seed(RANDOM_SEED)"
   ]
  },
  {
   "cell_type": "markdown",
   "metadata": {},
   "source": [
    "Here are some GP-specific constants. Keeping them together like this will make later editing easier."
   ]
  },
  {
   "cell_type": "code",
   "execution_count": 5,
   "metadata": {},
   "outputs": [],
   "source": [
    "MIN_TREE_HEIGHT = 3\n",
    "MAX_TREE_HEIGHT = 5\n",
    "LIMIT_TREE_HEIGHT = 17\n",
    "MUT_MIN_TREE_HEIGHT = 0\n",
    "MUT_MAX_TREE_HEIGHT = 2"
   ]
  },
  {
   "cell_type": "markdown",
   "metadata": {},
   "source": [
    "Some problem constants. One nice thing about this problem is that it is of scalable difficulty, so we name make it more difficult simply by increasing the number of inputs."
   ]
  },
  {
   "cell_type": "code",
   "execution_count": 6,
   "metadata": {},
   "outputs": [],
   "source": [
    "NUM_INPUTS = 3\n",
    "NUM_COMBINATIONS = 2 ** NUM_INPUTS"
   ]
  },
  {
   "cell_type": "markdown",
   "metadata": {},
   "source": [
    "Here's our fitness function. This is a bit more involved than before as we first create all our test cases and then write a function to calculate the party error. We declare a wrapper function, **getCost** to make this code more resuable. This way we can change the fitness function and we only need to change the name in **getCost**."
   ]
  },
  {
   "cell_type": "code",
   "execution_count": 7,
   "metadata": {},
   "outputs": [],
   "source": [
    "# calculate the truth table of even parity check:\n",
    "parityIn = list(itertools.product([0, 1], repeat=NUM_INPUTS))\n",
    "parityOut = []\n",
    "for row in parityIn:\n",
    "    parityOut.append(sum(row) % 2)\n",
    "    \n",
    "# calculate the difference between the results of the\n",
    "# generated function and the expected parity results:\n",
    "def parityError(individual):\n",
    "    func = toolbox.compile(expr=individual)\n",
    "    return sum(func(*pIn) != pOut for pIn, pOut in zip(parityIn, parityOut))\n",
    "\n",
    "# fitness measure:\n",
    "def getCost(individual):\n",
    "    return parityError(individual), # return a tuple"
   ]
  },
  {
   "cell_type": "markdown",
   "metadata": {},
   "source": [
    "Add our functions and terminals. This time we are using Boolean operators and values."
   ]
  },
  {
   "cell_type": "code",
   "execution_count": 8,
   "metadata": {},
   "outputs": [],
   "source": [
    "# create the primitive set:\n",
    "primitiveSet = gp.PrimitiveSet(\"main\", NUM_INPUTS, \"in_\")\n",
    "primitiveSet.addPrimitive(operator.and_, 2)\n",
    "primitiveSet.addPrimitive(operator.or_, 2)\n",
    "primitiveSet.addPrimitive(operator.xor, 2)\n",
    "primitiveSet.addPrimitive(operator.not_, 1)\n",
    "\n",
    "# add terminal values:\n",
    "primitiveSet.addTerminal(1)\n",
    "primitiveSet.addTerminal(0)"
   ]
  },
  {
   "cell_type": "markdown",
   "metadata": {},
   "source": [
    "Create our toolbox. This is very similar to the Symbolic Regression notebook except we are using the parameters declared up above."
   ]
  },
  {
   "cell_type": "code",
   "execution_count": 9,
   "metadata": {},
   "outputs": [],
   "source": [
    "toolbox = base.Toolbox()\n",
    "\n",
    "# define a single objective, minimizing fitness strategy:\n",
    "creator.create(\"FitnessMin\", base.Fitness, weights=(-1.0,))\n",
    "\n",
    "# create the Individual class based on the primitive tree:\n",
    "creator.create(\"Individual\", gp.PrimitiveTree, fitness=creator.FitnessMin)\n",
    "\n",
    "# create a helper function for creating random trees using the primitive set:\n",
    "toolbox.register(\"expr\", gp.genFull, pset=primitiveSet, min_=MIN_TREE_HEIGHT, max_=MAX_TREE_HEIGHT)\n",
    "\n",
    "# create the individual operator to fill up an Individual instance:\n",
    "toolbox.register(\"individualCreator\", tools.initIterate, creator.Individual, toolbox.expr)\n",
    "\n",
    "# create the population operator to generate a list of individuals:\n",
    "toolbox.register(\"populationCreator\", tools.initRepeat, list, toolbox.individualCreator)\n",
    "\n",
    "# create an operator to compile the primitive tree into python code:\n",
    "toolbox.register(\"compile\", gp.compile, pset=primitiveSet)\n",
    "\n",
    "toolbox.register(\"evaluate\", getCost)\n",
    "\n",
    "# genetic operators:\n",
    "toolbox.register(\"select\", tools.selTournament, tournsize=2)\n",
    "toolbox.register(\"mate\", gp.cxOnePoint)\n",
    "toolbox.register(\"expr_mut\", gp.genGrow, min_=MUT_MIN_TREE_HEIGHT, max_=MUT_MAX_TREE_HEIGHT)\n",
    "toolbox.register(\"mutate\", gp.mutUniform, expr=toolbox.expr_mut, pset=primitiveSet)\n",
    "\n",
    "# bloat control:\n",
    "toolbox.decorate(\"mate\", gp.staticLimit(key=operator.attrgetter(\"height\"), max_value=LIMIT_TREE_HEIGHT))\n",
    "toolbox.decorate(\"mutate\", gp.staticLimit(key=operator.attrgetter(\"height\"), max_value=LIMIT_TREE_HEIGHT))\n",
    "\n"
   ]
  },
  {
   "cell_type": "markdown",
   "metadata": {},
   "source": [
    "Set up our population as before"
   ]
  },
  {
   "cell_type": "code",
   "execution_count": 10,
   "metadata": {},
   "outputs": [],
   "source": [
    "population = toolbox.populationCreator(n=POPULATION_SIZE)\n",
    "# define the hall-of-fame object:\n",
    "hof = tools.HallOfFame(HALL_OF_FAME_SIZE)   \n"
   ]
  },
  {
   "cell_type": "markdown",
   "metadata": {},
   "source": [
    "Create a statistics object. This time we're going to use the **MultiStatistics** tool because we want to record statistics about **size** as well as **fitness**."
   ]
  },
  {
   "cell_type": "code",
   "execution_count": 11,
   "metadata": {},
   "outputs": [],
   "source": [
    "stats_fit = tools.Statistics(lambda ind: ind.fitness.values)\n",
    "stats_size = tools.Statistics(len)\n",
    "mstats = tools.MultiStatistics(fitness=stats_fit, size=stats_size)\n",
    "mstats.register(\"avg\", numpy.mean)\n",
    "mstats.register(\"std\", numpy.std)\n",
    "mstats.register(\"min\", numpy.min)\n",
    "mstats.register(\"max\", numpy.max)\n"
   ]
  },
  {
   "cell_type": "markdown",
   "metadata": {},
   "source": [
    "Run our GP. Notice how much slower this one is, due to the much larger population size. "
   ]
  },
  {
   "cell_type": "code",
   "execution_count": 12,
   "metadata": {},
   "outputs": [
    {
     "name": "stdout",
     "output_type": "stream",
     "text": [
      "   \t      \t                    fitness                     \t                      size                     \n",
      "   \t      \t------------------------------------------------\t-----------------------------------------------\n",
      "gen\tnevals\tavg   \tgen\tmax\tmin\tnevals\tstd     \tavg   \tgen\tmax\tmin\tnevals\tstd    \n",
      "0  \t2000  \t3.9865\t0  \t8  \t0  \t2000  \t0.760472\t22.588\t0  \t60 \t4  \t2000  \t13.2948\n",
      "1  \t1799  \t3.8385\t1  \t8  \t0  \t1799  \t0.753935\t22.037\t1  \t69 \t1  \t1799  \t13.1755\n",
      "2  \t1787  \t3.758 \t2  \t8  \t0  \t1787  \t0.802768\t22.768\t2  \t81 \t1  \t1787  \t13.8175\n",
      "3  \t1809  \t3.7015\t3  \t8  \t0  \t1809  \t0.867985\t23.6285\t3  \t83 \t1  \t1809  \t14.7388\n",
      "4  \t1816  \t3.6695\t4  \t8  \t0  \t1816  \t0.874797\t25.051 \t4  \t86 \t1  \t1816  \t15.4465\n",
      "5  \t1764  \t3.568 \t5  \t8  \t0  \t1764  \t0.972304\t27.555 \t5  \t100\t1  \t1764  \t16.6093\n",
      "6  \t1792  \t3.4435\t6  \t8  \t0  \t1792  \t1.05821 \t30.569 \t6  \t100\t1  \t1792  \t18.1468\n",
      "7  \t1810  \t3.258 \t7  \t8  \t0  \t1810  \t1.10247 \t33.37  \t7  \t108\t1  \t1810  \t18.9958\n",
      "8  \t1807  \t3.157 \t8  \t8  \t0  \t1807  \t1.16934 \t36.724 \t8  \t107\t1  \t1807  \t19.8066\n",
      "9  \t1791  \t2.9655\t9  \t8  \t0  \t1791  \t1.15987 \t39.819 \t9  \t114\t1  \t1791  \t20.0403\n",
      "10 \t1844  \t2.833 \t10 \t8  \t0  \t1844  \t1.22601 \t42.8885\t10 \t110\t1  \t1844  \t20.0189\n",
      "11 \t1780  \t2.706 \t11 \t8  \t0  \t1780  \t1.24602 \t46.016 \t11 \t139\t1  \t1780  \t20.9513\n",
      "12 \t1771  \t2.5375\t12 \t8  \t0  \t1771  \t1.25244 \t49.228 \t12 \t135\t1  \t1771  \t22.0423\n",
      "13 \t1815  \t2.439 \t13 \t7  \t0  \t1815  \t1.33089 \t52.9055\t13 \t142\t1  \t1815  \t22.8752\n",
      "14 \t1830  \t2.2535\t14 \t8  \t0  \t1830  \t1.36354 \t55.279 \t14 \t156\t1  \t1830  \t24.6737\n",
      "15 \t1850  \t2.0845\t15 \t8  \t0  \t1850  \t1.36432 \t57.5805\t15 \t156\t3  \t1850  \t25.2227\n",
      "16 \t1787  \t1.9385\t16 \t8  \t0  \t1787  \t1.43098 \t60.2245\t16 \t145\t3  \t1787  \t25.8732\n",
      "17 \t1832  \t1.8105\t17 \t8  \t0  \t1832  \t1.45003 \t62.8055\t17 \t155\t1  \t1832  \t27.1372\n",
      "18 \t1800  \t1.618 \t18 \t8  \t0  \t1800  \t1.47854 \t65.039 \t18 \t199\t5  \t1800  \t27.3264\n",
      "19 \t1791  \t1.431 \t19 \t8  \t0  \t1791  \t1.46637 \t67.1515\t19 \t188\t5  \t1791  \t29.4183\n",
      "20 \t1789  \t1.3145\t20 \t8  \t0  \t1789  \t1.52924 \t69.5805\t20 \t185\t1  \t1789  \t31.0721\n",
      "21 \t1824  \t1.1005\t21 \t8  \t0  \t1824  \t1.4565  \t72.7185\t21 \t195\t5  \t1824  \t32.2831\n",
      "22 \t1816  \t1.0545\t22 \t8  \t0  \t1816  \t1.51246 \t74.152 \t22 \t200\t1  \t1816  \t33.6094\n",
      "23 \t1821  \t0.9605\t23 \t8  \t0  \t1821  \t1.45875 \t77.578 \t23 \t206\t1  \t1821  \t33.4658\n",
      "24 \t1792  \t0.8235\t24 \t8  \t0  \t1792  \t1.38793 \t81.4735\t24 \t209\t3  \t1792  \t34.3127\n",
      "25 \t1782  \t0.743 \t25 \t8  \t0  \t1782  \t1.33602 \t82.9045\t25 \t218\t3  \t1782  \t34.4046\n",
      "26 \t1797  \t0.719 \t26 \t8  \t0  \t1797  \t1.34352 \t84.6545\t26 \t225\t1  \t1797  \t34.8563\n",
      "27 \t1813  \t0.6615\t27 \t8  \t0  \t1813  \t1.2802  \t87.08  \t27 \t255\t5  \t1813  \t36.1533\n",
      "28 \t1802  \t0.699 \t28 \t8  \t0  \t1802  \t1.32    \t89.3185\t28 \t272\t4  \t1802  \t37.2901\n",
      "29 \t1796  \t0.6395\t29 \t8  \t0  \t1796  \t1.2952  \t90.641 \t29 \t236\t5  \t1796  \t37.8273\n",
      "30 \t1777  \t0.689 \t30 \t8  \t0  \t1777  \t1.3339  \t91.7125\t30 \t250\t1  \t1777  \t37.7739\n",
      "31 \t1808  \t0.675 \t31 \t8  \t0  \t1808  \t1.3373  \t94.625 \t31 \t250\t4  \t1808  \t38.7193\n",
      "32 \t1816  \t0.602 \t32 \t8  \t0  \t1816  \t1.30828 \t98.854 \t32 \t242\t5  \t1816  \t39.9044\n",
      "33 \t1814  \t0.562 \t33 \t8  \t0  \t1814  \t1.26339 \t100.376\t33 \t259\t1  \t1814  \t40.37  \n",
      "34 \t1780  \t0.605 \t34 \t8  \t0  \t1780  \t1.28995 \t102.689\t34 \t245\t1  \t1780  \t41.5351\n",
      "35 \t1822  \t0.585 \t35 \t8  \t0  \t1822  \t1.26956 \t104.752\t35 \t258\t2  \t1822  \t42.7144\n",
      "36 \t1812  \t0.5875\t36 \t8  \t0  \t1812  \t1.28388 \t106.679\t36 \t258\t3  \t1812  \t43.9224\n",
      "37 \t1794  \t0.5395\t37 \t8  \t0  \t1794  \t1.23063 \t109.27 \t37 \t249\t5  \t1794  \t44.6546\n",
      "38 \t1797  \t0.5375\t38 \t8  \t0  \t1797  \t1.22254 \t108.817\t38 \t244\t5  \t1797  \t43.5474\n",
      "39 \t1820  \t0.5965\t39 \t8  \t0  \t1820  \t1.26202 \t108.215\t39 \t258\t5  \t1820  \t44.523 \n",
      "40 \t1784  \t0.5285\t40 \t8  \t0  \t1784  \t1.21581 \t112.109\t40 \t270\t5  \t1784  \t44.2846\n",
      "41 \t1806  \t0.4965\t41 \t8  \t0  \t1806  \t1.18574 \t112.916\t41 \t267\t1  \t1806  \t44.2229\n",
      "42 \t1806  \t0.4865\t42 \t8  \t0  \t1806  \t1.15404 \t113.371\t42 \t265\t5  \t1806  \t46.331 \n",
      "43 \t1779  \t0.475 \t43 \t8  \t0  \t1779  \t1.13198 \t114.572\t43 \t247\t5  \t1779  \t46.7106\n",
      "44 \t1804  \t0.464 \t44 \t8  \t0  \t1804  \t1.14748 \t115.488\t44 \t280\t9  \t1804  \t46.716 \n",
      "45 \t1838  \t0.435 \t45 \t6  \t0  \t1838  \t1.08387 \t115.218\t45 \t331\t8  \t1838  \t47.6505\n",
      "46 \t1816  \t0.439 \t46 \t8  \t0  \t1816  \t1.17187 \t115.552\t46 \t330\t5  \t1816  \t47.7135\n",
      "47 \t1782  \t0.4215\t47 \t8  \t0  \t1782  \t1.13835 \t114.983\t47 \t283\t5  \t1782  \t47.4606\n",
      "48 \t1800  \t0.4955\t48 \t8  \t0  \t1800  \t1.22474 \t115.415\t48 \t268\t5  \t1800  \t46.71  \n",
      "49 \t1825  \t0.5   \t49 \t8  \t0  \t1825  \t1.22188 \t115.177\t49 \t362\t5  \t1825  \t46.3069\n",
      "50 \t1800  \t0.448 \t50 \t8  \t0  \t1800  \t1.15771 \t116.237\t50 \t360\t4  \t1800  \t46.0034\n",
      "51 \t1799  \t0.4795\t51 \t8  \t0  \t1799  \t1.20689 \t117.327\t51 \t295\t5  \t1799  \t47.6271\n",
      "52 \t1845  \t0.437 \t52 \t6  \t0  \t1845  \t1.11671 \t117.056\t52 \t275\t3  \t1845  \t47.0799\n",
      "53 \t1795  \t0.445 \t53 \t8  \t0  \t1795  \t1.13973 \t116.198\t53 \t275\t5  \t1795  \t47.31  \n",
      "54 \t1795  \t0.448 \t54 \t8  \t0  \t1795  \t1.1315  \t117.439\t54 \t271\t5  \t1795  \t48.0547\n",
      "55 \t1810  \t0.5115\t55 \t8  \t0  \t1810  \t1.23607 \t119.976\t55 \t276\t5  \t1810  \t48.2984\n",
      "56 \t1809  \t0.4815\t56 \t8  \t0  \t1809  \t1.24043 \t123.134\t56 \t276\t4  \t1809  \t48.2301\n",
      "57 \t1811  \t0.406 \t57 \t8  \t0  \t1811  \t1.08035 \t123.905\t57 \t299\t3  \t1811  \t49.4859\n",
      "58 \t1804  \t0.4335\t58 \t8  \t0  \t1804  \t1.1561  \t126.228\t58 \t298\t3  \t1804  \t50.3774\n",
      "59 \t1835  \t0.4155\t59 \t8  \t0  \t1835  \t1.15059 \t128.029\t59 \t284\t7  \t1835  \t50.6316\n",
      "60 \t1809  \t0.4175\t60 \t8  \t0  \t1809  \t1.15204 \t128.7  \t60 \t282\t5  \t1809  \t50.0414\n",
      "61 \t1801  \t0.385 \t61 \t8  \t0  \t1801  \t1.09351 \t130.447\t61 \t307\t5  \t1801  \t50.0604\n",
      "62 \t1786  \t0.386 \t62 \t8  \t0  \t1786  \t1.06255 \t130.909\t62 \t307\t3  \t1786  \t50.8   \n",
      "63 \t1828  \t0.3965\t63 \t8  \t0  \t1828  \t1.11682 \t129.737\t63 \t307\t1  \t1828  \t51.721 \n",
      "64 \t1813  \t0.454 \t64 \t8  \t0  \t1813  \t1.16785 \t131.089\t64 \t321\t3  \t1813  \t51.4332\n",
      "65 \t1815  \t0.427 \t65 \t8  \t0  \t1815  \t1.12458 \t130.342\t65 \t311\t7  \t1815  \t51.2975\n",
      "66 \t1813  \t0.4235\t66 \t8  \t0  \t1813  \t1.16196 \t130.391\t66 \t311\t5  \t1813  \t51.4819\n",
      "67 \t1818  \t0.3685\t67 \t8  \t0  \t1818  \t1.07597 \t131.847\t67 \t297\t2  \t1818  \t51.4828\n",
      "68 \t1815  \t0.383 \t68 \t8  \t0  \t1815  \t1.06269 \t132.351\t68 \t303\t7  \t1815  \t51.4081\n",
      "69 \t1781  \t0.394 \t69 \t8  \t0  \t1781  \t1.10307 \t131.588\t69 \t333\t9  \t1781  \t51.9492\n",
      "70 \t1799  \t0.385 \t70 \t8  \t0  \t1799  \t1.07925 \t130.406\t70 \t425\t1  \t1799  \t53.6685\n",
      "71 \t1801  \t0.364 \t71 \t8  \t0  \t1801  \t1.05807 \t130.777\t71 \t288\t1  \t1801  \t52.6665\n",
      "72 \t1790  \t0.4015\t72 \t8  \t0  \t1790  \t1.13106 \t130.219\t72 \t295\t7  \t1790  \t52.6527\n",
      "73 \t1800  \t0.4095\t73 \t8  \t0  \t1800  \t1.12375 \t130.084\t73 \t296\t1  \t1800  \t54.0947\n",
      "74 \t1797  \t0.366 \t74 \t8  \t0  \t1797  \t1.05879 \t131.138\t74 \t298\t8  \t1797  \t56.2979\n",
      "75 \t1800  \t0.3815\t75 \t8  \t0  \t1800  \t1.09634 \t130.625\t75 \t311\t7  \t1800  \t56.0095\n",
      "76 \t1795  \t0.3485\t76 \t8  \t0  \t1795  \t1.04931 \t132.554\t76 \t335\t5  \t1795  \t56.0774\n",
      "77 \t1770  \t0.347 \t77 \t8  \t0  \t1770  \t1.04575 \t133.727\t77 \t335\t5  \t1770  \t56.6308\n",
      "78 \t1784  \t0.38  \t78 \t8  \t0  \t1784  \t1.08425 \t135.131\t78 \t324\t5  \t1784  \t57.7388\n",
      "79 \t1806  \t0.378 \t79 \t8  \t0  \t1806  \t1.11046 \t137.644\t79 \t321\t1  \t1806  \t57.9195\n",
      "80 \t1789  \t0.3695\t80 \t8  \t0  \t1789  \t1.05687 \t136.925\t80 \t317\t1  \t1789  \t58.2817\n",
      "81 \t1791  \t0.37  \t81 \t8  \t0  \t1791  \t1.07662 \t139.249\t81 \t323\t1  \t1791  \t59.5933\n",
      "82 \t1798  \t0.352 \t82 \t8  \t0  \t1798  \t1.04742 \t140.245\t82 \t321\t5  \t1798  \t61.4338\n",
      "83 \t1757  \t0.3975\t83 \t8  \t0  \t1757  \t1.11467 \t142.682\t83 \t325\t5  \t1757  \t63.4639\n",
      "84 \t1774  \t0.3465\t84 \t8  \t0  \t1774  \t1.0552  \t145.018\t84 \t333\t1  \t1774  \t64.2423\n",
      "85 \t1826  \t0.3355\t85 \t7  \t0  \t1826  \t1.0183  \t144.577\t85 \t329\t3  \t1826  \t63.4619\n",
      "86 \t1794  \t0.4165\t86 \t8  \t0  \t1794  \t1.1524  \t144.14 \t86 \t332\t4  \t1794  \t64.0838\n",
      "87 \t1810  \t0.401 \t87 \t8  \t0  \t1810  \t1.13631 \t144.187\t87 \t363\t6  \t1810  \t64.0558\n",
      "88 \t1831  \t0.397 \t88 \t8  \t0  \t1831  \t1.15169 \t143.606\t88 \t361\t5  \t1831  \t64.5488\n",
      "89 \t1816  \t0.3255\t89 \t8  \t0  \t1816  \t1.00027 \t144.178\t89 \t361\t4  \t1816  \t63.7063\n",
      "90 \t1764  \t0.4035\t90 \t8  \t0  \t1764  \t1.15269 \t142.257\t90 \t369\t5  \t1764  \t64.3066\n",
      "91 \t1785  \t0.3425\t91 \t8  \t0  \t1785  \t1.06264 \t142.334\t91 \t363\t1  \t1785  \t63.476 \n",
      "92 \t1793  \t0.318 \t92 \t8  \t0  \t1793  \t1.00144 \t143.034\t92 \t361\t5  \t1793  \t62.6283\n",
      "93 \t1802  \t0.347 \t93 \t8  \t0  \t1802  \t1.0424  \t142.605\t93 \t348\t5  \t1802  \t61.505 \n",
      "94 \t1852  \t0.335 \t94 \t8  \t0  \t1852  \t1.02751 \t144.796\t94 \t352\t7  \t1852  \t61.5852\n",
      "95 \t1780  \t0.3535\t95 \t8  \t0  \t1780  \t1.05287 \t146.045\t95 \t352\t4  \t1780  \t61.6309\n",
      "96 \t1797  \t0.312 \t96 \t8  \t0  \t1797  \t0.98115 \t145.151\t96 \t347\t5  \t1797  \t61.2709\n",
      "97 \t1808  \t0.378 \t97 \t8  \t0  \t1808  \t1.12121 \t145.248\t97 \t345\t1  \t1808  \t59.3521\n",
      "98 \t1761  \t0.3055\t98 \t8  \t0  \t1761  \t0.967042\t147.515\t98 \t345\t5  \t1761  \t59.3933\n",
      "99 \t1838  \t0.298 \t99 \t8  \t0  \t1838  \t0.989038\t145.98 \t99 \t365\t5  \t1838  \t59.2252\n",
      "100\t1790  \t0.335 \t100\t8  \t0  \t1790  \t1.01033 \t145.28 \t100\t367\t7  \t1790  \t60.7878\n",
      "101\t1828  \t0.2955\t101\t8  \t0  \t1828  \t0.937112\t145.066\t101\t368\t5  \t1828  \t59.2694\n",
      "102\t1749  \t0.2965\t102\t8  \t0  \t1749  \t0.970354\t142.739\t102\t353\t5  \t1749  \t59.8901\n",
      "103\t1829  \t0.327 \t103\t8  \t0  \t1829  \t1.04406 \t144.636\t103\t356\t5  \t1829  \t63.0992\n",
      "104\t1844  \t0.305 \t104\t8  \t0  \t1844  \t1.01142 \t143.918\t104\t368\t1  \t1844  \t62.7655\n",
      "105\t1805  \t0.378 \t105\t8  \t0  \t1805  \t1.06963 \t142.845\t105\t368\t5  \t1805  \t61.4948\n",
      "106\t1778  \t0.349 \t106\t8  \t0  \t1778  \t1.04556 \t143.429\t106\t383\t5  \t1778  \t61.4272\n",
      "107\t1802  \t0.3345\t107\t7  \t0  \t1802  \t1.04384 \t143.838\t107\t383\t4  \t1802  \t62.7887\n",
      "108\t1820  \t0.3565\t108\t8  \t0  \t1820  \t1.08093 \t142.384\t108\t386\t5  \t1820  \t64.5339\n",
      "109\t1806  \t0.3215\t109\t8  \t0  \t1806  \t0.995057\t143.213\t109\t375\t5  \t1806  \t64.3578\n",
      "110\t1822  \t0.347 \t110\t7  \t0  \t1822  \t1.05337 \t143.486\t110\t379\t5  \t1822  \t65.2861\n",
      "111\t1787  \t0.3225\t111\t8  \t0  \t1787  \t1.07121 \t141.52 \t111\t388\t5  \t1787  \t65.359 \n",
      "112\t1803  \t0.371 \t112\t6  \t0  \t1803  \t1.07301 \t141.052\t112\t389\t1  \t1803  \t66.8441\n",
      "113\t1833  \t0.3665\t113\t8  \t0  \t1833  \t1.08267 \t141.965\t113\t390\t5  \t1833  \t67.2955\n",
      "114\t1806  \t0.33  \t114\t8  \t0  \t1806  \t1.01247 \t144.482\t114\t378\t5  \t1806  \t66.5232\n",
      "115\t1793  \t0.3805\t115\t8  \t0  \t1793  \t1.12371 \t144.769\t115\t364\t6  \t1793  \t66.5506\n",
      "116\t1795  \t0.328 \t116\t8  \t0  \t1795  \t1.01706 \t142.353\t116\t383\t2  \t1795  \t67.0649\n",
      "117\t1820  \t0.383 \t117\t8  \t0  \t1820  \t1.11145 \t142.839\t117\t385\t2  \t1820  \t65.7358\n",
      "118\t1795  \t0.3075\t118\t8  \t0  \t1795  \t0.969507\t145.275\t118\t367\t4  \t1795  \t66.4792\n",
      "119\t1811  \t0.2895\t119\t8  \t0  \t1811  \t0.983712\t145.378\t119\t365\t3  \t1811  \t65.816 \n",
      "120\t1775  \t0.3325\t120\t8  \t0  \t1775  \t1.05164 \t143.996\t120\t352\t1  \t1775  \t63.9335\n",
      "121\t1829  \t0.3305\t121\t8  \t0  \t1829  \t1.02385 \t145.179\t121\t351\t5  \t1829  \t63.3656\n",
      "122\t1803  \t0.362 \t122\t8  \t0  \t1803  \t1.10858 \t141.72 \t122\t341\t5  \t1803  \t63.2725\n",
      "123\t1809  \t0.397 \t123\t8  \t0  \t1809  \t1.17915 \t141.395\t123\t395\t7  \t1809  \t62.8825\n",
      "124\t1772  \t0.3415\t124\t8  \t0  \t1772  \t1.0478  \t139.992\t124\t387\t5  \t1772  \t63.6201\n",
      "125\t1821  \t0.372 \t125\t8  \t0  \t1821  \t1.1021  \t140.71 \t125\t361\t3  \t1821  \t63.5441\n",
      "126\t1771  \t0.373 \t126\t8  \t0  \t1771  \t1.08391 \t138.73 \t126\t371\t5  \t1771  \t63.6116\n",
      "127\t1792  \t0.376 \t127\t8  \t0  \t1792  \t1.13474 \t139.529\t127\t371\t3  \t1792  \t64.6691\n",
      "128\t1800  \t0.331 \t128\t8  \t0  \t1800  \t1.01461 \t140.212\t128\t371\t5  \t1800  \t65.1304\n",
      "129\t1778  \t0.366 \t129\t8  \t0  \t1778  \t1.09318 \t141.336\t129\t371\t1  \t1778  \t65.2656\n",
      "130\t1817  \t0.3495\t130\t8  \t0  \t1817  \t1.05231 \t143.005\t130\t371\t5  \t1817  \t65.0851\n",
      "131\t1777  \t0.36  \t131\t8  \t0  \t1777  \t1.06649 \t140.574\t131\t384\t1  \t1777  \t65.1053\n",
      "132\t1801  \t0.3275\t132\t8  \t0  \t1801  \t1.02822 \t141.382\t132\t381\t5  \t1801  \t65.484 \n",
      "133\t1810  \t0.2925\t133\t8  \t0  \t1810  \t1.00992 \t144.039\t133\t381\t6  \t1810  \t64.9804\n",
      "134\t1812  \t0.3595\t134\t8  \t0  \t1812  \t1.07017 \t144.468\t134\t412\t5  \t1812  \t64.8919\n",
      "135\t1781  \t0.35  \t135\t8  \t0  \t1781  \t1.06794 \t144.165\t135\t383\t5  \t1781  \t64.5729\n",
      "136\t1782  \t0.3605\t136\t8  \t0  \t1782  \t1.08791 \t141.791\t136\t384\t5  \t1782  \t64.9934\n",
      "137\t1786  \t0.363 \t137\t8  \t0  \t1786  \t1.10374 \t142.375\t137\t384\t3  \t1786  \t65.7931\n",
      "138\t1773  \t0.3295\t138\t8  \t0  \t1773  \t1.04112 \t141.543\t138\t381\t1  \t1773  \t64.0849\n",
      "139\t1779  \t0.3125\t139\t8  \t0  \t1779  \t0.996415\t142.755\t139\t433\t5  \t1779  \t64.8751\n",
      "140\t1793  \t0.361 \t140\t8  \t0  \t1793  \t1.08152 \t142.4  \t140\t459\t1  \t1793  \t66.7939\n",
      "141\t1798  \t0.334 \t141\t8  \t0  \t1798  \t1.04472 \t142.483\t141\t401\t5  \t1798  \t65.6695\n",
      "142\t1808  \t0.35  \t142\t8  \t0  \t1808  \t1.08513 \t140.649\t142\t403\t5  \t1808  \t63.9761\n",
      "143\t1762  \t0.31  \t143\t8  \t0  \t1762  \t1.00394 \t137.776\t143\t388\t5  \t1762  \t61.7631\n",
      "144\t1801  \t0.322 \t144\t8  \t0  \t1801  \t1.02241 \t137.061\t144\t383\t5  \t1801  \t62.2503\n",
      "145\t1815  \t0.3195\t145\t8  \t0  \t1815  \t1.04279 \t133.43 \t145\t383\t5  \t1815  \t62.3914\n",
      "146\t1770  \t0.2885\t146\t8  \t0  \t1770  \t1.00113 \t136.434\t146\t389\t3  \t1770  \t62.7676\n",
      "147\t1792  \t0.312 \t147\t8  \t0  \t1792  \t1.02696 \t138.096\t147\t389\t5  \t1792  \t63.1341\n",
      "148\t1801  \t0.304 \t148\t8  \t0  \t1801  \t1.01911 \t142.113\t148\t403\t5  \t1801  \t63.5657\n",
      "149\t1820  \t0.3095\t149\t8  \t0  \t1820  \t1.04293 \t142.887\t149\t403\t3  \t1820  \t63.0975\n",
      "150\t1804  \t0.3125\t150\t8  \t0  \t1804  \t1.02949 \t143.898\t150\t398\t5  \t1804  \t63.2232\n",
      "151\t1759  \t0.299 \t151\t8  \t0  \t1759  \t1.01518 \t143.831\t151\t384\t5  \t1759  \t64.0806\n",
      "152\t1805  \t0.3305\t152\t8  \t0  \t1805  \t1.07994 \t141.542\t152\t393\t3  \t1805  \t64.9322\n",
      "153\t1818  \t0.2975\t153\t8  \t0  \t1818  \t1.00747 \t138.674\t153\t393\t1  \t1818  \t64.177 \n",
      "154\t1788  \t0.3645\t154\t8  \t0  \t1788  \t1.12323 \t137.912\t154\t393\t5  \t1788  \t64.2616\n",
      "155\t1799  \t0.339 \t155\t8  \t0  \t1799  \t1.0932  \t139.332\t155\t397\t5  \t1799  \t64.1104\n",
      "156\t1806  \t0.333 \t156\t8  \t0  \t1806  \t1.06542 \t139.319\t156\t398\t3  \t1806  \t63.6976\n",
      "157\t1805  \t0.335 \t157\t8  \t0  \t1805  \t1.0746  \t138.747\t157\t402\t3  \t1805  \t64.2439\n",
      "158\t1810  \t0.3695\t158\t8  \t0  \t1810  \t1.15671 \t139.235\t158\t402\t3  \t1810  \t64.654 \n",
      "159\t1805  \t0.322 \t159\t8  \t0  \t1805  \t1.03938 \t139.989\t159\t412\t2  \t1805  \t65.0039\n",
      "160\t1823  \t0.3175\t160\t8  \t0  \t1823  \t1.05437 \t142.52 \t160\t384\t5  \t1823  \t64.966 \n",
      "161\t1835  \t0.297 \t161\t8  \t0  \t1835  \t1.02068 \t142.19 \t161\t347\t3  \t1835  \t65.1056\n",
      "162\t1776  \t0.309 \t162\t8  \t0  \t1776  \t1.02933 \t140.805\t162\t347\t3  \t1776  \t66.7325\n",
      "163\t1804  \t0.302 \t163\t8  \t0  \t1804  \t1.02117 \t140.528\t163\t362\t5  \t1804  \t64.763 \n",
      "164\t1807  \t0.287 \t164\t8  \t0  \t1807  \t0.97449 \t138.822\t164\t362\t5  \t1807  \t64.4914\n",
      "165\t1795  \t0.292 \t165\t8  \t0  \t1795  \t1.02457 \t139.347\t165\t362\t5  \t1795  \t65.3295\n",
      "166\t1815  \t0.306 \t166\t8  \t0  \t1815  \t1.01949 \t138.746\t166\t368\t3  \t1815  \t66.2001\n",
      "167\t1768  \t0.305 \t167\t8  \t0  \t1768  \t1.01488 \t138.611\t167\t373\t3  \t1768  \t64.7242\n",
      "168\t1792  \t0.283 \t168\t8  \t0  \t1792  \t0.990914\t141.728\t168\t404\t5  \t1792  \t65.7609\n",
      "169\t1813  \t0.3265\t169\t7  \t0  \t1813  \t1.04302 \t138.661\t169\t402\t5  \t1813  \t65.1251\n",
      "170\t1838  \t0.2615\t170\t8  \t0  \t1838  \t0.932801\t139.549\t170\t402\t5  \t1838  \t64.2018\n",
      "171\t1785  \t0.297 \t171\t8  \t0  \t1785  \t0.998895\t137.786\t171\t399\t1  \t1785  \t64.952 \n",
      "172\t1831  \t0.3365\t172\t8  \t0  \t1831  \t1.12573 \t137.248\t172\t378\t3  \t1831  \t62.7595\n",
      "173\t1763  \t0.302 \t173\t8  \t0  \t1763  \t1.02166 \t136.307\t173\t371\t5  \t1763  \t60.7033\n",
      "174\t1831  \t0.293 \t174\t8  \t0  \t1831  \t1.00008 \t136.208\t174\t364\t5  \t1831  \t61.7597\n",
      "175\t1817  \t0.2895\t175\t8  \t0  \t1817  \t1.01818 \t136.828\t175\t366\t5  \t1817  \t61.397 \n",
      "176\t1786  \t0.2535\t176\t8  \t0  \t1786  \t0.913913\t136.781\t176\t360\t5  \t1786  \t62.5359\n",
      "177\t1797  \t0.2745\t177\t8  \t0  \t1797  \t0.991539\t134.778\t177\t344\t5  \t1797  \t60.883 \n",
      "178\t1814  \t0.307 \t178\t8  \t0  \t1814  \t1.01772 \t133.52 \t178\t346\t5  \t1814  \t59.8863\n",
      "179\t1787  \t0.2935\t179\t8  \t0  \t1787  \t1.02779 \t133.873\t179\t345\t3  \t1787  \t60.1172\n",
      "180\t1785  \t0.299 \t180\t8  \t0  \t1785  \t0.998799\t134.488\t180\t388\t5  \t1785  \t58.1612\n",
      "181\t1777  \t0.2725\t181\t8  \t0  \t1777  \t0.971207\t134.519\t181\t395\t5  \t1777  \t58.9232\n",
      "182\t1833  \t0.3125\t182\t8  \t0  \t1833  \t1.06388 \t136.979\t182\t397\t1  \t1833  \t58.5681\n",
      "183\t1805  \t0.311 \t183\t8  \t0  \t1805  \t1.02581 \t133.682\t183\t335\t5  \t1805  \t57.1126\n",
      "184\t1820  \t0.2925\t184\t8  \t0  \t1820  \t0.998471\t131.369\t184\t314\t5  \t1820  \t59.6117\n",
      "185\t1809  \t0.321 \t185\t8  \t0  \t1809  \t1.05497 \t132.846\t185\t319\t4  \t1809  \t61.6274\n",
      "186\t1801  \t0.286 \t186\t8  \t0  \t1801  \t0.987524\t133.071\t186\t319\t5  \t1801  \t61.4574\n",
      "187\t1805  \t0.335 \t187\t8  \t0  \t1805  \t1.06994 \t131.502\t187\t319\t5  \t1805  \t60.7598\n",
      "188\t1763  \t0.294 \t188\t8  \t0  \t1763  \t0.994266\t129.298\t188\t317\t3  \t1763  \t59.2205\n",
      "189\t1794  \t0.302 \t189\t8  \t0  \t1794  \t1.03961 \t128.925\t189\t360\t5  \t1794  \t60.6004\n",
      "190\t1790  \t0.3175\t190\t8  \t0  \t1790  \t1.04723 \t128.118\t190\t321\t3  \t1790  \t59.4536\n",
      "191\t1817  \t0.31  \t191\t8  \t0  \t1817  \t1.04254 \t127.612\t191\t315\t5  \t1817  \t60.0143\n",
      "192\t1833  \t0.2955\t192\t8  \t0  \t1833  \t1.03401 \t127.481\t192\t307\t5  \t1833  \t58.7119\n",
      "193\t1828  \t0.335 \t193\t8  \t0  \t1828  \t1.1112  \t128.575\t193\t303\t1  \t1828  \t60.7038\n",
      "194\t1793  \t0.298 \t194\t8  \t0  \t1793  \t1.01597 \t126.007\t194\t307\t4  \t1793  \t60.3067\n",
      "195\t1808  \t0.35  \t195\t8  \t0  \t1808  \t1.10521 \t125.442\t195\t339\t3  \t1808  \t60.4218\n",
      "196\t1778  \t0.3345\t196\t8  \t0  \t1778  \t1.07033 \t124.969\t196\t334\t3  \t1778  \t60.5351\n",
      "197\t1774  \t0.314 \t197\t8  \t0  \t1774  \t1.03942 \t124.454\t197\t300\t5  \t1774  \t60.2292\n",
      "198\t1807  \t0.3295\t198\t8  \t0  \t1807  \t1.06439 \t122.135\t198\t331\t3  \t1807  \t61.173 \n",
      "199\t1809  \t0.3355\t199\t8  \t0  \t1809  \t1.08025 \t121.684\t199\t314\t3  \t1809  \t60.9497\n",
      "200\t1822  \t0.323 \t200\t8  \t0  \t1822  \t1.06802 \t121.364\t200\t318\t5  \t1822  \t59.9773\n"
     ]
    },
    {
     "name": "stdout",
     "output_type": "stream",
     "text": [
      "197\t1776  \t3.3075 \t197\t64 \t0  \t1776  \t9.28838 \t182.496\t197\t384\t16 \t1776  \t62.2483\n",
      "198\t1781  \t3.322  \t198\t64 \t0  \t1781  \t9.35614 \t183.927\t198\t371\t22 \t1781  \t64.0354\n",
      "199\t1808  \t3.2725 \t199\t64 \t0  \t1808  \t9.2643  \t183.779\t199\t424\t6  \t1808  \t64.598 \n",
      "200\t1822  \t3.1045 \t200\t64 \t0  \t1822  \t9.30073 \t183.844\t200\t424\t15 \t1822  \t64.0991\n"
     ]
    }
   ],
   "source": [
    "population, logbook = algorithms.eaSimple(population,\n",
    "                                                  toolbox,\n",
    "                                                  cxpb=P_CROSSOVER,\n",
    "                                                  mutpb=P_MUTATION,\n",
    "                                                  ngen=MAX_GENERATIONS,\n",
    "                                                  stats=mstats,\n",
    "                                                  halloffame=hof,\n",
    "                                                  verbose=True)"
   ]
  },
  {
   "cell_type": "markdown",
   "metadata": {},
   "source": [
    "Extract our statistcs. This time our logbook has *chapters* because we have maintained multiple statistics."
   ]
  },
  {
   "cell_type": "code",
   "execution_count": 13,
   "metadata": {},
   "outputs": [
    {
     "name": "stdout",
     "output_type": "stream",
     "text": [
      "-- Best Individual =  xor(not_(and_(or_(in_0, in_2), and_(in_0, in_0))), or_(and_(and_(in_1, in_2), xor(0, 1)), xor(xor(in_0, or_(in_2, in_1)), not_(in_0))))\n",
      "-- length=25, height=5\n",
      "-- Best Fitness =  0.0\n"
     ]
    },
    {
     "data": {
      "image/png": "[encoded data removed]",
      "text/plain": [
       "<Figure size 640x480 with 1 Axes>"
      ]
     },
     "metadata": {},
     "output_type": "display_data"
    }
   ],
   "source": [
    "maxFitnessValues, meanFitnessValues = logbook.chapters['fitness'].select(\"min\", \"avg\")\n",
    "\n",
    "\n",
    "# print info for best solution found:\n",
    "best = hof.items[0]\n",
    "print(\"-- Best Individual = \", best)\n",
    "print(\"-- length={}, height={}\".format(len(best), best.height))\n",
    "print(\"-- Best Fitness = \", best.fitness.values[0])\n",
    "\n",
    "plt.plot(maxFitnessValues, color='red')\n",
    "plt.plot(meanFitnessValues, color='green')\n",
    "plt.xlabel('Generation')\n",
    "plt.ylabel('Max / Average Fitness')\n",
    "plt.title('Max and Average Fitness over Generations')\n",
    "plt.show()"
   ]
  },
  {
   "cell_type": "markdown",
   "metadata": {},
   "source": [
    "Now, this looks way more interesting than the Symbolic Regression graph as GP is really being made to work hard here!"
   ]
  }
 ],
 "metadata": {
  "kernelspec": {
   "display_name": "Python 3 (ipykernel)",
   "language": "python",
   "name": "python3"
  },
  "language_info": {
   "codemirror_mode": {
    "name": "ipython",
    "version": 3
   },
   "file_extension": ".py",
   "mimetype": "text/x-python",
   "name": "python",
   "nbconvert_exporter": "python",
   "pygments_lexer": "ipython3",
   "version": "3.10.12"
  }
 },
 "nbformat": 4,
 "nbformat_minor": 4
}
