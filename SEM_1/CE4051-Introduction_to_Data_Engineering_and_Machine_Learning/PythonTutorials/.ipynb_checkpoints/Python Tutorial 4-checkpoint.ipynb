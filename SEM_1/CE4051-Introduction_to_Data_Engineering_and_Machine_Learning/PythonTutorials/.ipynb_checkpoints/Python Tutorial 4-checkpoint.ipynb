{
 "cells": [
  {
   "cell_type": "markdown",
   "metadata": {},
   "source": [
    "# Tutorial 4\n",
    "\n",
    "In this tutorial, we will cover:\n",
    " * Basic random numbers\n",
    " * Plotting a histogram in matplotlib\n",
    " * Reading a CSV data file using Pandas\n",
    " * Training a machine learning algorithm using scikit-learn"
   ]
  },
  {
   "cell_type": "markdown",
   "metadata": {},
   "source": [
    "\n",
    "## A little bit about random numbers and plotting histograms"
   ]
  },
  {
   "cell_type": "code",
   "execution_count": 46,
   "metadata": {},
   "outputs": [
    {
     "data": {
      "image/png": "[encoded data removed]",
      "text/plain": [
       "<Figure size 432x288 with 1 Axes>"
      ]
     },
     "metadata": {
      "needs_background": "light"
     },
     "output_type": "display_data"
    }
   ],
   "source": [
    "import random as rnd\n",
    "import matplotlib.pyplot as plt\n",
    "\n",
    "x = []\n",
    "for i in range(0,1000):\n",
    "    x.append(rnd.uniform(-10,10))\n",
    "\n",
    "plt.hist(x, bins=50)\n",
    "plt.show()"
   ]
  },
  {
   "cell_type": "code",
   "execution_count": 47,
   "metadata": {},
   "outputs": [
    {
     "data": {
      "image/png": "[encoded data removed]",
      "text/plain": [
       "<Figure size 432x288 with 1 Axes>"
      ]
     },
     "metadata": {
      "needs_background": "light"
     },
     "output_type": "display_data"
    }
   ],
   "source": [
    "import random as rnd\n",
    "import matplotlib.pyplot as plt\n",
    "\n",
    "x = [rnd.gauss(1,5) for i in range(0,1000)]\n",
    "plt.hist(x, bins=50)\n",
    "plt.show()"
   ]
  },
  {
   "cell_type": "markdown",
   "metadata": {},
   "source": [
    "## Reading from CSV"
   ]
  },
  {
   "attachments": {
    "image.png": {
     "image/png": "[encoded data removed]"
    }
   },
   "cell_type": "markdown",
   "metadata": {},
   "source": [
    "## Let's have a look at the CSV file\n",
    "\n",
    "![image.png](attachment:image.png)"
   ]
  },
  {
   "cell_type": "code",
   "execution_count": 2,
   "metadata": {},
   "outputs": [],
   "source": [
    "import pandas         # We'll use Pandas to read and visualise some data"
   ]
  },
  {
   "cell_type": "code",
   "execution_count": 3,
   "metadata": {},
   "outputs": [],
   "source": [
    "# Read the data from the .csv, using the first row as the headers of the data\n",
    "# Pandas can read many file formats - let's have a look at the different file formats (https://pandas.pydata.org/pandas-docs/stable/user_guide/io.html)\n",
    "# We will concentrate on reading \n",
    "\n",
    "data = pandas.read_csv('01_heights_weights_genders.csv',header=0)   # header=0 means that the zero'th row is the header names"
   ]
  },
  {
   "cell_type": "code",
   "execution_count": 6,
   "metadata": {},
   "outputs": [
    {
     "name": "stdout",
     "output_type": "stream",
     "text": [
      "      Gender     Height      Weight\n",
      "0       Male  73.847017  241.893563\n",
      "1       Male  68.781904  162.310473\n",
      "2       Male  74.110105  212.740856\n",
      "3       Male  71.730978  220.042470\n",
      "4       Male  69.881796  206.349801\n",
      "...      ...        ...         ...\n",
      "9995  Female  66.172652  136.777454\n",
      "9996  Female  67.067155  170.867906\n",
      "9997  Female  63.867992  128.475319\n",
      "9998  Female  69.034243  163.852461\n",
      "9999  Female  61.944246  113.649103\n",
      "\n",
      "[10000 rows x 3 columns]\n"
     ]
    }
   ],
   "source": [
    "# Print the data - gives a quick summary of the data\n",
    "print(data)"
   ]
  },
  {
   "cell_type": "markdown",
   "metadata": {},
   "source": [
    "## Accessing the data"
   ]
  },
  {
   "cell_type": "code",
   "execution_count": 7,
   "metadata": {},
   "outputs": [
    {
     "name": "stdout",
     "output_type": "stream",
     "text": [
      "0         Male\n",
      "1         Male\n",
      "2         Male\n",
      "3         Male\n",
      "4         Male\n",
      "         ...  \n",
      "9995    Female\n",
      "9996    Female\n",
      "9997    Female\n",
      "9998    Female\n",
      "9999    Female\n",
      "Name: Gender, Length: 10000, dtype: object\n"
     ]
    }
   ],
   "source": [
    "# Print columns of the data\n",
    "print(data['Gender'])"
   ]
  },
  {
   "cell_type": "code",
   "execution_count": 8,
   "metadata": {},
   "outputs": [
    {
     "name": "stdout",
     "output_type": "stream",
     "text": [
      "0       73.847017\n",
      "1       68.781904\n",
      "2       74.110105\n",
      "3       71.730978\n",
      "4       69.881796\n",
      "          ...    \n",
      "9995    66.172652\n",
      "9996    67.067155\n",
      "9997    63.867992\n",
      "9998    69.034243\n",
      "9999    61.944246\n",
      "Name: Height, Length: 10000, dtype: float64\n"
     ]
    }
   ],
   "source": [
    "print(data['Height'])"
   ]
  },
  {
   "cell_type": "code",
   "execution_count": 9,
   "metadata": {},
   "outputs": [
    {
     "name": "stdout",
     "output_type": "stream",
     "text": [
      "         Height      Weight\n",
      "0     73.847017  241.893563\n",
      "1     68.781904  162.310473\n",
      "2     74.110105  212.740856\n",
      "3     71.730978  220.042470\n",
      "4     69.881796  206.349801\n",
      "...         ...         ...\n",
      "9995  66.172652  136.777454\n",
      "9996  67.067155  170.867906\n",
      "9997  63.867992  128.475319\n",
      "9998  69.034243  163.852461\n",
      "9999  61.944246  113.649103\n",
      "\n",
      "[10000 rows x 2 columns]\n"
     ]
    }
   ],
   "source": [
    "# Print two columns - notice the embedded lists? The double square brackets?\n",
    "print(data[['Height','Weight']])"
   ]
  },
  {
   "cell_type": "code",
   "execution_count": 10,
   "metadata": {},
   "outputs": [
    {
     "data": {
      "text/plain": [
       "0       73.847017\n",
       "1       68.781904\n",
       "2       74.110105\n",
       "3       71.730978\n",
       "4       69.881796\n",
       "          ...    \n",
       "9995    66.172652\n",
       "9996    67.067155\n",
       "9997    63.867992\n",
       "9998    69.034243\n",
       "9999    61.944246\n",
       "Name: Height, Length: 10000, dtype: float64"
      ]
     },
     "execution_count": 10,
     "metadata": {},
     "output_type": "execute_result"
    }
   ],
   "source": [
    "# Also access a column of data like this\n",
    "data.Height"
   ]
  },
  {
   "cell_type": "code",
   "execution_count": 11,
   "metadata": {},
   "outputs": [
    {
     "data": {
      "text/plain": [
       "0       241.893563\n",
       "1       162.310473\n",
       "2       212.740856\n",
       "3       220.042470\n",
       "4       206.349801\n",
       "           ...    \n",
       "9995    136.777454\n",
       "9996    170.867906\n",
       "9997    128.475319\n",
       "9998    163.852461\n",
       "9999    113.649103\n",
       "Name: Weight, Length: 10000, dtype: float64"
      ]
     },
     "execution_count": 11,
     "metadata": {},
     "output_type": "execute_result"
    }
   ],
   "source": [
    "data.Weight"
   ]
  },
  {
   "cell_type": "code",
   "execution_count": 12,
   "metadata": {},
   "outputs": [
    {
     "data": {
      "text/plain": [
       "241.893563180437"
      ]
     },
     "execution_count": 12,
     "metadata": {},
     "output_type": "execute_result"
    }
   ],
   "source": [
    "# And an individual element like this\n",
    "data.Weight[0]"
   ]
  },
  {
   "cell_type": "code",
   "execution_count": 13,
   "metadata": {},
   "outputs": [
    {
     "data": {
      "text/plain": [
       "Gender       Male\n",
       "Height     73.847\n",
       "Weight    241.894\n",
       "Name: 0, dtype: object"
      ]
     },
     "execution_count": 13,
     "metadata": {},
     "output_type": "execute_result"
    }
   ],
   "source": [
    "# Get a row - use the loc\n",
    "data.loc[0]"
   ]
  },
  {
   "cell_type": "code",
   "execution_count": 14,
   "metadata": {},
   "outputs": [
    {
     "data": {
      "text/plain": [
       "array(['Male', 68.78190404589029, 162.3104725213], dtype=object)"
      ]
     },
     "execution_count": 14,
     "metadata": {},
     "output_type": "execute_result"
    }
   ],
   "source": [
    "# and you can get a numpy array\n",
    "data.loc[1].values"
   ]
  },
  {
   "cell_type": "code",
   "execution_count": 15,
   "metadata": {},
   "outputs": [
    {
     "data": {
      "text/html": [
       "<div>\n",
       "<style scoped>\n",
       "    .dataframe tbody tr th:only-of-type {\n",
       "        vertical-align: middle;\n",
       "    }\n",
       "\n",
       "    .dataframe tbody tr th {\n",
       "        vertical-align: top;\n",
       "    }\n",
       "\n",
       "    .dataframe thead th {\n",
       "        text-align: right;\n",
       "    }\n",
       "</style>\n",
       "<table border=\"1\" class=\"dataframe\">\n",
       "  <thead>\n",
       "    <tr style=\"text-align: right;\">\n",
       "      <th></th>\n",
       "      <th>Gender</th>\n",
       "      <th>Height</th>\n",
       "      <th>Weight</th>\n",
       "    </tr>\n",
       "  </thead>\n",
       "  <tbody>\n",
       "    <tr>\n",
       "      <th>5000</th>\n",
       "      <td>Female</td>\n",
       "      <td>58.910732</td>\n",
       "      <td>102.088326</td>\n",
       "    </tr>\n",
       "    <tr>\n",
       "      <th>5001</th>\n",
       "      <td>Female</td>\n",
       "      <td>65.230013</td>\n",
       "      <td>141.305823</td>\n",
       "    </tr>\n",
       "    <tr>\n",
       "      <th>5002</th>\n",
       "      <td>Female</td>\n",
       "      <td>63.369004</td>\n",
       "      <td>131.041403</td>\n",
       "    </tr>\n",
       "    <tr>\n",
       "      <th>5003</th>\n",
       "      <td>Female</td>\n",
       "      <td>64.479997</td>\n",
       "      <td>128.171511</td>\n",
       "    </tr>\n",
       "    <tr>\n",
       "      <th>5004</th>\n",
       "      <td>Female</td>\n",
       "      <td>61.793096</td>\n",
       "      <td>129.781407</td>\n",
       "    </tr>\n",
       "    <tr>\n",
       "      <th>...</th>\n",
       "      <td>...</td>\n",
       "      <td>...</td>\n",
       "      <td>...</td>\n",
       "    </tr>\n",
       "    <tr>\n",
       "      <th>9995</th>\n",
       "      <td>Female</td>\n",
       "      <td>66.172652</td>\n",
       "      <td>136.777454</td>\n",
       "    </tr>\n",
       "    <tr>\n",
       "      <th>9996</th>\n",
       "      <td>Female</td>\n",
       "      <td>67.067155</td>\n",
       "      <td>170.867906</td>\n",
       "    </tr>\n",
       "    <tr>\n",
       "      <th>9997</th>\n",
       "      <td>Female</td>\n",
       "      <td>63.867992</td>\n",
       "      <td>128.475319</td>\n",
       "    </tr>\n",
       "    <tr>\n",
       "      <th>9998</th>\n",
       "      <td>Female</td>\n",
       "      <td>69.034243</td>\n",
       "      <td>163.852461</td>\n",
       "    </tr>\n",
       "    <tr>\n",
       "      <th>9999</th>\n",
       "      <td>Female</td>\n",
       "      <td>61.944246</td>\n",
       "      <td>113.649103</td>\n",
       "    </tr>\n",
       "  </tbody>\n",
       "</table>\n",
       "<p>5000 rows × 3 columns</p>\n",
       "</div>"
      ],
      "text/plain": [
       "      Gender     Height      Weight\n",
       "5000  Female  58.910732  102.088326\n",
       "5001  Female  65.230013  141.305823\n",
       "5002  Female  63.369004  131.041403\n",
       "5003  Female  64.479997  128.171511\n",
       "5004  Female  61.793096  129.781407\n",
       "...      ...        ...         ...\n",
       "9995  Female  66.172652  136.777454\n",
       "9996  Female  67.067155  170.867906\n",
       "9997  Female  63.867992  128.475319\n",
       "9998  Female  69.034243  163.852461\n",
       "9999  Female  61.944246  113.649103\n",
       "\n",
       "[5000 rows x 3 columns]"
      ]
     },
     "execution_count": 15,
     "metadata": {},
     "output_type": "execute_result"
    }
   ],
   "source": [
    "# Get all the Female samples\n",
    "data.loc[data['Gender']=='Female']"
   ]
  },
  {
   "cell_type": "code",
   "execution_count": 51,
   "metadata": {},
   "outputs": [
    {
     "data": {
      "text/plain": [
       "Index(['Gender', 'Height', 'Weight'], dtype='object')"
      ]
     },
     "execution_count": 51,
     "metadata": {},
     "output_type": "execute_result"
    }
   ],
   "source": [
    "# Get the names, but this returns a object of type Index\n",
    "data.columns"
   ]
  },
  {
   "cell_type": "code",
   "execution_count": 52,
   "metadata": {},
   "outputs": [
    {
     "data": {
      "text/plain": [
       "array(['Gender', 'Height', 'Weight'], dtype=object)"
      ]
     },
     "execution_count": 52,
     "metadata": {},
     "output_type": "execute_result"
    }
   ],
   "source": [
    "# For easier manipulation, we might want an no.array of the column names\n",
    "data.columns.values"
   ]
  },
  {
   "cell_type": "markdown",
   "metadata": {},
   "source": [
    "### I'm not even sure of all the functionality in the Pandas module....\n",
    "\n",
    "There's a wealth of ways to access and manipulate data with Pandas. I'll leave it to you to play around with this.\n",
    "\n",
    "Main thing for the e-tivity is to separate the labels and the training data in our height/weight/gender dataset. We want to use height and weight to predict gender, ultimately.\n",
    "\n",
    "We'll use the iloc functionality - integer based location indexing. When we use iloc, it's similar to numpy accessing. It allows us to do element access, slicing and so on."
   ]
  },
  {
   "cell_type": "code",
   "execution_count": 21,
   "metadata": {},
   "outputs": [
    {
     "name": "stdout",
     "output_type": "stream",
     "text": [
      "         Height      Weight\n",
      "0     73.847017  241.893563\n",
      "1     68.781904  162.310473\n",
      "2     74.110105  212.740856\n",
      "3     71.730978  220.042470\n",
      "4     69.881796  206.349801\n",
      "...         ...         ...\n",
      "9995  66.172652  136.777454\n",
      "9996  67.067155  170.867906\n",
      "9997  63.867992  128.475319\n",
      "9998  69.034243  163.852461\n",
      "9999  61.944246  113.649103\n",
      "\n",
      "[10000 rows x 2 columns]\n",
      "0         Male\n",
      "1         Male\n",
      "2         Male\n",
      "3         Male\n",
      "4         Male\n",
      "         ...  \n",
      "9995    Female\n",
      "9996    Female\n",
      "9997    Female\n",
      "9998    Female\n",
      "9999    Female\n",
      "Name: Gender, Length: 10000, dtype: object\n"
     ]
    }
   ],
   "source": [
    "X = data.iloc[:,1:3] # X is the features in our dataset\n",
    "y = data.iloc[:,0]   # y is the Labels in our dataset\n",
    "\n",
    "print(X)\n",
    "print(y)"
   ]
  },
  {
   "cell_type": "code",
   "execution_count": 22,
   "metadata": {},
   "outputs": [
    {
     "name": "stdout",
     "output_type": "stream",
     "text": [
      "[[ 73.84701702 241.89356318]\n",
      " [ 68.78190405 162.31047252]\n",
      " [ 74.11010539 212.74085556]\n",
      " ...\n",
      " [ 63.86799221 128.47531878]\n",
      " [ 69.03424313 163.85246135]\n",
      " [ 61.94424588 113.64910268]]\n",
      "['Male' 'Male' 'Male' ... 'Female' 'Female' 'Female']\n"
     ]
    }
   ],
   "source": [
    "# Acess numpy array? - use the 'values' keyword to return np array\n",
    "X_np = data.iloc[:,1:3].values # X is the features in our dataset\n",
    "y_np = data.iloc[:,0].values   # y is the Labels in our dataset\n",
    "\n",
    "print(X_np)\n",
    "print(y_np)"
   ]
  },
  {
   "cell_type": "markdown",
   "metadata": {},
   "source": [
    "## Simple Pandas plotting\n",
    "\n",
    "We'll go through some very basic Pandas plotting. If you like, you can also use matplotlib to plot things. They are very similar results.\n",
    "\n",
    "There are various different types of plots. Here, we'll use a scatter plot - I leave it up to you if you want to use other plotting types.\n",
    "\n",
    "This is also a 2D plot - we have to tell the Pandas plotting what we want on the X axis and what we want on the Y axis"
   ]
  },
  {
   "cell_type": "code",
   "execution_count": 23,
   "metadata": {},
   "outputs": [
    {
     "data": {
      "text/plain": [
       "<matplotlib.axes._subplots.AxesSubplot at 0x15d7d5a2288>"
      ]
     },
     "execution_count": 23,
     "metadata": {},
     "output_type": "execute_result"
    },
    {
     "data": {
      "image/png": "[encoded data removed]",
      "text/plain": [
       "<Figure size 432x288 with 1 Axes>"
      ]
     },
     "metadata": {
      "needs_background": "light"
     },
     "output_type": "display_data"
    }
   ],
   "source": [
    "data.plot(kind='scatter',x=\"Height\",y=\"Weight\")"
   ]
  },
  {
   "cell_type": "markdown",
   "metadata": {},
   "source": [
    "This is definitely a scatter plot, but there's no way to tell which portion is male and which is female!\n",
    "\n",
    "We need to color the dots based on the gender."
   ]
  },
  {
   "cell_type": "code",
   "execution_count": 24,
   "metadata": {},
   "outputs": [
    {
     "name": "stdout",
     "output_type": "stream",
     "text": [
      "0         Male\n",
      "1         Male\n",
      "2         Male\n",
      "3         Male\n",
      "4         Male\n",
      "         ...  \n",
      "9995    Female\n",
      "9996    Female\n",
      "9997    Female\n",
      "9998    Female\n",
      "9999    Female\n",
      "Name: Gender, Length: 10000, dtype: object\n",
      "0        red\n",
      "1        red\n",
      "2        red\n",
      "3        red\n",
      "4        red\n",
      "        ... \n",
      "9995    blue\n",
      "9996    blue\n",
      "9997    blue\n",
      "9998    blue\n",
      "9999    blue\n",
      "Name: Gender, Length: 10000, dtype: object\n"
     ]
    }
   ],
   "source": [
    "# We use a disctionary to map from gender to colour\n",
    "\n",
    "colors ={\"Male\" : \"red\", \"Female\" : \"blue\"}\n",
    "\n",
    "print(data.Gender) # So I take my gender column\n",
    "print(data.Gender.map(colors)) # And I want to map what's in my Gender column to colours I define in my dictionary above"
   ]
  },
  {
   "cell_type": "code",
   "execution_count": 25,
   "metadata": {},
   "outputs": [
    {
     "data": {
      "image/png": "[encoded data removed]",
      "text/plain": [
       "<Figure size 432x288 with 1 Axes>"
      ]
     },
     "metadata": {
      "needs_background": "light"
     },
     "output_type": "display_data"
    }
   ],
   "source": [
    "# Then I can use this new list of colours per entry to colour my objects\n",
    "data.plot(kind='scatter',x=\"Height\",y=\"Weight\",c=data.Gender.map(colors));"
   ]
  },
  {
   "cell_type": "code",
   "execution_count": 26,
   "metadata": {},
   "outputs": [
    {
     "data": {
      "text/plain": [
       "<matplotlib.axes._subplots.AxesSubplot at 0x15d7d565f88>"
      ]
     },
     "execution_count": 26,
     "metadata": {},
     "output_type": "execute_result"
    },
    {
     "data": {
      "image/png": "[encoded data removed]",
      "text/plain": [
       "<Figure size 432x288 with 1 Axes>"
      ]
     },
     "metadata": {
      "needs_background": "light"
     },
     "output_type": "display_data"
    }
   ],
   "source": [
    "# I can do it a different way without building a map from gener to colour\n",
    "ax = data[data.Gender == \"Male\"].plot(kind='scatter',x=\"Height\",y=\"Weight\",c=\"red\")\n",
    "data[data.Gender == \"Female\"].plot(kind='scatter',x=\"Height\",y=\"Weight\",c=\"blue\", ax=ax)"
   ]
  },
  {
   "cell_type": "markdown",
   "metadata": {},
   "source": [
    "#### What can we say about this data?\n",
    "\n",
    "We're trying to predict gender from heigth and weight. There isn't a great separation, but it would seem that we can be reasonably successful with it. Definitely a tendancy for males to be taller and heavier, females to be shorter and lighter"
   ]
  },
  {
   "cell_type": "markdown",
   "metadata": {},
   "source": [
    "## SciKit Learn\n",
    "\n",
    "Again, we won't go through a whole tutorial on using scikit learn. You will learn that in the coming e-tivities. But we will go through here what you need for e-tivity 3.\n",
    "\n",
    "We'll first look at the train-test split.\n",
    "\n",
    "In a machine learning algorithm, you want to be able to split your data into a training dataset and a testing dataset, and even sometimes a validation dataset. This allows you to train your algorithm on one part of the data, and then to test the performance on another part of the data. The key thing is that they cannot overlap.\n",
    "\n",
    "We'll use the train test split functionality in scikit learn to do this.\n",
    "\n",
    "#### You may be getting the feeling that I'm more or less giving you the solution here for the second task ... you are right :) But don't get comfortable, this is the only time I'll do this in these tutorials. In future you'll have to figure out for yourself how to use other sci-kit learn functionality, like SVMs and Logistic Regression."
   ]
  },
  {
   "cell_type": "code",
   "execution_count": 27,
   "metadata": {},
   "outputs": [],
   "source": [
    "# divide the dataset in train test using scikit learn\n",
    "# now the model will train in training dataset and then we will use test dataset to predict its accuracy\n",
    "\n",
    "from sklearn.model_selection import train_test_split   # Notice the new way of pulling in the module?\n",
    "\n",
    "(X_train, X_test, y_train, y_test) = train_test_split(X, y, test_size=0.33)\n",
    "\n",
    "# Note the multiple variables being returned from the one function call?"
   ]
  },
  {
   "cell_type": "code",
   "execution_count": 28,
   "metadata": {},
   "outputs": [
    {
     "name": "stdout",
     "output_type": "stream",
     "text": [
      "         Height      Weight\n",
      "2483  68.368597  164.903328\n",
      "1071  69.295546  178.175370\n",
      "2758  66.559730  179.216570\n",
      "6766  68.186814  159.033590\n",
      "3806  63.174847  139.902071\n",
      "...         ...         ...\n",
      "6261  60.434055  118.481624\n",
      "1841  72.021975  202.746637\n",
      "7615  65.072666  145.668534\n",
      "3682  67.018179  164.893570\n",
      "7517  66.834258  165.092926\n",
      "\n",
      "[6700 rows x 2 columns]\n",
      "         Height      Weight\n",
      "9417  65.688044  150.271432\n",
      "5570  65.386691  154.239363\n",
      "7050  63.460746  127.305711\n",
      "3679  66.342209  165.699392\n",
      "8387  64.830943  156.954377\n",
      "...         ...         ...\n",
      "8871  64.267174  140.303091\n",
      "5399  62.396154  127.032748\n",
      "156   68.838463  179.907717\n",
      "4491  71.316988  199.157695\n",
      "7023  63.522955  136.570486\n",
      "\n",
      "[3300 rows x 2 columns]\n"
     ]
    }
   ],
   "source": [
    "print(X_train)   ## X is my features\n",
    "print(X_test)"
   ]
  },
  {
   "cell_type": "code",
   "execution_count": 29,
   "metadata": {},
   "outputs": [
    {
     "name": "stdout",
     "output_type": "stream",
     "text": [
      "2483      Male\n",
      "1071      Male\n",
      "2758      Male\n",
      "6766    Female\n",
      "3806      Male\n",
      "         ...  \n",
      "6261    Female\n",
      "1841      Male\n",
      "7615    Female\n",
      "3682      Male\n",
      "7517    Female\n",
      "Name: Gender, Length: 6700, dtype: object\n",
      "9417    Female\n",
      "5570    Female\n",
      "7050    Female\n",
      "3679      Male\n",
      "8387    Female\n",
      "         ...  \n",
      "8871    Female\n",
      "5399    Female\n",
      "156       Male\n",
      "4491      Male\n",
      "7023    Female\n",
      "Name: Gender, Length: 3300, dtype: object\n"
     ]
    }
   ],
   "source": [
    "print(y_train)   ## Y are my predictors\n",
    "print(y_test)"
   ]
  },
  {
   "cell_type": "markdown",
   "metadata": {},
   "source": [
    "### Train the algorithm\n",
    "We won't go into the details here, but we will use a Gaussian Naive Bayesian. Use GaussianNB from sklearn to train the model. The Gaussian is needed as we're dealing with sparse, continuous data"
   ]
  },
  {
   "cell_type": "code",
   "execution_count": 30,
   "metadata": {},
   "outputs": [],
   "source": [
    "from sklearn.naive_bayes import GaussianNB\n",
    "\n",
    "# Here we are training our model ... use the training data\n",
    "gender_model = GaussianNB().fit(X_train, y_train) #fitting our model"
   ]
  },
  {
   "cell_type": "code",
   "execution_count": 54,
   "metadata": {},
   "outputs": [
    {
     "name": "stdout",
     "output_type": "stream",
     "text": [
      "         Height      Weight\n",
      "9417  65.688044  150.271432\n",
      "5570  65.386691  154.239363\n",
      "7050  63.460746  127.305711\n",
      "3679  66.342209  165.699392\n",
      "8387  64.830943  156.954377\n",
      "...         ...         ...\n",
      "8871  64.267174  140.303091\n",
      "5399  62.396154  127.032748\n",
      "156   68.838463  179.907717\n",
      "4491  71.316988  199.157695\n",
      "7023  63.522955  136.570486\n",
      "\n",
      "[3300 rows x 2 columns]\n",
      "\n",
      "['Female' 'Female' 'Female' ... 'Male' 'Male' 'Female']\n",
      "['Female' 'Female' 'Female' ... 'Male' 'Male' 'Female']\n"
     ]
    }
   ],
   "source": [
    "# Now let us predict using the modle and our dataset\n",
    "\n",
    "y_pred = gender_model.predict(X_test) #now predicting our model to our test dataset\n",
    "\n",
    "print(X_test)\n",
    "print()\n",
    "print(y_pred)\n",
    "print(y_test.values)"
   ]
  },
  {
   "cell_type": "code",
   "execution_count": 33,
   "metadata": {},
   "outputs": [
    {
     "name": "stdout",
     "output_type": "stream",
     "text": [
      "0.8881818181818182\n"
     ]
    }
   ],
   "source": [
    "from sklearn.metrics import accuracy_score\n",
    "\n",
    "# Check the accuracy by comparing our known test data gender with the predicted gender\n",
    "accuracy_score = accuracy_score(y_test, y_pred) \n",
    "print (accuracy_score)"
   ]
  }
 ],
 "metadata": {
  "kernelspec": {
   "display_name": "Python 3",
   "language": "python",
   "name": "python3"
  },
  "language_info": {
   "codemirror_mode": {
    "name": "ipython",
    "version": 3
   },
   "file_extension": ".py",
   "mimetype": "text/x-python",
   "name": "python",
   "nbconvert_exporter": "python",
   "pygments_lexer": "ipython3",
   "version": "3.8.3"
  }
 },
 "nbformat": 4,
 "nbformat_minor": 4
}
