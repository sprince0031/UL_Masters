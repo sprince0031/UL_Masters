{
 "cells": [
  {
   "cell_type": "markdown",
   "metadata": {},
   "source": [
    "### Your details"
   ]
  },
  {
   "cell_type": "markdown",
   "metadata": {},
   "source": [
    "Name: **Siddharth Prince**"
   ]
  },
  {
   "cell_type": "markdown",
   "metadata": {},
   "source": [
    "ID number: **23052058**"
   ]
  },
  {
   "cell_type": "markdown",
   "metadata": {},
   "source": [
    "# Task 1"
   ]
  },
  {
   "cell_type": "markdown",
   "metadata": {},
   "source": [
    "## Approach\n",
    "\n",
    "(Describe the approaches you took, etc.)"
   ]
  },
  {
   "cell_type": "markdown",
   "metadata": {},
   "source": [
    "## Manual Calculations\n",
    "\n",
    "(If you used manual calculations to verify your code, mention them here)"
   ]
  },
  {
   "cell_type": "markdown",
   "metadata": {},
   "source": [
    "## Code"
   ]
  },
  {
   "cell_type": "markdown",
   "metadata": {},
   "source": [
    "### House keeping code which includes any imports, general variable declarations, etc"
   ]
  },
  {
   "cell_type": "code",
   "execution_count": 5,
   "metadata": {},
   "outputs": [],
   "source": [
    "# Imports\n",
    "import numpy as np\n",
    "from typing import List"
   ]
  },
  {
   "cell_type": "markdown",
   "metadata": {},
   "source": [
    "### Note\n",
    "\n",
    "The first code cell below contains all class code and util functions that would be useful in the context of a vector object. All the functions that implement the solutions to the given problems shall be provided in their own cells after the below code cell. This is my attempt at presenting my code in more readable chunks instead of a single class block with all the code in it.\n",
    "\n",
    "### a. Vectors"
   ]
  },
  {
   "cell_type": "code",
   "execution_count": 88,
   "metadata": {},
   "outputs": [],
   "source": [
    "# Defining a vector class so that it becomes more intuitive and straightforward to use these as objects and reduce code repetition.\n",
    "# Working with Java for 3 years in industry has changed me as a programmer. :)\n",
    "class Vector:\n",
    "    # Initialising a Vector object with a list of numbers provided.\n",
    "    def __init__(self, v: List):\n",
    "        self.v = v\n",
    "        self.len = len(v)\n",
    "\n",
    "    # Defining the string representation of the object for print(). \n",
    "    # I did notice that numpy prints all elements without the comma, but that just seems cosmetic here.\n",
    "    def __str__(self):\n",
    "        return str(self.v)\n",
    "\n",
    "    # Util function to set all values of the vector.\n",
    "    def setVector(self, v: List):\n",
    "        self.v = v\n",
    "        "
   ]
  },
  {
   "cell_type": "code",
   "execution_count": 89,
   "metadata": {},
   "outputs": [],
   "source": [
    "# Util function that checks if the passed Vector object has the same length as the current Vector object.\n",
    "def checkIfEqualSize(self, v: Vector):\n",
    "    return self.len == v.len\n",
    "\n",
    "# adding above util function to the Vector class. \n",
    "# Had to add this in a separate code cell as I needed to check the passed parameter by type Vector.\n",
    "Vector.checkIfEqualSize = checkIfEqualSize"
   ]
  },
  {
   "cell_type": "markdown",
   "metadata": {},
   "source": [
    "### Task 1.a.i Scalar multiplication of vectors  \n",
    "Scalar multiplication or \"scaling\" a vector as intuitively explained by 3B1B, is multiplying all components of a vector (usually the x, y and z components which represents it in 3d space) by a constant factor.  \n",
    "\n",
    "In my below implementation of the function to scale a vector, I have added the function \"scaleVector\" to the Vector class. The only parameter that is required is the scalar value. This function multiplies the vector object in place and prints the new vector object."
   ]
  },
  {
   "cell_type": "code",
   "execution_count": 90,
   "metadata": {},
   "outputs": [],
   "source": [
    "# Function to scale a vector. This function changes the vector values in place.\n",
    "def scaleVector(self, scalar: float):\n",
    "    self.v = [scalar*i for i in self.v]\n",
    "    print(f\"New scaled vector: {self.v}\")\n",
    "\n",
    "# adding the above function to the Vector class\n",
    "Vector.scale = scaleVector"
   ]
  },
  {
   "cell_type": "code",
   "execution_count": 91,
   "metadata": {},
   "outputs": [
    {
     "name": "stdout",
     "output_type": "stream",
     "text": [
      "Scaling v1 by a factor of 2:\n",
      "New scaled vector: [2, 4, 6]\n",
      "Scaling v1 by a factor of -0.5:\n",
      "New scaled vector: [-1.0, -2.0, -3.0]\n",
      "Setting new values to v1:\n",
      "Scaling v2 by a factor of 2:\n",
      "New scaled vector: [28024, -104, 664.2]\n"
     ]
    }
   ],
   "source": [
    "# Test cases\n",
    "v1 = Vector([1,2,3])\n",
    "print('Scaling v1 by a factor of 2:')\n",
    "v1.scale(2)\n",
    "print('Scaling v1 by a factor of -0.5:')\n",
    "v1.scale(-0.5)\n",
    "print('Setting new values to v1:')\n",
    "v1.setVector([1,2,3]) # testing the setVector util function where it will change an existing vector to the new values provided\n",
    "v2 = Vector([14012, -52, 332.1])\n",
    "print('Scaling v2 by a factor of 2:')\n",
    "v2.scale(2)\n",
    "# v3 = Vector([1])\n",
    "# v3.scale(69)"
   ]
  },
  {
   "cell_type": "markdown",
   "metadata": {},
   "source": [
    "**Verifying the above cases with Numpy**"
   ]
  },
  {
   "cell_type": "code",
   "execution_count": 92,
   "metadata": {},
   "outputs": [
    {
     "name": "stdout",
     "output_type": "stream",
     "text": [
      "Scaling n1 by a factor of 2:\n",
      "[2 4 6]\n",
      "Scaling n1 by a factor of -0.5:\n",
      "[-1. -2. -3.]\n"
     ]
    }
   ],
   "source": [
    "# Verifying with Numpy\n",
    "\n",
    "n1 = np.array([1,2,3])\n",
    "print('Scaling n1 by a factor of 2:')\n",
    "n2 = 2*n1\n",
    "print(n2)\n",
    "print('Scaling n1 by a factor of -0.5:')\n",
    "print(-0.5*n2)"
   ]
  },
  {
   "cell_type": "markdown",
   "metadata": {},
   "source": [
    "### Task 1.a.ii Addition and subtraction of vectors\n",
    "\n"
   ]
  },
  {
   "cell_type": "code",
   "execution_count": 93,
   "metadata": {},
   "outputs": [],
   "source": [
    "# Function for vector addition. This does not perform addition in place to the vector object.\n",
    "def add(self, vector: Vector) -> Vector:\n",
    "    if self.checkIfEqualSize(vector):\n",
    "        return Vector([self.v[i] + vector.v[i] for i in range(self.len)])\n",
    "    else:\n",
    "        raise Exception(f'Vector of length {self.len} required to perform vector addition. Provided vector is of length {vector.len}')\n",
    "        \n",
    "\n",
    "# Function for vector addition. This does not perform addition in place to the vector object.\n",
    "def subtract(self, vector: Vector) -> Vector:\n",
    "    if self.checkIfEqualSize(vector):\n",
    "        return Vector([self.v[i] - vector.v[i] for i in range(self.len)])\n",
    "    else:\n",
    "        raise Exception(f'Vector of length {self.len} required to perform vector subtraction. Provided vector is of length {vector.len}')\n",
    "\n",
    "# adding the above functions to the Vector class\n",
    "Vector.add = add\n",
    "Vector.subtract = subtract"
   ]
  },
  {
   "cell_type": "code",
   "execution_count": 167,
   "metadata": {},
   "outputs": [
    {
     "name": "stdout",
     "output_type": "stream",
     "text": [
      "Sum of vectors\n",
      "Vector v1: [-1, -2, -3]\n",
      "Vector v2: [10, 20, 30]\n",
      "Adding v1 & v2:\n",
      "[9, 18, 27]\n",
      "\n",
      "\n",
      "[9, 18, 27]\n",
      "\n",
      "Subtraction of vectors\n",
      "[-11, -22, -33]\n",
      "\n",
      "[-1, -2, -3]\n"
     ]
    },
    {
     "ename": "Exception",
     "evalue": "Vector of length 3 required to perform vector subtraction. Provided vector is of length 4",
     "output_type": "error",
     "traceback": [
      "\u001b[0;31m---------------------------------------------------------------------------\u001b[0m",
      "\u001b[0;31mException\u001b[0m                                 Traceback (most recent call last)",
      "Cell \u001b[0;32mIn[167], line 27\u001b[0m\n\u001b[1;32m     25\u001b[0m v6 \u001b[38;5;241m=\u001b[39m Vector([\u001b[38;5;241m1\u001b[39m,\u001b[38;5;241m2\u001b[39m,\u001b[38;5;241m3\u001b[39m,\u001b[38;5;241m4\u001b[39m])\n\u001b[1;32m     26\u001b[0m \u001b[38;5;66;03m# v5.add(v6) # Passed\u001b[39;00m\n\u001b[0;32m---> 27\u001b[0m \u001b[43mv5\u001b[49m\u001b[38;5;241;43m.\u001b[39;49m\u001b[43msubtract\u001b[49m\u001b[43m(\u001b[49m\u001b[43mv6\u001b[49m\u001b[43m)\u001b[49m \u001b[38;5;66;03m# Passed\u001b[39;00m\n",
      "Cell \u001b[0;32mIn[93], line 14\u001b[0m, in \u001b[0;36msubtract\u001b[0;34m(self, vector)\u001b[0m\n\u001b[1;32m     12\u001b[0m     \u001b[38;5;28;01mreturn\u001b[39;00m Vector([\u001b[38;5;28mself\u001b[39m\u001b[38;5;241m.\u001b[39mv[i] \u001b[38;5;241m-\u001b[39m vector\u001b[38;5;241m.\u001b[39mv[i] \u001b[38;5;28;01mfor\u001b[39;00m i \u001b[38;5;129;01min\u001b[39;00m \u001b[38;5;28mrange\u001b[39m(\u001b[38;5;28mself\u001b[39m\u001b[38;5;241m.\u001b[39mlen)])\n\u001b[1;32m     13\u001b[0m \u001b[38;5;28;01melse\u001b[39;00m:\n\u001b[0;32m---> 14\u001b[0m     \u001b[38;5;28;01mraise\u001b[39;00m \u001b[38;5;167;01mException\u001b[39;00m(\u001b[38;5;124mf\u001b[39m\u001b[38;5;124m'\u001b[39m\u001b[38;5;124mVector of length \u001b[39m\u001b[38;5;132;01m{\u001b[39;00m\u001b[38;5;28mself\u001b[39m\u001b[38;5;241m.\u001b[39mlen\u001b[38;5;132;01m}\u001b[39;00m\u001b[38;5;124m required to perform vector subtraction. Provided vector is of length \u001b[39m\u001b[38;5;132;01m{\u001b[39;00mvector\u001b[38;5;241m.\u001b[39mlen\u001b[38;5;132;01m}\u001b[39;00m\u001b[38;5;124m'\u001b[39m)\n",
      "\u001b[0;31mException\u001b[0m: Vector of length 3 required to perform vector subtraction. Provided vector is of length 4"
     ]
    }
   ],
   "source": [
    "# Sum of vectors\n",
    "print(\"Sum of vectors\")\n",
    "# Test cases\n",
    "print(f'Vector v1: {v1}')\n",
    "v2.setVector([10, 20, 30])\n",
    "print(f'Vector v2: {v2}')\n",
    "v3 = v1.add(v2)\n",
    "print('Adding v1 & v2:')\n",
    "print(v3)\n",
    "print()\n",
    "v1.setVector([-1, -2, -3])\n",
    "print()\n",
    "print(v1.add(v2))\n",
    "\n",
    "# Subtraction of vectors\n",
    "print(\"\\nSubtraction of vectors\")\n",
    "# Test cases\n",
    "v4 = v1.subtract(v2)\n",
    "print(v4)\n",
    "print()\n",
    "v5 = v3.subtract(v2)\n",
    "print(v5)\n",
    "\n",
    "# Testing for Vectors with unequal lengths. The following cases should fail with an exception and appropriate message.\n",
    "v6 = Vector([1,2,3,4])\n",
    "# v5.add(v6) # Passed\n",
    "v5.subtract(v6) # Passed"
   ]
  },
  {
   "cell_type": "markdown",
   "metadata": {},
   "source": [
    "**Verifying the above cases with Numpy**"
   ]
  },
  {
   "cell_type": "code",
   "execution_count": 95,
   "metadata": {},
   "outputs": [
    {
     "name": "stdout",
     "output_type": "stream",
     "text": [
      "[11 22 33]\n",
      "[ -9 -18 -27]\n"
     ]
    },
    {
     "ename": "ValueError",
     "evalue": "operands could not be broadcast together with shapes (4,) (3,) ",
     "output_type": "error",
     "traceback": [
      "\u001b[0;31m---------------------------------------------------------------------------\u001b[0m",
      "\u001b[0;31mValueError\u001b[0m                                Traceback (most recent call last)",
      "Cell \u001b[0;32mIn[95], line 6\u001b[0m\n\u001b[1;32m      4\u001b[0m n3 \u001b[38;5;241m=\u001b[39m np\u001b[38;5;241m.\u001b[39marray([\u001b[38;5;241m1\u001b[39m,\u001b[38;5;241m2\u001b[39m,\u001b[38;5;241m3\u001b[39m,\u001b[38;5;241m4\u001b[39m])\n\u001b[1;32m      5\u001b[0m \u001b[38;5;66;03m# n1 + n3 # testing for vector arithmetic operations of unequal size\u001b[39;00m\n\u001b[0;32m----> 6\u001b[0m \u001b[43mn3\u001b[49m\u001b[43m \u001b[49m\u001b[38;5;241;43m-\u001b[39;49m\u001b[43m \u001b[49m\u001b[43mn1\u001b[49m \u001b[38;5;66;03m# Throws a more generic error message which has its merits for only having to maintain a single method, but... Sid's implementation - 1, Numpy - 0 XD\u001b[39;00m\n",
      "\u001b[0;31mValueError\u001b[0m: operands could not be broadcast together with shapes (4,) (3,) "
     ]
    }
   ],
   "source": [
    "n2 = np.array([10,20,30])\n",
    "print(n1 + n2)\n",
    "print(n1 - n2)\n",
    "n3 = np.array([1,2,3,4])\n",
    "# n1 + n3 # testing for vector arithmetic operations of unequal size\n",
    "n3 - n1 # Throws a more generic error message which has its merits for only having to maintain a single method, but... Sid's implementation - 1, Numpy - 0 XD"
   ]
  },
  {
   "cell_type": "markdown",
   "metadata": {},
   "source": [
    "### Task 1.a.iii Dot product of vectors  \n",
    "Dot product of vectors, from my understanding, is the sum of all corresponding products of elements of two equal length vectors. The below 'dot' method takes one argument of type Vector and returns the scalar dot product value of the Vector object of whose dot method is called and the Vector object which is passed to the dot method. Refer the test case cell for examples."
   ]
  },
  {
   "cell_type": "code",
   "execution_count": 96,
   "metadata": {},
   "outputs": [],
   "source": [
    "# Function to compute the dot product of two vectors.\n",
    "def dot(self, vector: Vector) -> int:\n",
    "    # Checking that both Vector objects are of the same length.\n",
    "    if self.checkIfEqualSize(vector):\n",
    "        dotProduct = 0\n",
    "        productList = [self.v[i] * vector.v[i] for i in range(self.len)]\n",
    "        for number in productList:\n",
    "            dotProduct += number\n",
    "        return dotProduct\n",
    "    else:\n",
    "        raise Exception(f'Vector of length {self.len} required to obtain the dot product. Provided vector is of length {vector.len}')\n",
    "\n",
    "# Adding the dot function to the Vector class\n",
    "Vector.dot = dot"
   ]
  },
  {
   "cell_type": "code",
   "execution_count": 97,
   "metadata": {},
   "outputs": [
    {
     "name": "stdout",
     "output_type": "stream",
     "text": [
      "[1, 2, 3]\n",
      "[10, 20, 30]\n",
      "140\n",
      "140\n",
      "[-1, -2, -3]\n",
      "-140\n",
      "-140\n"
     ]
    },
    {
     "ename": "Exception",
     "evalue": "Vector of length 3 required to obtain the dot product. Provided vector is of length 4",
     "output_type": "error",
     "traceback": [
      "\u001b[0;31m---------------------------------------------------------------------------\u001b[0m",
      "\u001b[0;31mException\u001b[0m                                 Traceback (most recent call last)",
      "Cell \u001b[0;32mIn[97], line 15\u001b[0m\n\u001b[1;32m     10\u001b[0m \u001b[38;5;28mprint\u001b[39m(v2\u001b[38;5;241m.\u001b[39mdot(v1))\n\u001b[1;32m     12\u001b[0m \u001b[38;5;66;03m# Turns out that the dot product is commutative.\u001b[39;00m\n\u001b[1;32m     13\u001b[0m \n\u001b[1;32m     14\u001b[0m \u001b[38;5;66;03m# Obligatory test for unequal vector lengths\u001b[39;00m\n\u001b[0;32m---> 15\u001b[0m \u001b[43mv5\u001b[49m\u001b[38;5;241;43m.\u001b[39;49m\u001b[43mdot\u001b[49m\u001b[43m(\u001b[49m\u001b[43mv6\u001b[49m\u001b[43m)\u001b[49m\n",
      "Cell \u001b[0;32mIn[96], line 11\u001b[0m, in \u001b[0;36mdot\u001b[0;34m(self, vector)\u001b[0m\n\u001b[1;32m      9\u001b[0m     \u001b[38;5;28;01mreturn\u001b[39;00m dotProduct\n\u001b[1;32m     10\u001b[0m \u001b[38;5;28;01melse\u001b[39;00m:\n\u001b[0;32m---> 11\u001b[0m     \u001b[38;5;28;01mraise\u001b[39;00m \u001b[38;5;167;01mException\u001b[39;00m(\u001b[38;5;124mf\u001b[39m\u001b[38;5;124m'\u001b[39m\u001b[38;5;124mVector of length \u001b[39m\u001b[38;5;132;01m{\u001b[39;00m\u001b[38;5;28mself\u001b[39m\u001b[38;5;241m.\u001b[39mlen\u001b[38;5;132;01m}\u001b[39;00m\u001b[38;5;124m required to obtain the dot product. Provided vector is of length \u001b[39m\u001b[38;5;132;01m{\u001b[39;00mvector\u001b[38;5;241m.\u001b[39mlen\u001b[38;5;132;01m}\u001b[39;00m\u001b[38;5;124m'\u001b[39m)\n",
      "\u001b[0;31mException\u001b[0m: Vector of length 3 required to obtain the dot product. Provided vector is of length 4"
     ]
    }
   ],
   "source": [
    "# Test cases\n",
    "print(v5)\n",
    "print(v2)\n",
    "print(v5.dot(v2))\n",
    "print(v2.dot(v5))\n",
    "\n",
    "# Testing with a vector having negative elements in it\n",
    "print(v1)\n",
    "print(v1.dot(v2))\n",
    "print(v2.dot(v1))\n",
    "\n",
    "# Turns out that the dot product is commutative.\n",
    "\n",
    "# Obligatory test for unequal vector lengths\n",
    "v5.dot(v6) # Passed"
   ]
  },
  {
   "cell_type": "markdown",
   "metadata": {},
   "source": [
    "**Verifying the above cases with Numpy**"
   ]
  },
  {
   "cell_type": "code",
   "execution_count": 98,
   "metadata": {},
   "outputs": [
    {
     "name": "stdout",
     "output_type": "stream",
     "text": [
      "140\n",
      "-140\n"
     ]
    },
    {
     "ename": "ValueError",
     "evalue": "shapes (3,) and (4,) not aligned: 3 (dim 0) != 4 (dim 0)",
     "output_type": "error",
     "traceback": [
      "\u001b[0;31m---------------------------------------------------------------------------\u001b[0m",
      "\u001b[0;31mValueError\u001b[0m                                Traceback (most recent call last)",
      "Cell \u001b[0;32mIn[98], line 4\u001b[0m\n\u001b[1;32m      2\u001b[0m n4 \u001b[38;5;241m=\u001b[39m np\u001b[38;5;241m.\u001b[39marray([\u001b[38;5;241m-\u001b[39m\u001b[38;5;241m1\u001b[39m, \u001b[38;5;241m-\u001b[39m\u001b[38;5;241m2\u001b[39m, \u001b[38;5;241m-\u001b[39m\u001b[38;5;241m3\u001b[39m])\n\u001b[1;32m      3\u001b[0m \u001b[38;5;28mprint\u001b[39m(n2\u001b[38;5;241m.\u001b[39mdot(n4))\n\u001b[0;32m----> 4\u001b[0m \u001b[38;5;28mprint\u001b[39m(\u001b[43mn1\u001b[49m\u001b[38;5;241;43m.\u001b[39;49m\u001b[43mdot\u001b[49m\u001b[43m(\u001b[49m\u001b[43mn3\u001b[49m\u001b[43m)\u001b[49m)\n",
      "\u001b[0;31mValueError\u001b[0m: shapes (3,) and (4,) not aligned: 3 (dim 0) != 4 (dim 0)"
     ]
    }
   ],
   "source": [
    "print(n1.dot(n2))\n",
    "n4 = np.array([-1, -2, -3])\n",
    "print(n2.dot(n4))\n",
    "print(n1.dot(n3))"
   ]
  },
  {
   "cell_type": "markdown",
   "metadata": {},
   "source": [
    "### Task 1.a.iv Cross product of vectors  \n",
    "My understanding about the cross product of 2 vectors:  \n",
    "- Cross product results in a resultant vector.\n",
    "- The resultant vector is perpendicular to the plane of the two vectors for whom the cross product is determined.\n",
    "- The magnitude of the resultant vector is equal to the area of the parallelogram that the original two vecotors would form with each other.\n",
    "\n",
    "#### Mathematical formula to compute a cross product:  \n",
    "If there exists two vectors a = [ax, ay, az] and b = [bx, by, bz], then the cross product a X b can be computed as follows:  \n",
    "    a X b = [aybz - azby, -(axbz - azbx), axby - aybx]  \n",
    " => a X b = [aybz - azby, azbx - axbz, axby - aybx]"
   ]
  },
  {
   "cell_type": "code",
   "execution_count": 99,
   "metadata": {},
   "outputs": [],
   "source": [
    "# Function to compute and return the resultant Vector object from the corss product of two vectors.\n",
    "def cross(self, vector: Vector) -> Vector:\n",
    "    if self.checkIfEqualSize(vector) and vector.len == 3:\n",
    "        abx = self.v[1]*vector.v[2] - self.v[2]*vector.v[1]\n",
    "        aby = self.v[2]*vector.v[0] - self.v[0]*vector.v[2]\n",
    "        abz = self.v[0]*vector.v[1] - self.v[1]*vector.v[0]\n",
    "        return Vector([abx, aby, abz])\n",
    "    else:\n",
    "        raise Exception(f'Vector of 3 dimensions required.')\n",
    "\n",
    "# Adding the above cross method to the Vector class\n",
    "Vector.cross = cross"
   ]
  },
  {
   "cell_type": "code",
   "execution_count": 100,
   "metadata": {},
   "outputs": [
    {
     "name": "stdout",
     "output_type": "stream",
     "text": [
      "Vector v5: [1, 2, 3]\n",
      "Vector v2: [10, 20, 30]\n",
      "v5 X v2 = [0, 0, 0]\n",
      "Vector v6: [2, 3, 4]\n",
      "Vector v7: [5, 6, 7]\n",
      "v6 X v7 = [-3, 6, -3]\n",
      "v7 X v6 = [3, -6, 3]\n",
      "\n",
      "Verification with numpy\n",
      "[1 2 3] [10 20 30]\n",
      "[0 0 0]\n",
      "[-3  6 -3]\n"
     ]
    }
   ],
   "source": [
    "# Test cases\n",
    "# Case 1\n",
    "print(f'Vector v5: {v5}')\n",
    "print(f'Vector v2: {v2}')\n",
    "print(f'v5 X v2 = {v5.cross(v2)}')\n",
    "# Case 2\n",
    "v6 = Vector([2,3,4])\n",
    "print(f'Vector v6: {v6}')\n",
    "v7 = Vector([5,6,7])\n",
    "print(f'Vector v7: {v7}')\n",
    "print(f'v6 X v7 = {v6.cross(v7)}')\n",
    "print(f'v7 X v6 = {v7.cross(v6)}') # changing order of cross product flips the direction of the resultant vector. \n",
    "\n",
    "# Verification with numpy\n",
    "print('\\nVerification with numpy')\n",
    "print(n1, n2)\n",
    "print(np.cross(n1, n2))\n",
    "print(np.cross(np.array([1,2,3]), np.array([4,5,6])))"
   ]
  },
  {
   "cell_type": "markdown",
   "metadata": {},
   "source": [
    "### b. Matrices  \n",
    "Part 2 of the 1st activity extends the concept of the vector and introduces us to matrices. I shall also build a Matrix class that defines each row (i.e, sub-list) as a Vector object so that it can accommodate extra complexity that comes with a higher dimensionality."
   ]
  },
  {
   "cell_type": "code",
   "execution_count": 154,
   "metadata": {},
   "outputs": [],
   "source": [
    "class Matrix:\n",
    "\n",
    "    # Constructor that calls the inherited constructor but also sets the shape for the matrix\n",
    "    def __init__(self, mat: list):\n",
    "        # Not a very elegant way in python for constructor overloading as it is not a statically typed language. :(\n",
    "        if isinstance(mat, List) and isinstance(mat[0], Vector):\n",
    "            self.mat = mat\n",
    "        elif isinstance(mat, List) and isinstance(mat[0], List):\n",
    "            self.mat = []\n",
    "            for i in range(len(mat)):\n",
    "                '''\n",
    "                Initialising every row in the matrix to be a Vector object so that I can apply previously implemented methods directly.\n",
    "                Note to self: I should be checking if each of the sub lists are of the same length. But, that seems like \n",
    "                I'm digressing too much.\n",
    "                '''\n",
    "                self.mat.append(Vector(mat[i]))\n",
    "        else:\n",
    "            raise Exception(\"Wrong input provided for the Matrix object.\")\n",
    "        self.shape = (len(self.mat), self.mat[0].len)\n",
    "\n",
    "    # Defining the string representation for the Matrix object which is to be used when printed.\n",
    "    def __str__(self):\n",
    "        matStr = \"[\"\n",
    "        for row in self.mat:\n",
    "            matStr += row.__str__() + \"\\n\"\n",
    "        matStr = matStr[:len(matStr)-1]\n",
    "        matStr += \"]\"\n",
    "        return matStr"
   ]
  },
  {
   "cell_type": "code",
   "execution_count": 155,
   "metadata": {},
   "outputs": [],
   "source": [
    "# Util function to check if a Matrix object has the same shape as the current Matrix object\n",
    "def isCompatibleShape(self, mat: Matrix) -> bool:\n",
    "    return self.shape == mat.shape\n",
    "\n",
    "# Adding the above util function to the Matrix class\n",
    "Matrix.isCompatibleShape = isCompatibleShape"
   ]
  },
  {
   "cell_type": "markdown",
   "metadata": {},
   "source": [
    "### Task 1.b.i Size (shape) of Matrix object\n",
    "\n",
    "Every Matrix object is assigned a shape attribute on creation via the constructor. So, to find the shape of a matrix object, you can simply access it by calling the shape attribute."
   ]
  },
  {
   "cell_type": "code",
   "execution_count": 156,
   "metadata": {},
   "outputs": [
    {
     "name": "stdout",
     "output_type": "stream",
     "text": [
      "Matrix m1:\n",
      "[[1, 2, 3]\n",
      "[4, 5, 6]\n",
      "[7, 8, 9]]\n",
      "Shape of m1:(3, 3)\n",
      "Matrix m2:\n",
      "[[1, 2]\n",
      "[4, 5]\n",
      "[7, 8]]\n",
      "Shape of m1:(3, 2)\n"
     ]
    }
   ],
   "source": [
    "# Test case 1\n",
    "m1 = Matrix([[1,2,3],\n",
    "            [4,5,6],\n",
    "            [7,8,9]])\n",
    "print(f'Matrix m1:\\n{m1}')\n",
    "print(f'Shape of m1:{m1.shape}')\n",
    "\n",
    "# Test case 2\n",
    "m2 = Matrix([[1,2],\n",
    "            [4,5],\n",
    "            [7,8]])\n",
    "print(f'Matrix m2:\\n{m2}')\n",
    "print(f'Shape of m1:{m2.shape}')"
   ]
  },
  {
   "cell_type": "markdown",
   "metadata": {},
   "source": [
    "### Task 1.b.ii Sum/subtract two matrices\n",
    "\n",
    "Matrices of the same dimensions can be added or subtracted simply by directly performing the respective arithmetic operation between the positionally corresponding element in the matrices.\n",
    "\n",
    "**Example:**  \n",
    "```\n",
    "A = [1, 2]  ,  B = [5, 6]  \n",
    "    [3, 4]         [7, 8]\n",
    "\n",
    "A + B = [1+5, 2+6] = [6,  8 ]\n",
    "        [3+7, 4+8]   [10, 12]\n",
    "```"
   ]
  },
  {
   "cell_type": "code",
   "execution_count": 162,
   "metadata": {},
   "outputs": [],
   "source": [
    "# Function to add to matrices\n",
    "def matAdd(self, mat: Matrix) -> Matrix:\n",
    "    if self.isCompatibleShape(mat):\n",
    "        matSum = []\n",
    "        for i in range(self.shape[0]): # iterating through all the rows in the matrix\n",
    "            '''\n",
    "            Since all rows (sub-lists) in a Matrix object are essentially Vector objects, we can just directly call the add method\n",
    "            of the previously defined Vector class. \n",
    "            Ref: cell under Task 1.a.ii Addition and subtraction of vectors\n",
    "            '''\n",
    "            matSum.append(self.mat[i].add(mat.mat[i]))\n",
    "        return Matrix(matSum)\n",
    "    else:\n",
    "        raise Exception(f'Provided matrix is not of compatible shape. Required shape: {self.shape}')\n",
    "\n",
    "def matSub(self, mat: Matrix) -> Matrix:\n",
    "    if self.isCompatibleShape(mat):\n",
    "        matDiff = []\n",
    "        for i in range(self.shape[0]): # iterating through all the rows in the matrix\n",
    "            # Same logic as in the above matAdd method. Reuse Vector code! :D\n",
    "            matDiff.append(self.mat[i].subtract(mat.mat[i]))\n",
    "        return Matrix(matDiff)\n",
    "    else:\n",
    "        raise Exception(f'Provided matrix is not of compatible shape. Required shape: {self.shape}')\n",
    "\n",
    "Matrix.add = matAdd\n",
    "Matrix.sub = matSub"
   ]
  },
  {
   "cell_type": "code",
   "execution_count": 166,
   "metadata": {},
   "outputs": [
    {
     "name": "stdout",
     "output_type": "stream",
     "text": [
      "Matrix m1: \n",
      "[[1, 2, 3]\n",
      "[4, 5, 6]\n",
      "[7, 8, 9]]\n",
      "Sum of matrices m1 & m3: \n",
      "[[2, 4, 6]\n",
      "[8, 10, 12]\n",
      "[14, 16, 18]]\n",
      "Difference of matrices m1 & m3: \n",
      "[[0, 0, 0]\n",
      "[0, 0, 0]\n",
      "[0, 0, 0]]\n",
      "matrix m2: \n",
      "[[1, 2]\n",
      "[4, 5]\n",
      "[7, 8]]\n",
      "Sum of matrices m2 & m6: \n",
      "[[3, 5]\n",
      "[-1, 11]\n",
      "[15, -1]]\n"
     ]
    },
    {
     "ename": "Exception",
     "evalue": "Provided matrix is not of compatible shape. Required shape: (3, 2)",
     "output_type": "error",
     "traceback": [
      "\u001b[0;31m---------------------------------------------------------------------------\u001b[0m",
      "\u001b[0;31mException\u001b[0m                                 Traceback (most recent call last)",
      "Cell \u001b[0;32mIn[166], line 21\u001b[0m\n\u001b[1;32m     18\u001b[0m \u001b[38;5;28mprint\u001b[39m(\u001b[38;5;124mf\u001b[39m\u001b[38;5;124m'\u001b[39m\u001b[38;5;124mSum of matrices m2 & m6: \u001b[39m\u001b[38;5;130;01m\\n\u001b[39;00m\u001b[38;5;132;01m{\u001b[39;00mm2\u001b[38;5;241m.\u001b[39madd(m6)\u001b[38;5;132;01m}\u001b[39;00m\u001b[38;5;124m'\u001b[39m)\n\u001b[1;32m     20\u001b[0m \u001b[38;5;66;03m# Test case 4 (Using matrices of different shapes)\u001b[39;00m\n\u001b[0;32m---> 21\u001b[0m \u001b[43mm6\u001b[49m\u001b[38;5;241;43m.\u001b[39;49m\u001b[43msub\u001b[49m\u001b[43m(\u001b[49m\u001b[43mm5\u001b[49m\u001b[43m)\u001b[49m \u001b[38;5;66;03m# Exception thrown below. Passed!\u001b[39;00m\n",
      "Cell \u001b[0;32mIn[162], line 24\u001b[0m, in \u001b[0;36mmatSub\u001b[0;34m(self, mat)\u001b[0m\n\u001b[1;32m     22\u001b[0m     \u001b[38;5;28;01mreturn\u001b[39;00m Matrix(matDiff)\n\u001b[1;32m     23\u001b[0m \u001b[38;5;28;01melse\u001b[39;00m:\n\u001b[0;32m---> 24\u001b[0m     \u001b[38;5;28;01mraise\u001b[39;00m \u001b[38;5;167;01mException\u001b[39;00m(\u001b[38;5;124mf\u001b[39m\u001b[38;5;124m'\u001b[39m\u001b[38;5;124mProvided matrix is not of compatible shape. Required shape: \u001b[39m\u001b[38;5;132;01m{\u001b[39;00m\u001b[38;5;28mself\u001b[39m\u001b[38;5;241m.\u001b[39mshape\u001b[38;5;132;01m}\u001b[39;00m\u001b[38;5;124m'\u001b[39m)\n",
      "\u001b[0;31mException\u001b[0m: Provided matrix is not of compatible shape. Required shape: (3, 2)"
     ]
    }
   ],
   "source": [
    "# Test case 1 (Addition)\n",
    "print(f'Matrix m1: \\n{m1}')\n",
    "m3 = Matrix([[1,2,3],\n",
    "            [4,5,6],\n",
    "            [7,8,9]])\n",
    "m4 = m1.add(m3)\n",
    "print(f'Sum of matrices m1 & m3: \\n{m4}')\n",
    "\n",
    "# Test case 2 (Subtraction)\n",
    "m5 = m1.sub(m3)\n",
    "print(f'Difference of matrices m1 & m3: \\n{m5}')\n",
    "\n",
    "#Test case 3 (Some thing other than a square matrix)\n",
    "print(f'matrix m2: \\n{m2}')\n",
    "m6 = Matrix([[2,3],\n",
    "           [-5,6],\n",
    "           [8,-9]])\n",
    "print(f'Sum of matrices m2 & m6: \\n{m2.add(m6)}')\n",
    "\n",
    "# Test case 4 (Using matrices of different shapes)\n",
    "m6.sub(m5) # Exception thrown below. Passed!"
   ]
  },
  {
   "cell_type": "markdown",
   "metadata": {},
   "source": [
    "**Verifying the above cases with Numpy**"
   ]
  },
  {
   "cell_type": "code",
   "execution_count": 170,
   "metadata": {},
   "outputs": [
    {
     "name": "stdout",
     "output_type": "stream",
     "text": [
      "[[ 2  4  6]\n",
      " [ 8 10 12]\n",
      " [14 16 18]]\n",
      "[[0 0 0]\n",
      " [0 0 0]\n",
      " [0 0 0]]\n"
     ]
    },
    {
     "ename": "ValueError",
     "evalue": "operands could not be broadcast together with shapes (3,3) (3,2) ",
     "output_type": "error",
     "traceback": [
      "\u001b[0;31m---------------------------------------------------------------------------\u001b[0m",
      "\u001b[0;31mValueError\u001b[0m                                Traceback (most recent call last)",
      "Cell \u001b[0;32mIn[170], line 12\u001b[0m\n\u001b[1;32m      8\u001b[0m \u001b[38;5;28mprint\u001b[39m(nm1\u001b[38;5;241m-\u001b[39mnm2)\n\u001b[1;32m      9\u001b[0m nm5 \u001b[38;5;241m=\u001b[39m np\u001b[38;5;241m.\u001b[39marray([[\u001b[38;5;241m1\u001b[39m,\u001b[38;5;241m2\u001b[39m],\n\u001b[1;32m     10\u001b[0m             [\u001b[38;5;241m4\u001b[39m,\u001b[38;5;241m5\u001b[39m],\n\u001b[1;32m     11\u001b[0m             [\u001b[38;5;241m7\u001b[39m,\u001b[38;5;241m8\u001b[39m]])\n\u001b[0;32m---> 12\u001b[0m \u001b[43mnm1\u001b[49m\u001b[38;5;241;43m-\u001b[39;49m\u001b[43mnm5\u001b[49m\n",
      "\u001b[0;31mValueError\u001b[0m: operands could not be broadcast together with shapes (3,3) (3,2) "
     ]
    }
   ],
   "source": [
    "nm1 = np.array([[1,2,3],\n",
    "            [4,5,6],\n",
    "            [7,8,9]])\n",
    "nm2 = np.array([[1,2,3],\n",
    "            [4,5,6],\n",
    "            [7,8,9]])\n",
    "print(nm1+nm2)\n",
    "print(nm1-nm2)\n",
    "nm5 = np.array([[1,2],\n",
    "            [4,5],\n",
    "            [7,8]])\n",
    "nm1-nm5"
   ]
  },
  {
   "cell_type": "markdown",
   "metadata": {},
   "source": [
    "### Task 1.b.iii Multiplying a matrix with a vector\n",
    "This is basically getting the Dot product between each row in the matrix and the vector. This is also why we need to ensure that the **size of** the **vector** is **equal** to the **number of columns** in the **matrix**."
   ]
  },
  {
   "cell_type": "code",
   "execution_count": 194,
   "metadata": {},
   "outputs": [],
   "source": [
    "# Function that takes a Vector object and multiplies it with its defined Matrix values\n",
    "def matMulVec(self, vector: Vector) -> Vector:\n",
    "    newVec = []\n",
    "    if vector.len == self.shape[1]: # Ensuring that the vector length matches with the no. of columns in the matrix\n",
    "        for row in self.mat:\n",
    "            newVec.append(row.dot(vector))\n",
    "        return Vector(newVec)\n",
    "    else:\n",
    "        raise Exception(f'Vector of size {self.shape[1]} expected while provided vector is of size {vector.len}')\n",
    "    '''\n",
    "    Figured since the exception is already handled in the dot() method in the Vector class, I don't need to explicity handle the \n",
    "    case with incompatible matrix and vector sizes here. But I'm doing it anyway:D\n",
    "    '''\n",
    "# Adding the above method to the Matrix class\n",
    "Matrix.matMulVec = matMulVec"
   ]
  },
  {
   "cell_type": "code",
   "execution_count": 199,
   "metadata": {},
   "outputs": [
    {
     "name": "stdout",
     "output_type": "stream",
     "text": [
      "Vector v2: \n",
      "[10, 20, 30]\n",
      "Matrix m1: \n",
      "[[1, 2, 3]\n",
      "[4, 5, 6]\n",
      "[7, 8, 9]]\n",
      "m1 * v2: \n",
      "[140, 320, 500]\n",
      "\n",
      "m7 * v8: \n",
      "[1, -3]\n",
      "\n"
     ]
    },
    {
     "ename": "Exception",
     "evalue": "Vector of size 3 expected while provided vector is of size 2",
     "output_type": "error",
     "traceback": [
      "\u001b[0;31m---------------------------------------------------------------------------\u001b[0m",
      "\u001b[0;31mException\u001b[0m                                 Traceback (most recent call last)",
      "Cell \u001b[0;32mIn[199], line 14\u001b[0m\n\u001b[1;32m     12\u001b[0m \u001b[38;5;66;03m#Test case 3 (Checking with incompatible matrix and vector sizes)\u001b[39;00m\n\u001b[1;32m     13\u001b[0m v9 \u001b[38;5;241m=\u001b[39m Vector([\u001b[38;5;241m2\u001b[39m, \u001b[38;5;241m1\u001b[39m])\n\u001b[0;32m---> 14\u001b[0m \u001b[43mm7\u001b[49m\u001b[38;5;241;43m.\u001b[39;49m\u001b[43mmatMulVec\u001b[49m\u001b[43m(\u001b[49m\u001b[43mv9\u001b[49m\u001b[43m)\u001b[49m \u001b[38;5;66;03m# passed!\u001b[39;00m\n",
      "Cell \u001b[0;32mIn[194], line 9\u001b[0m, in \u001b[0;36mmatMulVec\u001b[0;34m(self, vector)\u001b[0m\n\u001b[1;32m      7\u001b[0m     \u001b[38;5;28;01mreturn\u001b[39;00m Vector(newVec)\n\u001b[1;32m      8\u001b[0m \u001b[38;5;28;01melse\u001b[39;00m:\n\u001b[0;32m----> 9\u001b[0m     \u001b[38;5;28;01mraise\u001b[39;00m \u001b[38;5;167;01mException\u001b[39;00m(\u001b[38;5;124mf\u001b[39m\u001b[38;5;124m'\u001b[39m\u001b[38;5;124mVector of size \u001b[39m\u001b[38;5;132;01m{\u001b[39;00m\u001b[38;5;28mself\u001b[39m\u001b[38;5;241m.\u001b[39mshape[\u001b[38;5;241m1\u001b[39m]\u001b[38;5;132;01m}\u001b[39;00m\u001b[38;5;124m expected while provided vector is of size \u001b[39m\u001b[38;5;132;01m{\u001b[39;00mvector\u001b[38;5;241m.\u001b[39mlen\u001b[38;5;132;01m}\u001b[39;00m\u001b[38;5;124m'\u001b[39m)\n\u001b[1;32m     10\u001b[0m \u001b[38;5;250m\u001b[39m\u001b[38;5;124;03m'''\u001b[39;00m\n\u001b[1;32m     11\u001b[0m \u001b[38;5;124;03mFigured since the exception is already handled in the dot() method in the Vector class, I don't need to explicity handle the \u001b[39;00m\n\u001b[1;32m     12\u001b[0m \u001b[38;5;124;03mcase with incompatible matrix and vector sizes here. But I'm doing it anyway:D\u001b[39;00m\n\u001b[1;32m     13\u001b[0m \u001b[38;5;124;03m'''\u001b[39;00m\n",
      "\u001b[0;31mException\u001b[0m: Vector of size 3 expected while provided vector is of size 2"
     ]
    }
   ],
   "source": [
    "# Test case 1\n",
    "print(f'Vector v2: \\n{v2}')\n",
    "print(f'Matrix m1: \\n{m1}')\n",
    "print(f'm1 * v2: \\n{m1.matMulVec(v2)}')\n",
    "print()\n",
    "# Test case 2\n",
    "m7 = Matrix([[1, -1, 2],\n",
    "             [0, -3, 1]])\n",
    "v8 = Vector([2, 1, 0])\n",
    "print(f'm7 * v8: \\n{m7.matMulVec(v8)}')\n",
    "print()\n",
    "#Test case 3 (Checking with incompatible matrix and vector sizes)\n",
    "v9 = Vector([2, 1])\n",
    "m7.matMulVec(v9) # passed!"
   ]
  },
  {
   "cell_type": "markdown",
   "metadata": {},
   "source": [
    "**Verifying the above cases with Numpy**"
   ]
  },
  {
   "cell_type": "code",
   "execution_count": 203,
   "metadata": {},
   "outputs": [
    {
     "name": "stdout",
     "output_type": "stream",
     "text": [
      "[10 20 30]\n",
      "[[1 2 3]\n",
      " [4 5 6]\n",
      " [7 8 9]]\n",
      "[140 320 500]\n",
      "\n",
      "[ 1 -3]\n",
      "\n"
     ]
    },
    {
     "ename": "ValueError",
     "evalue": "matmul: Input operand 1 has a mismatch in its core dimension 0, with gufunc signature (n?,k),(k,m?)->(n?,m?) (size 2 is different from 3)",
     "output_type": "error",
     "traceback": [
      "\u001b[0;31m---------------------------------------------------------------------------\u001b[0m",
      "\u001b[0;31mValueError\u001b[0m                                Traceback (most recent call last)",
      "Cell \u001b[0;32mIn[203], line 11\u001b[0m\n\u001b[1;32m      9\u001b[0m \u001b[38;5;28mprint\u001b[39m()\n\u001b[1;32m     10\u001b[0m \u001b[38;5;66;03m# print(np.matmul(n4, nm6)) # This failed as well as the vector size no longer matched the no. of matrix columns when order was swapped.\u001b[39;00m\n\u001b[0;32m---> 11\u001b[0m \u001b[38;5;28mprint\u001b[39m(\u001b[43mnp\u001b[49m\u001b[38;5;241;43m.\u001b[39;49m\u001b[43mmatmul\u001b[49m\u001b[43m(\u001b[49m\u001b[43mnm6\u001b[49m\u001b[43m,\u001b[49m\u001b[43m \u001b[49m\u001b[43mnp\u001b[49m\u001b[38;5;241;43m.\u001b[39;49m\u001b[43marray\u001b[49m\u001b[43m(\u001b[49m\u001b[43m[\u001b[49m\u001b[38;5;241;43m2\u001b[39;49m\u001b[43m,\u001b[49m\u001b[43m \u001b[49m\u001b[38;5;241;43m1\u001b[39;49m\u001b[43m]\u001b[49m\u001b[43m)\u001b[49m\u001b[43m)\u001b[49m)\n",
      "\u001b[0;31mValueError\u001b[0m: matmul: Input operand 1 has a mismatch in its core dimension 0, with gufunc signature (n?,k),(k,m?)->(n?,m?) (size 2 is different from 3)"
     ]
    }
   ],
   "source": [
    "print(n2)\n",
    "print(nm1)\n",
    "print(np.matmul(nm1, n2))\n",
    "print()\n",
    "nm6 = np.array([[1, -1, 2],\n",
    "                [0, -3, 1]])\n",
    "n4 = np.array([2, 1, 0])\n",
    "print(np.matmul(nm6, n4))\n",
    "print()\n",
    "# print(np.matmul(n4, nm6)) # This failed as well as the vector size no longer matched the no. of matrix columns when order was swapped.\n",
    "print(np.matmul(nm6, np.array([2, 1])))"
   ]
  },
  {
   "cell_type": "markdown",
   "metadata": {},
   "source": [
    "### Task 1.b.iv Multiplying a matrix with another matrix\n"
   ]
  },
  {
   "cell_type": "code",
   "execution_count": null,
   "metadata": {},
   "outputs": [],
   "source": [
    "# Method to multiply two matrices\n",
    "def matMulMat(self, mat: Matrix) -> Matrix:\n",
    "    "
   ]
  },
  {
   "cell_type": "markdown",
   "metadata": {},
   "source": [
    "## Discussion\n",
    "\n",
    "Provide any discussion elements"
   ]
  }
 ],
 "metadata": {
  "kernelspec": {
   "display_name": "Python 3 (ipykernel)",
   "language": "python",
   "name": "python3"
  },
  "language_info": {
   "codemirror_mode": {
    "name": "ipython",
    "version": 3
   },
   "file_extension": ".py",
   "mimetype": "text/x-python",
   "name": "python",
   "nbconvert_exporter": "python",
   "pygments_lexer": "ipython3",
   "version": "3.10.12"
  }
 },
 "nbformat": 4,
 "nbformat_minor": 4
}
