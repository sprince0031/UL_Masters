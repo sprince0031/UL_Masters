{
 "cells": [
  {
   "cell_type": "markdown",
   "metadata": {},
   "source": [
    "### Your details"
   ]
  },
  {
   "cell_type": "markdown",
   "metadata": {},
   "source": [
    "Name: **Siddharth Prince**"
   ]
  },
  {
   "cell_type": "markdown",
   "metadata": {},
   "source": [
    "ID number: **23052058**"
   ]
  },
  {
   "cell_type": "markdown",
   "metadata": {},
   "source": [
    "# Task 1"
   ]
  },
  {
   "cell_type": "markdown",
   "metadata": {},
   "source": [
    "## Code"
   ]
  },
  {
   "cell_type": "markdown",
   "metadata": {},
   "source": [
    "### House keeping code which includes any imports, general variable declarations, etc"
   ]
  },
  {
   "cell_type": "code",
   "execution_count": 1,
   "metadata": {},
   "outputs": [],
   "source": [
    "# Imports\n",
    "import numpy as np\n",
    "from typing import List"
   ]
  },
  {
   "cell_type": "markdown",
   "metadata": {},
   "source": [
    "### Note\n",
    "\n",
    "The first code cell below contains all class code and util functions that would be useful in the context of a vector object. All the functions that implement the solutions to the given problems shall be provided in their own cells after the below code cell. This is my attempt at presenting my code in more readable chunks instead of a single class block with all the code in it.\n",
    "\n",
    "## a. Vectors"
   ]
  },
  {
   "cell_type": "code",
   "execution_count": 2,
   "metadata": {},
   "outputs": [],
   "source": [
    "# Defining a vector class so that it becomes more intuitive and straightforward to use these as objects and reduce code repetition.\n",
    "# Working with Java for 3 years in industry has changed me as a programmer. :)\n",
    "class Vector:\n",
    "    # Initialising a Vector object with a list of numbers provided.\n",
    "    def __init__(self, v: List):\n",
    "        self.v = v\n",
    "        self.len = len(v)\n",
    "\n",
    "    # Defining the string representation of the object for print(). \n",
    "    # I did notice that numpy prints all elements without the comma, but that just seems cosmetic here.\n",
    "    def __str__(self):\n",
    "        return str(self.v)\n",
    "\n",
    "    # Util function to set all values of the vector.\n",
    "    def setVector(self, v: List):\n",
    "        self.v = v\n",
    "        "
   ]
  },
  {
   "cell_type": "code",
   "execution_count": 3,
   "metadata": {},
   "outputs": [],
   "source": [
    "# Util function that checks if the passed Vector object has the same length as the current Vector object.\n",
    "def checkIfEqualSize(self, v: Vector):\n",
    "    return self.len == v.len\n",
    "\n",
    "# adding above util function to the Vector class. \n",
    "# Had to add this in a separate code cell as I needed to check the passed parameter by type Vector.\n",
    "Vector.checkIfEqualSize = checkIfEqualSize"
   ]
  },
  {
   "cell_type": "markdown",
   "metadata": {},
   "source": [
    "## Task 1.a.i Scalar multiplication of vectors  \n",
    "Scalar multiplication or \"scaling\" a vector as intuitively explained by 3B1B, is multiplying all components of a vector (usually the x, y and z components which represents it in 3d space) by a constant factor.  "
   ]
  },
  {
   "cell_type": "markdown",
   "metadata": {},
   "source": [
    "## Approach\n",
    "\n",
    "In my below implementation of the function to scale a vector, I have added the function \"scaleVector\" to the Vector class. The only parameter that is required is the scalar value. This function multiplies each element in the vector object with the scalar value. This operation is done in place."
   ]
  },
  {
   "cell_type": "code",
   "execution_count": 4,
   "metadata": {},
   "outputs": [],
   "source": [
    "# Function to scale a vector. This function changes the vector values in place.\n",
    "def scaleVector(self, scalar: float):\n",
    "    self.v = [scalar*i for i in self.v]\n",
    "\n",
    "# adding the above function to the Vector class\n",
    "Vector.scale = scaleVector"
   ]
  },
  {
   "cell_type": "code",
   "execution_count": 5,
   "metadata": {},
   "outputs": [
    {
     "name": "stdout",
     "output_type": "stream",
     "text": [
      "Scaling v1 by a factor of 2:\n",
      "New scaled vector: [2, 4, 6]\n",
      "Scaling v1 by a factor of -0.5:\n",
      "New scaled vector: [-1.0, -2.0, -3.0]\n",
      "Setting new values to v1:\n",
      "Scaling v2 by a factor of 2:\n",
      "New scaled vector: [28024, -104, 664.2]\n"
     ]
    }
   ],
   "source": [
    "# Test cases\n",
    "v1 = Vector([1,2,3])\n",
    "print('Scaling v1 by a factor of 2:')\n",
    "v1.scale(2)\n",
    "print(f\"New scaled vector: {v1}\")\n",
    "print('Scaling v1 by a factor of -0.5:')\n",
    "v1.scale(-0.5)\n",
    "print(f\"New scaled vector: {v1}\")\n",
    "print('Setting new values to v1:')\n",
    "v1.setVector([1,2,3]) # testing the setVector util function where it will change an existing vector to the new values provided\n",
    "v2 = Vector([14012, -52, 332.1])\n",
    "print('Scaling v2 by a factor of 2:')\n",
    "v2.scale(2)\n",
    "print(f\"New scaled vector: {v2}\")\n",
    "# v3 = Vector([1])\n",
    "# v3.scale(69)"
   ]
  },
  {
   "cell_type": "markdown",
   "metadata": {},
   "source": [
    "**Verifying the above cases with Numpy**"
   ]
  },
  {
   "cell_type": "code",
   "execution_count": 6,
   "metadata": {},
   "outputs": [
    {
     "name": "stdout",
     "output_type": "stream",
     "text": [
      "Scaling n1 by a factor of 2:\n",
      "[2 4 6]\n",
      "Scaling n1 by a factor of -0.5:\n",
      "[-1. -2. -3.]\n"
     ]
    }
   ],
   "source": [
    "# Verifying with Numpy\n",
    "\n",
    "n1 = np.array([1,2,3])\n",
    "print('Scaling n1 by a factor of 2:')\n",
    "n2 = 2*n1\n",
    "print(n2)\n",
    "print('Scaling n1 by a factor of -0.5:')\n",
    "print(-0.5*n2)"
   ]
  },
  {
   "cell_type": "markdown",
   "metadata": {},
   "source": [
    "## Task 1.a.ii Addition and subtraction of vectors  \n",
    "Vector arithmetic as in the addition and subtraction is fairly straightforward. Each corresponding element in both vectors are added/subracted and the resulting values form the new vector.\n",
    "\n",
    "**Example:**\n",
    "```\n",
    "A = [1, 2, 3]  ,  B = [4, 5, 6]\n",
    "A + B = [1+4, 2+5, 3+6]\n",
    "      = [5, 7, 9]\n",
    "```\n"
   ]
  },
  {
   "cell_type": "code",
   "execution_count": 7,
   "metadata": {},
   "outputs": [],
   "source": [
    "# Function for vector addition. This does not perform addition in place to the vector object.\n",
    "def add(self, vector: Vector) -> Vector:\n",
    "    if self.checkIfEqualSize(vector):\n",
    "        return Vector([self.v[i] + vector.v[i] for i in range(self.len)])\n",
    "    else:\n",
    "        raise Exception(f'Vector of length {self.len} required to perform vector addition. Provided vector is of length {vector.len}')\n",
    "        \n",
    "\n",
    "# Function for vector addition. This does not perform addition in place to the vector object.\n",
    "def subtract(self, vector: Vector) -> Vector:\n",
    "    if self.checkIfEqualSize(vector):\n",
    "        return Vector([self.v[i] - vector.v[i] for i in range(self.len)])\n",
    "    else:\n",
    "        raise Exception(f'Vector of length {self.len} required to perform vector subtraction. Provided vector is of length {vector.len}')\n",
    "\n",
    "# adding the above functions to the Vector class\n",
    "Vector.add = add\n",
    "Vector.subtract = subtract"
   ]
  },
  {
   "cell_type": "code",
   "execution_count": 8,
   "metadata": {},
   "outputs": [
    {
     "name": "stdout",
     "output_type": "stream",
     "text": [
      "Sum of vectors\n",
      "Vector v1: [1, 2, 3]\n",
      "Vector v2: [10, 20, 30]\n",
      "Adding v1 & v2:\n",
      "[11, 22, 33]\n",
      "\n",
      "\n",
      "[9, 18, 27]\n",
      "\n",
      "Subtraction of vectors\n",
      "[-11, -22, -33]\n",
      "\n",
      "[1, 2, 3]\n"
     ]
    },
    {
     "ename": "Exception",
     "evalue": "Vector of length 3 required to perform vector subtraction. Provided vector is of length 4",
     "output_type": "error",
     "traceback": [
      "\u001b[0;31m---------------------------------------------------------------------------\u001b[0m",
      "\u001b[0;31mException\u001b[0m                                 Traceback (most recent call last)",
      "Cell \u001b[0;32mIn[8], line 27\u001b[0m\n\u001b[1;32m     25\u001b[0m v6 \u001b[38;5;241m=\u001b[39m Vector([\u001b[38;5;241m1\u001b[39m,\u001b[38;5;241m2\u001b[39m,\u001b[38;5;241m3\u001b[39m,\u001b[38;5;241m4\u001b[39m])\n\u001b[1;32m     26\u001b[0m \u001b[38;5;66;03m# v5.add(v6) # Passed\u001b[39;00m\n\u001b[0;32m---> 27\u001b[0m \u001b[43mv5\u001b[49m\u001b[38;5;241;43m.\u001b[39;49m\u001b[43msubtract\u001b[49m\u001b[43m(\u001b[49m\u001b[43mv6\u001b[49m\u001b[43m)\u001b[49m \u001b[38;5;66;03m# Passed\u001b[39;00m\n",
      "Cell \u001b[0;32mIn[7], line 14\u001b[0m, in \u001b[0;36msubtract\u001b[0;34m(self, vector)\u001b[0m\n\u001b[1;32m     12\u001b[0m     \u001b[38;5;28;01mreturn\u001b[39;00m Vector([\u001b[38;5;28mself\u001b[39m\u001b[38;5;241m.\u001b[39mv[i] \u001b[38;5;241m-\u001b[39m vector\u001b[38;5;241m.\u001b[39mv[i] \u001b[38;5;28;01mfor\u001b[39;00m i \u001b[38;5;129;01min\u001b[39;00m \u001b[38;5;28mrange\u001b[39m(\u001b[38;5;28mself\u001b[39m\u001b[38;5;241m.\u001b[39mlen)])\n\u001b[1;32m     13\u001b[0m \u001b[38;5;28;01melse\u001b[39;00m:\n\u001b[0;32m---> 14\u001b[0m     \u001b[38;5;28;01mraise\u001b[39;00m \u001b[38;5;167;01mException\u001b[39;00m(\u001b[38;5;124mf\u001b[39m\u001b[38;5;124m'\u001b[39m\u001b[38;5;124mVector of length \u001b[39m\u001b[38;5;132;01m{\u001b[39;00m\u001b[38;5;28mself\u001b[39m\u001b[38;5;241m.\u001b[39mlen\u001b[38;5;132;01m}\u001b[39;00m\u001b[38;5;124m required to perform vector subtraction. Provided vector is of length \u001b[39m\u001b[38;5;132;01m{\u001b[39;00mvector\u001b[38;5;241m.\u001b[39mlen\u001b[38;5;132;01m}\u001b[39;00m\u001b[38;5;124m'\u001b[39m)\n",
      "\u001b[0;31mException\u001b[0m: Vector of length 3 required to perform vector subtraction. Provided vector is of length 4"
     ]
    }
   ],
   "source": [
    "# Sum of vectors\n",
    "print(\"Sum of vectors\")\n",
    "# Test cases\n",
    "print(f'Vector v1: {v1}')\n",
    "v2.setVector([10, 20, 30])\n",
    "print(f'Vector v2: {v2}')\n",
    "v3 = v1.add(v2)\n",
    "print('Adding v1 & v2:')\n",
    "print(v3)\n",
    "print()\n",
    "v1.setVector([-1, -2, -3])\n",
    "print()\n",
    "print(v1.add(v2))\n",
    "\n",
    "# Subtraction of vectors\n",
    "print(\"\\nSubtraction of vectors\")\n",
    "# Test cases\n",
    "v4 = v1.subtract(v2)\n",
    "print(v4)\n",
    "print()\n",
    "v5 = v3.subtract(v2)\n",
    "print(v5)\n",
    "\n",
    "# Testing for Vectors with unequal lengths. The following cases should fail with an exception and appropriate message.\n",
    "v6 = Vector([1,2,3,4])\n",
    "# v5.add(v6) # Passed\n",
    "v5.subtract(v6) # Passed"
   ]
  },
  {
   "cell_type": "markdown",
   "metadata": {},
   "source": [
    "**Verifying the above cases with Numpy**"
   ]
  },
  {
   "cell_type": "code",
   "execution_count": 9,
   "metadata": {},
   "outputs": [
    {
     "name": "stdout",
     "output_type": "stream",
     "text": [
      "[11 22 33]\n",
      "[ -9 -18 -27]\n"
     ]
    },
    {
     "ename": "ValueError",
     "evalue": "operands could not be broadcast together with shapes (4,) (3,) ",
     "output_type": "error",
     "traceback": [
      "\u001b[0;31m---------------------------------------------------------------------------\u001b[0m",
      "\u001b[0;31mValueError\u001b[0m                                Traceback (most recent call last)",
      "Cell \u001b[0;32mIn[9], line 6\u001b[0m\n\u001b[1;32m      4\u001b[0m n3 \u001b[38;5;241m=\u001b[39m np\u001b[38;5;241m.\u001b[39marray([\u001b[38;5;241m1\u001b[39m,\u001b[38;5;241m2\u001b[39m,\u001b[38;5;241m3\u001b[39m,\u001b[38;5;241m4\u001b[39m])\n\u001b[1;32m      5\u001b[0m \u001b[38;5;66;03m# n1 + n3 # testing for vector arithmetic operations of unequal size\u001b[39;00m\n\u001b[0;32m----> 6\u001b[0m \u001b[43mn3\u001b[49m\u001b[43m \u001b[49m\u001b[38;5;241;43m-\u001b[39;49m\u001b[43m \u001b[49m\u001b[43mn1\u001b[49m \u001b[38;5;66;03m# Throws a more generic error message which has its merits for only having to maintain a single method, but... Sid's implementation - 1, Numpy - 0 XD\u001b[39;00m\n",
      "\u001b[0;31mValueError\u001b[0m: operands could not be broadcast together with shapes (4,) (3,) "
     ]
    }
   ],
   "source": [
    "n2 = np.array([10,20,30])\n",
    "print(n1 + n2)\n",
    "print(n1 - n2)\n",
    "n3 = np.array([1,2,3,4])\n",
    "# n1 + n3 # testing for vector arithmetic operations of unequal size\n",
    "n3 - n1 # Throws a more generic error message which has its merits for only having to maintain a single method, but... Sid's implementation - 1, Numpy - 0 XD"
   ]
  },
  {
   "cell_type": "markdown",
   "metadata": {},
   "source": [
    "## Task 1.a.iii Dot product of vectors  \n",
    "Dot product of vectors, from my understanding, is the sum of all corresponding products of elements of two equal length vectors. The resulting value is a scalar value. \n",
    "**Example:**  \n",
    "```\n",
    "A = [1, 2, 3]  ,  B = [4, 5, 6]\n",
    "A + B = [1*4 + 2*5 + 3*6]\n",
    "      = 32\n",
    "```\n",
    "\n",
    "## Approach\n",
    "The below 'dot' method takes one argument of type Vector and returns the scalar dot product value."
   ]
  },
  {
   "cell_type": "code",
   "execution_count": 10,
   "metadata": {},
   "outputs": [],
   "source": [
    "# Function to compute the dot product of two vectors.\n",
    "def dot(self, vector: Vector):\n",
    "    # Checking that both Vector objects are of the same length.\n",
    "    if self.checkIfEqualSize(vector):\n",
    "        dotProduct = 0\n",
    "        productList = [self.v[i] * vector.v[i] for i in range(self.len)]\n",
    "        for number in productList:\n",
    "            dotProduct += number\n",
    "        return dotProduct\n",
    "    else:\n",
    "        raise Exception(f'Vector of length {self.len} required to obtain the dot product. Provided vector is of length {vector.len}')\n",
    "\n",
    "# Adding the dot function to the Vector class\n",
    "Vector.dot = dot"
   ]
  },
  {
   "cell_type": "code",
   "execution_count": 11,
   "metadata": {},
   "outputs": [
    {
     "name": "stdout",
     "output_type": "stream",
     "text": [
      "Vector v5: [1, 2, 3]\n",
      "Vector v2: [10, 20, 30]\n",
      "v5.v2: 140\n",
      "v2.v5: 140\n",
      "Vector v1: [-1, -2, -3]\n",
      "v1.v2: -140\n",
      "v2.v1: -140\n"
     ]
    },
    {
     "ename": "Exception",
     "evalue": "Vector of length 3 required to obtain the dot product. Provided vector is of length 4",
     "output_type": "error",
     "traceback": [
      "\u001b[0;31m---------------------------------------------------------------------------\u001b[0m",
      "\u001b[0;31mException\u001b[0m                                 Traceback (most recent call last)",
      "Cell \u001b[0;32mIn[11], line 19\u001b[0m\n\u001b[1;32m     13\u001b[0m \u001b[38;5;28mprint\u001b[39m(\u001b[38;5;124mf\u001b[39m\u001b[38;5;124m'\u001b[39m\u001b[38;5;124mv2.v1: \u001b[39m\u001b[38;5;132;01m{\u001b[39;00mv2\u001b[38;5;241m.\u001b[39mdot(v1)\u001b[38;5;132;01m}\u001b[39;00m\u001b[38;5;124m'\u001b[39m)\n\u001b[1;32m     15\u001b[0m \u001b[38;5;66;03m# Turns out that the dot product is commutative.\u001b[39;00m\n\u001b[1;32m     16\u001b[0m \n\u001b[1;32m     17\u001b[0m \u001b[38;5;66;03m# Obligatory test for unequal vector lengths\u001b[39;00m\n\u001b[1;32m     18\u001b[0m \u001b[38;5;66;03m# Test case 5\u001b[39;00m\n\u001b[0;32m---> 19\u001b[0m \u001b[43mv5\u001b[49m\u001b[38;5;241;43m.\u001b[39;49m\u001b[43mdot\u001b[49m\u001b[43m(\u001b[49m\u001b[43mv6\u001b[49m\u001b[43m)\u001b[49m \u001b[38;5;66;03m# Passed\u001b[39;00m\n",
      "Cell \u001b[0;32mIn[10], line 11\u001b[0m, in \u001b[0;36mdot\u001b[0;34m(self, vector)\u001b[0m\n\u001b[1;32m      9\u001b[0m     \u001b[38;5;28;01mreturn\u001b[39;00m dotProduct\n\u001b[1;32m     10\u001b[0m \u001b[38;5;28;01melse\u001b[39;00m:\n\u001b[0;32m---> 11\u001b[0m     \u001b[38;5;28;01mraise\u001b[39;00m \u001b[38;5;167;01mException\u001b[39;00m(\u001b[38;5;124mf\u001b[39m\u001b[38;5;124m'\u001b[39m\u001b[38;5;124mVector of length \u001b[39m\u001b[38;5;132;01m{\u001b[39;00m\u001b[38;5;28mself\u001b[39m\u001b[38;5;241m.\u001b[39mlen\u001b[38;5;132;01m}\u001b[39;00m\u001b[38;5;124m required to obtain the dot product. Provided vector is of length \u001b[39m\u001b[38;5;132;01m{\u001b[39;00mvector\u001b[38;5;241m.\u001b[39mlen\u001b[38;5;132;01m}\u001b[39;00m\u001b[38;5;124m'\u001b[39m)\n",
      "\u001b[0;31mException\u001b[0m: Vector of length 3 required to obtain the dot product. Provided vector is of length 4"
     ]
    }
   ],
   "source": [
    "print(f'Vector v5: {v5}')\n",
    "print(f'Vector v2: {v2}')\n",
    "# Test case 1\n",
    "print(f'v5.v2: {v5.dot(v2)}')\n",
    "# Test case 2\n",
    "print(f'v2.v5: {v2.dot(v5)}')\n",
    "\n",
    "# Testing with a vector having negative elements in it\n",
    "print(f'Vector v1: {v1}')\n",
    "# Test case 3\n",
    "print(f'v1.v2: {v1.dot(v2)}')\n",
    "# Test case 4\n",
    "print(f'v2.v1: {v2.dot(v1)}')\n",
    "\n",
    "# Turns out that the dot product is commutative.\n",
    "\n",
    "# Obligatory test for unequal vector lengths\n",
    "# Test case 5\n",
    "v5.dot(v6) # Passed"
   ]
  },
  {
   "cell_type": "markdown",
   "metadata": {},
   "source": [
    "**Verifying the above cases with Numpy**"
   ]
  },
  {
   "cell_type": "code",
   "execution_count": 12,
   "metadata": {},
   "outputs": [
    {
     "name": "stdout",
     "output_type": "stream",
     "text": [
      "140\n",
      "-140\n"
     ]
    },
    {
     "ename": "ValueError",
     "evalue": "shapes (3,) and (4,) not aligned: 3 (dim 0) != 4 (dim 0)",
     "output_type": "error",
     "traceback": [
      "\u001b[0;31m---------------------------------------------------------------------------\u001b[0m",
      "\u001b[0;31mValueError\u001b[0m                                Traceback (most recent call last)",
      "Cell \u001b[0;32mIn[12], line 4\u001b[0m\n\u001b[1;32m      2\u001b[0m n4 \u001b[38;5;241m=\u001b[39m np\u001b[38;5;241m.\u001b[39marray([\u001b[38;5;241m-\u001b[39m\u001b[38;5;241m1\u001b[39m, \u001b[38;5;241m-\u001b[39m\u001b[38;5;241m2\u001b[39m, \u001b[38;5;241m-\u001b[39m\u001b[38;5;241m3\u001b[39m])\n\u001b[1;32m      3\u001b[0m \u001b[38;5;28mprint\u001b[39m(n2\u001b[38;5;241m.\u001b[39mdot(n4))\n\u001b[0;32m----> 4\u001b[0m \u001b[38;5;28mprint\u001b[39m(\u001b[43mn1\u001b[49m\u001b[38;5;241;43m.\u001b[39;49m\u001b[43mdot\u001b[49m\u001b[43m(\u001b[49m\u001b[43mn3\u001b[49m\u001b[43m)\u001b[49m)\n",
      "\u001b[0;31mValueError\u001b[0m: shapes (3,) and (4,) not aligned: 3 (dim 0) != 4 (dim 0)"
     ]
    }
   ],
   "source": [
    "print(n1.dot(n2))\n",
    "n4 = np.array([-1, -2, -3])\n",
    "print(n2.dot(n4))\n",
    "print(n1.dot(n3))"
   ]
  },
  {
   "cell_type": "markdown",
   "metadata": {},
   "source": [
    "## Discussion\n",
    "Since the vector dot product is a sum of products, both of which are individually commutative arithmetic operations, the dot product is also commutative. This is also evident from test cases #2 & #4."
   ]
  },
  {
   "cell_type": "markdown",
   "metadata": {},
   "source": [
    "## Task 1.a.iv Cross product of vectors  \n",
    "My understanding about the cross product of 2 vectors:  \n",
    "- Cross product results in a resultant vector.\n",
    "- The resultant vector is perpendicular to the plane of the two vectors for whom the cross product is determined.\n",
    "- The magnitude of the resultant vector is equal to the area of the parallelogram that the original two vecotors would form with each other.\n",
    "\n",
    "### Mathematical formula to compute a cross product:  \n",
    "If there exists two vectors A = [ax, ay, az] and B = [bx, by, bz], then the cross product a X b can be computed as follows:  \n",
    "```\n",
    "    A X B = [aybz - azby, -(axbz - azbx), axby - aybx]  \n",
    "          = [aybz - azby, azbx - axbz, axby - aybx]\n",
    "```\n",
    "\n",
    "## Approach\n",
    "I have directly taken the above formula and implemented in the below function by using the list indices."
   ]
  },
  {
   "cell_type": "code",
   "execution_count": 13,
   "metadata": {},
   "outputs": [],
   "source": [
    "# Function to compute and return the resultant Vector object from the corss product of two vectors.\n",
    "def cross(self, vector: Vector) -> Vector:\n",
    "    if self.checkIfEqualSize(vector) and vector.len == 3:\n",
    "        abx = self.v[1]*vector.v[2] - self.v[2]*vector.v[1]\n",
    "        aby = self.v[2]*vector.v[0] - self.v[0]*vector.v[2]\n",
    "        abz = self.v[0]*vector.v[1] - self.v[1]*vector.v[0]\n",
    "        return Vector([abx, aby, abz])\n",
    "    else:\n",
    "        raise Exception(f'Vector of 3 dimensions required.')\n",
    "\n",
    "# Adding the above cross method to the Vector class\n",
    "Vector.cross = cross"
   ]
  },
  {
   "cell_type": "code",
   "execution_count": 14,
   "metadata": {},
   "outputs": [
    {
     "name": "stdout",
     "output_type": "stream",
     "text": [
      "Vector v5: [1, 2, 3]\n",
      "Vector v2: [10, 20, 30]\n",
      "v5 X v2 = [0, 0, 0]\n",
      "Vector v6: [2, 3, 4]\n",
      "Vector v7: [5, 6, 7]\n",
      "v6 X v7 = [-3, 6, -3]\n",
      "v7 X v6 = [3, -6, 3]\n",
      "\n",
      "Verification with numpy\n",
      "[1 2 3] [10 20 30]\n",
      "[0 0 0]\n",
      "[-3  6 -3]\n",
      "[-3  6 -3]\n",
      "[-3  6 -3]\n",
      "[-12  24 -12]\n"
     ]
    }
   ],
   "source": [
    "# Test cases\n",
    "# Case 1\n",
    "print(f'Vector v5: {v5}')\n",
    "print(f'Vector v2: {v2}')\n",
    "print(f'v5 X v2 = {v5.cross(v2)}')\n",
    "# Case 2\n",
    "v6 = Vector([2,3,4])\n",
    "print(f'Vector v6: {v6}')\n",
    "v7 = Vector([5,6,7])\n",
    "print(f'Vector v7: {v7}')\n",
    "print(f'v6 X v7 = {v6.cross(v7)}')\n",
    "# Case 3\n",
    "print(f'v7 X v6 = {v7.cross(v6)}') # changing order of cross product flips the direction of the resultant vector. \n",
    "\n",
    "# Verification with numpy\n",
    "print('\\nVerification with numpy')\n",
    "print(n1, n2)\n",
    "print(np.cross(n1, n2))\n",
    "print(np.cross(np.array([1,2,3]), np.array([4,5,6]))) # <--\n",
    "print(np.cross(np.array([2,3,4]), np.array([5,6,7]))) # <--\n",
    "print(np.cross(np.array([211,212,213]), np.array([214,215,216]))) # <--\n",
    "print(np.cross(2*np.array([1,2,3]), 2*np.array([4,5,6])))"
   ]
  },
  {
   "cell_type": "markdown",
   "metadata": {},
   "source": [
    "## Discussion\n",
    "\n",
    "There are 3 interesting observations I've made:  \n",
    "- Flipping the order of two vectors in the cross muliplication results in the elements being negated which in effect means that the resultant vector's direction is flipped (thanks 3B1B :D).\n",
    "-  The resultant vector's values don't change as long as the vectors follow the same pattern? **(See the lines in test code cell above commented with \"<--\" and its corresponding output via numpy).** The inference here is that this has little to do with the cross product but more to do with the nature of vectors themselves.\n",
    "    - The vectors can always be added to and subtracted from to get the vector in the original position.\n",
    "    - So, the positioning of the vectors do not affect the resultant vector from a cross product as long as the area of the parallelogram formed between them stay the same (3B1B ftw!).\n",
    "-  The vector cross product scales with the same scalar factor with which the component vectors were scaled."
   ]
  },
  {
   "cell_type": "markdown",
   "metadata": {},
   "source": [
    "## b. Matrices  \n",
    "Part 2 of the 1st activity extends the concept of the vector and introduces us to matrices. I shall also create a Matrix class that defines each row (i.e, sub-list) as a Vector object so that it can build upon the work done with the Vector class above."
   ]
  },
  {
   "cell_type": "code",
   "execution_count": 15,
   "metadata": {},
   "outputs": [],
   "source": [
    "class Matrix:\n",
    "\n",
    "    # Constructor that calls the inherited constructor but also sets the shape for the matrix\n",
    "    def __init__(self, mat: list):\n",
    "        # Not a very elegant way in python for constructor overloading as it is not a statically typed language. :(\n",
    "        if isinstance(mat, List) and isinstance(mat[0], Vector):\n",
    "            self.mat = mat\n",
    "        elif isinstance(mat, List) and isinstance(mat[0], List):\n",
    "            self.mat = []\n",
    "            for i in range(len(mat)):\n",
    "                '''\n",
    "                Initialising every row in the matrix to be a Vector object so that I can apply previously implemented methods directly.\n",
    "                Note to self: I should be checking if each of the sub lists are of the same length. But, that seems like \n",
    "                I'm digressing too much.\n",
    "                '''\n",
    "                self.mat.append(Vector(mat[i]))\n",
    "        else:\n",
    "            raise Exception(\"Wrong input provided for the Matrix object.\")\n",
    "        self.shape = (len(self.mat), self.mat[0].len)\n",
    "\n",
    "    # Defining the string representation for the Matrix object which is to be used when printed.\n",
    "    def __str__(self):\n",
    "        matStr = \"[\"\n",
    "        for row in self.mat:\n",
    "            matStr += row.__str__() + \"\\n\"\n",
    "        matStr = matStr[:len(matStr)-1]\n",
    "        matStr += \"]\"\n",
    "        return matStr"
   ]
  },
  {
   "cell_type": "code",
   "execution_count": 16,
   "metadata": {},
   "outputs": [],
   "source": [
    "# Util function to check if a Matrix object has the same shape as the current Matrix object\n",
    "def isCompatibleShape(self, mat: Matrix) -> bool:\n",
    "    return self.shape == mat.shape\n",
    "\n",
    "# Util function to return a transposed version of the current matrix. Returns a new Matrix object and hence doesn't change in place.\n",
    "def transpose(self):\n",
    "    return Matrix([[self.mat[j].v[i] for j in range(self.shape[0])] for i in range(self.shape[1])])\n",
    "\n",
    "# Adding the above util function to the Matrix class\n",
    "Matrix.isCompatibleShape = isCompatibleShape\n",
    "Matrix.transpose = transpose"
   ]
  },
  {
   "cell_type": "markdown",
   "metadata": {},
   "source": [
    "### Task 1.b.i Size (shape) of Matrix object\n",
    "\n",
    "Every Matrix object is assigned a shape attribute on creation via the constructor. So, to find the shape of a matrix object, you can simply access it by calling the shape attribute."
   ]
  },
  {
   "cell_type": "code",
   "execution_count": 17,
   "metadata": {},
   "outputs": [
    {
     "name": "stdout",
     "output_type": "stream",
     "text": [
      "Matrix m1:\n",
      "[[1, 2, 3]\n",
      "[4, 5, 6]\n",
      "[7, 8, 9]]\n",
      "Shape of m1:(3, 3)\n",
      "Matrix m2:\n",
      "[[1, 2]\n",
      "[4, 5]\n",
      "[7, 8]]\n",
      "Shape of m1:(3, 2)\n"
     ]
    }
   ],
   "source": [
    "# Test case 1\n",
    "m1 = Matrix([[1,2,3],\n",
    "            [4,5,6],\n",
    "            [7,8,9]])\n",
    "print(f'Matrix m1:\\n{m1}')\n",
    "print(f'Shape of m1:{m1.shape}')\n",
    "\n",
    "# Test case 2\n",
    "m2 = Matrix([[1,2],\n",
    "            [4,5],\n",
    "            [7,8]])\n",
    "print(f'Matrix m2:\\n{m2}')\n",
    "print(f'Shape of m1:{m2.shape}')"
   ]
  },
  {
   "cell_type": "markdown",
   "metadata": {},
   "source": [
    "### Task 1.b.ii Sum/subtract two matrices\n",
    "\n",
    "Matrices of the same dimensions can be added or subtracted simply by directly performing the respective arithmetic operation between the positionally corresponding element in the matrices.\n",
    "\n",
    "**Example:**  \n",
    "```\n",
    "A = [1, 2]  ,  B = [5, 6]  \n",
    "    [3, 4]         [7, 8]\n",
    "\n",
    "A + B = [1+5, 2+6] = [6,  8 ]\n",
    "        [3+7, 4+8]   [10, 12]\n",
    "```"
   ]
  },
  {
   "cell_type": "code",
   "execution_count": 18,
   "metadata": {},
   "outputs": [],
   "source": [
    "# Function to add to matrices\n",
    "def matAdd(self, mat: Matrix) -> Matrix:\n",
    "    if self.isCompatibleShape(mat):\n",
    "        matSum = []\n",
    "        for i in range(self.shape[0]): # iterating through all the rows in the matrix\n",
    "            '''\n",
    "            Since all rows (sub-lists) in a Matrix object are essentially Vector objects, we can just directly call the add method\n",
    "            of the previously defined Vector class. \n",
    "            Ref: cell under Task 1.a.ii Addition and subtraction of vectors\n",
    "            '''\n",
    "            matSum.append(self.mat[i].add(mat.mat[i]))\n",
    "        return Matrix(matSum)\n",
    "    else:\n",
    "        raise Exception(f'Provided matrix is not of compatible shape. Required shape: {self.shape}')\n",
    "\n",
    "def matSub(self, mat: Matrix) -> Matrix:\n",
    "    if self.isCompatibleShape(mat):\n",
    "        matDiff = []\n",
    "        for i in range(self.shape[0]): # iterating through all the rows in the matrix\n",
    "            # Same logic as in the above matAdd method. Reuse Vector code! :D\n",
    "            matDiff.append(self.mat[i].subtract(mat.mat[i]))\n",
    "        return Matrix(matDiff)\n",
    "    else:\n",
    "        raise Exception(f'Provided matrix is not of compatible shape. Required shape: {self.shape}')\n",
    "\n",
    "Matrix.add = matAdd\n",
    "Matrix.sub = matSub"
   ]
  },
  {
   "cell_type": "code",
   "execution_count": 19,
   "metadata": {},
   "outputs": [
    {
     "name": "stdout",
     "output_type": "stream",
     "text": [
      "Matrix m1: \n",
      "[[1, 2, 3]\n",
      "[4, 5, 6]\n",
      "[7, 8, 9]]\n",
      "Sum of matrices m1 & m3: \n",
      "[[10, 10, 10]\n",
      "[10, 10, 10]\n",
      "[10, 10, 10]]\n",
      "Difference of matrices m1 & m3: \n",
      "[[-8, -6, -4]\n",
      "[-2, 0, 2]\n",
      "[4, 6, 8]]\n",
      "matrix m2: \n",
      "[[1, 2]\n",
      "[4, 5]\n",
      "[7, 8]]\n",
      "Sum of matrices m2 & m6: \n",
      "[[3, 5]\n",
      "[-1, 11]\n",
      "[15, -1]]\n"
     ]
    },
    {
     "ename": "Exception",
     "evalue": "Provided matrix is not of compatible shape. Required shape: (3, 2)",
     "output_type": "error",
     "traceback": [
      "\u001b[0;31m---------------------------------------------------------------------------\u001b[0m",
      "\u001b[0;31mException\u001b[0m                                 Traceback (most recent call last)",
      "Cell \u001b[0;32mIn[19], line 21\u001b[0m\n\u001b[1;32m     18\u001b[0m \u001b[38;5;28mprint\u001b[39m(\u001b[38;5;124mf\u001b[39m\u001b[38;5;124m'\u001b[39m\u001b[38;5;124mSum of matrices m2 & m6: \u001b[39m\u001b[38;5;130;01m\\n\u001b[39;00m\u001b[38;5;132;01m{\u001b[39;00mm2\u001b[38;5;241m.\u001b[39madd(m6)\u001b[38;5;132;01m}\u001b[39;00m\u001b[38;5;124m'\u001b[39m)\n\u001b[1;32m     20\u001b[0m \u001b[38;5;66;03m# Test case 4 (Using matrices of different shapes)\u001b[39;00m\n\u001b[0;32m---> 21\u001b[0m \u001b[43mm6\u001b[49m\u001b[38;5;241;43m.\u001b[39;49m\u001b[43msub\u001b[49m\u001b[43m(\u001b[49m\u001b[43mm5\u001b[49m\u001b[43m)\u001b[49m \u001b[38;5;66;03m# Exception thrown below. Passed!\u001b[39;00m\n",
      "Cell \u001b[0;32mIn[18], line 24\u001b[0m, in \u001b[0;36mmatSub\u001b[0;34m(self, mat)\u001b[0m\n\u001b[1;32m     22\u001b[0m     \u001b[38;5;28;01mreturn\u001b[39;00m Matrix(matDiff)\n\u001b[1;32m     23\u001b[0m \u001b[38;5;28;01melse\u001b[39;00m:\n\u001b[0;32m---> 24\u001b[0m     \u001b[38;5;28;01mraise\u001b[39;00m \u001b[38;5;167;01mException\u001b[39;00m(\u001b[38;5;124mf\u001b[39m\u001b[38;5;124m'\u001b[39m\u001b[38;5;124mProvided matrix is not of compatible shape. Required shape: \u001b[39m\u001b[38;5;132;01m{\u001b[39;00m\u001b[38;5;28mself\u001b[39m\u001b[38;5;241m.\u001b[39mshape\u001b[38;5;132;01m}\u001b[39;00m\u001b[38;5;124m'\u001b[39m)\n",
      "\u001b[0;31mException\u001b[0m: Provided matrix is not of compatible shape. Required shape: (3, 2)"
     ]
    }
   ],
   "source": [
    "# Test case 1 (Addition)\n",
    "print(f'Matrix m1: \\n{m1}')\n",
    "m3 = Matrix([[9,8,7],\n",
    "            [6,5,4],\n",
    "            [3,2,1]])\n",
    "m4 = m1.add(m3)\n",
    "print(f'Sum of matrices m1 & m3: \\n{m4}')\n",
    "\n",
    "# Test case 2 (Subtraction)\n",
    "m5 = m1.sub(m3)\n",
    "print(f'Difference of matrices m1 & m3: \\n{m5}')\n",
    "\n",
    "#Test case 3 (Some thing other than a square matrix)\n",
    "print(f'matrix m2: \\n{m2}')\n",
    "m6 = Matrix([[2,3],\n",
    "           [-5,6],\n",
    "           [8,-9]])\n",
    "print(f'Sum of matrices m2 & m6: \\n{m2.add(m6)}')\n",
    "\n",
    "# Test case 4 (Using matrices of different shapes)\n",
    "m6.sub(m5) # Exception thrown below. Passed!"
   ]
  },
  {
   "cell_type": "markdown",
   "metadata": {},
   "source": [
    "**Verifying the above cases with Numpy**"
   ]
  },
  {
   "cell_type": "code",
   "execution_count": 20,
   "metadata": {},
   "outputs": [
    {
     "name": "stdout",
     "output_type": "stream",
     "text": [
      "[[10 10 10]\n",
      " [10 10 10]\n",
      " [10 10 10]]\n",
      "[[-8 -6 -4]\n",
      " [-2  0  2]\n",
      " [ 4  6  8]]\n"
     ]
    },
    {
     "ename": "ValueError",
     "evalue": "operands could not be broadcast together with shapes (3,3) (3,2) ",
     "output_type": "error",
     "traceback": [
      "\u001b[0;31m---------------------------------------------------------------------------\u001b[0m",
      "\u001b[0;31mValueError\u001b[0m                                Traceback (most recent call last)",
      "Cell \u001b[0;32mIn[20], line 12\u001b[0m\n\u001b[1;32m      8\u001b[0m \u001b[38;5;28mprint\u001b[39m(nm1\u001b[38;5;241m-\u001b[39mnm2)\n\u001b[1;32m      9\u001b[0m nm5 \u001b[38;5;241m=\u001b[39m np\u001b[38;5;241m.\u001b[39marray([[\u001b[38;5;241m1\u001b[39m,\u001b[38;5;241m2\u001b[39m],\n\u001b[1;32m     10\u001b[0m             [\u001b[38;5;241m4\u001b[39m,\u001b[38;5;241m5\u001b[39m],\n\u001b[1;32m     11\u001b[0m             [\u001b[38;5;241m7\u001b[39m,\u001b[38;5;241m8\u001b[39m]])\n\u001b[0;32m---> 12\u001b[0m \u001b[43mnm1\u001b[49m\u001b[38;5;241;43m-\u001b[39;49m\u001b[43mnm5\u001b[49m\n",
      "\u001b[0;31mValueError\u001b[0m: operands could not be broadcast together with shapes (3,3) (3,2) "
     ]
    }
   ],
   "source": [
    "nm1 = np.array([[1,2,3],\n",
    "            [4,5,6],\n",
    "            [7,8,9]])\n",
    "nm2 = np.array([[9,8,7],\n",
    "            [6,5,4],\n",
    "            [3,2,1]])\n",
    "print(nm1+nm2)\n",
    "print(nm1-nm2)\n",
    "nm5 = np.array([[1,2],\n",
    "            [4,5],\n",
    "            [7,8]])\n",
    "nm1-nm5"
   ]
  },
  {
   "cell_type": "markdown",
   "metadata": {},
   "source": [
    "### Task 1.b.iii Multiplying a matrix with a vector\n",
    "This is basically getting the Dot product between each row in the matrix and the vector. This is also why we need to ensure that the **size of** the **vector** is **equal** to the **number of columns** in the **matrix**."
   ]
  },
  {
   "cell_type": "code",
   "execution_count": 21,
   "metadata": {},
   "outputs": [],
   "source": [
    "# Function that takes a Vector object and multiplies it with its defined Matrix values\n",
    "def matMulVec(self, vector: Vector) -> Vector:\n",
    "    newVec = []\n",
    "    if vector.len == self.shape[1]: # Ensuring that the vector length matches with the no. of columns in the matrix\n",
    "        for row in self.mat:\n",
    "            newVec.append(row.dot(vector))\n",
    "        return Vector(newVec)\n",
    "    else:\n",
    "        raise Exception(f'Vector of size {self.shape[1]} expected while provided vector is of size {vector.len}')\n",
    "    '''\n",
    "    Figured since the exception is already handled in the dot() method in the Vector class, I don't need to explicity handle the \n",
    "    case with incompatible matrix and vector sizes here. But I'm doing it anyway :P\n",
    "    '''\n",
    "# Adding the above method to the Matrix class\n",
    "Matrix.matMulVec = matMulVec"
   ]
  },
  {
   "cell_type": "code",
   "execution_count": 22,
   "metadata": {},
   "outputs": [
    {
     "name": "stdout",
     "output_type": "stream",
     "text": [
      "Vector v2: \n",
      "[10, 20, 30]\n",
      "Matrix m1: \n",
      "[[1, 2, 3]\n",
      "[4, 5, 6]\n",
      "[7, 8, 9]]\n",
      "m1 * v2: \n",
      "[140, 320, 500]\n",
      "\n",
      "m7 * v8: \n",
      "[1, -3]\n",
      "\n"
     ]
    },
    {
     "ename": "Exception",
     "evalue": "Vector of size 3 expected while provided vector is of size 2",
     "output_type": "error",
     "traceback": [
      "\u001b[0;31m---------------------------------------------------------------------------\u001b[0m",
      "\u001b[0;31mException\u001b[0m                                 Traceback (most recent call last)",
      "Cell \u001b[0;32mIn[22], line 14\u001b[0m\n\u001b[1;32m     12\u001b[0m \u001b[38;5;66;03m#Test case 3 (Checking with incompatible matrix and vector sizes)\u001b[39;00m\n\u001b[1;32m     13\u001b[0m v9 \u001b[38;5;241m=\u001b[39m Vector([\u001b[38;5;241m2\u001b[39m, \u001b[38;5;241m1\u001b[39m])\n\u001b[0;32m---> 14\u001b[0m \u001b[43mm7\u001b[49m\u001b[38;5;241;43m.\u001b[39;49m\u001b[43mmatMulVec\u001b[49m\u001b[43m(\u001b[49m\u001b[43mv9\u001b[49m\u001b[43m)\u001b[49m \u001b[38;5;66;03m# passed!\u001b[39;00m\n",
      "Cell \u001b[0;32mIn[21], line 9\u001b[0m, in \u001b[0;36mmatMulVec\u001b[0;34m(self, vector)\u001b[0m\n\u001b[1;32m      7\u001b[0m     \u001b[38;5;28;01mreturn\u001b[39;00m Vector(newVec)\n\u001b[1;32m      8\u001b[0m \u001b[38;5;28;01melse\u001b[39;00m:\n\u001b[0;32m----> 9\u001b[0m     \u001b[38;5;28;01mraise\u001b[39;00m \u001b[38;5;167;01mException\u001b[39;00m(\u001b[38;5;124mf\u001b[39m\u001b[38;5;124m'\u001b[39m\u001b[38;5;124mVector of size \u001b[39m\u001b[38;5;132;01m{\u001b[39;00m\u001b[38;5;28mself\u001b[39m\u001b[38;5;241m.\u001b[39mshape[\u001b[38;5;241m1\u001b[39m]\u001b[38;5;132;01m}\u001b[39;00m\u001b[38;5;124m expected while provided vector is of size \u001b[39m\u001b[38;5;132;01m{\u001b[39;00mvector\u001b[38;5;241m.\u001b[39mlen\u001b[38;5;132;01m}\u001b[39;00m\u001b[38;5;124m'\u001b[39m)\n\u001b[1;32m     10\u001b[0m \u001b[38;5;250m\u001b[39m\u001b[38;5;124;03m'''\u001b[39;00m\n\u001b[1;32m     11\u001b[0m \u001b[38;5;124;03mFigured since the exception is already handled in the dot() method in the Vector class, I don't need to explicity handle the \u001b[39;00m\n\u001b[1;32m     12\u001b[0m \u001b[38;5;124;03mcase with incompatible matrix and vector sizes here. But I'm doing it anyway :P\u001b[39;00m\n\u001b[1;32m     13\u001b[0m \u001b[38;5;124;03m'''\u001b[39;00m\n",
      "\u001b[0;31mException\u001b[0m: Vector of size 3 expected while provided vector is of size 2"
     ]
    }
   ],
   "source": [
    "# Test case 1\n",
    "print(f'Vector v2: \\n{v2}')\n",
    "print(f'Matrix m1: \\n{m1}')\n",
    "print(f'm1 * v2: \\n{m1.matMulVec(v2)}')\n",
    "print()\n",
    "# Test case 2\n",
    "m7 = Matrix([[1, -1, 2],\n",
    "             [0, -3, 1]])\n",
    "v8 = Vector([2, 1, 0])\n",
    "print(f'm7 * v8: \\n{m7.matMulVec(v8)}')\n",
    "print()\n",
    "#Test case 3 (Checking with incompatible matrix and vector sizes)\n",
    "v9 = Vector([2, 1])\n",
    "m7.matMulVec(v9) # passed!"
   ]
  },
  {
   "cell_type": "markdown",
   "metadata": {},
   "source": [
    "**Verifying the above cases with Numpy**"
   ]
  },
  {
   "cell_type": "code",
   "execution_count": 23,
   "metadata": {},
   "outputs": [
    {
     "name": "stdout",
     "output_type": "stream",
     "text": [
      "[10 20 30]\n",
      "[[1 2 3]\n",
      " [4 5 6]\n",
      " [7 8 9]]\n",
      "[140 320 500]\n",
      "\n",
      "[ 1 -3]\n",
      "\n"
     ]
    },
    {
     "ename": "ValueError",
     "evalue": "matmul: Input operand 1 has a mismatch in its core dimension 0, with gufunc signature (n?,k),(k,m?)->(n?,m?) (size 2 is different from 3)",
     "output_type": "error",
     "traceback": [
      "\u001b[0;31m---------------------------------------------------------------------------\u001b[0m",
      "\u001b[0;31mValueError\u001b[0m                                Traceback (most recent call last)",
      "Cell \u001b[0;32mIn[23], line 11\u001b[0m\n\u001b[1;32m      9\u001b[0m \u001b[38;5;28mprint\u001b[39m()\n\u001b[1;32m     10\u001b[0m \u001b[38;5;66;03m# print(np.matmul(n4, nm6)) # This failed as well as the vector size no longer matched the no. of matrix columns when order was swapped.\u001b[39;00m\n\u001b[0;32m---> 11\u001b[0m \u001b[38;5;28mprint\u001b[39m(\u001b[43mnp\u001b[49m\u001b[38;5;241;43m.\u001b[39;49m\u001b[43mmatmul\u001b[49m\u001b[43m(\u001b[49m\u001b[43mnm6\u001b[49m\u001b[43m,\u001b[49m\u001b[43m \u001b[49m\u001b[43mnp\u001b[49m\u001b[38;5;241;43m.\u001b[39;49m\u001b[43marray\u001b[49m\u001b[43m(\u001b[49m\u001b[43m[\u001b[49m\u001b[38;5;241;43m2\u001b[39;49m\u001b[43m,\u001b[49m\u001b[43m \u001b[49m\u001b[38;5;241;43m1\u001b[39;49m\u001b[43m]\u001b[49m\u001b[43m)\u001b[49m\u001b[43m)\u001b[49m)\n",
      "\u001b[0;31mValueError\u001b[0m: matmul: Input operand 1 has a mismatch in its core dimension 0, with gufunc signature (n?,k),(k,m?)->(n?,m?) (size 2 is different from 3)"
     ]
    }
   ],
   "source": [
    "print(n2)\n",
    "print(nm1)\n",
    "print(np.matmul(nm1, n2))\n",
    "print()\n",
    "nm6 = np.array([[1, -1, 2],\n",
    "                [0, -3, 1]])\n",
    "n4 = np.array([2, 1, 0])\n",
    "print(np.matmul(nm6, n4))\n",
    "print()\n",
    "# print(np.matmul(n4, nm6)) # This failed as well as the vector size no longer matched the no. of matrix columns when order was swapped.\n",
    "print(np.matmul(nm6, np.array([2, 1])))"
   ]
  },
  {
   "cell_type": "markdown",
   "metadata": {},
   "source": [
    "### Task 1.b.iv Multiplying a matrix with another matrix\n",
    "Matrix - Matrix multiplication is essentially taking the vector - matrix multiplication forward. Instead of multiplying (dot product) just a column matrix over the rows of another matrix, we find the dot products of a collection of column matrices (which is a matrix) with the rows of another matrix.\n"
   ]
  },
  {
   "cell_type": "code",
   "execution_count": 24,
   "metadata": {},
   "outputs": [],
   "source": [
    "# Method to multiply two matrices\n",
    "def matMulMat(self, mat: Matrix) -> Matrix:\n",
    "    # check if the number of columns in the current matrix is equal to the number of rows in the passed matrix\n",
    "    if self.shape[1] == mat.shape[0]:\n",
    "        prodMat = []\n",
    "        for row in self.mat:\n",
    "            # Transposing the passed matrix so that I can directly apply the vector dot product function for each row.\n",
    "            prodRow = [row.dot(i) for i in mat.transpose().mat]\n",
    "            prodMat.append(prodRow) # I could have used list comprehension for this outer loop as well, but this seems more readable to me.\n",
    "        return Matrix(prodMat)\n",
    "    else:\n",
    "        raise Exception(f'shape {self.shape} is incompatible with provided matrix shape {mat.shape} for multiplication.')\n",
    "\n",
    "Matrix.matMulMat = matMulMat"
   ]
  },
  {
   "cell_type": "code",
   "execution_count": 25,
   "metadata": {},
   "outputs": [
    {
     "name": "stdout",
     "output_type": "stream",
     "text": [
      "Matrix m1: \n",
      "[[1, 2, 3]\n",
      "[4, 5, 6]\n",
      "[7, 8, 9]]\n",
      "Matrix m5: \n",
      "[[-8, -6, -4]\n",
      "[-2, 0, 2]\n",
      "[4, 6, 8]]\n",
      "m1 * m3: \n",
      "[[0, 12, 24]\n",
      "[-18, 12, 42]\n",
      "[-36, 12, 60]]\n",
      "\n",
      "Matrix m2T: \n",
      "[[1, 4, 7]\n",
      "[2, 5, 8]]\n",
      "Matrix m3: \n",
      "[[9, 8, 7]\n",
      "[6, 5, 4]\n",
      "[3, 2, 1]]\n",
      "m2T * m3: \n",
      "[[54, 42, 30]\n",
      "[72, 57, 42]]\n",
      "\n",
      "Matrix m6: \n",
      "[[1, 2, 3]]\n",
      "Matrix m1: \n",
      "[[1, 2, 3]\n",
      "[4, 5, 6]\n",
      "[7, 8, 9]]\n",
      "m6 * m1: \n",
      "[[30, 36, 42]]\n",
      "\n",
      "Matrix m2: \n",
      "[[1, 2]\n",
      "[4, 5]\n",
      "[7, 8]]\n",
      "Matrix m3: \n",
      "[[9, 8, 7]\n",
      "[6, 5, 4]\n",
      "[3, 2, 1]]\n"
     ]
    },
    {
     "ename": "Exception",
     "evalue": "shape (3, 2) is incompatible with provided matrix shape (3, 3) for multiplication.",
     "output_type": "error",
     "traceback": [
      "\u001b[0;31m---------------------------------------------------------------------------\u001b[0m",
      "\u001b[0;31mException\u001b[0m                                 Traceback (most recent call last)",
      "Cell \u001b[0;32mIn[25], line 22\u001b[0m\n\u001b[1;32m     20\u001b[0m \u001b[38;5;28mprint\u001b[39m(\u001b[38;5;124mf\u001b[39m\u001b[38;5;124m'\u001b[39m\u001b[38;5;124mMatrix m2: \u001b[39m\u001b[38;5;130;01m\\n\u001b[39;00m\u001b[38;5;132;01m{\u001b[39;00mm2\u001b[38;5;132;01m}\u001b[39;00m\u001b[38;5;124m'\u001b[39m)\n\u001b[1;32m     21\u001b[0m \u001b[38;5;28mprint\u001b[39m(\u001b[38;5;124mf\u001b[39m\u001b[38;5;124m'\u001b[39m\u001b[38;5;124mMatrix m3: \u001b[39m\u001b[38;5;130;01m\\n\u001b[39;00m\u001b[38;5;132;01m{\u001b[39;00mm3\u001b[38;5;132;01m}\u001b[39;00m\u001b[38;5;124m'\u001b[39m)\n\u001b[0;32m---> 22\u001b[0m \u001b[38;5;28mprint\u001b[39m(\u001b[38;5;124mf\u001b[39m\u001b[38;5;124m'\u001b[39m\u001b[38;5;124mm2 * m3: \u001b[39m\u001b[38;5;130;01m\\n\u001b[39;00m\u001b[38;5;132;01m{\u001b[39;00m\u001b[43mm2\u001b[49m\u001b[38;5;241;43m.\u001b[39;49m\u001b[43mmatMulMat\u001b[49m\u001b[43m(\u001b[49m\u001b[43mm3\u001b[49m\u001b[43m)\u001b[49m\u001b[38;5;132;01m}\u001b[39;00m\u001b[38;5;124m'\u001b[39m) \u001b[38;5;66;03m# Passed! Exception thrown.\u001b[39;00m\n",
      "Cell \u001b[0;32mIn[24], line 12\u001b[0m, in \u001b[0;36mmatMulMat\u001b[0;34m(self, mat)\u001b[0m\n\u001b[1;32m     10\u001b[0m     \u001b[38;5;28;01mreturn\u001b[39;00m Matrix(prodMat)\n\u001b[1;32m     11\u001b[0m \u001b[38;5;28;01melse\u001b[39;00m:\n\u001b[0;32m---> 12\u001b[0m     \u001b[38;5;28;01mraise\u001b[39;00m \u001b[38;5;167;01mException\u001b[39;00m(\u001b[38;5;124mf\u001b[39m\u001b[38;5;124m'\u001b[39m\u001b[38;5;124mshape \u001b[39m\u001b[38;5;132;01m{\u001b[39;00m\u001b[38;5;28mself\u001b[39m\u001b[38;5;241m.\u001b[39mshape\u001b[38;5;132;01m}\u001b[39;00m\u001b[38;5;124m is incompatible with provided matrix shape \u001b[39m\u001b[38;5;132;01m{\u001b[39;00mmat\u001b[38;5;241m.\u001b[39mshape\u001b[38;5;132;01m}\u001b[39;00m\u001b[38;5;124m for multiplication.\u001b[39m\u001b[38;5;124m'\u001b[39m)\n",
      "\u001b[0;31mException\u001b[0m: shape (3, 2) is incompatible with provided matrix shape (3, 3) for multiplication."
     ]
    }
   ],
   "source": [
    "# Test case 1 - Multiplying two 3x3 matrices\n",
    "print(f'Matrix m1: \\n{m1}')\n",
    "print(f'Matrix m5: \\n{m5}')\n",
    "print(f'm1 * m3: \\n{m1.matMulMat(m5)}')\n",
    "print()\n",
    "# Test case 2 - Multipying matrices that are not square matrices\n",
    "print(f'Matrix m2T: \\n{m2.transpose()}')\n",
    "print(f'Matrix m3: \\n{m3}')\n",
    "print(f'm2T * m3: \\n{m2.transpose().matMulMat(m3)}')\n",
    "print()\n",
    "# Test case 3 - Multipying a column matrix with a matrix having a higher shape\n",
    "m6 = Matrix([[1,2,3]])\n",
    "print(f'Matrix m6: \\n{m6}')\n",
    "print(f'Matrix m1: \\n{m1}')\n",
    "print(f'm6 * m1: \\n{m6.matMulMat(m1)}')\n",
    "print()\n",
    "# print(f'm1 * m6: \\n{m1.matMulMat(m6)}')\n",
    "\n",
    "# Test case 4 - Multipying matrices that do not have compatible shapes\n",
    "print(f'Matrix m2: \\n{m2}')\n",
    "print(f'Matrix m3: \\n{m3}')\n",
    "print(f'm2 * m3: \\n{m2.matMulMat(m3)}') # Passed! Exception thrown."
   ]
  },
  {
   "cell_type": "markdown",
   "metadata": {},
   "source": [
    "**Verifying the above cases with Numpy**"
   ]
  },
  {
   "cell_type": "code",
   "execution_count": 26,
   "metadata": {},
   "outputs": [
    {
     "name": "stdout",
     "output_type": "stream",
     "text": [
      "[[  0  12  24]\n",
      " [-18  12  42]\n",
      " [-36  12  60]]\n",
      "[[54 42 30]\n",
      " [72 57 42]]\n"
     ]
    },
    {
     "ename": "ValueError",
     "evalue": "matmul: Input operand 1 has a mismatch in its core dimension 0, with gufunc signature (n?,k),(k,m?)->(n?,m?) (size 2 is different from 3)",
     "output_type": "error",
     "traceback": [
      "\u001b[0;31m---------------------------------------------------------------------------\u001b[0m",
      "\u001b[0;31mValueError\u001b[0m                                Traceback (most recent call last)",
      "Cell \u001b[0;32mIn[26], line 9\u001b[0m\n\u001b[1;32m      6\u001b[0m nm8 \u001b[38;5;241m=\u001b[39m np\u001b[38;5;241m.\u001b[39marray([[\u001b[38;5;241m1\u001b[39m, \u001b[38;5;241m4\u001b[39m, \u001b[38;5;241m7\u001b[39m],\n\u001b[1;32m      7\u001b[0m                 [\u001b[38;5;241m2\u001b[39m, \u001b[38;5;241m5\u001b[39m, \u001b[38;5;241m8\u001b[39m]])\n\u001b[1;32m      8\u001b[0m \u001b[38;5;28mprint\u001b[39m(np\u001b[38;5;241m.\u001b[39mmatmul(nm8, nm2))\n\u001b[0;32m----> 9\u001b[0m \u001b[38;5;28mprint\u001b[39m(\u001b[43mnp\u001b[49m\u001b[38;5;241;43m.\u001b[39;49m\u001b[43mmatmul\u001b[49m\u001b[43m(\u001b[49m\u001b[43mnm2\u001b[49m\u001b[43m,\u001b[49m\u001b[43m \u001b[49m\u001b[43mnm8\u001b[49m\u001b[43m)\u001b[49m)\n",
      "\u001b[0;31mValueError\u001b[0m: matmul: Input operand 1 has a mismatch in its core dimension 0, with gufunc signature (n?,k),(k,m?)->(n?,m?) (size 2 is different from 3)"
     ]
    }
   ],
   "source": [
    "# print(np.matmul(nm1, nm2))\n",
    "nm7 = np.array([[-8, -6, -4],\n",
    "                [-2, 0, 2],\n",
    "                [4, 6, 8]])\n",
    "print(np.matmul(nm1, nm7))\n",
    "nm8 = np.array([[1, 4, 7],\n",
    "                [2, 5, 8]])\n",
    "print(np.matmul(nm8, nm2))\n",
    "print(np.matmul(nm2, nm8))"
   ]
  },
  {
   "cell_type": "markdown",
   "metadata": {},
   "source": [
    "## Discussion\n",
    "\n",
    "The above matMulMat method will perform vector multiplication with a matrix as well (as evident from test case #3) if you pass a column matrix as a Matrix object. This is obvious but worth pointing out so that we drive home that a vector is just a special case of a matrix."
   ]
  },
  {
   "cell_type": "markdown",
   "metadata": {},
   "source": [
    "## Task 1.b.v Determinant\n",
    "\n",
    "Determinant of matrices are only applicable to square matrices. For the scope of the this activity, as mentioned in the activity notes, we will be working with 2x2 matrices only.\n",
    "\n",
    "## Approach  \n",
    "Determining the determinant of a 2x2 matrix is fairly straightforward and the process is similar to finding the cross product of two 2D vectors. I have implemented the function below to compute the determinant of a 2x2 matrix and only a 2x2 matrix since the instructions clearly state to return an error message for matrices of any other shape.\n",
    "\n",
    "**Formula:**  \n",
    "```\n",
    " M  = [m11, m12]\n",
    "      [m21, m22]\n",
    "\n",
    "|M| = |m11, m12|\n",
    "      |m21, m22|\n",
    "\n",
    "    = m11*m22 - m21*m12\n",
    "```"
   ]
  },
  {
   "cell_type": "code",
   "execution_count": 27,
   "metadata": {},
   "outputs": [],
   "source": [
    "# Function to find the determinant of a 2x2 matrix\n",
    "def det2(self):\n",
    "    # Checking if the function was called on a 2x2 matrix object\n",
    "    if self.shape == (2, 2):\n",
    "        return self.mat[0].v[0]*self.mat[1].v[1] - self.mat[0].v[1]*self.mat[1].v[0]\n",
    "    else:\n",
    "        raise Exception(\"Function only applicable for 2x2 matrices.\")\n",
    "\n",
    "# Adding function to the Matrix class\n",
    "Matrix.det2 = det2"
   ]
  },
  {
   "cell_type": "code",
   "execution_count": 28,
   "metadata": {},
   "outputs": [
    {
     "name": "stdout",
     "output_type": "stream",
     "text": [
      "|m8| = -2\n",
      "\n",
      "|m9| = 1\n",
      "\n",
      "|m10| = -1\n"
     ]
    },
    {
     "ename": "Exception",
     "evalue": "Function only applicable for 2x2 matrices.",
     "output_type": "error",
     "traceback": [
      "\u001b[0;31m---------------------------------------------------------------------------\u001b[0m",
      "\u001b[0;31mException\u001b[0m                                 Traceback (most recent call last)",
      "Cell \u001b[0;32mIn[28], line 15\u001b[0m\n\u001b[1;32m     12\u001b[0m m10 \u001b[38;5;241m=\u001b[39m Matrix([[\u001b[38;5;241m1\u001b[39m, \u001b[38;5;241m3\u001b[39m],\n\u001b[1;32m     13\u001b[0m               [\u001b[38;5;241m0\u001b[39m, \u001b[38;5;241m-\u001b[39m\u001b[38;5;241m1\u001b[39m]])\n\u001b[1;32m     14\u001b[0m \u001b[38;5;28mprint\u001b[39m(\u001b[38;5;124mf\u001b[39m\u001b[38;5;124m'\u001b[39m\u001b[38;5;124m|m10| = \u001b[39m\u001b[38;5;132;01m{\u001b[39;00mm10\u001b[38;5;241m.\u001b[39mdet2()\u001b[38;5;132;01m}\u001b[39;00m\u001b[38;5;124m'\u001b[39m)\n\u001b[0;32m---> 15\u001b[0m \u001b[43mm1\u001b[49m\u001b[38;5;241;43m.\u001b[39;49m\u001b[43mdet2\u001b[49m\u001b[43m(\u001b[49m\u001b[43m)\u001b[49m\n",
      "Cell \u001b[0;32mIn[27], line 7\u001b[0m, in \u001b[0;36mdet2\u001b[0;34m(self)\u001b[0m\n\u001b[1;32m      5\u001b[0m     \u001b[38;5;28;01mreturn\u001b[39;00m \u001b[38;5;28mself\u001b[39m\u001b[38;5;241m.\u001b[39mmat[\u001b[38;5;241m0\u001b[39m]\u001b[38;5;241m.\u001b[39mv[\u001b[38;5;241m0\u001b[39m]\u001b[38;5;241m*\u001b[39m\u001b[38;5;28mself\u001b[39m\u001b[38;5;241m.\u001b[39mmat[\u001b[38;5;241m1\u001b[39m]\u001b[38;5;241m.\u001b[39mv[\u001b[38;5;241m1\u001b[39m] \u001b[38;5;241m-\u001b[39m \u001b[38;5;28mself\u001b[39m\u001b[38;5;241m.\u001b[39mmat[\u001b[38;5;241m0\u001b[39m]\u001b[38;5;241m.\u001b[39mv[\u001b[38;5;241m1\u001b[39m]\u001b[38;5;241m*\u001b[39m\u001b[38;5;28mself\u001b[39m\u001b[38;5;241m.\u001b[39mmat[\u001b[38;5;241m1\u001b[39m]\u001b[38;5;241m.\u001b[39mv[\u001b[38;5;241m0\u001b[39m]\n\u001b[1;32m      6\u001b[0m \u001b[38;5;28;01melse\u001b[39;00m:\n\u001b[0;32m----> 7\u001b[0m     \u001b[38;5;28;01mraise\u001b[39;00m \u001b[38;5;167;01mException\u001b[39;00m(\u001b[38;5;124m\"\u001b[39m\u001b[38;5;124mFunction only applicable for 2x2 matrices.\u001b[39m\u001b[38;5;124m\"\u001b[39m)\n",
      "\u001b[0;31mException\u001b[0m: Function only applicable for 2x2 matrices."
     ]
    }
   ],
   "source": [
    "# Test case 1\n",
    "m8 = Matrix([[1, 2],\n",
    "             [3, 4]])\n",
    "print(f'|m8| = {m8.det2()}')\n",
    "print()\n",
    "# Test case 2\n",
    "m9 = Matrix([[1, 0],\n",
    "             [0, 1]])\n",
    "print(f'|m9| = {m9.det2()}')\n",
    "print()\n",
    "# Test case 3\n",
    "m10 = Matrix([[1, 3],\n",
    "              [0, -1]])\n",
    "print(f'|m10| = {m10.det2()}')\n",
    "m1.det2()"
   ]
  },
  {
   "cell_type": "markdown",
   "metadata": {},
   "source": [
    "**Verifying the above cases with Numpy**"
   ]
  },
  {
   "cell_type": "code",
   "execution_count": 29,
   "metadata": {},
   "outputs": [
    {
     "name": "stdout",
     "output_type": "stream",
     "text": [
      "-2.0000000000000004\n",
      "-1.0\n"
     ]
    }
   ],
   "source": [
    "nm9 = np.array([[1, 2],\n",
    "                [3, 4]])\n",
    "print(np.linalg.det(nm9)) # Wierd that numpy produces an answer with such high precision when there seems to be no need.\n",
    "nm10 = np.array([[1, 3],\n",
    "                 [0, -1]])\n",
    "print(np.linalg.det(nm10))"
   ]
  },
  {
   "cell_type": "markdown",
   "metadata": {},
   "source": [
    "## Task 1.b.vi Inverse of a matrix\n",
    "\n",
    "A matrix say, 'A' has an inverse only when the product of the matrix and its inverse results in an identity matrix.  \n",
    "  \n",
    "Side note:  \n",
    "An identity matrix is a square matrix which has its leading diagonal elements as 1 and the rest as 0. If you multiply a matrix by an identity matrix, you get the same original matrix.\n",
    "\n",
    "Thus, A * Ai = I where A is a square matrix, Ai (no pun intended) is its inverse and I is the identity matrix.\n",
    "\n",
    "## Approach  \n",
    "For a 2x2 matrix, the inverse can be obtained via the following formula:\n",
    "```\n",
    "If A = [m11, m12]\n",
    "     = [m21, m22]\n",
    "\n",
    "then, Ai (i.e, A inverse) =  (1/|A|) * [ m22, -m12]\n",
    "                                       [-m21,  m11]\n",
    "```\n",
    "  \n",
    "The below function implements the above formula and uses the already defined determinant method above.\n",
    "**Note:**  \n",
    "If the determinant of the matrix evaluates to 0, 1/|A| becomes undefined. Hence, such matrices are non-invertible or singular."
   ]
  },
  {
   "cell_type": "code",
   "execution_count": 30,
   "metadata": {},
   "outputs": [],
   "source": [
    "# Function to find the inverse of a 2x2 matrix\n",
    "def inv2(self):\n",
    "    # Find the determinant first. If 0, return stating that the matrix is non-invertible.\n",
    "    # Also, checking of the matrix shape will be handled in the det2 method. No further handling needed here.\n",
    "    det = self.det2()\n",
    "    if det == 0:\n",
    "        print(\"The matrix is non-invertible.\")\n",
    "        return -1\n",
    "    invMat = Matrix([[self.mat[1].v[1], -self.mat[0].v[1]],\n",
    "                     [-self.mat[1].v[0], self.mat[0].v[0]]])\n",
    "\n",
    "    for row in invMat.mat:\n",
    "        row.scale(1/det) # Using the scale method of the vector class to multiply all the rows with 1/|A|\n",
    "    return invMat\n",
    "\n",
    "Matrix.inv2 = inv2        "
   ]
  },
  {
   "cell_type": "code",
   "execution_count": 31,
   "metadata": {},
   "outputs": [
    {
     "name": "stdout",
     "output_type": "stream",
     "text": [
      "Matrix m8: \n",
      "[[1, 2]\n",
      "[3, 4]]\n",
      "Inverse of m8: \n",
      "[[-2.0, 1.0]\n",
      "[1.5, -0.5]]\n",
      "Multiplying m8 and its inverse to check if it results in an identity matrix:\n",
      "m8 * m8i: \n",
      "[[1.0, 0.0]\n",
      "[0.0, 1.0]]\n",
      "\n",
      "Matrix m12: \n",
      "[[3, 4]\n",
      "[6, 8]]\n",
      "The matrix is non-invertible.\n",
      "Inverse of m8: \n",
      "-1\n"
     ]
    },
    {
     "ename": "Exception",
     "evalue": "Function only applicable for 2x2 matrices.",
     "output_type": "error",
     "traceback": [
      "\u001b[0;31m---------------------------------------------------------------------------\u001b[0m",
      "\u001b[0;31mException\u001b[0m                                 Traceback (most recent call last)",
      "Cell \u001b[0;32mIn[31], line 18\u001b[0m\n\u001b[1;32m     15\u001b[0m \u001b[38;5;28mprint\u001b[39m(\u001b[38;5;124mf\u001b[39m\u001b[38;5;124m'\u001b[39m\u001b[38;5;124mInverse of m8: \u001b[39m\u001b[38;5;130;01m\\n\u001b[39;00m\u001b[38;5;132;01m{\u001b[39;00mm13\u001b[38;5;132;01m}\u001b[39;00m\u001b[38;5;124m'\u001b[39m) \u001b[38;5;66;03m# Prints -1 as an error code.\u001b[39;00m\n\u001b[1;32m     17\u001b[0m \u001b[38;5;66;03m# Test case 3 (non 2x2 matrix)\u001b[39;00m\n\u001b[0;32m---> 18\u001b[0m \u001b[43mm2\u001b[49m\u001b[38;5;241;43m.\u001b[39;49m\u001b[43minv2\u001b[49m\u001b[43m(\u001b[49m\u001b[43m)\u001b[49m \u001b[38;5;66;03m# Passed!\u001b[39;00m\n",
      "Cell \u001b[0;32mIn[30], line 5\u001b[0m, in \u001b[0;36minv2\u001b[0;34m(self)\u001b[0m\n\u001b[1;32m      2\u001b[0m \u001b[38;5;28;01mdef\u001b[39;00m \u001b[38;5;21minv2\u001b[39m(\u001b[38;5;28mself\u001b[39m):\n\u001b[1;32m      3\u001b[0m     \u001b[38;5;66;03m# Find the determinant first. If 0, return stating that the matrix is non-invertible.\u001b[39;00m\n\u001b[1;32m      4\u001b[0m     \u001b[38;5;66;03m# Also, checking of the matrix shape will be handled in the det2 method. No further handling needed here.\u001b[39;00m\n\u001b[0;32m----> 5\u001b[0m     det \u001b[38;5;241m=\u001b[39m \u001b[38;5;28;43mself\u001b[39;49m\u001b[38;5;241;43m.\u001b[39;49m\u001b[43mdet2\u001b[49m\u001b[43m(\u001b[49m\u001b[43m)\u001b[49m\n\u001b[1;32m      6\u001b[0m     \u001b[38;5;28;01mif\u001b[39;00m det \u001b[38;5;241m==\u001b[39m \u001b[38;5;241m0\u001b[39m:\n\u001b[1;32m      7\u001b[0m         \u001b[38;5;28mprint\u001b[39m(\u001b[38;5;124m\"\u001b[39m\u001b[38;5;124mThe matrix is non-invertible.\u001b[39m\u001b[38;5;124m\"\u001b[39m)\n",
      "Cell \u001b[0;32mIn[27], line 7\u001b[0m, in \u001b[0;36mdet2\u001b[0;34m(self)\u001b[0m\n\u001b[1;32m      5\u001b[0m     \u001b[38;5;28;01mreturn\u001b[39;00m \u001b[38;5;28mself\u001b[39m\u001b[38;5;241m.\u001b[39mmat[\u001b[38;5;241m0\u001b[39m]\u001b[38;5;241m.\u001b[39mv[\u001b[38;5;241m0\u001b[39m]\u001b[38;5;241m*\u001b[39m\u001b[38;5;28mself\u001b[39m\u001b[38;5;241m.\u001b[39mmat[\u001b[38;5;241m1\u001b[39m]\u001b[38;5;241m.\u001b[39mv[\u001b[38;5;241m1\u001b[39m] \u001b[38;5;241m-\u001b[39m \u001b[38;5;28mself\u001b[39m\u001b[38;5;241m.\u001b[39mmat[\u001b[38;5;241m0\u001b[39m]\u001b[38;5;241m.\u001b[39mv[\u001b[38;5;241m1\u001b[39m]\u001b[38;5;241m*\u001b[39m\u001b[38;5;28mself\u001b[39m\u001b[38;5;241m.\u001b[39mmat[\u001b[38;5;241m1\u001b[39m]\u001b[38;5;241m.\u001b[39mv[\u001b[38;5;241m0\u001b[39m]\n\u001b[1;32m      6\u001b[0m \u001b[38;5;28;01melse\u001b[39;00m:\n\u001b[0;32m----> 7\u001b[0m     \u001b[38;5;28;01mraise\u001b[39;00m \u001b[38;5;167;01mException\u001b[39;00m(\u001b[38;5;124m\"\u001b[39m\u001b[38;5;124mFunction only applicable for 2x2 matrices.\u001b[39m\u001b[38;5;124m\"\u001b[39m)\n",
      "\u001b[0;31mException\u001b[0m: Function only applicable for 2x2 matrices."
     ]
    }
   ],
   "source": [
    "# Test case 1\n",
    "print(f'Matrix m8: \\n{m8}')\n",
    "m11 = m8.inv2()\n",
    "print(f'Inverse of m8: \\n{m11}')\n",
    "# We can test if this is indeed the inverse by multiplying it with the original to see if it results in an identity 2x2 matrix.\n",
    "print(f'Multiplying m8 and its inverse to check if it results in an identity matrix:')\n",
    "print(f'm8 * m8i: \\n{m8.matMulMat(m11)}') # Voila! It DOES result in an identity matrix! :)\n",
    "print()\n",
    "\n",
    "# Test case 2 (non-invertible matrix)\n",
    "m12 = Matrix([[3, 4],\n",
    "              [6, 8]])\n",
    "print(f'Matrix m12: \\n{m12}')\n",
    "m13 = m12.inv2()\n",
    "print(f'Inverse of m8: \\n{m13}') # Prints -1 as an error code.\n",
    "\n",
    "# Test case 3 (non 2x2 matrix)\n",
    "m2.inv2() # Passed!"
   ]
  },
  {
   "cell_type": "markdown",
   "metadata": {},
   "source": [
    "**Verifying the above cases with Numpy**"
   ]
  },
  {
   "cell_type": "code",
   "execution_count": 32,
   "metadata": {},
   "outputs": [
    {
     "name": "stdout",
     "output_type": "stream",
     "text": [
      "[[-2.   1. ]\n",
      " [ 1.5 -0.5]]\n"
     ]
    },
    {
     "ename": "LinAlgError",
     "evalue": "Singular matrix",
     "output_type": "error",
     "traceback": [
      "\u001b[0;31m---------------------------------------------------------------------------\u001b[0m",
      "\u001b[0;31mLinAlgError\u001b[0m                               Traceback (most recent call last)",
      "Cell \u001b[0;32mIn[32], line 4\u001b[0m\n\u001b[1;32m      1\u001b[0m \u001b[38;5;28mprint\u001b[39m(np\u001b[38;5;241m.\u001b[39mlinalg\u001b[38;5;241m.\u001b[39minv(nm9))\n\u001b[1;32m      2\u001b[0m nm11 \u001b[38;5;241m=\u001b[39m np\u001b[38;5;241m.\u001b[39marray([[\u001b[38;5;241m3\u001b[39m, \u001b[38;5;241m4\u001b[39m],\n\u001b[1;32m      3\u001b[0m                 [\u001b[38;5;241m6\u001b[39m, \u001b[38;5;241m8\u001b[39m]])\n\u001b[0;32m----> 4\u001b[0m \u001b[38;5;28mprint\u001b[39m(\u001b[43mnp\u001b[49m\u001b[38;5;241;43m.\u001b[39;49m\u001b[43mlinalg\u001b[49m\u001b[38;5;241;43m.\u001b[39;49m\u001b[43minv\u001b[49m\u001b[43m(\u001b[49m\u001b[43mnm11\u001b[49m\u001b[43m)\u001b[49m)\n",
      "File \u001b[0;32m~/.local/lib/python3.10/site-packages/numpy/linalg/linalg.py:561\u001b[0m, in \u001b[0;36minv\u001b[0;34m(a)\u001b[0m\n\u001b[1;32m    559\u001b[0m signature \u001b[38;5;241m=\u001b[39m \u001b[38;5;124m'\u001b[39m\u001b[38;5;124mD->D\u001b[39m\u001b[38;5;124m'\u001b[39m \u001b[38;5;28;01mif\u001b[39;00m isComplexType(t) \u001b[38;5;28;01melse\u001b[39;00m \u001b[38;5;124m'\u001b[39m\u001b[38;5;124md->d\u001b[39m\u001b[38;5;124m'\u001b[39m\n\u001b[1;32m    560\u001b[0m extobj \u001b[38;5;241m=\u001b[39m get_linalg_error_extobj(_raise_linalgerror_singular)\n\u001b[0;32m--> 561\u001b[0m ainv \u001b[38;5;241m=\u001b[39m \u001b[43m_umath_linalg\u001b[49m\u001b[38;5;241;43m.\u001b[39;49m\u001b[43minv\u001b[49m\u001b[43m(\u001b[49m\u001b[43ma\u001b[49m\u001b[43m,\u001b[49m\u001b[43m \u001b[49m\u001b[43msignature\u001b[49m\u001b[38;5;241;43m=\u001b[39;49m\u001b[43msignature\u001b[49m\u001b[43m,\u001b[49m\u001b[43m \u001b[49m\u001b[43mextobj\u001b[49m\u001b[38;5;241;43m=\u001b[39;49m\u001b[43mextobj\u001b[49m\u001b[43m)\u001b[49m\n\u001b[1;32m    562\u001b[0m \u001b[38;5;28;01mreturn\u001b[39;00m wrap(ainv\u001b[38;5;241m.\u001b[39mastype(result_t, copy\u001b[38;5;241m=\u001b[39m\u001b[38;5;28;01mFalse\u001b[39;00m))\n",
      "File \u001b[0;32m~/.local/lib/python3.10/site-packages/numpy/linalg/linalg.py:112\u001b[0m, in \u001b[0;36m_raise_linalgerror_singular\u001b[0;34m(err, flag)\u001b[0m\n\u001b[1;32m    111\u001b[0m \u001b[38;5;28;01mdef\u001b[39;00m \u001b[38;5;21m_raise_linalgerror_singular\u001b[39m(err, flag):\n\u001b[0;32m--> 112\u001b[0m     \u001b[38;5;28;01mraise\u001b[39;00m LinAlgError(\u001b[38;5;124m\"\u001b[39m\u001b[38;5;124mSingular matrix\u001b[39m\u001b[38;5;124m\"\u001b[39m)\n",
      "\u001b[0;31mLinAlgError\u001b[0m: Singular matrix"
     ]
    }
   ],
   "source": [
    "print(np.linalg.inv(nm9))\n",
    "nm11 = np.array([[3, 4],\n",
    "                [6, 8]])\n",
    "print(np.linalg.inv(nm11))"
   ]
  }
 ],
 "metadata": {
  "kernelspec": {
   "display_name": "Python 3 (ipykernel)",
   "language": "python",
   "name": "python3"
  },
  "language_info": {
   "codemirror_mode": {
    "name": "ipython",
    "version": 3
   },
   "file_extension": ".py",
   "mimetype": "text/x-python",
   "name": "python",
   "nbconvert_exporter": "python",
   "pygments_lexer": "ipython3",
   "version": "3.10.12"
  }
 },
 "nbformat": 4,
 "nbformat_minor": 4
}
